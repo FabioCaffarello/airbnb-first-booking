{
 "cells": [
  {
   "cell_type": "markdown",
   "metadata": {
    "ExecuteTime": {
     "end_time": "2021-01-03T18:46:58.923445Z",
     "start_time": "2021-01-03T18:46:58.918448Z"
    },
    "heading_collapsed": true
   },
   "source": [
    "# 0.0 Understanding the Situation"
   ]
  },
  {
   "cell_type": "markdown",
   "metadata": {
    "hidden": true
   },
   "source": [
    "- objective of the proposed situation\n",
    "1. Prediction of the first destination a new user will choose\n",
    "- Why?\n",
    " - What kind of business model does Airbnb have?\n",
    " - Market Place (connecting people who offer accommodation with people who are looking for accommodation)\n",
    " - Offer (people offer accommodation)\n",
    "   - Portifolio size\n",
    "   - Portfolio diversity/density\n",
    "   - Average price\n",
    " - Demand (people looking for accommodation)\n",
    "   - Number of Users\n",
    "   - LTV (Lifetime Value)\n",
    "   - CAC (Client Acquisition Cost)\n",
    " - Gross Revenue  = fee * number of users - CAC (contribution margins)\n",
    " \n",
    " \n",
    "- **Solution**\n",
    " - Prediction model of the first destination of a new user\n",
    " - API\n",
    "   - **Input**: user and its characteristics\n",
    "   - **Output**: user and its characteristics **with the prediction of destination**"
   ]
  },
  {
   "cell_type": "markdown",
   "metadata": {},
   "source": [
    "# 1.0 IMPORTS"
   ]
  },
  {
   "cell_type": "markdown",
   "metadata": {},
   "source": [
    "## 1.1 Libraries"
   ]
  },
  {
   "cell_type": "code",
   "execution_count": null,
   "metadata": {
    "ExecuteTime": {
     "end_time": "2021-01-04T00:40:58.110057Z",
     "start_time": "2021-01-04T00:40:58.101058Z"
    }
   },
   "outputs": [],
   "source": [
    "#!pip install scikit-plot"
   ]
  },
  {
   "cell_type": "code",
   "execution_count": 1,
   "metadata": {
    "ExecuteTime": {
     "end_time": "2021-01-04T19:43:56.841017Z",
     "start_time": "2021-01-04T19:43:52.486703Z"
    }
   },
   "outputs": [],
   "source": [
    "import random\n",
    "\n",
    "import numpy  as np # pip install numpy\n",
    "import pandas as pd  # pip install pandas\n",
    "\n",
    "import seaborn as sns # pip install seaborn\n",
    "\n",
    "from scipy import stats as ss\n",
    "\n",
    "from sklearn.metrics         import accuracy_score, balanced_accuracy_score, cohen_kappa_score, classification_report\n",
    "from sklearn.preprocessing   import OneHotEncoder\n",
    "from sklearn.model_selection import train_test_split, StratifiedKFold  # pip install sklearn\n",
    "\n",
    "from scikitplot.metrics      import plot_confusion_matrix  # pip install scikit-plot\n",
    "\n",
    "from keras.models            import Sequential  # pip install keras; pip install tensorflow\n",
    "from keras.layers            import Dense"
   ]
  },
  {
   "cell_type": "markdown",
   "metadata": {
    "heading_collapsed": true
   },
   "source": [
    "## 1.2 Helper Functions"
   ]
  },
  {
   "cell_type": "code",
   "execution_count": 2,
   "metadata": {
    "ExecuteTime": {
     "end_time": "2021-01-04T19:43:56.934088Z",
     "start_time": "2021-01-04T19:43:56.846028Z"
    },
    "hidden": true
   },
   "outputs": [],
   "source": [
    "def cramer_v(x, y):\n",
    "    cm = pd.crosstab(x, y).to_numpy()\n",
    "    n = cm.sum()\n",
    "    r, k = cm.shape\n",
    "    \n",
    "    chi2 = ss.chi2_contingency(cm)[0]\n",
    "    chi2corr = max(0, chi2 - (k-1)*(r-1)/(n-1))\n",
    "    \n",
    "    kcorr = k - (k-1)**2/(n-1)\n",
    "    rcorr = r - (r-1)**2/(n-1)\n",
    "    \n",
    "    return np.sqrt((chi2corr/n)/(min(kcorr-1,rcorr-1)))"
   ]
  },
  {
   "cell_type": "markdown",
   "metadata": {
    "heading_collapsed": true
   },
   "source": [
    "## 1.3 Loading data"
   ]
  },
  {
   "cell_type": "code",
   "execution_count": 3,
   "metadata": {
    "ExecuteTime": {
     "end_time": "2021-01-04T19:43:57.029077Z",
     "start_time": "2021-01-04T19:43:56.936078Z"
    },
    "hidden": true,
    "scrolled": true
   },
   "outputs": [
    {
     "name": "stdout",
     "output_type": "stream",
     "text": [
      "total 648652\n",
      "-rw-r--r-- 1 fabio 197609     11905 Oct 16  2015 age_gender_bkts.csv\n",
      "-rw-r--r-- 1 fabio 197609       632 Oct 16  2015 countries.csv\n",
      "-rw-r--r-- 1 fabio 197609    931451 Dec  6  2015 sample_submission_NDF.csv\n",
      "-rw-r--r-- 1 fabio 197609 631646292 Dec  6  2015 sessions.csv\n",
      "-rw-r--r-- 1 fabio 197609   6763170 May 16  2018 test_users.csv\n",
      "-rw-r--r-- 1 fabio 197609  24853881 Dec 10  2015 train_users_2.csv\n"
     ]
    }
   ],
   "source": [
    "!ls -l ../01-Data/csv_data"
   ]
  },
  {
   "cell_type": "markdown",
   "metadata": {
    "hidden": true
   },
   "source": [
    "### 1.3.1 Training"
   ]
  },
  {
   "cell_type": "code",
   "execution_count": 4,
   "metadata": {
    "ExecuteTime": {
     "end_time": "2021-01-04T19:43:57.434078Z",
     "start_time": "2021-01-04T19:43:57.032079Z"
    },
    "hidden": true
   },
   "outputs": [
    {
     "data": {
      "text/plain": [
       "(213451, 16)"
      ]
     },
     "execution_count": 4,
     "metadata": {},
     "output_type": "execute_result"
    }
   ],
   "source": [
    "df_train_raw = pd.read_csv(\n",
    "    \"../01-Data/csv_data/train_users_2.csv\", low_memory=True)\n",
    "df_train_raw.shape"
   ]
  },
  {
   "cell_type": "markdown",
   "metadata": {
    "hidden": true
   },
   "source": [
    "### 1.3.2 Sessions"
   ]
  },
  {
   "cell_type": "code",
   "execution_count": 5,
   "metadata": {
    "ExecuteTime": {
     "end_time": "2021-01-04T19:44:04.176477Z",
     "start_time": "2021-01-04T19:43:57.436079Z"
    },
    "hidden": true
   },
   "outputs": [
    {
     "data": {
      "text/plain": [
       "(10567737, 6)"
      ]
     },
     "execution_count": 5,
     "metadata": {},
     "output_type": "execute_result"
    }
   ],
   "source": [
    "df_sessions_raw = pd.read_csv(\n",
    "    \"../01-Data/csv_data/sessions.csv\", low_memory=True)\n",
    "df_sessions_raw.shape"
   ]
  },
  {
   "cell_type": "markdown",
   "metadata": {
    "heading_collapsed": true
   },
   "source": [
    "# 2.0 DATA DESCRIPTION"
   ]
  },
  {
   "cell_type": "code",
   "execution_count": 6,
   "metadata": {
    "ExecuteTime": {
     "end_time": "2021-01-04T19:44:04.378472Z",
     "start_time": "2021-01-04T19:44:04.181480Z"
    },
    "hidden": true
   },
   "outputs": [],
   "source": [
    "df_train_01 = df_train_raw.copy()\n",
    "df_sessions_01 = df_sessions_raw.copy()"
   ]
  },
  {
   "cell_type": "markdown",
   "metadata": {
    "heading_collapsed": true,
    "hidden": true
   },
   "source": [
    "## 2.1 Data Dimensions"
   ]
  },
  {
   "cell_type": "markdown",
   "metadata": {
    "heading_collapsed": true,
    "hidden": true
   },
   "source": [
    "### 2.1.1 Training"
   ]
  },
  {
   "cell_type": "code",
   "execution_count": 7,
   "metadata": {
    "ExecuteTime": {
     "end_time": "2021-01-04T19:44:04.394474Z",
     "start_time": "2021-01-04T19:44:04.380475Z"
    },
    "hidden": true,
    "scrolled": true
   },
   "outputs": [
    {
     "name": "stdout",
     "output_type": "stream",
     "text": [
      "Number of Rows: 213451\n",
      "Number of Columns: 16\n"
     ]
    }
   ],
   "source": [
    "print(f'Number of Rows: {df_train_01.shape[0]}')\n",
    "print(f'Number of Columns: {df_train_01.shape[1]}')"
   ]
  },
  {
   "cell_type": "markdown",
   "metadata": {
    "heading_collapsed": true,
    "hidden": true
   },
   "source": [
    "### 2.1.2 Sessions"
   ]
  },
  {
   "cell_type": "code",
   "execution_count": 8,
   "metadata": {
    "ExecuteTime": {
     "end_time": "2021-01-04T19:44:04.410474Z",
     "start_time": "2021-01-04T19:44:04.395476Z"
    },
    "hidden": true
   },
   "outputs": [
    {
     "name": "stdout",
     "output_type": "stream",
     "text": [
      "Number of Rows: 10567737\n",
      "Number of Columns: 6\n"
     ]
    }
   ],
   "source": [
    "print(f'Number of Rows: {df_sessions_01.shape[0]}')\n",
    "print(f'Number of Columns: {df_sessions_01.shape[1]}')"
   ]
  },
  {
   "cell_type": "markdown",
   "metadata": {
    "heading_collapsed": true,
    "hidden": true
   },
   "source": [
    "## 2.2 Data Type"
   ]
  },
  {
   "cell_type": "markdown",
   "metadata": {
    "heading_collapsed": true,
    "hidden": true
   },
   "source": [
    "### 2.2.1 Training"
   ]
  },
  {
   "cell_type": "code",
   "execution_count": 9,
   "metadata": {
    "ExecuteTime": {
     "end_time": "2021-01-04T19:44:04.425478Z",
     "start_time": "2021-01-04T19:44:04.412475Z"
    },
    "hidden": true,
    "scrolled": true
   },
   "outputs": [
    {
     "data": {
      "text/plain": [
       "id                          object\n",
       "date_account_created        object\n",
       "timestamp_first_active       int64\n",
       "date_first_booking          object\n",
       "gender                      object\n",
       "age                        float64\n",
       "signup_method               object\n",
       "signup_flow                  int64\n",
       "language                    object\n",
       "affiliate_channel           object\n",
       "affiliate_provider          object\n",
       "first_affiliate_tracked     object\n",
       "signup_app                  object\n",
       "first_device_type           object\n",
       "first_browser               object\n",
       "country_destination         object\n",
       "dtype: object"
      ]
     },
     "execution_count": 9,
     "metadata": {},
     "output_type": "execute_result"
    }
   ],
   "source": [
    "df_train_01.dtypes"
   ]
  },
  {
   "cell_type": "markdown",
   "metadata": {
    "heading_collapsed": true,
    "hidden": true
   },
   "source": [
    "### 2.2.2 Sessions"
   ]
  },
  {
   "cell_type": "code",
   "execution_count": 10,
   "metadata": {
    "ExecuteTime": {
     "end_time": "2021-01-04T19:44:04.441475Z",
     "start_time": "2021-01-04T19:44:04.427476Z"
    },
    "hidden": true
   },
   "outputs": [
    {
     "data": {
      "text/plain": [
       "user_id           object\n",
       "action            object\n",
       "action_type       object\n",
       "action_detail     object\n",
       "device_type       object\n",
       "secs_elapsed     float64\n",
       "dtype: object"
      ]
     },
     "execution_count": 10,
     "metadata": {},
     "output_type": "execute_result"
    }
   ],
   "source": [
    "df_sessions_01.dtypes"
   ]
  },
  {
   "cell_type": "markdown",
   "metadata": {
    "heading_collapsed": true,
    "hidden": true
   },
   "source": [
    "## 2.3 NA Check"
   ]
  },
  {
   "cell_type": "markdown",
   "metadata": {
    "heading_collapsed": true,
    "hidden": true
   },
   "source": [
    "### 2.3.1 Training"
   ]
  },
  {
   "cell_type": "code",
   "execution_count": 11,
   "metadata": {
    "ExecuteTime": {
     "end_time": "2021-01-04T19:44:04.565541Z",
     "start_time": "2021-01-04T19:44:04.443478Z"
    },
    "hidden": true
   },
   "outputs": [
    {
     "data": {
      "text/plain": [
       "id                         0.000000\n",
       "date_account_created       0.000000\n",
       "timestamp_first_active     0.000000\n",
       "date_first_booking         0.583473\n",
       "gender                     0.000000\n",
       "age                        0.412226\n",
       "signup_method              0.000000\n",
       "signup_flow                0.000000\n",
       "language                   0.000000\n",
       "affiliate_channel          0.000000\n",
       "affiliate_provider         0.000000\n",
       "first_affiliate_tracked    0.028414\n",
       "signup_app                 0.000000\n",
       "first_device_type          0.000000\n",
       "first_browser              0.000000\n",
       "country_destination        0.000000\n",
       "dtype: float64"
      ]
     },
     "execution_count": 11,
     "metadata": {},
     "output_type": "execute_result"
    }
   ],
   "source": [
    "df_train_01.isnull().sum() / len(df_train_01)"
   ]
  },
  {
   "cell_type": "code",
   "execution_count": 12,
   "metadata": {
    "ExecuteTime": {
     "end_time": "2021-01-04T19:44:04.612536Z",
     "start_time": "2021-01-04T19:44:04.566535Z"
    },
    "hidden": true
   },
   "outputs": [
    {
     "data": {
      "text/plain": [
       "NDF    1.0\n",
       "Name: country_destination, dtype: float64"
      ]
     },
     "execution_count": 12,
     "metadata": {},
     "output_type": "execute_result"
    }
   ],
   "source": [
    "aux = df_train_01[df_train_01['date_first_booking'].isnull()]\n",
    "aux['country_destination'].value_counts(normalize=True)"
   ]
  },
  {
   "cell_type": "code",
   "execution_count": 13,
   "metadata": {
    "ExecuteTime": {
     "end_time": "2021-01-04T19:44:04.644547Z",
     "start_time": "2021-01-04T19:44:04.613535Z"
    },
    "hidden": true
   },
   "outputs": [
    {
     "data": {
      "text/plain": [
       "NDF      0.768428\n",
       "US       0.156529\n",
       "other    0.028617\n",
       "FR       0.014888\n",
       "IT       0.009081\n",
       "GB       0.006251\n",
       "ES       0.006171\n",
       "CA       0.003989\n",
       "DE       0.002387\n",
       "NL       0.001818\n",
       "AU       0.001171\n",
       "PT       0.000671\n",
       "Name: country_destination, dtype: float64"
      ]
     },
     "execution_count": 13,
     "metadata": {},
     "output_type": "execute_result"
    }
   ],
   "source": [
    "aux = df_train_01[df_train_01['age'].isnull()]\n",
    "aux['country_destination'].value_counts(normalize=True)"
   ]
  },
  {
   "cell_type": "code",
   "execution_count": 14,
   "metadata": {
    "ExecuteTime": {
     "end_time": "2021-01-04T19:44:04.930536Z",
     "start_time": "2021-01-04T19:44:04.646536Z"
    },
    "hidden": true
   },
   "outputs": [
    {
     "data": {
      "image/png": "[encoded data removed]",
      "text/plain": [
       "<Figure size 360x360 with 1 Axes>"
      ]
     },
     "metadata": {
      "needs_background": "light"
     },
     "output_type": "display_data"
    }
   ],
   "source": [
    "sns.displot(df_train_01[df_train_01['age']<75]['age'], kind='ecdf');"
   ]
  },
  {
   "cell_type": "code",
   "execution_count": 15,
   "metadata": {
    "ExecuteTime": {
     "end_time": "2021-01-04T19:44:04.946536Z",
     "start_time": "2021-01-04T19:44:04.932536Z"
    },
    "hidden": true
   },
   "outputs": [
    {
     "data": {
      "text/plain": [
       "0            untracked\n",
       "5                  omg\n",
       "12                 NaN\n",
       "13              linked\n",
       "79       tracked-other\n",
       "257            product\n",
       "6270         marketing\n",
       "11184        local ops\n",
       "Name: first_affiliate_tracked, dtype: object"
      ]
     },
     "execution_count": 15,
     "metadata": {},
     "output_type": "execute_result"
    }
   ],
   "source": [
    "df_train_01['first_affiliate_tracked'].drop_duplicates()"
   ]
  },
  {
   "cell_type": "code",
   "execution_count": 16,
   "metadata": {
    "ExecuteTime": {
     "end_time": "2021-01-04T19:44:05.055535Z",
     "start_time": "2021-01-04T19:44:04.947537Z"
    },
    "hidden": true
   },
   "outputs": [
    {
     "data": {
      "text/plain": [
       "(122636, 16)"
      ]
     },
     "execution_count": 16,
     "metadata": {},
     "output_type": "execute_result"
    }
   ],
   "source": [
    "# remove missing values completely\n",
    "#df_train_01 = df_train_01.dropna()\n",
    "\n",
    "# date_first_booking\n",
    "date_first_booking_max = pd.to_datetime(df_train_01['date_first_booking']).max().strftime('%Y-%m-%d')\n",
    "df_train_01['date_first_booking'] = df_train_01['date_first_booking'].fillna(date_first_booking_max)\n",
    "\n",
    "# age\n",
    "df_train_01 = df_train_01[(df_train_01['age'] > 15) & (df_train_01['age'] < 120)]\n",
    "avg_age = int(df_train_01['age'].mean())\n",
    "df_train_01['age'] = df_train_01['age'].fillna(avg_age)\n",
    "\n",
    "# first_affiliate_tracked\n",
    "# remove missing values completely\n",
    "df_train_01 = df_train_01[~df_train_01['first_affiliate_tracked'].isnull()]\n",
    "\n",
    "df_train_01.shape"
   ]
  },
  {
   "cell_type": "markdown",
   "metadata": {
    "heading_collapsed": true,
    "hidden": true
   },
   "source": [
    "### 2.3.2 Sessions"
   ]
  },
  {
   "cell_type": "code",
   "execution_count": 17,
   "metadata": {
    "ExecuteTime": {
     "end_time": "2021-01-04T19:44:06.739536Z",
     "start_time": "2021-01-04T19:44:05.056537Z"
    },
    "hidden": true,
    "scrolled": true
   },
   "outputs": [
    {
     "data": {
      "text/plain": [
       "user_id          0.003264\n",
       "action           0.007535\n",
       "action_type      0.106570\n",
       "action_detail    0.106570\n",
       "device_type      0.000000\n",
       "secs_elapsed     0.012872\n",
       "dtype: float64"
      ]
     },
     "execution_count": 17,
     "metadata": {},
     "output_type": "execute_result"
    }
   ],
   "source": [
    "df_sessions_01.isnull().sum() / len(df_sessions_01)"
   ]
  },
  {
   "cell_type": "code",
   "execution_count": 18,
   "metadata": {
    "ExecuteTime": {
     "end_time": "2021-01-04T19:44:11.112585Z",
     "start_time": "2021-01-04T19:44:06.741536Z"
    },
    "hidden": true
   },
   "outputs": [
    {
     "data": {
      "text/plain": [
       "(9213930, 6)"
      ]
     },
     "execution_count": 18,
     "metadata": {},
     "output_type": "execute_result"
    }
   ],
   "source": [
    "# remove missing values completely\n",
    "## user_id - 0.3%\n",
    "df_sessions_01 = df_sessions_01[~df_sessions_01['user_id'].isnull()]\n",
    "\n",
    "## action - 0.75%\n",
    "df_sessions_01 = df_sessions_01[~df_sessions_01['action'].isnull()]\n",
    "\n",
    "## action_type - 10.65%\n",
    "df_sessions_01 = df_sessions_01[~df_sessions_01['action_type'].isnull()]\n",
    "\n",
    "## action_detail - 10.65%\n",
    "df_sessions_01 = df_sessions_01[~df_sessions_01['action_detail'].isnull()]\n",
    "\n",
    "## secs_elapsed - 1.3%\n",
    "df_sessions_01 = df_sessions_01[~df_sessions_01['secs_elapsed'].isnull()]\n",
    "\n",
    "df_sessions_01.shape"
   ]
  },
  {
   "cell_type": "markdown",
   "metadata": {
    "heading_collapsed": true,
    "hidden": true
   },
   "source": [
    "## 2.4 Change Data type "
   ]
  },
  {
   "cell_type": "markdown",
   "metadata": {
    "heading_collapsed": true,
    "hidden": true
   },
   "source": [
    "### 2.4.1 Training"
   ]
  },
  {
   "cell_type": "code",
   "execution_count": 19,
   "metadata": {
    "ExecuteTime": {
     "end_time": "2021-01-04T19:44:11.523648Z",
     "start_time": "2021-01-04T19:44:11.114586Z"
    },
    "hidden": true
   },
   "outputs": [],
   "source": [
    "# date_account_created\n",
    "df_train_01['date_account_created'] = pd.to_datetime(\n",
    "    df_train_01['date_account_created'])\n",
    "# timestamp_first_active\n",
    "df_train_01['timestamp_first_active'] = pd.to_datetime(\n",
    "    df_train_01['timestamp_first_active'], format='%Y%m%d%H%M%S')\n",
    "# date_first_booking\n",
    "df_train_01['date_first_booking'] = pd.to_datetime(\n",
    "    df_train_01['date_first_booking'])\n",
    "\n",
    "# age\n",
    "df_train_01['age'] = df_train_01['age'].astype(int)"
   ]
  },
  {
   "cell_type": "code",
   "execution_count": 20,
   "metadata": {
    "ExecuteTime": {
     "end_time": "2021-01-04T19:44:11.554650Z",
     "start_time": "2021-01-04T19:44:11.531658Z"
    },
    "hidden": true,
    "scrolled": true
   },
   "outputs": [
    {
     "data": {
      "text/plain": [
       "id                                 object\n",
       "date_account_created       datetime64[ns]\n",
       "timestamp_first_active     datetime64[ns]\n",
       "date_first_booking         datetime64[ns]\n",
       "gender                             object\n",
       "age                                 int32\n",
       "signup_method                      object\n",
       "signup_flow                         int64\n",
       "language                           object\n",
       "affiliate_channel                  object\n",
       "affiliate_provider                 object\n",
       "first_affiliate_tracked            object\n",
       "signup_app                         object\n",
       "first_device_type                  object\n",
       "first_browser                      object\n",
       "country_destination                object\n",
       "dtype: object"
      ]
     },
     "execution_count": 20,
     "metadata": {},
     "output_type": "execute_result"
    }
   ],
   "source": [
    "df_train_01.dtypes"
   ]
  },
  {
   "cell_type": "markdown",
   "metadata": {
    "heading_collapsed": true,
    "hidden": true
   },
   "source": [
    "## 2.5 Check Balanced Data"
   ]
  },
  {
   "cell_type": "markdown",
   "metadata": {
    "heading_collapsed": true,
    "hidden": true
   },
   "source": [
    "### 2.5.1 Training"
   ]
  },
  {
   "cell_type": "code",
   "execution_count": 21,
   "metadata": {
    "ExecuteTime": {
     "end_time": "2021-01-04T19:44:11.585640Z",
     "start_time": "2021-01-04T19:44:11.557650Z"
    },
    "hidden": true,
    "scrolled": true
   },
   "outputs": [
    {
     "data": {
      "text/plain": [
       "NDF      0.447275\n",
       "US       0.391867\n",
       "other    0.061246\n",
       "FR       0.029918\n",
       "IT       0.016423\n",
       "GB       0.014335\n",
       "ES       0.013740\n",
       "CA       0.008676\n",
       "DE       0.006858\n",
       "NL       0.004852\n",
       "AU       0.003531\n",
       "PT       0.001280\n",
       "Name: country_destination, dtype: float64"
      ]
     },
     "execution_count": 21,
     "metadata": {},
     "output_type": "execute_result"
    }
   ],
   "source": [
    "df_train_01['country_destination'].value_counts(normalize=True)"
   ]
  },
  {
   "cell_type": "markdown",
   "metadata": {
    "heading_collapsed": true,
    "hidden": true
   },
   "source": [
    "## 2.6 Descriptive Analysis"
   ]
  },
  {
   "cell_type": "markdown",
   "metadata": {
    "heading_collapsed": true,
    "hidden": true
   },
   "source": [
    "### 2.6.1 General"
   ]
  },
  {
   "cell_type": "code",
   "execution_count": 22,
   "metadata": {
    "ExecuteTime": {
     "end_time": "2021-01-04T19:44:11.900414Z",
     "start_time": "2021-01-04T19:44:11.587641Z"
    },
    "hidden": true
   },
   "outputs": [],
   "source": [
    "## Users\n",
    "num_attributes = df_train_01.select_dtypes(include=['int32', 'int64', 'float64'])\n",
    "cat_attributes = df_train_01.select_dtypes(exclude=['int32','int64', 'float64', 'datetime64[ns]'])\n",
    "time_attributes = df_train_01.select_dtypes(include=['datetime64[ns]'])\n",
    "\n",
    "## Sessions\n",
    "num_attributes_sessions = df_sessions_01.select_dtypes(include=['int32', 'int64', 'float64'])\n",
    "cat_attributes_sessions = df_sessions_01.select_dtypes(exclude=['int32','int64', 'float64', 'datetime64[ns]'])\n",
    "time_attributes_sessions = df_sessions_01.select_dtypes(include=['datetime64[ns]'])"
   ]
  },
  {
   "cell_type": "markdown",
   "metadata": {
    "heading_collapsed": true,
    "hidden": true
   },
   "source": [
    "### 2.6.2 Numerical Users"
   ]
  },
  {
   "cell_type": "code",
   "execution_count": 23,
   "metadata": {
    "ExecuteTime": {
     "end_time": "2021-01-04T19:44:11.979437Z",
     "start_time": "2021-01-04T19:44:11.911441Z"
    },
    "hidden": true
   },
   "outputs": [
    {
     "data": {
      "text/html": [
       "<div>\n",
       "<style scoped>\n",
       "    .dataframe tbody tr th:only-of-type {\n",
       "        vertical-align: middle;\n",
       "    }\n",
       "\n",
       "    .dataframe tbody tr th {\n",
       "        vertical-align: top;\n",
       "    }\n",
       "\n",
       "    .dataframe thead th {\n",
       "        text-align: right;\n",
       "    }\n",
       "</style>\n",
       "<table border=\"1\" class=\"dataframe\">\n",
       "  <thead>\n",
       "    <tr style=\"text-align: right;\">\n",
       "      <th></th>\n",
       "      <th>attributes</th>\n",
       "      <th>min</th>\n",
       "      <th>max</th>\n",
       "      <th>range</th>\n",
       "      <th>mean</th>\n",
       "      <th>median</th>\n",
       "      <th>std</th>\n",
       "      <th>skew</th>\n",
       "      <th>kurtosis</th>\n",
       "    </tr>\n",
       "  </thead>\n",
       "  <tbody>\n",
       "    <tr>\n",
       "      <th>0</th>\n",
       "      <td>age</td>\n",
       "      <td>16.0</td>\n",
       "      <td>115.0</td>\n",
       "      <td>99.0</td>\n",
       "      <td>37.405591</td>\n",
       "      <td>34.0</td>\n",
       "      <td>13.939844</td>\n",
       "      <td>2.089718</td>\n",
       "      <td>6.516468</td>\n",
       "    </tr>\n",
       "    <tr>\n",
       "      <th>1</th>\n",
       "      <td>signup_flow</td>\n",
       "      <td>0.0</td>\n",
       "      <td>25.0</td>\n",
       "      <td>25.0</td>\n",
       "      <td>2.519513</td>\n",
       "      <td>0.0</td>\n",
       "      <td>6.604696</td>\n",
       "      <td>2.705871</td>\n",
       "      <td>5.928298</td>\n",
       "    </tr>\n",
       "  </tbody>\n",
       "</table>\n",
       "</div>"
      ],
      "text/plain": [
       "    attributes   min    max  range       mean  median        std      skew  \\\n",
       "0          age  16.0  115.0   99.0  37.405591    34.0  13.939844  2.089718   \n",
       "1  signup_flow   0.0   25.0   25.0   2.519513     0.0   6.604696  2.705871   \n",
       "\n",
       "   kurtosis  \n",
       "0  6.516468  \n",
       "1  5.928298  "
      ]
     },
     "execution_count": 23,
     "metadata": {},
     "output_type": "execute_result"
    }
   ],
   "source": [
    "# Central Tendency - Mean, Mediam\n",
    "ct1 = pd.DataFrame(num_attributes.apply(np.mean)).T\n",
    "ct2 = pd.DataFrame(num_attributes.apply(np.median)).T\n",
    "\n",
    "# Dispersions - Std, Min, Max, Range, Skew, Kurtosis\n",
    "d1 = pd.DataFrame(num_attributes.apply(np.std)).T\n",
    "d2 = pd.DataFrame(num_attributes.apply(min)).T\n",
    "d3 = pd.DataFrame(num_attributes.apply(max)).T\n",
    "d4 = pd.DataFrame(num_attributes.apply(lambda x: x.max() - x.min())).T\n",
    "d5 = pd.DataFrame(num_attributes.apply(lambda x: x.skew())).T\n",
    "d6 = pd.DataFrame(num_attributes.apply(lambda x: x.kurtosis())).T\n",
    "                  \n",
    "# Concatenate\n",
    "ct = pd.concat([d2, d3, d4, ct1, ct2, d1, d5, d6]).T.reset_index()\n",
    "ct.columns = ['attributes', 'min', 'max', 'range', 'mean', 'median', 'std', 'skew', 'kurtosis']\n",
    "ct"
   ]
  },
  {
   "cell_type": "markdown",
   "metadata": {
    "heading_collapsed": true,
    "hidden": true
   },
   "source": [
    "### 2.6.3 Numerical Sessions"
   ]
  },
  {
   "cell_type": "code",
   "execution_count": 24,
   "metadata": {
    "ExecuteTime": {
     "end_time": "2021-01-04T19:44:15.037901Z",
     "start_time": "2021-01-04T19:44:13.220504Z"
    },
    "hidden": true
   },
   "outputs": [
    {
     "data": {
      "text/html": [
       "<div>\n",
       "<style scoped>\n",
       "    .dataframe tbody tr th:only-of-type {\n",
       "        vertical-align: middle;\n",
       "    }\n",
       "\n",
       "    .dataframe tbody tr th {\n",
       "        vertical-align: top;\n",
       "    }\n",
       "\n",
       "    .dataframe thead th {\n",
       "        text-align: right;\n",
       "    }\n",
       "</style>\n",
       "<table border=\"1\" class=\"dataframe\">\n",
       "  <thead>\n",
       "    <tr style=\"text-align: right;\">\n",
       "      <th></th>\n",
       "      <th>attributes</th>\n",
       "      <th>min</th>\n",
       "      <th>max</th>\n",
       "      <th>range</th>\n",
       "      <th>mean</th>\n",
       "      <th>median</th>\n",
       "      <th>std</th>\n",
       "      <th>skew</th>\n",
       "      <th>kurtosis</th>\n",
       "    </tr>\n",
       "  </thead>\n",
       "  <tbody>\n",
       "    <tr>\n",
       "      <th>0</th>\n",
       "      <td>secs_elapsed</td>\n",
       "      <td>0.0</td>\n",
       "      <td>1799977.0</td>\n",
       "      <td>1799977.0</td>\n",
       "      <td>19961.8251</td>\n",
       "      <td>1369.0</td>\n",
       "      <td>88849.388449</td>\n",
       "      <td>11.137761</td>\n",
       "      <td>154.84312</td>\n",
       "    </tr>\n",
       "  </tbody>\n",
       "</table>\n",
       "</div>"
      ],
      "text/plain": [
       "     attributes  min        max      range        mean  median           std  \\\n",
       "0  secs_elapsed  0.0  1799977.0  1799977.0  19961.8251  1369.0  88849.388449   \n",
       "\n",
       "        skew   kurtosis  \n",
       "0  11.137761  154.84312  "
      ]
     },
     "execution_count": 24,
     "metadata": {},
     "output_type": "execute_result"
    }
   ],
   "source": [
    "# Central Tendency - Mean, Mediam\n",
    "ct1 = pd.DataFrame(num_attributes_sessions.apply(np.mean)).T\n",
    "ct2 = pd.DataFrame(num_attributes_sessions.apply(np.median)).T\n",
    "\n",
    "# Dispersions - Std, Min, Max, Range, Skew, Kurtosis\n",
    "d1 = pd.DataFrame(num_attributes_sessions.apply(np.std)).T\n",
    "d2 = pd.DataFrame(num_attributes_sessions.apply(min)).T\n",
    "d3 = pd.DataFrame(num_attributes_sessions.apply(max)).T\n",
    "d4 = pd.DataFrame(num_attributes_sessions.apply(lambda x: x.max() - x.min())).T\n",
    "d5 = pd.DataFrame(num_attributes_sessions.apply(lambda x: x.skew())).T\n",
    "d6 = pd.DataFrame(num_attributes_sessions.apply(lambda x: x.kurtosis())).T\n",
    "\n",
    "# Concatenate\n",
    "ct = pd.concat([d2, d3, d4, ct1, ct2, d1, d5, d6]).T.reset_index()\n",
    "ct.columns = ['attributes', 'min', 'max', 'range', 'mean', 'median', 'std', 'skew', 'kurtosis']\n",
    "ct"
   ]
  },
  {
   "cell_type": "markdown",
   "metadata": {
    "heading_collapsed": true,
    "hidden": true
   },
   "source": [
    "### 2.6.3 Categorical Users"
   ]
  },
  {
   "cell_type": "code",
   "execution_count": 25,
   "metadata": {
    "ExecuteTime": {
     "end_time": "2021-01-04T19:44:15.208900Z",
     "start_time": "2021-01-04T19:44:15.039902Z"
    },
    "hidden": true
   },
   "outputs": [
    {
     "data": {
      "text/html": [
       "<div>\n",
       "<style scoped>\n",
       "    .dataframe tbody tr th:only-of-type {\n",
       "        vertical-align: middle;\n",
       "    }\n",
       "\n",
       "    .dataframe tbody tr th {\n",
       "        vertical-align: top;\n",
       "    }\n",
       "\n",
       "    .dataframe thead th {\n",
       "        text-align: right;\n",
       "    }\n",
       "</style>\n",
       "<table border=\"1\" class=\"dataframe\">\n",
       "  <thead>\n",
       "    <tr style=\"text-align: right;\">\n",
       "      <th></th>\n",
       "      <th>gender</th>\n",
       "      <th>signup_method</th>\n",
       "      <th>language</th>\n",
       "      <th>affiliate_channel</th>\n",
       "      <th>affiliate_provider</th>\n",
       "      <th>first_affiliate_tracked</th>\n",
       "      <th>signup_app</th>\n",
       "      <th>first_device_type</th>\n",
       "      <th>first_browser</th>\n",
       "      <th>country_destination</th>\n",
       "    </tr>\n",
       "  </thead>\n",
       "  <tbody>\n",
       "    <tr>\n",
       "      <th>count</th>\n",
       "      <td>122636</td>\n",
       "      <td>122636</td>\n",
       "      <td>122636</td>\n",
       "      <td>122636</td>\n",
       "      <td>122636</td>\n",
       "      <td>122636</td>\n",
       "      <td>122636</td>\n",
       "      <td>122636</td>\n",
       "      <td>122636</td>\n",
       "      <td>122636</td>\n",
       "    </tr>\n",
       "    <tr>\n",
       "      <th>unique</th>\n",
       "      <td>4</td>\n",
       "      <td>3</td>\n",
       "      <td>25</td>\n",
       "      <td>8</td>\n",
       "      <td>17</td>\n",
       "      <td>7</td>\n",
       "      <td>4</td>\n",
       "      <td>9</td>\n",
       "      <td>41</td>\n",
       "      <td>12</td>\n",
       "    </tr>\n",
       "    <tr>\n",
       "      <th>top</th>\n",
       "      <td>FEMALE</td>\n",
       "      <td>basic</td>\n",
       "      <td>en</td>\n",
       "      <td>direct</td>\n",
       "      <td>direct</td>\n",
       "      <td>untracked</td>\n",
       "      <td>Web</td>\n",
       "      <td>Mac Desktop</td>\n",
       "      <td>Chrome</td>\n",
       "      <td>NDF</td>\n",
       "    </tr>\n",
       "    <tr>\n",
       "      <th>freq</th>\n",
       "      <td>56362</td>\n",
       "      <td>66039</td>\n",
       "      <td>118205</td>\n",
       "      <td>79093</td>\n",
       "      <td>78954</td>\n",
       "      <td>64712</td>\n",
       "      <td>108283</td>\n",
       "      <td>57943</td>\n",
       "      <td>41778</td>\n",
       "      <td>54852</td>\n",
       "    </tr>\n",
       "  </tbody>\n",
       "</table>\n",
       "</div>"
      ],
      "text/plain": [
       "        gender signup_method language affiliate_channel affiliate_provider  \\\n",
       "count   122636        122636   122636            122636             122636   \n",
       "unique       4             3       25                 8                 17   \n",
       "top     FEMALE         basic       en            direct             direct   \n",
       "freq     56362         66039   118205             79093              78954   \n",
       "\n",
       "       first_affiliate_tracked signup_app first_device_type first_browser  \\\n",
       "count                   122636     122636            122636        122636   \n",
       "unique                       7          4                 9            41   \n",
       "top                  untracked        Web       Mac Desktop        Chrome   \n",
       "freq                     64712     108283             57943         41778   \n",
       "\n",
       "       country_destination  \n",
       "count               122636  \n",
       "unique                  12  \n",
       "top                    NDF  \n",
       "freq                 54852  "
      ]
     },
     "execution_count": 25,
     "metadata": {},
     "output_type": "execute_result"
    }
   ],
   "source": [
    "cat_attributes.drop('id', axis=1).describe()"
   ]
  },
  {
   "cell_type": "markdown",
   "metadata": {
    "heading_collapsed": true,
    "hidden": true
   },
   "source": [
    "### 2.6.4 Categorical Sessions"
   ]
  },
  {
   "cell_type": "code",
   "execution_count": 26,
   "metadata": {
    "ExecuteTime": {
     "end_time": "2021-01-04T19:45:13.020207Z",
     "start_time": "2021-01-04T19:45:08.919007Z"
    },
    "hidden": true,
    "scrolled": true
   },
   "outputs": [
    {
     "data": {
      "text/html": [
       "<div>\n",
       "<style scoped>\n",
       "    .dataframe tbody tr th:only-of-type {\n",
       "        vertical-align: middle;\n",
       "    }\n",
       "\n",
       "    .dataframe tbody tr th {\n",
       "        vertical-align: top;\n",
       "    }\n",
       "\n",
       "    .dataframe thead th {\n",
       "        text-align: right;\n",
       "    }\n",
       "</style>\n",
       "<table border=\"1\" class=\"dataframe\">\n",
       "  <thead>\n",
       "    <tr style=\"text-align: right;\">\n",
       "      <th></th>\n",
       "      <th>action</th>\n",
       "      <th>action_type</th>\n",
       "      <th>action_detail</th>\n",
       "      <th>device_type</th>\n",
       "    </tr>\n",
       "  </thead>\n",
       "  <tbody>\n",
       "    <tr>\n",
       "      <th>count</th>\n",
       "      <td>9213930</td>\n",
       "      <td>9213930</td>\n",
       "      <td>9213930</td>\n",
       "      <td>9213930</td>\n",
       "    </tr>\n",
       "    <tr>\n",
       "      <th>unique</th>\n",
       "      <td>347</td>\n",
       "      <td>10</td>\n",
       "      <td>155</td>\n",
       "      <td>14</td>\n",
       "    </tr>\n",
       "    <tr>\n",
       "      <th>top</th>\n",
       "      <td>show</td>\n",
       "      <td>view</td>\n",
       "      <td>view_search_results</td>\n",
       "      <td>Mac Desktop</td>\n",
       "    </tr>\n",
       "    <tr>\n",
       "      <th>freq</th>\n",
       "      <td>2178382</td>\n",
       "      <td>3545621</td>\n",
       "      <td>1770931</td>\n",
       "      <td>3019523</td>\n",
       "    </tr>\n",
       "  </tbody>\n",
       "</table>\n",
       "</div>"
      ],
      "text/plain": [
       "         action action_type        action_detail  device_type\n",
       "count   9213930     9213930              9213930      9213930\n",
       "unique      347          10                  155           14\n",
       "top        show        view  view_search_results  Mac Desktop\n",
       "freq    2178382     3545621              1770931      3019523"
      ]
     },
     "execution_count": 26,
     "metadata": {},
     "output_type": "execute_result"
    }
   ],
   "source": [
    "cat_attributes_sessions.drop('user_id', axis=1).describe()"
   ]
  },
  {
   "cell_type": "code",
   "execution_count": 27,
   "metadata": {
    "ExecuteTime": {
     "end_time": "2021-01-04T19:45:41.516533Z",
     "start_time": "2021-01-04T19:45:13.022204Z"
    },
    "hidden": true
   },
   "outputs": [],
   "source": [
    "# list of attributes for Cramer's V correlation\n",
    "cat_attributes_list = cat_attributes_sessions.drop('user_id', axis=1).columns.tolist()\n",
    "\n",
    "corr_dict = {}\n",
    "for i in range(len(cat_attributes_list)):\n",
    "    corr_list = []\n",
    "    for j in range(len(cat_attributes_list)):\n",
    "        ref = cat_attributes_list[i]\n",
    "        feat = cat_attributes_list[j]\n",
    "        \n",
    "        # correlation\n",
    "        corr = cramer_v(cat_attributes_sessions[ref], cat_attributes_sessions[feat])\n",
    "        \n",
    "        # append list\n",
    "        corr_list.append(corr)\n",
    "        \n",
    "    # append correlation list for each ref attributes  \n",
    "    corr_dict[ref] = corr_list\n",
    "    \n",
    "#d = pd.DataFrame(corr_dict)"
   ]
  },
  {
   "cell_type": "code",
   "execution_count": 28,
   "metadata": {
    "ExecuteTime": {
     "end_time": "2021-01-04T19:45:41.740542Z",
     "start_time": "2021-01-04T19:45:41.518533Z"
    },
    "hidden": true
   },
   "outputs": [
    {
     "data": {
      "image/png": "[encoded data removed]",
      "text/plain": [
       "<Figure size 432x288 with 2 Axes>"
      ]
     },
     "metadata": {
      "needs_background": "light"
     },
     "output_type": "display_data"
    }
   ],
   "source": [
    "d = pd.DataFrame(corr_dict)\n",
    "d = d.set_index(d.columns)\n",
    "sns.heatmap(d, annot=True);"
   ]
  },
  {
   "cell_type": "markdown",
   "metadata": {},
   "source": [
    "# 3.0 Feature Engineering"
   ]
  },
  {
   "cell_type": "code",
   "execution_count": 29,
   "metadata": {
    "ExecuteTime": {
     "end_time": "2021-01-04T19:45:41.896536Z",
     "start_time": "2021-01-04T19:45:41.745546Z"
    }
   },
   "outputs": [],
   "source": [
    "df_train_02 = df_train_01.copy()\n",
    "df_sessions_02 = df_sessions_01.copy()"
   ]
  },
  {
   "cell_type": "code",
   "execution_count": 30,
   "metadata": {
    "ExecuteTime": {
     "end_time": "2021-01-04T19:49:02.992396Z",
     "start_time": "2021-01-04T19:48:59.532954Z"
    }
   },
   "outputs": [
    {
     "name": "stderr",
     "output_type": "stream",
     "text": [
      "<ipython-input-30-7e10f3653ed0>:26: FutureWarning: Series.dt.weekofyear and Series.dt.week have been deprecated.  Please use Series.dt.isocalendar().week instead.\n",
      "  df_train_02['week_of_year_first_active'] = df_train_02['first_active'].dt.weekofyear\n",
      "<ipython-input-30-7e10f3653ed0>:43: FutureWarning: Series.dt.weekofyear and Series.dt.week have been deprecated.  Please use Series.dt.isocalendar().week instead.\n",
      "  df_train_02['week_of_year_first_booking'] = df_train_02['date_first_booking'].dt.weekofyear\n",
      "<ipython-input-30-7e10f3653ed0>:60: FutureWarning: Series.dt.weekofyear and Series.dt.week have been deprecated.  Please use Series.dt.isocalendar().week instead.\n",
      "  df_train_02['week_of_year_account_created'] = df_train_02['date_account_created'].dt.weekofyear\n"
     ]
    }
   ],
   "source": [
    "# days from first activate up to first booking\n",
    "df_train_02['first_active'] = pd.to_datetime(\n",
    "    df_train_02['timestamp_first_active'].dt.strftime('%Y-%m-%d'))\n",
    "df_train_02['days_from_first_active_until_booking'] = (\n",
    "    df_train_02['date_first_booking'] - df_train_02['first_active']).apply(lambda x: x.days)\n",
    "\n",
    "# days from first activate up to account created\n",
    "df_train_02['days_from_first_active_until_account_created'] = (\n",
    "    df_train_02['date_account_created'] - df_train_02['first_active']).apply(lambda x: x.days)\n",
    "\n",
    "# days from account created up to first booking\n",
    "df_train_02['days_from_account_created_until_first_booking'] = (\n",
    "    df_train_02['date_first_booking'] - df_train_02['date_account_created']).apply(lambda x: x.days)\n",
    "\n",
    "\n",
    "# =============================== first active ===============================\n",
    "# year first active\n",
    "df_train_02['year_first_active'] = df_train_02['first_active'].dt.year\n",
    "\n",
    "# month first active\n",
    "df_train_02['month_first_active'] = df_train_02['first_active'].dt.month\n",
    "\n",
    "# day first active\n",
    "df_train_02['day_first_active'] = df_train_02['first_active'].dt.day\n",
    "\n",
    "# day of week first active\n",
    "df_train_02['day_of_week_first_active'] = df_train_02['first_active'].dt.dayofweek\n",
    "\n",
    "# week of year of first active\n",
    "df_train_02['week_of_year_first_active'] = df_train_02['first_active'].dt.weekofyear\n",
    "\n",
    "\n",
    "# =============================== first booking ===============================\n",
    "# year first booking\n",
    "df_train_02['year_first_booking'] = df_train_02['date_first_booking'].dt.year\n",
    "\n",
    "# month first booking\n",
    "df_train_02['month_first_booking'] = df_train_02['date_first_booking'].dt.month\n",
    "\n",
    "# day first booking\n",
    "df_train_02['day_first_booking'] = df_train_02['date_first_booking'].dt.day\n",
    "\n",
    "# day of week first booking\n",
    "df_train_02['day_of_week_first_booking'] = df_train_02['date_first_booking'].dt.dayofweek\n",
    "\n",
    "# week of year of first booking\n",
    "df_train_02['week_of_year_first_booking'] = df_train_02['date_first_booking'].dt.weekofyear\n",
    "\n",
    "\n",
    "# =============================== first account created ===============================\n",
    "# year first booking\n",
    "df_train_02['year_account_created'] = df_train_02['date_account_created'].dt.year\n",
    "\n",
    "# month first booking\n",
    "df_train_02['month_account_created'] = df_train_02['date_account_created'].dt.month\n",
    "\n",
    "# day first booking\n",
    "df_train_02['day_account_created'] = df_train_02['date_account_created'].dt.day\n",
    "\n",
    "# day of week first booking\n",
    "df_train_02['day_of_week_account_created'] = df_train_02['date_account_created'].dt.dayofweek\n",
    "\n",
    "# week of year of first booking\n",
    "df_train_02['week_of_year_account_created'] = df_train_02['date_account_created'].dt.weekofyear"
   ]
  },
  {
   "cell_type": "markdown",
   "metadata": {
    "heading_collapsed": true
   },
   "source": [
    "# 4.0 Data Filtering"
   ]
  },
  {
   "cell_type": "code",
   "execution_count": 31,
   "metadata": {
    "ExecuteTime": {
     "end_time": "2021-01-04T19:50:17.357685Z",
     "start_time": "2021-01-04T19:50:17.190681Z"
    },
    "hidden": true
   },
   "outputs": [],
   "source": [
    "df_train_03 = df_train_02.copy()\n",
    "df_sessions_03 = df_sessions_02.copy()"
   ]
  },
  {
   "cell_type": "markdown",
   "metadata": {
    "heading_collapsed": true,
    "hidden": true
   },
   "source": [
    "## 4.1 Filtering Rows"
   ]
  },
  {
   "cell_type": "code",
   "execution_count": 32,
   "metadata": {
    "ExecuteTime": {
     "end_time": "2021-01-04T19:50:21.155346Z",
     "start_time": "2021-01-04T19:50:20.545525Z"
    },
    "hidden": true
   },
   "outputs": [],
   "source": [
    "# Filtering rows:\n",
    "## age > greater than 15 and lower than 120 - There are few people over 120 years old\n",
    "df_train_03 = df_train_03[(df_train_03['age'] > 15) & (df_train_03['age'] < 120)]\n",
    "\n",
    "## secs_elapsed > greater than 0 - There is no possible secs elepsed on website\n",
    "df_sessions_03 = df_sessions_03[df_sessions_03['secs_elapsed'] > 0]"
   ]
  },
  {
   "cell_type": "markdown",
   "metadata": {
    "heading_collapsed": true
   },
   "source": [
    "# 5.0 Data Preparation"
   ]
  },
  {
   "cell_type": "code",
   "execution_count": 33,
   "metadata": {
    "ExecuteTime": {
     "end_time": "2021-01-04T19:50:24.862551Z",
     "start_time": "2021-01-04T19:50:24.836553Z"
    },
    "hidden": true
   },
   "outputs": [],
   "source": [
    "df_train_04 = df_train_03.copy()"
   ]
  },
  {
   "cell_type": "code",
   "execution_count": 34,
   "metadata": {
    "ExecuteTime": {
     "end_time": "2021-01-04T19:50:31.408003Z",
     "start_time": "2021-01-04T19:50:31.231455Z"
    },
    "hidden": true
   },
   "outputs": [],
   "source": [
    "# Dummy variable\n",
    "df_train_04_dummy = pd.get_dummies(\n",
    "    df_train_04.drop(['id', 'country_destination'], axis=1))\n",
    "\n",
    "# Join id and country_destination\n",
    "df_train_04 = pd.concat(\n",
    "    [df_train_04[['id', 'country_destination']], df_train_04_dummy], axis=1)"
   ]
  },
  {
   "cell_type": "markdown",
   "metadata": {
    "heading_collapsed": true
   },
   "source": [
    "# 6.0 Feature Selection"
   ]
  },
  {
   "cell_type": "markdown",
   "metadata": {
    "heading_collapsed": true,
    "hidden": true
   },
   "source": [
    "## 6.1 Drop Columns"
   ]
  },
  {
   "cell_type": "code",
   "execution_count": 35,
   "metadata": {
    "ExecuteTime": {
     "end_time": "2021-01-04T19:50:49.976229Z",
     "start_time": "2021-01-04T19:50:49.930522Z"
    },
    "hidden": true
   },
   "outputs": [],
   "source": [
    "cols_drop = [\n",
    "    'date_account_created', 'timestamp_first_active', 'date_first_booking',\n",
    "    'id', 'first_active'\n",
    "]  # orginal dates\n",
    "df_train_05 = df_train_04.drop(cols_drop, axis=1)"
   ]
  },
  {
   "cell_type": "markdown",
   "metadata": {
    "heading_collapsed": true,
    "hidden": true
   },
   "source": [
    "## 6.2 Split into Train and Validation "
   ]
  },
  {
   "cell_type": "code",
   "execution_count": 36,
   "metadata": {
    "ExecuteTime": {
     "end_time": "2021-01-04T19:51:18.498142Z",
     "start_time": "2021-01-04T19:51:18.389854Z"
    },
    "hidden": true
   },
   "outputs": [],
   "source": [
    "X = df_train_05.drop('country_destination', axis=1)\n",
    "y = df_train_05['country_destination'].copy()\n",
    "\n",
    "# Split dataset into train and validation\n",
    "X_train, X_test, y_train, y_test = train_test_split(\n",
    "    X, y, test_size=0.2, random_state=32)"
   ]
  },
  {
   "cell_type": "markdown",
   "metadata": {
    "heading_collapsed": true
   },
   "source": [
    "# 7.0 Machine Learning Model"
   ]
  },
  {
   "cell_type": "markdown",
   "metadata": {
    "heading_collapsed": true,
    "hidden": true
   },
   "source": [
    "## 7.1 Baseline model"
   ]
  },
  {
   "cell_type": "markdown",
   "metadata": {
    "heading_collapsed": true,
    "hidden": true
   },
   "source": [
    "### 7.1.1 Random Choices"
   ]
  },
  {
   "cell_type": "code",
   "execution_count": 38,
   "metadata": {
    "ExecuteTime": {
     "end_time": "2021-01-04T19:53:42.713323Z",
     "start_time": "2021-01-04T19:53:42.680320Z"
    },
    "hidden": true
   },
   "outputs": [],
   "source": [
    "country_destination_list = y_train.drop_duplicates().sort_values().tolist()\n",
    "country_destination_weights = y_train.value_counts(\n",
    "    normalize=True).sort_index().tolist()\n",
    "k_num = y_test.shape[0]\n",
    "\n",
    "# Random Model\n",
    "\n",
    "yhat_random = random.choices(population=country_destination_list,\n",
    "                             weights=country_destination_weights,\n",
    "                             k=k_num)"
   ]
  },
  {
   "cell_type": "markdown",
   "metadata": {
    "heading_collapsed": true,
    "hidden": true
   },
   "source": [
    "### 7.1.2 Random Choices Performance"
   ]
  },
  {
   "cell_type": "code",
   "execution_count": 39,
   "metadata": {
    "ExecuteTime": {
     "end_time": "2021-01-04T19:53:52.863632Z",
     "start_time": "2021-01-04T19:53:50.988042Z"
    },
    "hidden": true
   },
   "outputs": [
    {
     "name": "stdout",
     "output_type": "stream",
     "text": [
      "Accuracy: 0.35893672537508153\n",
      "Balanced Accuracy: 0.08622148151322719\n",
      "Kappa Score: 0.0013148274339487287\n",
      "              precision    recall  f1-score   support\n",
      "\n",
      "          AU       0.00      0.00      0.00        87\n",
      "          CA       0.02      0.02      0.02       216\n",
      "          DE       0.00      0.00      0.00       164\n",
      "          ES       0.03      0.03      0.03       319\n",
      "          FR       0.02      0.02      0.02       736\n",
      "          GB       0.02      0.01      0.01       361\n",
      "          IT       0.01      0.01      0.01       420\n",
      "         NDF       0.45      0.45      0.45     10962\n",
      "          NL       0.00      0.00      0.00       105\n",
      "          PT       0.02      0.03      0.03        31\n",
      "          US       0.39      0.39      0.39      9606\n",
      "       other       0.07      0.07      0.07      1521\n",
      "\n",
      "    accuracy                           0.36     24528\n",
      "   macro avg       0.09      0.09      0.09     24528\n",
      "weighted avg       0.36      0.36      0.36     24528\n",
      "\n"
     ]
    },
    {
     "data": {
      "text/plain": [
       "<AxesSubplot:title={'center':'Confusion Matrix'}, xlabel='Predicted label', ylabel='True label'>"
      ]
     },
     "execution_count": 39,
     "metadata": {},
     "output_type": "execute_result"
    },
    {
     "data": {
      "image/png": "[encoded data removed]",
      "text/plain": [
       "<Figure size 864x864 with 2 Axes>"
      ]
     },
     "metadata": {
      "needs_background": "light"
     },
     "output_type": "display_data"
    }
   ],
   "source": [
    "# Accuracy\n",
    "acc_random = accuracy_score(y_test, yhat_random)\n",
    "print('Accuracy: {}'.format(acc_random))\n",
    "\n",
    "# Balanced Accuracy\n",
    "balanced_acc_random = balanced_accuracy_score(y_test, yhat_random)\n",
    "print('Balanced Accuracy: {}'.format(balanced_acc_random))\n",
    "\n",
    "# Kappa Score\n",
    "kappa_random = cohen_kappa_score(y_test, yhat_random)\n",
    "print('Kappa Score: {}'.format(kappa_random))\n",
    "\n",
    "# Classification Report\n",
    "print(classification_report(y_test, yhat_random))\n",
    "\n",
    "# Confusion matrix\n",
    "plot_confusion_matrix(y_test, yhat_random, normalize=False, figsize=(12, 12))"
   ]
  },
  {
   "cell_type": "markdown",
   "metadata": {
    "heading_collapsed": true,
    "hidden": true
   },
   "source": [
    "## 7.2 Machine Learning Model - Neural Network MLP"
   ]
  },
  {
   "cell_type": "markdown",
   "metadata": {
    "heading_collapsed": true,
    "hidden": true
   },
   "source": [
    "### 7.2.1 Target Encoding"
   ]
  },
  {
   "cell_type": "code",
   "execution_count": 40,
   "metadata": {
    "ExecuteTime": {
     "end_time": "2021-01-04T19:54:24.143509Z",
     "start_time": "2021-01-04T19:54:24.099441Z"
    },
    "hidden": true
   },
   "outputs": [],
   "source": [
    "ohe = OneHotEncoder()\n",
    "y_train_nn = ohe.fit_transform(y_train.values.reshape(-1, 1)).toarray()"
   ]
  },
  {
   "cell_type": "markdown",
   "metadata": {
    "heading_collapsed": true,
    "hidden": true
   },
   "source": [
    "### 7.2.2 NN Model"
   ]
  },
  {
   "cell_type": "code",
   "execution_count": 42,
   "metadata": {
    "ExecuteTime": {
     "end_time": "2021-01-04T19:59:59.506823Z",
     "start_time": "2021-01-04T19:56:18.574480Z"
    },
    "hidden": true
   },
   "outputs": [
    {
     "name": "stdout",
     "output_type": "stream",
     "text": [
      "Epoch 1/100\n",
      "3066/3066 [==============================] - 3s 736us/step - loss: 14.8721 - accuracy: 0.7107\n",
      "Epoch 2/100\n",
      "3066/3066 [==============================] - 2s 675us/step - loss: 4.0325 - accuracy: 0.7420\n",
      "Epoch 3/100\n",
      "3066/3066 [==============================] - 2s 688us/step - loss: 1.7413 - accuracy: 0.7705\n",
      "Epoch 4/100\n",
      "3066/3066 [==============================] - 2s 678us/step - loss: 1.0820 - accuracy: 0.7947\n",
      "Epoch 5/100\n",
      "3066/3066 [==============================] - 2s 694us/step - loss: 0.8708 - accuracy: 0.8091\n",
      "Epoch 6/100\n",
      "3066/3066 [==============================] - 2s 712us/step - loss: 0.7200 - accuracy: 0.8291\n",
      "Epoch 7/100\n",
      "3066/3066 [==============================] - 2s 722us/step - loss: 0.6751 - accuracy: 0.8362\n",
      "Epoch 8/100\n",
      "3066/3066 [==============================] - 2s 703us/step - loss: 0.6444 - accuracy: 0.8381\n",
      "Epoch 9/100\n",
      "3066/3066 [==============================] - 2s 718us/step - loss: 0.6364 - accuracy: 0.8401\n",
      "Epoch 10/100\n",
      "3066/3066 [==============================] - 2s 717us/step - loss: 0.6477 - accuracy: 0.8369\n",
      "Epoch 11/100\n",
      "3066/3066 [==============================] - 2s 715us/step - loss: 0.6446 - accuracy: 0.8370\n",
      "Epoch 12/100\n",
      "3066/3066 [==============================] - 2s 692us/step - loss: 0.6426 - accuracy: 0.8381\n",
      "Epoch 13/100\n",
      "3066/3066 [==============================] - ETA: 0s - loss: 0.6446 - accuracy: 0.83 - 2s 703us/step - loss: 0.6446 - accuracy: 0.8381\n",
      "Epoch 14/100\n",
      "3066/3066 [==============================] - 2s 705us/step - loss: 0.6417 - accuracy: 0.8379\n",
      "Epoch 15/100\n",
      "3066/3066 [==============================] - 2s 697us/step - loss: 0.6407 - accuracy: 0.8393\n",
      "Epoch 16/100\n",
      "3066/3066 [==============================] - 2s 708us/step - loss: 0.6372 - accuracy: 0.8399\n",
      "Epoch 17/100\n",
      "3066/3066 [==============================] - 2s 691us/step - loss: 0.6381 - accuracy: 0.8399\n",
      "Epoch 18/100\n",
      "3066/3066 [==============================] - 2s 707us/step - loss: 0.6444 - accuracy: 0.8371\n",
      "Epoch 19/100\n",
      "3066/3066 [==============================] - 2s 702us/step - loss: 0.6414 - accuracy: 0.8381\n",
      "Epoch 20/100\n",
      "3066/3066 [==============================] - 2s 699us/step - loss: 0.6410 - accuracy: 0.8383\n",
      "Epoch 21/100\n",
      "3066/3066 [==============================] - 2s 712us/step - loss: 0.6402 - accuracy: 0.8379\n",
      "Epoch 22/100\n",
      "3066/3066 [==============================] - 2s 701us/step - loss: 0.6348 - accuracy: 0.8402\n",
      "Epoch 23/100\n",
      "3066/3066 [==============================] - 2s 693us/step - loss: 0.6405 - accuracy: 0.8380\n",
      "Epoch 24/100\n",
      "3066/3066 [==============================] - 2s 730us/step - loss: 0.6349 - accuracy: 0.8399\n",
      "Epoch 25/100\n",
      "3066/3066 [==============================] - 2s 719us/step - loss: 0.6358 - accuracy: 0.8395\n",
      "Epoch 26/100\n",
      "3066/3066 [==============================] - 2s 706us/step - loss: 0.6375 - accuracy: 0.8388\n",
      "Epoch 27/100\n",
      "3066/3066 [==============================] - 2s 710us/step - loss: 0.6429 - accuracy: 0.8366\n",
      "Epoch 28/100\n",
      "3066/3066 [==============================] - 2s 715us/step - loss: 0.6412 - accuracy: 0.8386\n",
      "Epoch 29/100\n",
      "3066/3066 [==============================] - 2s 712us/step - loss: 0.6396 - accuracy: 0.8392\n",
      "Epoch 30/100\n",
      "3066/3066 [==============================] - 3s 857us/step - loss: 0.6308 - accuracy: 0.8397\n",
      "Epoch 31/100\n",
      "3066/3066 [==============================] - 3s 858us/step - loss: 0.6312 - accuracy: 0.8401\n",
      "Epoch 32/100\n",
      "3066/3066 [==============================] - 2s 774us/step - loss: 0.6387 - accuracy: 0.8373\n",
      "Epoch 33/100\n",
      "3066/3066 [==============================] - 2s 784us/step - loss: 0.6394 - accuracy: 0.8370\n",
      "Epoch 34/100\n",
      "3066/3066 [==============================] - 2s 788us/step - loss: 0.6379 - accuracy: 0.8379\n",
      "Epoch 35/100\n",
      "3066/3066 [==============================] - 2s 749us/step - loss: 0.6382 - accuracy: 0.8374\n",
      "Epoch 36/100\n",
      "3066/3066 [==============================] - 3s 880us/step - loss: 0.6326 - accuracy: 0.8400\n",
      "Epoch 37/100\n",
      "3066/3066 [==============================] - 3s 954us/step - loss: 0.6337 - accuracy: 0.8389\n",
      "Epoch 38/100\n",
      "3066/3066 [==============================] - 2s 719us/step - loss: 0.6294 - accuracy: 0.8403\n",
      "Epoch 39/100\n",
      "3066/3066 [==============================] - 2s 714us/step - loss: 0.6349 - accuracy: 0.8389\n",
      "Epoch 40/100\n",
      "3066/3066 [==============================] - 2s 709us/step - loss: 0.6333 - accuracy: 0.8389\n",
      "Epoch 41/100\n",
      "3066/3066 [==============================] - 2s 726us/step - loss: 0.6347 - accuracy: 0.8389\n",
      "Epoch 42/100\n",
      "3066/3066 [==============================] - 2s 697us/step - loss: 0.6320 - accuracy: 0.8398\n",
      "Epoch 43/100\n",
      "3066/3066 [==============================] - 2s 718us/step - loss: 0.6407 - accuracy: 0.8373\n",
      "Epoch 44/100\n",
      "3066/3066 [==============================] - 2s 702us/step - loss: 0.6354 - accuracy: 0.8386\n",
      "Epoch 45/100\n",
      "3066/3066 [==============================] - 2s 710us/step - loss: 0.6375 - accuracy: 0.8378\n",
      "Epoch 46/100\n",
      "3066/3066 [==============================] - 2s 706us/step - loss: 0.6335 - accuracy: 0.8386\n",
      "Epoch 47/100\n",
      "3066/3066 [==============================] - 2s 765us/step - loss: 0.6371 - accuracy: 0.8377\n",
      "Epoch 48/100\n",
      "3066/3066 [==============================] - 2s 724us/step - loss: 0.6277 - accuracy: 0.8401\n",
      "Epoch 49/100\n",
      "3066/3066 [==============================] - 2s 731us/step - loss: 0.6380 - accuracy: 0.8376\n",
      "Epoch 50/100\n",
      "3066/3066 [==============================] - 2s 716us/step - loss: 0.6328 - accuracy: 0.8392\n",
      "Epoch 51/100\n",
      "3066/3066 [==============================] - 2s 716us/step - loss: 0.6375 - accuracy: 0.8376\n",
      "Epoch 52/100\n",
      "3066/3066 [==============================] - 2s 758us/step - loss: 0.6351 - accuracy: 0.8395\n",
      "Epoch 53/100\n",
      "3066/3066 [==============================] - 2s 704us/step - loss: 0.6310 - accuracy: 0.8399\n",
      "Epoch 54/100\n",
      "3066/3066 [==============================] - 2s 702us/step - loss: 0.6361 - accuracy: 0.8393\n",
      "Epoch 55/100\n",
      "3066/3066 [==============================] - 2s 709us/step - loss: 0.6333 - accuracy: 0.8391\n",
      "Epoch 56/100\n",
      "3066/3066 [==============================] - 2s 702us/step - loss: 0.6340 - accuracy: 0.8388\n",
      "Epoch 57/100\n",
      "3066/3066 [==============================] - 2s 701us/step - loss: 0.6331 - accuracy: 0.8397\n",
      "Epoch 58/100\n",
      "3066/3066 [==============================] - 2s 703us/step - loss: 0.6346 - accuracy: 0.8388\n",
      "Epoch 59/100\n",
      "3066/3066 [==============================] - 2s 700us/step - loss: 0.6326 - accuracy: 0.8392\n",
      "Epoch 60/100\n",
      "3066/3066 [==============================] - 2s 700us/step - loss: 0.6376 - accuracy: 0.8377\n",
      "Epoch 61/100\n",
      "3066/3066 [==============================] - 2s 703us/step - loss: 0.6312 - accuracy: 0.84020s - loss: 0.6305 \n",
      "Epoch 62/100\n",
      "3066/3066 [==============================] - 2s 701us/step - loss: 0.6346 - accuracy: 0.8391\n",
      "Epoch 63/100\n",
      "3066/3066 [==============================] - 2s 697us/step - loss: 0.6347 - accuracy: 0.8389\n",
      "Epoch 64/100\n",
      "3066/3066 [==============================] - 2s 705us/step - loss: 0.6307 - accuracy: 0.8402\n",
      "Epoch 65/100\n",
      "3066/3066 [==============================] - 2s 695us/step - loss: 0.6309 - accuracy: 0.8401\n",
      "Epoch 66/100\n",
      "3066/3066 [==============================] - 2s 740us/step - loss: 0.6279 - accuracy: 0.8407\n",
      "Epoch 67/100\n",
      "3066/3066 [==============================] - 2s 748us/step - loss: 0.6375 - accuracy: 0.8379\n",
      "Epoch 68/100\n",
      "3066/3066 [==============================] - 2s 713us/step - loss: 0.6315 - accuracy: 0.8401\n",
      "Epoch 69/100\n",
      "3066/3066 [==============================] - 2s 716us/step - loss: 0.6358 - accuracy: 0.8381\n",
      "Epoch 70/100\n",
      "3066/3066 [==============================] - 2s 716us/step - loss: 0.6365 - accuracy: 0.8381\n",
      "Epoch 71/100\n",
      "3066/3066 [==============================] - 2s 714us/step - loss: 0.6375 - accuracy: 0.8373\n",
      "Epoch 72/100\n",
      "3066/3066 [==============================] - 2s 717us/step - loss: 0.6363 - accuracy: 0.8386\n",
      "Epoch 73/100\n",
      "3066/3066 [==============================] - 2s 709us/step - loss: 0.6386 - accuracy: 0.83760s - los\n",
      "Epoch 74/100\n",
      "3066/3066 [==============================] - 2s 696us/step - loss: 0.6335 - accuracy: 0.8390\n",
      "Epoch 75/100\n",
      "3066/3066 [==============================] - 2s 717us/step - loss: 0.6267 - accuracy: 0.8409\n",
      "Epoch 76/100\n",
      "3066/3066 [==============================] - 2s 702us/step - loss: 0.6371 - accuracy: 0.8390\n",
      "Epoch 77/100\n"
     ]
    },
    {
     "name": "stdout",
     "output_type": "stream",
     "text": [
      "3066/3066 [==============================] - 2s 694us/step - loss: 0.6322 - accuracy: 0.8396\n",
      "Epoch 78/100\n",
      "3066/3066 [==============================] - 2s 690us/step - loss: 0.6341 - accuracy: 0.8392\n",
      "Epoch 79/100\n",
      "3066/3066 [==============================] - 2s 695us/step - loss: 0.6343 - accuracy: 0.8387\n",
      "Epoch 80/100\n",
      "3066/3066 [==============================] - 2s 708us/step - loss: 0.6332 - accuracy: 0.8392\n",
      "Epoch 81/100\n",
      "3066/3066 [==============================] - 2s 710us/step - loss: 0.6333 - accuracy: 0.8403\n",
      "Epoch 82/100\n",
      "3066/3066 [==============================] - 2s 703us/step - loss: 0.6221 - accuracy: 0.8426\n",
      "Epoch 83/100\n",
      "3066/3066 [==============================] - 2s 717us/step - loss: 0.6324 - accuracy: 0.8398\n",
      "Epoch 84/100\n",
      "3066/3066 [==============================] - 2s 710us/step - loss: 0.6371 - accuracy: 0.8380\n",
      "Epoch 85/100\n",
      "3066/3066 [==============================] - 2s 697us/step - loss: 0.6411 - accuracy: 0.8369\n",
      "Epoch 86/100\n",
      "3066/3066 [==============================] - 2s 704us/step - loss: 0.6276 - accuracy: 0.8408\n",
      "Epoch 87/100\n",
      "3066/3066 [==============================] - 2s 698us/step - loss: 0.6358 - accuracy: 0.8382\n",
      "Epoch 88/100\n",
      "3066/3066 [==============================] - 2s 706us/step - loss: 0.6367 - accuracy: 0.8387\n",
      "Epoch 89/100\n",
      "3066/3066 [==============================] - 2s 685us/step - loss: 0.6359 - accuracy: 0.8383\n",
      "Epoch 90/100\n",
      "3066/3066 [==============================] - 2s 694us/step - loss: 0.6286 - accuracy: 0.8409\n",
      "Epoch 91/100\n",
      "3066/3066 [==============================] - 2s 725us/step - loss: 0.6372 - accuracy: 0.8386\n",
      "Epoch 92/100\n",
      "3066/3066 [==============================] - 2s 697us/step - loss: 0.6364 - accuracy: 0.8382\n",
      "Epoch 93/100\n",
      "3066/3066 [==============================] - 2s 712us/step - loss: 0.6351 - accuracy: 0.8390\n",
      "Epoch 94/100\n",
      "3066/3066 [==============================] - 2s 697us/step - loss: 0.6434 - accuracy: 0.8364\n",
      "Epoch 95/100\n",
      "3066/3066 [==============================] - 2s 714us/step - loss: 0.6231 - accuracy: 0.8419\n",
      "Epoch 96/100\n",
      "3066/3066 [==============================] - 2s 700us/step - loss: 0.6312 - accuracy: 0.8399\n",
      "Epoch 97/100\n",
      "3066/3066 [==============================] - 2s 717us/step - loss: 0.6341 - accuracy: 0.8390\n",
      "Epoch 98/100\n",
      "3066/3066 [==============================] - 2s 708us/step - loss: 0.6317 - accuracy: 0.8390\n",
      "Epoch 99/100\n",
      "3066/3066 [==============================] - 2s 702us/step - loss: 0.6315 - accuracy: 0.8395\n",
      "Epoch 100/100\n",
      "3066/3066 [==============================] - 2s 717us/step - loss: 0.6367 - accuracy: 0.8380\n"
     ]
    },
    {
     "data": {
      "text/plain": [
       "<tensorflow.python.keras.callbacks.History at 0x2421eb6be50>"
      ]
     },
     "execution_count": 42,
     "metadata": {},
     "output_type": "execute_result"
    }
   ],
   "source": [
    "# Model Definition\n",
    "model = Sequential()\n",
    "model.add(Dense(256, input_dim=X_train.shape[1], activation='relu'))\n",
    "model.add(Dense(12, activation='softmax'))\n",
    "\n",
    "# Model compile\n",
    "model.compile(loss='categorical_crossentropy',\n",
    "              optimizer='adam', metrics=['accuracy'])\n",
    "\n",
    "# Train Model\n",
    "model.fit(X_train, y_train_nn, epochs=100)"
   ]
  },
  {
   "cell_type": "markdown",
   "metadata": {
    "heading_collapsed": true,
    "hidden": true
   },
   "source": [
    "### 7.2.3 NN Performance"
   ]
  },
  {
   "cell_type": "code",
   "execution_count": 44,
   "metadata": {
    "ExecuteTime": {
     "end_time": "2021-01-04T20:01:29.048528Z",
     "start_time": "2021-01-04T20:01:28.686823Z"
    },
    "hidden": true
   },
   "outputs": [],
   "source": [
    "# Prediction\n",
    "pred_nn = model.predict(X_test)\n",
    "\n",
    "# Inver Prediction\n",
    "yhat_nn = ohe.inverse_transform(pred_nn)\n",
    "\n",
    "# Prediction Prepare\n",
    "y_test_nn = y_test.to_numpy()\n",
    "yhat_nn = yhat_nn.reshape(1, -1)[0]"
   ]
  },
  {
   "cell_type": "code",
   "execution_count": 45,
   "metadata": {
    "ExecuteTime": {
     "end_time": "2021-01-04T20:01:35.185308Z",
     "start_time": "2021-01-04T20:01:33.152127Z"
    },
    "hidden": true,
    "scrolled": true
   },
   "outputs": [
    {
     "name": "stdout",
     "output_type": "stream",
     "text": [
      "Accuracy: 0.8384703196347032\n",
      "Balanced Accuracy: 0.16664931639947256\n",
      "Kappa Score: 0.7232441822459961\n"
     ]
    },
    {
     "name": "stderr",
     "output_type": "stream",
     "text": [
      "C:\\Users\\fabio\\Anaconda3\\lib\\site-packages\\sklearn\\metrics\\_classification.py:1221: UndefinedMetricWarning: Precision and F-score are ill-defined and being set to 0.0 in labels with no predicted samples. Use `zero_division` parameter to control this behavior.\n",
      "  _warn_prf(average, modifier, msg_start, len(result))\n"
     ]
    },
    {
     "name": "stdout",
     "output_type": "stream",
     "text": [
      "              precision    recall  f1-score   support\n",
      "\n",
      "          AU       0.00      0.00      0.00        87\n",
      "          CA       0.00      0.00      0.00       216\n",
      "          DE       0.00      0.00      0.00       164\n",
      "          ES       0.00      0.00      0.00       319\n",
      "          FR       0.00      0.00      0.00       736\n",
      "          GB       0.00      0.00      0.00       361\n",
      "          IT       0.00      0.00      0.00       420\n",
      "         NDF       1.00      1.00      1.00     10962\n",
      "          NL       0.00      0.00      0.00       105\n",
      "          PT       0.00      0.00      0.00        31\n",
      "          US       0.71      1.00      0.83      9606\n",
      "       other       0.00      0.00      0.00      1521\n",
      "\n",
      "    accuracy                           0.84     24528\n",
      "   macro avg       0.14      0.17      0.15     24528\n",
      "weighted avg       0.72      0.84      0.77     24528\n",
      "\n"
     ]
    },
    {
     "data": {
      "text/plain": [
       "<AxesSubplot:title={'center':'Confusion Matrix'}, xlabel='Predicted label', ylabel='True label'>"
      ]
     },
     "execution_count": 45,
     "metadata": {},
     "output_type": "execute_result"
    },
    {
     "data": {
      "image/png": "[encoded data removed]",
      "text/plain": [
       "<Figure size 864x864 with 2 Axes>"
      ]
     },
     "metadata": {
      "needs_background": "light"
     },
     "output_type": "display_data"
    }
   ],
   "source": [
    "# Accuracy\n",
    "acc_nn = accuracy_score(y_test_nn, yhat_nn)\n",
    "print('Accuracy: {}'.format(acc_nn))\n",
    "\n",
    "# Balanced Accuracy\n",
    "balanced_acc_nn = balanced_accuracy_score(y_test_nn, yhat_nn)\n",
    "print('Balanced Accuracy: {}'.format(balanced_acc_nn))\n",
    "\n",
    "# Kappa Score\n",
    "kappa_nn = cohen_kappa_score(y_test_nn, yhat_nn)\n",
    "print('Kappa Score: {}'.format(kappa_nn))\n",
    "\n",
    "# Classification Report\n",
    "print(classification_report(y_test_nn, yhat_nn))\n",
    "\n",
    "# Confusion matrix\n",
    "plot_confusion_matrix(y_test_nn, yhat_nn, normalize=False, figsize=(12, 12))"
   ]
  },
  {
   "cell_type": "markdown",
   "metadata": {
    "heading_collapsed": true,
    "hidden": true
   },
   "source": [
    "### 7.2.4 NN Performance - Cross Validation"
   ]
  },
  {
   "cell_type": "code",
   "execution_count": 47,
   "metadata": {
    "ExecuteTime": {
     "end_time": "2021-01-04T20:13:57.194586Z",
     "start_time": "2021-01-04T20:02:24.242654Z"
    },
    "hidden": true
   },
   "outputs": [
    {
     "name": "stdout",
     "output_type": "stream",
     "text": [
      "Fold Number: 1/5\n",
      "Fold Number: 2/5\n",
      "Fold Number: 3/5\n",
      "Fold Number: 4/5\n",
      "Fold Number: 5/5\n"
     ]
    }
   ],
   "source": [
    "# k-fold generate\n",
    "num_folds = 5\n",
    "kfold = StratifiedKFold(n_splits=num_folds, shuffle=True, random_state=32)\n",
    "\n",
    "balanced_acc_list = []\n",
    "kappa_acc_list = []\n",
    "\n",
    "i = 1\n",
    "for train_ix, val_ix in kfold.split(X_train, y_train):\n",
    "    print('Fold Number: {}/{}'.format(i, num_folds))\n",
    "    # get fold\n",
    "    X_train_fold = X_train.iloc[train_ix]\n",
    "    y_train_fold = y_train.iloc[train_ix]\n",
    "\n",
    "    X_val_fold = X_train.iloc[val_ix]\n",
    "    y_val_fold = y_train.iloc[val_ix]\n",
    "\n",
    "    # target encoding\n",
    "    ohe = OneHotEncoder()\n",
    "    y_train_fold_nn = ohe.fit_transform(\n",
    "        y_train_fold.values.reshape(-1, 1)).toarray()\n",
    "\n",
    "    # model definition\n",
    "    model = Sequential()\n",
    "    model.add(Dense(256, input_dim=X_train_fold.shape[1], activation='relu'))\n",
    "    model.add(Dense(12, activation='softmax'))\n",
    "\n",
    "    # compile model\n",
    "    model.compile(loss='categorical_crossentropy',\n",
    "                  optimizer='adam', metrics=['accuracy'])\n",
    "\n",
    "    # training model\n",
    "    model.fit(X_train_fold, y_train_fold_nn,\n",
    "              epochs=100, batch_size=32, verbose=0)\n",
    "\n",
    "    # prediction\n",
    "    pred_nn = model.predict(X_val_fold)\n",
    "    yhat_nn = ohe.inverse_transform(pred_nn)\n",
    "\n",
    "    # prepare data\n",
    "    y_test_nn = y_val_fold.to_numpy()\n",
    "    yhat_nn = yhat_nn.reshape(1, -1)[0]\n",
    "\n",
    "    # metrics\n",
    "    # Balanced Accuracy\n",
    "    balanced_acc_nn = balanced_accuracy_score(y_test_nn, yhat_nn)\n",
    "    balanced_acc_list.append(balanced_acc_nn)\n",
    "\n",
    "    # Kappa Metrics\n",
    "    kappa_acc_nn = cohen_kappa_score(y_test_nn, yhat_nn)\n",
    "    kappa_acc_list.append(kappa_acc_nn)\n",
    "\n",
    "    i += 1"
   ]
  },
  {
   "cell_type": "code",
   "execution_count": 48,
   "metadata": {
    "ExecuteTime": {
     "end_time": "2021-01-04T20:13:57.209589Z",
     "start_time": "2021-01-04T20:13:57.196588Z"
    },
    "hidden": true
   },
   "outputs": [
    {
     "name": "stdout",
     "output_type": "stream",
     "text": [
      "Avg Balanced Accuracy: 0.1666 +/- 0.0\n",
      "Avg Kappa: 0.7243 +/- 0.0002\n"
     ]
    }
   ],
   "source": [
    "print('Avg Balanced Accuracy: {} +/- {}'.format(np.round(np.mean(balanced_acc_list), 4),\n",
    "                                                np.round(np.std(balanced_acc_list), 4)))\n",
    "print('Avg Kappa: {} +/- {}'.format(np.round(np.mean(kappa_acc_list), 4),\n",
    "                                    np.round(np.std(kappa_acc_list), 4)))"
   ]
  }
 ],
 "metadata": {
  "kernelspec": {
   "display_name": "Python 3",
   "language": "python",
   "name": "python3"
  },
  "language_info": {
   "codemirror_mode": {
    "name": "ipython",
    "version": 3
   },
   "file_extension": ".py",
   "mimetype": "text/x-python",
   "name": "python",
   "nbconvert_exporter": "python",
   "pygments_lexer": "ipython3",
   "version": "3.8.3"
  },
  "toc": {
   "base_numbering": 1,
   "nav_menu": {},
   "number_sections": true,
   "sideBar": true,
   "skip_h1_title": false,
   "title_cell": "Table of Contents",
   "title_sidebar": "Contents",
   "toc_cell": false,
   "toc_position": {},
   "toc_section_display": true,
   "toc_window_display": false
  }
 },
 "nbformat": 4,
 "nbformat_minor": 4
}
