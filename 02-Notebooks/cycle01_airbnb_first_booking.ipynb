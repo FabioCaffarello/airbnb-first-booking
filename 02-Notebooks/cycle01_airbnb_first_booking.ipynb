{
 "cells": [
  {
   "cell_type": "markdown",
   "metadata": {
    "ExecuteTime": {
     "end_time": "2021-01-03T18:46:58.923445Z",
     "start_time": "2021-01-03T18:46:58.918448Z"
    },
    "heading_collapsed": true
   },
   "source": [
    "# 0.0 Understanding the Situation"
   ]
  },
  {
   "cell_type": "markdown",
   "metadata": {
    "hidden": true
   },
   "source": [
    "- objective of the proposed situation\n",
    "1. Prediction of the first destination a new user will choose\n",
    "- Why?\n",
    " - What kind of business model does Airbnb have?\n",
    " - Market Place (connecting people who offer accommodation with people who are looking for accommodation)\n",
    " - Offer (people offer accommodation)\n",
    "   - Portifolio size\n",
    "   - Portfolio diversity/density\n",
    "   - Average price\n",
    " - Demand (people looking for accommodation)\n",
    "   - Number of Users\n",
    "   - LTV (Lifetime Value)\n",
    "   - CAC (Client Acquisition Cost)\n",
    " - Gross Revenue  = fee * number of users - CAC (contribution margins)\n",
    " \n",
    " \n",
    "- **Solution**\n",
    " - Prediction model of the first destination of a new user\n",
    " - API\n",
    "   - **Input**: user and its characteristics\n",
    "   - **Output**: user and its characteristics **with the prediction of destination**"
   ]
  },
  {
   "cell_type": "markdown",
   "metadata": {
    "heading_collapsed": true
   },
   "source": [
    "# 1.0 IMPORTS"
   ]
  },
  {
   "cell_type": "markdown",
   "metadata": {
    "heading_collapsed": true,
    "hidden": true
   },
   "source": [
    "## 1.1 Libraries"
   ]
  },
  {
   "cell_type": "code",
   "execution_count": 33,
   "metadata": {
    "ExecuteTime": {
     "end_time": "2021-01-04T00:40:58.110057Z",
     "start_time": "2021-01-04T00:40:58.101058Z"
    },
    "hidden": true
   },
   "outputs": [],
   "source": [
    "#!pip install scikit-plot"
   ]
  },
  {
   "cell_type": "code",
   "execution_count": 34,
   "metadata": {
    "ExecuteTime": {
     "end_time": "2021-01-04T00:40:58.125057Z",
     "start_time": "2021-01-04T00:40:58.112058Z"
    },
    "hidden": true
   },
   "outputs": [],
   "source": [
    "import random\n",
    "import pandas as pd  # pip install pandas\n",
    "import numpy as np # pip install numpy\n",
    "import seaborn as sns # pip install seaborn\n",
    "from sklearn.model_selection import train_test_split, StratifiedKFold  # pip install sklearn\n",
    "from sklearn.preprocessing import OneHotEncoder\n",
    "from sklearn.metrics import accuracy_score, balanced_accuracy_score, cohen_kappa_score, classification_report\n",
    "from scikitplot.metrics import plot_confusion_matrix  # pip install scikit-plot\n",
    "from keras.models import Sequential  # pip install keras; pip install tensorflow\n",
    "from keras.layers import Dense"
   ]
  },
  {
   "cell_type": "markdown",
   "metadata": {
    "heading_collapsed": true,
    "hidden": true
   },
   "source": [
    "## 1.2 Helper Functions"
   ]
  },
  {
   "cell_type": "code",
   "execution_count": null,
   "metadata": {
    "hidden": true
   },
   "outputs": [],
   "source": []
  },
  {
   "cell_type": "markdown",
   "metadata": {
    "heading_collapsed": true,
    "hidden": true
   },
   "source": [
    "## 1.3 Loading data"
   ]
  },
  {
   "cell_type": "code",
   "execution_count": 35,
   "metadata": {
    "ExecuteTime": {
     "end_time": "2021-01-04T00:40:58.217059Z",
     "start_time": "2021-01-04T00:40:58.127058Z"
    },
    "hidden": true,
    "scrolled": true
   },
   "outputs": [
    {
     "name": "stdout",
     "output_type": "stream",
     "text": [
      "total 648652\n",
      "-rw-r--r-- 1 fabio 197609     11905 Oct 16  2015 age_gender_bkts.csv\n",
      "-rw-r--r-- 1 fabio 197609       632 Oct 16  2015 countries.csv\n",
      "-rw-r--r-- 1 fabio 197609    931451 Dec  6  2015 sample_submission_NDF.csv\n",
      "-rw-r--r-- 1 fabio 197609 631646292 Dec  6  2015 sessions.csv\n",
      "-rw-r--r-- 1 fabio 197609   6763170 May 16  2018 test_users.csv\n",
      "-rw-r--r-- 1 fabio 197609  24853881 Dec 10  2015 train_users_2.csv\n"
     ]
    }
   ],
   "source": [
    "!ls -l ../01-Data/csv_data"
   ]
  },
  {
   "cell_type": "markdown",
   "metadata": {
    "heading_collapsed": true,
    "hidden": true
   },
   "source": [
    "### 1.3.1 Training"
   ]
  },
  {
   "cell_type": "code",
   "execution_count": 36,
   "metadata": {
    "ExecuteTime": {
     "end_time": "2021-01-04T00:40:58.634060Z",
     "start_time": "2021-01-04T00:40:58.220058Z"
    },
    "hidden": true
   },
   "outputs": [
    {
     "data": {
      "text/plain": [
       "(213451, 16)"
      ]
     },
     "execution_count": 36,
     "metadata": {},
     "output_type": "execute_result"
    }
   ],
   "source": [
    "df_train_raw = pd.read_csv(\n",
    "    \"../01-Data/csv_data/train_users_2.csv\", low_memory=True)\n",
    "df_train_raw.shape"
   ]
  },
  {
   "cell_type": "markdown",
   "metadata": {
    "heading_collapsed": true,
    "hidden": true
   },
   "source": [
    "### 1.3.2 Sessions"
   ]
  },
  {
   "cell_type": "code",
   "execution_count": 37,
   "metadata": {
    "ExecuteTime": {
     "end_time": "2021-01-04T00:41:05.427057Z",
     "start_time": "2021-01-04T00:40:58.636060Z"
    },
    "hidden": true
   },
   "outputs": [
    {
     "data": {
      "text/plain": [
       "(10567737, 6)"
      ]
     },
     "execution_count": 37,
     "metadata": {},
     "output_type": "execute_result"
    }
   ],
   "source": [
    "df_sessions_raw = pd.read_csv(\n",
    "    \"../01-Data/csv_data/sessions.csv\", low_memory=True)\n",
    "df_sessions_raw.shape"
   ]
  },
  {
   "cell_type": "markdown",
   "metadata": {
    "heading_collapsed": true
   },
   "source": [
    "# 2.0 DATA DESCRIPTION"
   ]
  },
  {
   "cell_type": "code",
   "execution_count": 104,
   "metadata": {
    "ExecuteTime": {
     "end_time": "2021-01-04T01:37:30.812556Z",
     "start_time": "2021-01-04T01:37:30.483063Z"
    },
    "hidden": true
   },
   "outputs": [],
   "source": [
    "df_train_01 = df_train_raw.copy()\n",
    "df_sessions_01 = df_sessions_raw.copy()"
   ]
  },
  {
   "cell_type": "markdown",
   "metadata": {
    "heading_collapsed": true,
    "hidden": true
   },
   "source": [
    "## 2.1 Training"
   ]
  },
  {
   "cell_type": "markdown",
   "metadata": {
    "heading_collapsed": true,
    "hidden": true
   },
   "source": [
    "### 2.1.1 Data Dimensions"
   ]
  },
  {
   "cell_type": "code",
   "execution_count": 105,
   "metadata": {
    "ExecuteTime": {
     "end_time": "2021-01-04T01:37:30.922735Z",
     "start_time": "2021-01-04T01:37:30.918735Z"
    },
    "hidden": true
   },
   "outputs": [
    {
     "name": "stdout",
     "output_type": "stream",
     "text": [
      "Number of Rows: 213451\n",
      "Number of Columns: 16\n"
     ]
    }
   ],
   "source": [
    "print(f'Number of Rows: {df_train_01.shape[0]}')\n",
    "print(f'Number of Columns: {df_train_01.shape[1]}')"
   ]
  },
  {
   "cell_type": "markdown",
   "metadata": {
    "heading_collapsed": true,
    "hidden": true
   },
   "source": [
    "### 2.1.2 Data Type"
   ]
  },
  {
   "cell_type": "code",
   "execution_count": 106,
   "metadata": {
    "ExecuteTime": {
     "end_time": "2021-01-04T01:37:31.204082Z",
     "start_time": "2021-01-04T01:37:31.194082Z"
    },
    "hidden": true
   },
   "outputs": [
    {
     "data": {
      "text/plain": [
       "id                          object\n",
       "date_account_created        object\n",
       "timestamp_first_active       int64\n",
       "date_first_booking          object\n",
       "gender                      object\n",
       "age                        float64\n",
       "signup_method               object\n",
       "signup_flow                  int64\n",
       "language                    object\n",
       "affiliate_channel           object\n",
       "affiliate_provider          object\n",
       "first_affiliate_tracked     object\n",
       "signup_app                  object\n",
       "first_device_type           object\n",
       "first_browser               object\n",
       "country_destination         object\n",
       "dtype: object"
      ]
     },
     "execution_count": 106,
     "metadata": {},
     "output_type": "execute_result"
    }
   ],
   "source": [
    "df_train_01.dtypes"
   ]
  },
  {
   "cell_type": "markdown",
   "metadata": {
    "heading_collapsed": true,
    "hidden": true
   },
   "source": [
    "### 2.1.3 NA Check"
   ]
  },
  {
   "cell_type": "code",
   "execution_count": 107,
   "metadata": {
    "ExecuteTime": {
     "end_time": "2021-01-04T01:37:31.552083Z",
     "start_time": "2021-01-04T01:37:31.458087Z"
    },
    "hidden": true
   },
   "outputs": [
    {
     "data": {
      "text/plain": [
       "id                         0.000000\n",
       "date_account_created       0.000000\n",
       "timestamp_first_active     0.000000\n",
       "date_first_booking         0.583473\n",
       "gender                     0.000000\n",
       "age                        0.412226\n",
       "signup_method              0.000000\n",
       "signup_flow                0.000000\n",
       "language                   0.000000\n",
       "affiliate_channel          0.000000\n",
       "affiliate_provider         0.000000\n",
       "first_affiliate_tracked    0.028414\n",
       "signup_app                 0.000000\n",
       "first_device_type          0.000000\n",
       "first_browser              0.000000\n",
       "country_destination        0.000000\n",
       "dtype: float64"
      ]
     },
     "execution_count": 107,
     "metadata": {},
     "output_type": "execute_result"
    }
   ],
   "source": [
    "df_train_01.isnull().sum() / len(df_train_01)"
   ]
  },
  {
   "cell_type": "code",
   "execution_count": 108,
   "metadata": {
    "ExecuteTime": {
     "end_time": "2021-01-04T01:37:31.632082Z",
     "start_time": "2021-01-04T01:37:31.584083Z"
    },
    "hidden": true
   },
   "outputs": [
    {
     "data": {
      "text/plain": [
       "NDF    1.0\n",
       "Name: country_destination, dtype: float64"
      ]
     },
     "execution_count": 108,
     "metadata": {},
     "output_type": "execute_result"
    }
   ],
   "source": [
    "aux = df_train_01[df_train_01['date_first_booking'].isnull()]\n",
    "aux['country_destination'].value_counts(normalize=True)"
   ]
  },
  {
   "cell_type": "code",
   "execution_count": 109,
   "metadata": {
    "ExecuteTime": {
     "end_time": "2021-01-04T01:37:31.758084Z",
     "start_time": "2021-01-04T01:37:31.720083Z"
    },
    "hidden": true
   },
   "outputs": [
    {
     "data": {
      "text/plain": [
       "NDF      0.768428\n",
       "US       0.156529\n",
       "other    0.028617\n",
       "FR       0.014888\n",
       "IT       0.009081\n",
       "GB       0.006251\n",
       "ES       0.006171\n",
       "CA       0.003989\n",
       "DE       0.002387\n",
       "NL       0.001818\n",
       "AU       0.001171\n",
       "PT       0.000671\n",
       "Name: country_destination, dtype: float64"
      ]
     },
     "execution_count": 109,
     "metadata": {},
     "output_type": "execute_result"
    }
   ],
   "source": [
    "aux = df_train_01[df_train_01['age'].isnull()]\n",
    "aux['country_destination'].value_counts(normalize=True)"
   ]
  },
  {
   "cell_type": "code",
   "execution_count": 110,
   "metadata": {
    "ExecuteTime": {
     "end_time": "2021-01-04T01:37:32.452959Z",
     "start_time": "2021-01-04T01:37:32.163259Z"
    },
    "hidden": true
   },
   "outputs": [
    {
     "data": {
      "image/png": "[encoded data removed]",
      "text/plain": [
       "<Figure size 360x360 with 1 Axes>"
      ]
     },
     "metadata": {
      "needs_background": "light"
     },
     "output_type": "display_data"
    }
   ],
   "source": [
    "sns.displot(df_train_01[df_train_01['age']<75]['age'], kind='ecdf');"
   ]
  },
  {
   "cell_type": "code",
   "execution_count": 111,
   "metadata": {
    "ExecuteTime": {
     "end_time": "2021-01-04T01:37:32.576960Z",
     "start_time": "2021-01-04T01:37:32.553960Z"
    },
    "hidden": true
   },
   "outputs": [
    {
     "data": {
      "text/plain": [
       "0            untracked\n",
       "5                  omg\n",
       "12                 NaN\n",
       "13              linked\n",
       "79       tracked-other\n",
       "257            product\n",
       "6270         marketing\n",
       "11184        local ops\n",
       "Name: first_affiliate_tracked, dtype: object"
      ]
     },
     "execution_count": 111,
     "metadata": {},
     "output_type": "execute_result"
    }
   ],
   "source": [
    "df_train_01['first_affiliate_tracked'].drop_duplicates()"
   ]
  },
  {
   "cell_type": "code",
   "execution_count": 112,
   "metadata": {
    "ExecuteTime": {
     "end_time": "2021-01-04T01:37:33.750412Z",
     "start_time": "2021-01-04T01:37:33.651415Z"
    },
    "hidden": true
   },
   "outputs": [
    {
     "data": {
      "text/plain": [
       "(207386, 16)"
      ]
     },
     "execution_count": 112,
     "metadata": {},
     "output_type": "execute_result"
    }
   ],
   "source": [
    "# remove missing values completely\n",
    "#df_train_01 = df_train_01.dropna()\n",
    "\n",
    "# date_first_booking\n",
    "date_first_booking_max = pd.to_datetime(df_train_01['date_first_booking']).max().strftime('%Y-%m-%d')\n",
    "df_train_01['date_first_booking'] = df_train_01['date_first_booking'].fillna(date_first_booking_max)\n",
    "\n",
    "# age\n",
    "avg_age = int(df_train_01['age'].mean())\n",
    "df_train_01['age'] = df_train_01['age'].fillna(avg_age)\n",
    "\n",
    "# first_affiliate_tracked\n",
    "# remove missing values completely\n",
    "df_train_01 = df_train_01[~df_train_01['first_affiliate_tracked'].isnull()]\n",
    "\n",
    "df_train_01.shape"
   ]
  },
  {
   "cell_type": "markdown",
   "metadata": {
    "heading_collapsed": true,
    "hidden": true
   },
   "source": [
    "### 2.1.4 Change Data type "
   ]
  },
  {
   "cell_type": "code",
   "execution_count": 43,
   "metadata": {
    "ExecuteTime": {
     "end_time": "2021-01-04T00:41:05.943136Z",
     "start_time": "2021-01-04T00:41:05.726131Z"
    },
    "hidden": true
   },
   "outputs": [],
   "source": [
    "# date_account_created\n",
    "df_train_01['date_account_created'] = pd.to_datetime(\n",
    "    df_train_01['date_account_created'])\n",
    "# timestamp_first_active\n",
    "df_train_01['timestamp_first_active'] = pd.to_datetime(\n",
    "    df_train_01['timestamp_first_active'], format='%Y%m%d%H%M%S')\n",
    "# date_first_booking\n",
    "df_train_01['date_first_booking'] = pd.to_datetime(\n",
    "    df_train_01['date_first_booking'])\n",
    "\n",
    "# age\n",
    "df_train_01['age'] = df_train_01['age'].astype(int)"
   ]
  },
  {
   "cell_type": "code",
   "execution_count": 44,
   "metadata": {
    "ExecuteTime": {
     "end_time": "2021-01-04T00:41:05.959140Z",
     "start_time": "2021-01-04T00:41:05.944130Z"
    },
    "hidden": true,
    "scrolled": true
   },
   "outputs": [
    {
     "data": {
      "text/plain": [
       "id                                 object\n",
       "date_account_created       datetime64[ns]\n",
       "timestamp_first_active     datetime64[ns]\n",
       "date_first_booking         datetime64[ns]\n",
       "gender                             object\n",
       "age                                 int32\n",
       "signup_method                      object\n",
       "signup_flow                         int64\n",
       "language                           object\n",
       "affiliate_channel                  object\n",
       "affiliate_provider                 object\n",
       "first_affiliate_tracked            object\n",
       "signup_app                         object\n",
       "first_device_type                  object\n",
       "first_browser                      object\n",
       "country_destination                object\n",
       "dtype: object"
      ]
     },
     "execution_count": 44,
     "metadata": {},
     "output_type": "execute_result"
    }
   ],
   "source": [
    "df_train_01.dtypes"
   ]
  },
  {
   "cell_type": "markdown",
   "metadata": {
    "heading_collapsed": true,
    "hidden": true
   },
   "source": [
    "### 2.1.5 Check Balanced Data"
   ]
  },
  {
   "cell_type": "code",
   "execution_count": 45,
   "metadata": {
    "ExecuteTime": {
     "end_time": "2021-01-04T00:41:05.975126Z",
     "start_time": "2021-01-04T00:41:05.960128Z"
    },
    "hidden": true
   },
   "outputs": [
    {
     "data": {
      "text/plain": [
       "US       0.708864\n",
       "other    0.110854\n",
       "FR       0.054085\n",
       "IT       0.029763\n",
       "GB       0.025935\n",
       "ES       0.024864\n",
       "CA       0.015696\n",
       "DE       0.012454\n",
       "NL       0.008801\n",
       "AU       0.006366\n",
       "PT       0.002318\n",
       "Name: country_destination, dtype: float64"
      ]
     },
     "execution_count": 45,
     "metadata": {},
     "output_type": "execute_result"
    }
   ],
   "source": [
    "df_train_01['country_destination'].value_counts(normalize=True)"
   ]
  },
  {
   "cell_type": "markdown",
   "metadata": {
    "heading_collapsed": true,
    "hidden": true
   },
   "source": [
    "## 2.2 Sessions"
   ]
  },
  {
   "cell_type": "markdown",
   "metadata": {
    "heading_collapsed": true,
    "hidden": true
   },
   "source": [
    "### 2.2.1 Data Dimensions"
   ]
  },
  {
   "cell_type": "code",
   "execution_count": 62,
   "metadata": {
    "ExecuteTime": {
     "end_time": "2021-01-04T00:58:10.975822Z",
     "start_time": "2021-01-04T00:58:10.959824Z"
    },
    "hidden": true
   },
   "outputs": [
    {
     "name": "stdout",
     "output_type": "stream",
     "text": [
      "Number of Rows: 10567737\n",
      "Number of Columns: 6\n"
     ]
    }
   ],
   "source": [
    "print(f'Number of Rows: {df_sessions_01.shape[0]}')\n",
    "print(f'Number of Columns: {df_sessions_01.shape[1]}')"
   ]
  },
  {
   "cell_type": "markdown",
   "metadata": {
    "heading_collapsed": true,
    "hidden": true
   },
   "source": [
    "### 2.2.2 Data Type"
   ]
  },
  {
   "cell_type": "code",
   "execution_count": 63,
   "metadata": {
    "ExecuteTime": {
     "end_time": "2021-01-04T00:58:52.034579Z",
     "start_time": "2021-01-04T00:58:52.021579Z"
    },
    "hidden": true
   },
   "outputs": [
    {
     "data": {
      "text/plain": [
       "user_id           object\n",
       "action            object\n",
       "action_type       object\n",
       "action_detail     object\n",
       "device_type       object\n",
       "secs_elapsed     float64\n",
       "dtype: object"
      ]
     },
     "execution_count": 63,
     "metadata": {},
     "output_type": "execute_result"
    }
   ],
   "source": [
    "df_sessions_01.dtypes"
   ]
  },
  {
   "cell_type": "markdown",
   "metadata": {
    "heading_collapsed": true,
    "hidden": true
   },
   "source": [
    "### 2.2.3 NA Check"
   ]
  },
  {
   "cell_type": "code",
   "execution_count": 65,
   "metadata": {
    "ExecuteTime": {
     "end_time": "2021-01-04T01:00:23.502350Z",
     "start_time": "2021-01-04T01:00:21.858353Z"
    },
    "hidden": true
   },
   "outputs": [
    {
     "data": {
      "text/plain": [
       "user_id          0.003264\n",
       "action           0.007535\n",
       "action_type      0.106570\n",
       "action_detail    0.106570\n",
       "device_type      0.000000\n",
       "secs_elapsed     0.012872\n",
       "dtype: float64"
      ]
     },
     "execution_count": 65,
     "metadata": {},
     "output_type": "execute_result"
    }
   ],
   "source": [
    "df_sessions_01.isnull().sum() / len(df_sessions_01)"
   ]
  },
  {
   "cell_type": "code",
   "execution_count": 113,
   "metadata": {
    "ExecuteTime": {
     "end_time": "2021-01-04T01:44:55.974784Z",
     "start_time": "2021-01-04T01:44:51.702712Z"
    },
    "hidden": true
   },
   "outputs": [
    {
     "data": {
      "text/plain": [
       "(9213930, 6)"
      ]
     },
     "execution_count": 113,
     "metadata": {},
     "output_type": "execute_result"
    }
   ],
   "source": [
    "# remove missing values completely\n",
    "## user_id - 0.3%\n",
    "df_sessions_01 = df_sessions_01[~df_sessions_01['user_id'].isnull()]\n",
    "\n",
    "## action - 0.75%\n",
    "df_sessions_01 = df_sessions_01[~df_sessions_01['action'].isnull()]\n",
    "\n",
    "## action_type - 10.65%\n",
    "df_sessions_01 = df_sessions_01[~df_sessions_01['action_type'].isnull()]\n",
    "\n",
    "## action_detail - 10.65%\n",
    "df_sessions_01 = df_sessions_01[~df_sessions_01['action_detail'].isnull()]\n",
    "\n",
    "## secs_elapsed - 1.3%\n",
    "df_sessions_01 = df_sessions_01[~df_sessions_01['secs_elapsed'].isnull()]\n",
    "\n",
    "df_sessions_01.shape"
   ]
  },
  {
   "cell_type": "markdown",
   "metadata": {
    "heading_collapsed": true
   },
   "source": [
    "# 3.0 Data Filtering"
   ]
  },
  {
   "cell_type": "code",
   "execution_count": 46,
   "metadata": {
    "ExecuteTime": {
     "end_time": "2021-01-04T00:41:05.990126Z",
     "start_time": "2021-01-04T00:41:05.976128Z"
    },
    "hidden": true
   },
   "outputs": [],
   "source": [
    "df_train_02 = df_train_01.copy()"
   ]
  },
  {
   "cell_type": "markdown",
   "metadata": {
    "heading_collapsed": true
   },
   "source": [
    "# 4.0 Data Preparation"
   ]
  },
  {
   "cell_type": "code",
   "execution_count": 47,
   "metadata": {
    "ExecuteTime": {
     "end_time": "2021-01-04T00:41:06.005136Z",
     "start_time": "2021-01-04T00:41:05.992127Z"
    },
    "hidden": true
   },
   "outputs": [],
   "source": [
    "df_train_03 = df_train_02.copy()"
   ]
  },
  {
   "cell_type": "code",
   "execution_count": 48,
   "metadata": {
    "ExecuteTime": {
     "end_time": "2021-01-04T00:41:06.115127Z",
     "start_time": "2021-01-04T00:41:06.006130Z"
    },
    "hidden": true
   },
   "outputs": [],
   "source": [
    "# Dummy variable\n",
    "df_train_03_dummy = pd.get_dummies(\n",
    "    df_train_03.drop(['id', 'country_destination'], axis=1))\n",
    "\n",
    "# Join id and country_destination\n",
    "df_train_03 = pd.concat(\n",
    "    [df_train_03[['id', 'country_destination']], df_train_03_dummy], axis=1)"
   ]
  },
  {
   "cell_type": "markdown",
   "metadata": {
    "heading_collapsed": true
   },
   "source": [
    "# 5.0 Feature Selection"
   ]
  },
  {
   "cell_type": "markdown",
   "metadata": {
    "heading_collapsed": true,
    "hidden": true
   },
   "source": [
    "## 5.1 Drop Columns"
   ]
  },
  {
   "cell_type": "code",
   "execution_count": 49,
   "metadata": {
    "ExecuteTime": {
     "end_time": "2021-01-04T00:41:06.131127Z",
     "start_time": "2021-01-04T00:41:06.117128Z"
    },
    "hidden": true
   },
   "outputs": [],
   "source": [
    "cols_drop = [\n",
    "    'date_account_created', 'timestamp_first_active', 'date_first_booking',\n",
    "    'id'\n",
    "]  # orginal dates\n",
    "df_train_04 = df_train_03.drop(cols_drop, axis=1)"
   ]
  },
  {
   "cell_type": "markdown",
   "metadata": {
    "heading_collapsed": true,
    "hidden": true
   },
   "source": [
    "## 5.2 Split into Train and Validation "
   ]
  },
  {
   "cell_type": "code",
   "execution_count": 50,
   "metadata": {
    "ExecuteTime": {
     "end_time": "2021-01-04T00:41:06.193848Z",
     "start_time": "2021-01-04T00:41:06.133130Z"
    },
    "hidden": true
   },
   "outputs": [],
   "source": [
    "X = df_train_04.drop('country_destination', axis=1)\n",
    "y = df_train_04['country_destination'].copy()\n",
    "\n",
    "# Split dataset into train and validation\n",
    "X_train, X_test, y_train, y_test = train_test_split(\n",
    "    X, y, test_size=0.2, random_state=32)"
   ]
  },
  {
   "cell_type": "markdown",
   "metadata": {},
   "source": [
    "# 6.0 Machine Learning Model"
   ]
  },
  {
   "cell_type": "markdown",
   "metadata": {
    "heading_collapsed": true
   },
   "source": [
    "## 6.1 Baseline model"
   ]
  },
  {
   "cell_type": "markdown",
   "metadata": {
    "heading_collapsed": true,
    "hidden": true
   },
   "source": [
    "### 6.1.1 Random Choices"
   ]
  },
  {
   "cell_type": "code",
   "execution_count": 51,
   "metadata": {
    "ExecuteTime": {
     "end_time": "2021-01-04T00:41:06.224862Z",
     "start_time": "2021-01-04T00:41:06.197862Z"
    },
    "hidden": true
   },
   "outputs": [],
   "source": [
    "country_destination_list = y_train.drop_duplicates().sort_values().tolist()\n",
    "country_destination_weights = y_train.value_counts(\n",
    "    normalize=True).sort_index().tolist()\n",
    "k_num = y_test.shape[0]\n",
    "\n",
    "# Random Model\n",
    "\n",
    "yhat_random = random.choices(population=country_destination_list,\n",
    "                             weights=country_destination_weights,\n",
    "                             k=k_num)"
   ]
  },
  {
   "cell_type": "markdown",
   "metadata": {
    "heading_collapsed": true,
    "hidden": true
   },
   "source": [
    "### 6.1.2 Random Choices Performance"
   ]
  },
  {
   "cell_type": "code",
   "execution_count": 52,
   "metadata": {
    "ExecuteTime": {
     "end_time": "2021-01-04T00:41:07.657855Z",
     "start_time": "2021-01-04T00:41:06.226855Z"
    },
    "hidden": true
   },
   "outputs": [
    {
     "name": "stdout",
     "output_type": "stream",
     "text": [
      "Accuracy: 0.5203520352035204\n",
      "Balanced Accuracy: 0.09398885255776462\n",
      "Kappa Score: 0.003974122353482601\n",
      "              precision    recall  f1-score   support\n",
      "\n",
      "          AU       0.00      0.00      0.00       101\n",
      "          CA       0.03      0.02      0.02       214\n",
      "          DE       0.01      0.01      0.01       170\n",
      "          ES       0.03      0.03      0.03       345\n",
      "          FR       0.06      0.06      0.06       710\n",
      "          GB       0.02      0.02      0.02       344\n",
      "          IT       0.05      0.04      0.04       423\n",
      "          NL       0.02      0.02      0.02       128\n",
      "          PT       0.00      0.00      0.00        36\n",
      "          US       0.71      0.71      0.71      9624\n",
      "       other       0.12      0.12      0.12      1540\n",
      "\n",
      "    accuracy                           0.52     13635\n",
      "   macro avg       0.09      0.09      0.09     13635\n",
      "weighted avg       0.52      0.52      0.52     13635\n",
      "\n"
     ]
    },
    {
     "data": {
      "text/plain": [
       "<AxesSubplot:title={'center':'Confusion Matrix'}, xlabel='Predicted label', ylabel='True label'>"
      ]
     },
     "execution_count": 52,
     "metadata": {},
     "output_type": "execute_result"
    },
    {
     "data": {
      "image/png": "[encoded data removed]",
      "text/plain": [
       "<Figure size 864x864 with 2 Axes>"
      ]
     },
     "metadata": {
      "needs_background": "light"
     },
     "output_type": "display_data"
    }
   ],
   "source": [
    "# Accuracy\n",
    "acc_random = accuracy_score(y_test, yhat_random)\n",
    "print('Accuracy: {}'.format(acc_random))\n",
    "\n",
    "# Balanced Accuracy\n",
    "balanced_acc_random = balanced_accuracy_score(y_test, yhat_random)\n",
    "print('Balanced Accuracy: {}'.format(balanced_acc_random))\n",
    "\n",
    "# Kappa Score\n",
    "kappa_random = cohen_kappa_score(y_test, yhat_random)\n",
    "print('Kappa Score: {}'.format(kappa_random))\n",
    "\n",
    "# Classification Report\n",
    "print(classification_report(y_test, yhat_random))\n",
    "\n",
    "# Confusion matrix\n",
    "plot_confusion_matrix(y_test, yhat_random, normalize=False, figsize=(12, 12))"
   ]
  },
  {
   "cell_type": "markdown",
   "metadata": {},
   "source": [
    "## 6.2 Machine Learning Model - Neural Network MLP"
   ]
  },
  {
   "cell_type": "markdown",
   "metadata": {
    "heading_collapsed": true
   },
   "source": [
    "### 6.2.1 Target Encoding"
   ]
  },
  {
   "cell_type": "code",
   "execution_count": 53,
   "metadata": {
    "ExecuteTime": {
     "end_time": "2021-01-04T00:41:07.688866Z",
     "start_time": "2021-01-04T00:41:07.658855Z"
    },
    "hidden": true
   },
   "outputs": [],
   "source": [
    "ohe = OneHotEncoder()\n",
    "y_train_nn = ohe.fit_transform(y_train.values.reshape(-1, 1)).toarray()"
   ]
  },
  {
   "cell_type": "markdown",
   "metadata": {
    "heading_collapsed": true
   },
   "source": [
    "### 6.2.2 NN Model"
   ]
  },
  {
   "cell_type": "code",
   "execution_count": 54,
   "metadata": {
    "ExecuteTime": {
     "end_time": "2021-01-04T00:42:55.177854Z",
     "start_time": "2021-01-04T00:41:07.693858Z"
    },
    "hidden": true
   },
   "outputs": [
    {
     "name": "stdout",
     "output_type": "stream",
     "text": [
      "Epoch 1/100\n",
      "1705/1705 [==============================] - 1s 629us/step - loss: 1.4320 - accuracy: 0.6858\n",
      "Epoch 2/100\n",
      "1705/1705 [==============================] - 1s 651us/step - loss: 1.3248 - accuracy: 0.7055\n",
      "Epoch 3/100\n",
      "1705/1705 [==============================] - 1s 657us/step - loss: 1.2272 - accuracy: 0.70870s - loss: 1.2262 - accuracy\n",
      "Epoch 4/100\n",
      "1705/1705 [==============================] - 1s 643us/step - loss: 1.2199 - accuracy: 0.7075\n",
      "Epoch 5/100\n",
      "1705/1705 [==============================] - 1s 641us/step - loss: 1.1905 - accuracy: 0.7078\n",
      "Epoch 6/100\n",
      "1705/1705 [==============================] - 1s 633us/step - loss: 1.1884 - accuracy: 0.7052\n",
      "Epoch 7/100\n",
      "1705/1705 [==============================] - 1s 623us/step - loss: 1.1592 - accuracy: 0.7102\n",
      "Epoch 8/100\n",
      "1705/1705 [==============================] - 1s 653us/step - loss: 1.1594 - accuracy: 0.7083\n",
      "Epoch 9/100\n",
      "1705/1705 [==============================] - 1s 646us/step - loss: 1.1428 - accuracy: 0.7106\n",
      "Epoch 10/100\n",
      "1705/1705 [==============================] - 1s 623us/step - loss: 1.1420 - accuracy: 0.7068\n",
      "Epoch 11/100\n",
      "1705/1705 [==============================] - 1s 623us/step - loss: 1.1350 - accuracy: 0.7078\n",
      "Epoch 12/100\n",
      "1705/1705 [==============================] - 1s 646us/step - loss: 1.1312 - accuracy: 0.7102\n",
      "Epoch 13/100\n",
      "1705/1705 [==============================] - 1s 655us/step - loss: 1.1292 - accuracy: 0.7099\n",
      "Epoch 14/100\n",
      "1705/1705 [==============================] - 1s 655us/step - loss: 1.1300 - accuracy: 0.7084\n",
      "Epoch 15/100\n",
      "1705/1705 [==============================] - 1s 635us/step - loss: 1.1273 - accuracy: 0.7101\n",
      "Epoch 16/100\n",
      "1705/1705 [==============================] - 1s 622us/step - loss: 1.1319 - accuracy: 0.7079\n",
      "Epoch 17/100\n",
      "1705/1705 [==============================] - 1s 619us/step - loss: 1.1170 - accuracy: 0.7125\n",
      "Epoch 18/100\n",
      "1705/1705 [==============================] - 1s 643us/step - loss: 1.1211 - accuracy: 0.7098\n",
      "Epoch 19/100\n",
      "1705/1705 [==============================] - 1s 678us/step - loss: 1.1167 - accuracy: 0.7124\n",
      "Epoch 20/100\n",
      "1705/1705 [==============================] - 1s 650us/step - loss: 1.1192 - accuracy: 0.7131\n",
      "Epoch 21/100\n",
      "1705/1705 [==============================] - 1s 643us/step - loss: 1.1284 - accuracy: 0.7073\n",
      "Epoch 22/100\n",
      "1705/1705 [==============================] - 1s 621us/step - loss: 1.1233 - accuracy: 0.7104\n",
      "Epoch 23/100\n",
      "1705/1705 [==============================] - 1s 664us/step - loss: 1.1323 - accuracy: 0.7065\n",
      "Epoch 24/100\n",
      "1705/1705 [==============================] - 1s 643us/step - loss: 1.1204 - accuracy: 0.7103\n",
      "Epoch 25/100\n",
      "1705/1705 [==============================] - 1s 634us/step - loss: 1.1264 - accuracy: 0.7084\n",
      "Epoch 26/100\n",
      "1705/1705 [==============================] - 1s 615us/step - loss: 1.1148 - accuracy: 0.7112\n",
      "Epoch 27/100\n",
      "1705/1705 [==============================] - 1s 621us/step - loss: 1.1162 - accuracy: 0.7110\n",
      "Epoch 28/100\n",
      "1705/1705 [==============================] - 1s 644us/step - loss: 1.1220 - accuracy: 0.7077\n",
      "Epoch 29/100\n",
      "1705/1705 [==============================] - 1s 623us/step - loss: 1.1247 - accuracy: 0.7084\n",
      "Epoch 30/100\n",
      "1705/1705 [==============================] - 1s 625us/step - loss: 1.1182 - accuracy: 0.7102\n",
      "Epoch 31/100\n",
      "1705/1705 [==============================] - 1s 627us/step - loss: 1.1000 - accuracy: 0.7161\n",
      "Epoch 32/100\n",
      "1705/1705 [==============================] - 1s 628us/step - loss: 1.1142 - accuracy: 0.7098\n",
      "Epoch 33/100\n",
      "1705/1705 [==============================] - 1s 620us/step - loss: 1.1223 - accuracy: 0.7087\n",
      "Epoch 34/100\n",
      "1705/1705 [==============================] - 1s 617us/step - loss: 1.1080 - accuracy: 0.7124\n",
      "Epoch 35/100\n",
      "1705/1705 [==============================] - 1s 619us/step - loss: 1.1095 - accuracy: 0.7108\n",
      "Epoch 36/100\n",
      "1705/1705 [==============================] - 1s 621us/step - loss: 1.1088 - accuracy: 0.7119\n",
      "Epoch 37/100\n",
      "1705/1705 [==============================] - 1s 625us/step - loss: 1.1124 - accuracy: 0.7099\n",
      "Epoch 38/100\n",
      "1705/1705 [==============================] - 1s 610us/step - loss: 1.1071 - accuracy: 0.7122\n",
      "Epoch 39/100\n",
      "1705/1705 [==============================] - 1s 631us/step - loss: 1.1078 - accuracy: 0.7122\n",
      "Epoch 40/100\n",
      "1705/1705 [==============================] - 1s 631us/step - loss: 1.1187 - accuracy: 0.7091\n",
      "Epoch 41/100\n",
      "1705/1705 [==============================] - 1s 624us/step - loss: 1.1179 - accuracy: 0.7089\n",
      "Epoch 42/100\n",
      "1705/1705 [==============================] - 1s 627us/step - loss: 1.1070 - accuracy: 0.7109\n",
      "Epoch 43/100\n",
      "1705/1705 [==============================] - 1s 620us/step - loss: 1.1054 - accuracy: 0.7116\n",
      "Epoch 44/100\n",
      "1705/1705 [==============================] - 1s 627us/step - loss: 1.1101 - accuracy: 0.7114\n",
      "Epoch 45/100\n",
      "1705/1705 [==============================] - 1s 626us/step - loss: 1.1169 - accuracy: 0.7083\n",
      "Epoch 46/100\n",
      "1705/1705 [==============================] - 1s 625us/step - loss: 1.1072 - accuracy: 0.7105\n",
      "Epoch 47/100\n",
      "1705/1705 [==============================] - 1s 638us/step - loss: 1.1002 - accuracy: 0.7145\n",
      "Epoch 48/100\n",
      "1705/1705 [==============================] - 1s 620us/step - loss: 1.1030 - accuracy: 0.7124\n",
      "Epoch 49/100\n",
      "1705/1705 [==============================] - 1s 669us/step - loss: 1.1173 - accuracy: 0.7080\n",
      "Epoch 50/100\n",
      "1705/1705 [==============================] - 1s 679us/step - loss: 1.1031 - accuracy: 0.7119\n",
      "Epoch 51/100\n",
      "1705/1705 [==============================] - 1s 646us/step - loss: 1.1091 - accuracy: 0.7106\n",
      "Epoch 52/100\n",
      "1705/1705 [==============================] - 1s 624us/step - loss: 1.1062 - accuracy: 0.7108\n",
      "Epoch 53/100\n",
      "1705/1705 [==============================] - 1s 623us/step - loss: 1.1040 - accuracy: 0.7124\n",
      "Epoch 54/100\n",
      "1705/1705 [==============================] - 1s 626us/step - loss: 1.1034 - accuracy: 0.7132\n",
      "Epoch 55/100\n",
      "1705/1705 [==============================] - 1s 617us/step - loss: 1.1064 - accuracy: 0.7122\n",
      "Epoch 56/100\n",
      "1705/1705 [==============================] - 1s 636us/step - loss: 1.1082 - accuracy: 0.7098\n",
      "Epoch 57/100\n",
      "1705/1705 [==============================] - 1s 617us/step - loss: 1.1059 - accuracy: 0.7119\n",
      "Epoch 58/100\n",
      "1705/1705 [==============================] - 1s 616us/step - loss: 1.1062 - accuracy: 0.7109\n",
      "Epoch 59/100\n",
      "1705/1705 [==============================] - 1s 621us/step - loss: 1.1021 - accuracy: 0.7119\n",
      "Epoch 60/100\n",
      "1705/1705 [==============================] - 1s 616us/step - loss: 1.1015 - accuracy: 0.7133\n",
      "Epoch 61/100\n",
      "1705/1705 [==============================] - 1s 613us/step - loss: 1.1064 - accuracy: 0.7097\n",
      "Epoch 62/100\n",
      "1705/1705 [==============================] - 1s 613us/step - loss: 1.1014 - accuracy: 0.7112\n",
      "Epoch 63/100\n",
      "1705/1705 [==============================] - 1s 627us/step - loss: 1.1007 - accuracy: 0.7115\n",
      "Epoch 64/100\n",
      "1705/1705 [==============================] - 1s 626us/step - loss: 1.1127 - accuracy: 0.7086\n",
      "Epoch 65/100\n",
      "1705/1705 [==============================] - 1s 615us/step - loss: 1.0997 - accuracy: 0.7124\n",
      "Epoch 66/100\n",
      "1705/1705 [==============================] - 1s 615us/step - loss: 1.1019 - accuracy: 0.7116\n",
      "Epoch 67/100\n",
      "1705/1705 [==============================] - 1s 612us/step - loss: 1.0956 - accuracy: 0.7143\n",
      "Epoch 68/100\n",
      "1705/1705 [==============================] - 1s 622us/step - loss: 1.0954 - accuracy: 0.7136\n",
      "Epoch 69/100\n",
      "1705/1705 [==============================] - 1s 624us/step - loss: 1.1052 - accuracy: 0.7091\n",
      "Epoch 70/100\n",
      "1705/1705 [==============================] - 1s 616us/step - loss: 1.1009 - accuracy: 0.7117\n",
      "Epoch 71/100\n",
      "1705/1705 [==============================] - 1s 611us/step - loss: 1.0980 - accuracy: 0.7131\n",
      "Epoch 72/100\n",
      "1705/1705 [==============================] - 1s 605us/step - loss: 1.1001 - accuracy: 0.7127\n",
      "Epoch 73/100\n",
      "1705/1705 [==============================] - 1s 627us/step - loss: 1.0988 - accuracy: 0.7131\n",
      "Epoch 74/100\n",
      "1705/1705 [==============================] - 1s 620us/step - loss: 1.1166 - accuracy: 0.70610s -\n",
      "Epoch 75/100\n",
      "1705/1705 [==============================] - 1s 626us/step - loss: 1.0951 - accuracy: 0.7138\n",
      "Epoch 76/100\n",
      "1705/1705 [==============================] - 1s 621us/step - loss: 1.1062 - accuracy: 0.7103\n",
      "Epoch 77/100\n",
      "1705/1705 [==============================] - 1s 617us/step - loss: 1.1078 - accuracy: 0.7074\n",
      "Epoch 78/100\n"
     ]
    },
    {
     "name": "stdout",
     "output_type": "stream",
     "text": [
      "1705/1705 [==============================] - 1s 620us/step - loss: 1.0969 - accuracy: 0.7130\n",
      "Epoch 79/100\n",
      "1705/1705 [==============================] - 1s 614us/step - loss: 1.1072 - accuracy: 0.7091\n",
      "Epoch 80/100\n",
      "1705/1705 [==============================] - 1s 620us/step - loss: 1.0982 - accuracy: 0.7132\n",
      "Epoch 81/100\n",
      "1705/1705 [==============================] - 1s 639us/step - loss: 1.0936 - accuracy: 0.7137\n",
      "Epoch 82/100\n",
      "1705/1705 [==============================] - 1s 615us/step - loss: 1.1040 - accuracy: 0.7109\n",
      "Epoch 83/100\n",
      "1705/1705 [==============================] - 1s 614us/step - loss: 1.0941 - accuracy: 0.7140\n",
      "Epoch 84/100\n",
      "1705/1705 [==============================] - 1s 613us/step - loss: 1.0975 - accuracy: 0.7117\n",
      "Epoch 85/100\n",
      "1705/1705 [==============================] - 1s 616us/step - loss: 1.1069 - accuracy: 0.7092\n",
      "Epoch 86/100\n",
      "1705/1705 [==============================] - 1s 618us/step - loss: 1.0991 - accuracy: 0.71150s - loss: 1.0978 \n",
      "Epoch 87/100\n",
      "1705/1705 [==============================] - 1s 624us/step - loss: 1.0973 - accuracy: 0.7119\n",
      "Epoch 88/100\n",
      "1705/1705 [==============================] - 1s 611us/step - loss: 1.0961 - accuracy: 0.7120\n",
      "Epoch 89/100\n",
      "1705/1705 [==============================] - 1s 616us/step - loss: 1.0898 - accuracy: 0.7153\n",
      "Epoch 90/100\n",
      "1705/1705 [==============================] - 1s 614us/step - loss: 1.1012 - accuracy: 0.7112\n",
      "Epoch 91/100\n",
      "1705/1705 [==============================] - 1s 614us/step - loss: 1.0915 - accuracy: 0.7129\n",
      "Epoch 92/100\n",
      "1705/1705 [==============================] - 1s 610us/step - loss: 1.0950 - accuracy: 0.7126\n",
      "Epoch 93/100\n",
      "1705/1705 [==============================] - 1s 617us/step - loss: 1.1041 - accuracy: 0.7098\n",
      "Epoch 94/100\n",
      "1705/1705 [==============================] - 1s 620us/step - loss: 1.0970 - accuracy: 0.7125\n",
      "Epoch 95/100\n",
      "1705/1705 [==============================] - 1s 620us/step - loss: 1.0979 - accuracy: 0.7115\n",
      "Epoch 96/100\n",
      "1705/1705 [==============================] - 1s 615us/step - loss: 1.0979 - accuracy: 0.7119\n",
      "Epoch 97/100\n",
      "1705/1705 [==============================] - 1s 614us/step - loss: 1.0949 - accuracy: 0.7134\n",
      "Epoch 98/100\n",
      "1705/1705 [==============================] - 1s 615us/step - loss: 1.0969 - accuracy: 0.7120\n",
      "Epoch 99/100\n",
      "1705/1705 [==============================] - 1s 605us/step - loss: 1.1011 - accuracy: 0.7100\n",
      "Epoch 100/100\n",
      "1705/1705 [==============================] - 1s 625us/step - loss: 1.0978 - accuracy: 0.7113\n"
     ]
    },
    {
     "data": {
      "text/plain": [
       "<tensorflow.python.keras.callbacks.History at 0x1e594f408e0>"
      ]
     },
     "execution_count": 54,
     "metadata": {},
     "output_type": "execute_result"
    }
   ],
   "source": [
    "# Model Definition\n",
    "model = Sequential()\n",
    "model.add(Dense(128, input_dim=X_train.shape[1], activation='relu'))\n",
    "model.add(Dense(11, activation='softmax'))\n",
    "\n",
    "# Model compile\n",
    "model.compile(loss='categorical_crossentropy',\n",
    "              optimizer='adam', metrics=['accuracy'])\n",
    "\n",
    "# Train Model\n",
    "model.fit(X_train, y_train_nn, epochs=100)"
   ]
  },
  {
   "cell_type": "markdown",
   "metadata": {
    "heading_collapsed": true
   },
   "source": [
    "### 6.2.3 NN Performance"
   ]
  },
  {
   "cell_type": "code",
   "execution_count": 55,
   "metadata": {
    "ExecuteTime": {
     "end_time": "2021-01-04T00:42:55.395057Z",
     "start_time": "2021-01-04T00:42:55.178855Z"
    },
    "hidden": true
   },
   "outputs": [],
   "source": [
    "# Prediction\n",
    "pred_nn = model.predict(X_valid)\n",
    "\n",
    "# Inver Prediction\n",
    "yhat_nn = ohe.inverse_transform(pred_nn)\n",
    "\n",
    "# Prediction Prepare\n",
    "y_test_nn = y_test.to_numpy()\n",
    "yhat_nn = yhat_nn.reshape(1, -1)[0]"
   ]
  },
  {
   "cell_type": "code",
   "execution_count": 56,
   "metadata": {
    "ExecuteTime": {
     "end_time": "2021-01-04T00:42:56.886478Z",
     "start_time": "2021-01-04T00:42:55.401078Z"
    },
    "hidden": true,
    "scrolled": true
   },
   "outputs": [
    {
     "name": "stdout",
     "output_type": "stream",
     "text": [
      "Accuracy: 0.7047304730473047\n",
      "Balanced Accuracy: 0.0926821320023285\n",
      "Kappa Score: 0.0027452318960946576\n"
     ]
    },
    {
     "name": "stderr",
     "output_type": "stream",
     "text": [
      "C:\\Users\\fabio\\Anaconda3\\lib\\site-packages\\sklearn\\metrics\\_classification.py:1221: UndefinedMetricWarning: Precision and F-score are ill-defined and being set to 0.0 in labels with no predicted samples. Use `zero_division` parameter to control this behavior.\n",
      "  _warn_prf(average, modifier, msg_start, len(result))\n"
     ]
    },
    {
     "name": "stdout",
     "output_type": "stream",
     "text": [
      "              precision    recall  f1-score   support\n",
      "\n",
      "          AU       0.00      0.00      0.00       101\n",
      "          CA       0.00      0.00      0.00       214\n",
      "          DE       0.50      0.01      0.02       170\n",
      "          ES       0.00      0.00      0.00       345\n",
      "          FR       0.00      0.00      0.00       710\n",
      "          GB       0.33      0.00      0.01       344\n",
      "          IT       0.29      0.00      0.01       423\n",
      "          NL       0.00      0.00      0.00       128\n",
      "          PT       0.00      0.00      0.00        36\n",
      "          US       0.71      1.00      0.83      9624\n",
      "       other       0.33      0.00      0.01      1540\n",
      "\n",
      "    accuracy                           0.70     13635\n",
      "   macro avg       0.20      0.09      0.08     13635\n",
      "weighted avg       0.56      0.70      0.58     13635\n",
      "\n"
     ]
    },
    {
     "data": {
      "text/plain": [
       "<AxesSubplot:title={'center':'Confusion Matrix'}, xlabel='Predicted label', ylabel='True label'>"
      ]
     },
     "execution_count": 56,
     "metadata": {},
     "output_type": "execute_result"
    },
    {
     "data": {
      "image/png": "[encoded data removed]",
      "text/plain": [
       "<Figure size 864x864 with 2 Axes>"
      ]
     },
     "metadata": {
      "needs_background": "light"
     },
     "output_type": "display_data"
    }
   ],
   "source": [
    "# Accuracy\n",
    "acc_nn = accuracy_score(y_test_nn, yhat_nn)\n",
    "print('Accuracy: {}'.format(acc_nn))\n",
    "\n",
    "# Balanced Accuracy\n",
    "balanced_acc_nn = balanced_accuracy_score(y_test_nn, yhat_nn)\n",
    "print('Balanced Accuracy: {}'.format(balanced_acc_nn))\n",
    "\n",
    "# Kappa Score\n",
    "kappa_nn = cohen_kappa_score(y_test_nn, yhat_nn)\n",
    "print('Kappa Score: {}'.format(kappa_nn))\n",
    "\n",
    "# Classification Report\n",
    "print(classification_report(y_test_nn, yhat_nn))\n",
    "\n",
    "# Confusion matrix\n",
    "plot_confusion_matrix(y_test_nn, yhat_nn, normalize=False, figsize=(12, 12))"
   ]
  },
  {
   "cell_type": "markdown",
   "metadata": {
    "heading_collapsed": true
   },
   "source": [
    "### 6.2.4 NN Performance - Cross Validation"
   ]
  },
  {
   "cell_type": "code",
   "execution_count": 58,
   "metadata": {
    "ExecuteTime": {
     "end_time": "2021-01-04T00:50:16.845338Z",
     "start_time": "2021-01-04T00:43:57.051399Z"
    },
    "hidden": true
   },
   "outputs": [
    {
     "name": "stdout",
     "output_type": "stream",
     "text": [
      "Fold Number: 1/5\n",
      "Fold Number: 2/5\n",
      "Fold Number: 3/5\n",
      "Fold Number: 4/5\n",
      "Fold Number: 5/5\n"
     ]
    }
   ],
   "source": [
    "# k-fold generate\n",
    "num_folds = 5\n",
    "kfold = StratifiedKFold(n_splits=num_folds, shuffle=True, random_state=32)\n",
    "\n",
    "balanced_acc_list = []\n",
    "kappa_acc_list = []\n",
    "\n",
    "i = 1\n",
    "for train_ix, val_ix in kfold.split(X_train, y_train):\n",
    "    print('Fold Number: {}/{}'.format(i, num_folds))\n",
    "    # get fold\n",
    "    X_train_fold = X_train.iloc[train_ix]\n",
    "    y_train_fold = y_train.iloc[train_ix]\n",
    "    \n",
    "    X_val_fold = X_train.iloc[val_ix]\n",
    "    y_val_fold = y_train.iloc[val_ix]\n",
    "    \n",
    "    # target encoding\n",
    "    ohe = OneHotEncoder()\n",
    "    y_train_fold_nn = ohe.fit_transform(y_train_fold.values.reshape(-1, 1)).toarray()\n",
    "    \n",
    "    # model definition\n",
    "    model = Sequential()\n",
    "    model.add(Dense(256, input_dim=X_train_fold.shape[1], activation='relu'))\n",
    "    model.add(Dense(11, activation='softmax'))\n",
    "\n",
    "    # compile model\n",
    "    model.compile(loss='categorical_crossentropy', optimizer='adam', metrics=['accuracy'])\n",
    "\n",
    "    # training model\n",
    "    model.fit(X_train_fold, y_train_fold_nn, epochs=100, batch_size=32, verbose=0)\n",
    "\n",
    "    # prediction\n",
    "    pred_nn = model.predict(X_val_fold)\n",
    "    yhat_nn = ohe.inverse_transform(pred_nn)\n",
    "    \n",
    "    # prepare data\n",
    "    y_test_nn = y_val_fold.to_numpy()\n",
    "    yhat_nn = yhat_nn.reshape(1, -1)[0]\n",
    "\n",
    "    # metrics\n",
    "    ## Balanced Accuracy\n",
    "    balanced_acc_nn = balanced_accuracy_score(y_test_nn, yhat_nn)\n",
    "    balanced_acc_list.append(balanced_acc_nn)\n",
    "    \n",
    "    ## Kappa Metrics\n",
    "    kappa_acc_nn = cohen_kappa_score(y_test_nn, yhat_nn)\n",
    "    kappa_acc_list.append(kappa_acc_nn)\n",
    "    \n",
    "    i+=1"
   ]
  },
  {
   "cell_type": "code",
   "execution_count": 114,
   "metadata": {
    "ExecuteTime": {
     "end_time": "2021-01-04T01:51:22.770075Z",
     "start_time": "2021-01-04T01:51:22.765076Z"
    },
    "hidden": true
   },
   "outputs": [
    {
     "name": "stdout",
     "output_type": "stream",
     "text": [
      "Avg Balanced Accuracy: 0.0913 +/- 0.0003\n",
      "Avg Kappa: 0.0021 +/- 0.0012\n"
     ]
    }
   ],
   "source": [
    "print('Avg Balanced Accuracy: {} +/- {}'.format(np.round(np.mean(balanced_acc_list),4), np.round(np.std(balanced_acc_list),4)))\n",
    "print('Avg Kappa: {} +/- {}'.format(np.round(np.mean(kappa_acc_list),4), np.round(np.std(kappa_acc_list),4)))"
   ]
  }
 ],
 "metadata": {
  "kernelspec": {
   "display_name": "Python 3",
   "language": "python",
   "name": "python3"
  },
  "language_info": {
   "codemirror_mode": {
    "name": "ipython",
    "version": 3
   },
   "file_extension": ".py",
   "mimetype": "text/x-python",
   "name": "python",
   "nbconvert_exporter": "python",
   "pygments_lexer": "ipython3",
   "version": "3.8.3"
  },
  "toc": {
   "base_numbering": 1,
   "nav_menu": {},
   "number_sections": true,
   "sideBar": true,
   "skip_h1_title": false,
   "title_cell": "Table of Contents",
   "title_sidebar": "Contents",
   "toc_cell": false,
   "toc_position": {},
   "toc_section_display": true,
   "toc_window_display": false
  }
 },
 "nbformat": 4,
 "nbformat_minor": 4
}
