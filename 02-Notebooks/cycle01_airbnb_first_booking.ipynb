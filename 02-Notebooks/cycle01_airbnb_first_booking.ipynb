{
 "cells": [
  {
   "cell_type": "markdown",
   "metadata": {
    "ExecuteTime": {
     "end_time": "2021-01-03T18:46:58.923445Z",
     "start_time": "2021-01-03T18:46:58.918448Z"
    },
    "heading_collapsed": true
   },
   "source": [
    "# 0.0 Understanding the Situation"
   ]
  },
  {
   "cell_type": "markdown",
   "metadata": {
    "hidden": true
   },
   "source": [
    "- objective of the proposed situation\n",
    "1. Prediction of the first destination a new user will choose\n",
    "- Why?\n",
    " - What kind of business model does Airbnb have?\n",
    " - Market Place (connecting people who offer accommodation with people who are looking for accommodation)\n",
    " - Offer (people offer accommodation)\n",
    "   - Portifolio size\n",
    "   - Portfolio diversity/density\n",
    "   - Average price\n",
    " - Demand (people looking for accommodation)\n",
    "   - Number of Users\n",
    "   - LTV (Lifetime Value)\n",
    "   - CAC (Client Acquisition Cost)\n",
    " - Gross Revenue  = fee * number of users - CAC (contribution margins)\n",
    " \n",
    " \n",
    "- **Solution**\n",
    " - Prediction model of the first destination of a new user\n",
    " - API\n",
    "   - **Input**: user and its characteristics\n",
    "   - **Output**: user and its characteristics **with the prediction of destination**"
   ]
  },
  {
   "cell_type": "markdown",
   "metadata": {},
   "source": [
    "# 1.0 IMPORTS"
   ]
  },
  {
   "cell_type": "markdown",
   "metadata": {},
   "source": [
    "## 1.1 Libraries"
   ]
  },
  {
   "cell_type": "code",
   "execution_count": 60,
   "metadata": {
    "ExecuteTime": {
     "end_time": "2021-01-03T20:30:32.605063Z",
     "start_time": "2021-01-03T20:30:32.601062Z"
    }
   },
   "outputs": [],
   "source": [
    "#!pip install scikit-plot"
   ]
  },
  {
   "cell_type": "code",
   "execution_count": 65,
   "metadata": {
    "ExecuteTime": {
     "end_time": "2021-01-03T21:26:33.130219Z",
     "start_time": "2021-01-03T21:26:33.116220Z"
    }
   },
   "outputs": [],
   "source": [
    "import random\n",
    "import pandas as pd # pip install pandas\n",
    "from sklearn.model_selection import train_test_split # pip install sklearn\n",
    "from sklearn.preprocessing import OneHotEncoder\n",
    "from sklearn.metrics import accuracy_score, balanced_accuracy_score, cohen_kappa_score, classification_report\n",
    "from scikitplot.metrics import plot_confusion_matrix # pip install scikit-plot\n",
    "from keras.models import Sequential # pip install keras; pip install tensorflow\n",
    "from keras.layers import Dense"
   ]
  },
  {
   "cell_type": "markdown",
   "metadata": {
    "heading_collapsed": true
   },
   "source": [
    "## 1.2 Helper Functions"
   ]
  },
  {
   "cell_type": "code",
   "execution_count": null,
   "metadata": {
    "hidden": true
   },
   "outputs": [],
   "source": []
  },
  {
   "cell_type": "markdown",
   "metadata": {
    "heading_collapsed": true
   },
   "source": [
    "## 1.3 Loading data"
   ]
  },
  {
   "cell_type": "code",
   "execution_count": 5,
   "metadata": {
    "ExecuteTime": {
     "end_time": "2021-01-03T19:31:21.515730Z",
     "start_time": "2021-01-03T19:31:21.449923Z"
    },
    "hidden": true,
    "scrolled": true
   },
   "outputs": [
    {
     "name": "stdout",
     "output_type": "stream",
     "text": [
      "total 648652\n",
      "-rw-r--r-- 1 fabio 197609     11905 Oct 16  2015 age_gender_bkts.csv\n",
      "-rw-r--r-- 1 fabio 197609       632 Oct 16  2015 countries.csv\n",
      "-rw-r--r-- 1 fabio 197609    931451 Dec  6  2015 sample_submission_NDF.csv\n",
      "-rw-r--r-- 1 fabio 197609 631646292 Dec  6  2015 sessions.csv\n",
      "-rw-r--r-- 1 fabio 197609   6763170 May 16  2018 test_users.csv\n",
      "-rw-r--r-- 1 fabio 197609  24853881 Dec 10  2015 train_users_2.csv\n"
     ]
    }
   ],
   "source": [
    "!ls -l ../01-Data/csv_data"
   ]
  },
  {
   "cell_type": "markdown",
   "metadata": {
    "heading_collapsed": true,
    "hidden": true
   },
   "source": [
    "### 1.3.1 Training"
   ]
  },
  {
   "cell_type": "code",
   "execution_count": 6,
   "metadata": {
    "ExecuteTime": {
     "end_time": "2021-01-03T19:31:25.143408Z",
     "start_time": "2021-01-03T19:31:24.785262Z"
    },
    "hidden": true
   },
   "outputs": [
    {
     "data": {
      "text/plain": [
       "(213451, 16)"
      ]
     },
     "execution_count": 6,
     "metadata": {},
     "output_type": "execute_result"
    }
   ],
   "source": [
    "df_train_raw = pd.read_csv(\"../01-Data/csv_data/train_users_2.csv\", low_memory=True)\n",
    "df_train_raw.shape"
   ]
  },
  {
   "cell_type": "markdown",
   "metadata": {
    "heading_collapsed": true,
    "hidden": true
   },
   "source": [
    "### 1.3.2 Sessions"
   ]
  },
  {
   "cell_type": "code",
   "execution_count": 7,
   "metadata": {
    "ExecuteTime": {
     "end_time": "2021-01-03T19:31:32.458988Z",
     "start_time": "2021-01-03T19:31:26.108627Z"
    },
    "hidden": true
   },
   "outputs": [
    {
     "data": {
      "text/plain": [
       "(10567737, 6)"
      ]
     },
     "execution_count": 7,
     "metadata": {},
     "output_type": "execute_result"
    }
   ],
   "source": [
    "df_sessions_raw = pd.read_csv(\"../01-Data/csv_data/sessions.csv\", low_memory=True)\n",
    "df_sessions_raw.shape"
   ]
  },
  {
   "cell_type": "markdown",
   "metadata": {
    "heading_collapsed": true
   },
   "source": [
    "# 2.0 DATA DESCRIPTION"
   ]
  },
  {
   "cell_type": "code",
   "execution_count": 8,
   "metadata": {
    "ExecuteTime": {
     "end_time": "2021-01-03T19:31:32.474986Z",
     "start_time": "2021-01-03T19:31:32.460988Z"
    },
    "hidden": true
   },
   "outputs": [],
   "source": [
    "df_train_01 = df_train_raw.copy()"
   ]
  },
  {
   "cell_type": "markdown",
   "metadata": {
    "hidden": true
   },
   "source": [
    "## 2.1 Training"
   ]
  },
  {
   "cell_type": "markdown",
   "metadata": {
    "heading_collapsed": true,
    "hidden": true
   },
   "source": [
    "### 2.1.1 Data Dimensions"
   ]
  },
  {
   "cell_type": "code",
   "execution_count": 9,
   "metadata": {
    "ExecuteTime": {
     "end_time": "2021-01-03T19:31:35.147805Z",
     "start_time": "2021-01-03T19:31:35.128806Z"
    },
    "hidden": true
   },
   "outputs": [
    {
     "name": "stdout",
     "output_type": "stream",
     "text": [
      "Number of Rows: 213451\n",
      "Number of Columns: 16\n"
     ]
    }
   ],
   "source": [
    "print(f'Number of Rows: {df_train_01.shape[0]}')\n",
    "print(f'Number of Columns: {df_train_01.shape[1]}')"
   ]
  },
  {
   "cell_type": "markdown",
   "metadata": {
    "heading_collapsed": true,
    "hidden": true
   },
   "source": [
    "### 2.1.2 Data Type"
   ]
  },
  {
   "cell_type": "code",
   "execution_count": 10,
   "metadata": {
    "ExecuteTime": {
     "end_time": "2021-01-03T19:33:09.126152Z",
     "start_time": "2021-01-03T19:33:09.110153Z"
    },
    "hidden": true
   },
   "outputs": [
    {
     "data": {
      "text/plain": [
       "id                          object\n",
       "date_account_created        object\n",
       "timestamp_first_active       int64\n",
       "date_first_booking          object\n",
       "gender                      object\n",
       "age                        float64\n",
       "signup_method               object\n",
       "signup_flow                  int64\n",
       "language                    object\n",
       "affiliate_channel           object\n",
       "affiliate_provider          object\n",
       "first_affiliate_tracked     object\n",
       "signup_app                  object\n",
       "first_device_type           object\n",
       "first_browser               object\n",
       "country_destination         object\n",
       "dtype: object"
      ]
     },
     "execution_count": 10,
     "metadata": {},
     "output_type": "execute_result"
    }
   ],
   "source": [
    "df_train_01.dtypes"
   ]
  },
  {
   "cell_type": "markdown",
   "metadata": {
    "heading_collapsed": true,
    "hidden": true
   },
   "source": [
    "### 2.1.3 NA Check"
   ]
  },
  {
   "cell_type": "code",
   "execution_count": 12,
   "metadata": {
    "ExecuteTime": {
     "end_time": "2021-01-03T19:37:42.849570Z",
     "start_time": "2021-01-03T19:37:42.755570Z"
    },
    "hidden": true
   },
   "outputs": [
    {
     "data": {
      "text/plain": [
       "id                              0\n",
       "date_account_created            0\n",
       "timestamp_first_active          0\n",
       "date_first_booking         124543\n",
       "gender                          0\n",
       "age                         87990\n",
       "signup_method                   0\n",
       "signup_flow                     0\n",
       "language                        0\n",
       "affiliate_channel               0\n",
       "affiliate_provider              0\n",
       "first_affiliate_tracked      6065\n",
       "signup_app                      0\n",
       "first_device_type               0\n",
       "first_browser                   0\n",
       "country_destination             0\n",
       "dtype: int64"
      ]
     },
     "execution_count": 12,
     "metadata": {},
     "output_type": "execute_result"
    }
   ],
   "source": [
    "df_train_01.isnull().sum()"
   ]
  },
  {
   "cell_type": "code",
   "execution_count": 15,
   "metadata": {
    "ExecuteTime": {
     "end_time": "2021-01-03T19:42:28.699339Z",
     "start_time": "2021-01-03T19:42:28.651342Z"
    },
    "hidden": true
   },
   "outputs": [
    {
     "data": {
      "text/plain": [
       "(68171, 16)"
      ]
     },
     "execution_count": 15,
     "metadata": {},
     "output_type": "execute_result"
    }
   ],
   "source": [
    "# remove missing values completely\n",
    "df_train_01 = df_train_01.dropna()\n",
    "df_train_01.shape"
   ]
  },
  {
   "cell_type": "markdown",
   "metadata": {
    "heading_collapsed": true,
    "hidden": true
   },
   "source": [
    "### 2.1.4 Change Data type "
   ]
  },
  {
   "cell_type": "code",
   "execution_count": 17,
   "metadata": {
    "ExecuteTime": {
     "end_time": "2021-01-03T19:45:27.582249Z",
     "start_time": "2021-01-03T19:45:27.330392Z"
    },
    "hidden": true
   },
   "outputs": [],
   "source": [
    "# date_account_created\n",
    "df_train_01['date_account_created'] = pd.to_datetime(df_train_01['date_account_created'])\n",
    "# timestamp_first_active\n",
    "df_train_01['timestamp_first_active'] = pd.to_datetime(df_train_01['timestamp_first_active'], format='%Y%m%d%H%M%S')\n",
    "# date_first_booking\n",
    "df_train_01['date_first_booking'] = pd.to_datetime(df_train_01['date_first_booking'])\n",
    "\n",
    "# age\n",
    "df_train_01['age'] = df_train_01['age'].astype(int)"
   ]
  },
  {
   "cell_type": "code",
   "execution_count": 18,
   "metadata": {
    "ExecuteTime": {
     "end_time": "2021-01-03T19:45:38.468450Z",
     "start_time": "2021-01-03T19:45:38.451454Z"
    },
    "hidden": true,
    "scrolled": true
   },
   "outputs": [
    {
     "data": {
      "text/plain": [
       "id                                 object\n",
       "date_account_created       datetime64[ns]\n",
       "timestamp_first_active     datetime64[ns]\n",
       "date_first_booking         datetime64[ns]\n",
       "gender                             object\n",
       "age                                 int32\n",
       "signup_method                      object\n",
       "signup_flow                         int64\n",
       "language                           object\n",
       "affiliate_channel                  object\n",
       "affiliate_provider                 object\n",
       "first_affiliate_tracked            object\n",
       "signup_app                         object\n",
       "first_device_type                  object\n",
       "first_browser                      object\n",
       "country_destination                object\n",
       "dtype: object"
      ]
     },
     "execution_count": 18,
     "metadata": {},
     "output_type": "execute_result"
    }
   ],
   "source": [
    "df_train_01.dtypes"
   ]
  },
  {
   "cell_type": "markdown",
   "metadata": {
    "heading_collapsed": true,
    "hidden": true
   },
   "source": [
    "### 2.1.5 Check Balanced Data"
   ]
  },
  {
   "cell_type": "code",
   "execution_count": 19,
   "metadata": {
    "ExecuteTime": {
     "end_time": "2021-01-03T19:48:16.079443Z",
     "start_time": "2021-01-03T19:48:16.051438Z"
    },
    "hidden": true
   },
   "outputs": [
    {
     "data": {
      "text/plain": [
       "US       0.708864\n",
       "other    0.110854\n",
       "FR       0.054085\n",
       "IT       0.029763\n",
       "GB       0.025935\n",
       "ES       0.024864\n",
       "CA       0.015696\n",
       "DE       0.012454\n",
       "NL       0.008801\n",
       "AU       0.006366\n",
       "PT       0.002318\n",
       "Name: country_destination, dtype: float64"
      ]
     },
     "execution_count": 19,
     "metadata": {},
     "output_type": "execute_result"
    }
   ],
   "source": [
    "df_train_01['country_destination'].value_counts(normalize=True)"
   ]
  },
  {
   "cell_type": "markdown",
   "metadata": {
    "heading_collapsed": true
   },
   "source": [
    "# 3.0 Data Filtering"
   ]
  },
  {
   "cell_type": "code",
   "execution_count": 20,
   "metadata": {
    "ExecuteTime": {
     "end_time": "2021-01-03T19:50:37.776096Z",
     "start_time": "2021-01-03T19:50:37.757100Z"
    },
    "hidden": true
   },
   "outputs": [],
   "source": [
    "df_train_02 = df_train_01.copy()"
   ]
  },
  {
   "cell_type": "markdown",
   "metadata": {
    "heading_collapsed": true
   },
   "source": [
    "# 4.0 Data Preparation"
   ]
  },
  {
   "cell_type": "code",
   "execution_count": 43,
   "metadata": {
    "ExecuteTime": {
     "end_time": "2021-01-03T20:17:00.713006Z",
     "start_time": "2021-01-03T20:17:00.701005Z"
    },
    "hidden": true
   },
   "outputs": [],
   "source": [
    "df_train_03 = df_train_02.copy()"
   ]
  },
  {
   "cell_type": "code",
   "execution_count": 44,
   "metadata": {
    "ExecuteTime": {
     "end_time": "2021-01-03T20:17:01.292799Z",
     "start_time": "2021-01-03T20:17:01.191437Z"
    },
    "hidden": true
   },
   "outputs": [],
   "source": [
    "## Dummy variable\n",
    "df_train_03_dummy = pd.get_dummies(df_train_03.drop(['id', 'country_destination'], axis=1))\n",
    "\n",
    "# Join id and country_destination\n",
    "df_train_03 = pd.concat([df_train_03[['id', 'country_destination']], df_train_03_dummy], axis=1)"
   ]
  },
  {
   "cell_type": "markdown",
   "metadata": {
    "heading_collapsed": true
   },
   "source": [
    "# 5.0 Feature Selection"
   ]
  },
  {
   "cell_type": "markdown",
   "metadata": {
    "heading_collapsed": true,
    "hidden": true
   },
   "source": [
    "## 5.1 Drop Columns"
   ]
  },
  {
   "cell_type": "code",
   "execution_count": 45,
   "metadata": {
    "ExecuteTime": {
     "end_time": "2021-01-03T20:17:42.849233Z",
     "start_time": "2021-01-03T20:17:42.834234Z"
    },
    "hidden": true
   },
   "outputs": [],
   "source": [
    "cols_drop = ['date_account_created', 'timestamp_first_active', 'date_first_booking', 'id'] ## orginal dates\n",
    "df_train_04 = df_train_03.drop(cols_drop, axis=1)"
   ]
  },
  {
   "cell_type": "markdown",
   "metadata": {
    "heading_collapsed": true,
    "hidden": true
   },
   "source": [
    "## 5.2 Split into Train and Validation "
   ]
  },
  {
   "cell_type": "code",
   "execution_count": 52,
   "metadata": {
    "ExecuteTime": {
     "end_time": "2021-01-03T20:25:11.101902Z",
     "start_time": "2021-01-03T20:25:11.041906Z"
    },
    "hidden": true
   },
   "outputs": [],
   "source": [
    "X = df_train_04.drop('country_destination', axis=1)\n",
    "y = df_train_04['country_destination'].copy()\n",
    "\n",
    "# Split dataset into train and validation\n",
    "X_train, X_valid, y_train, y_valid = train_test_split(X, y, test_size=0.2, random_state=32)"
   ]
  },
  {
   "cell_type": "markdown",
   "metadata": {
    "heading_collapsed": true
   },
   "source": [
    "# 6.0 Machine Learning Model"
   ]
  },
  {
   "cell_type": "markdown",
   "metadata": {
    "heading_collapsed": true,
    "hidden": true
   },
   "source": [
    "## 6.1 Baseline model"
   ]
  },
  {
   "cell_type": "markdown",
   "metadata": {
    "heading_collapsed": true,
    "hidden": true
   },
   "source": [
    "### 6.1.1 Random Choices"
   ]
  },
  {
   "cell_type": "code",
   "execution_count": 70,
   "metadata": {
    "ExecuteTime": {
     "end_time": "2021-01-03T21:51:21.998345Z",
     "start_time": "2021-01-03T21:51:21.978345Z"
    },
    "hidden": true
   },
   "outputs": [],
   "source": [
    "country_destination_list = y_train.drop_duplicates().sort_values().tolist()\n",
    "country_destination_weights = y_train.value_counts(normalize=True).sort_index().tolist()\n",
    "k_num = y_valid.shape[0]\n",
    "\n",
    "# Random Model\n",
    "\n",
    "yhat_random = random.choices(population=country_destination_list,\n",
    "                                weights=country_destination_weights,\n",
    "                                k=k_num)\n"
   ]
  },
  {
   "cell_type": "markdown",
   "metadata": {
    "heading_collapsed": true,
    "hidden": true
   },
   "source": [
    "### 6.1.2 Random Choices Performance"
   ]
  },
  {
   "cell_type": "code",
   "execution_count": 71,
   "metadata": {
    "ExecuteTime": {
     "end_time": "2021-01-03T21:51:32.951827Z",
     "start_time": "2021-01-03T21:51:31.471389Z"
    },
    "hidden": true
   },
   "outputs": [
    {
     "name": "stdout",
     "output_type": "stream",
     "text": [
      "Accuracy: 0.5177117711771178\n",
      "Balanced Accuracy: 0.08882382520673734\n",
      "Kappa Score: 0.00011901943110159685\n",
      "              precision    recall  f1-score   support\n",
      "\n",
      "          AU       0.02      0.02      0.02       101\n",
      "          CA       0.01      0.00      0.00       214\n",
      "          DE       0.01      0.01      0.01       170\n",
      "          ES       0.02      0.02      0.02       345\n",
      "          FR       0.05      0.05      0.05       710\n",
      "          GB       0.02      0.02      0.02       344\n",
      "          IT       0.04      0.03      0.03       423\n",
      "          NL       0.00      0.00      0.00       128\n",
      "          PT       0.00      0.00      0.00        36\n",
      "          US       0.71      0.71      0.71      9624\n",
      "       other       0.11      0.11      0.11      1540\n",
      "\n",
      "    accuracy                           0.52     13635\n",
      "   macro avg       0.09      0.09      0.09     13635\n",
      "weighted avg       0.52      0.52      0.52     13635\n",
      "\n"
     ]
    },
    {
     "data": {
      "text/plain": [
       "<AxesSubplot:title={'center':'Confusion Matrix'}, xlabel='Predicted label', ylabel='True label'>"
      ]
     },
     "execution_count": 71,
     "metadata": {},
     "output_type": "execute_result"
    },
    {
     "data": {
      "image/png": "[encoded data removed]",
      "text/plain": [
       "<Figure size 864x864 with 2 Axes>"
      ]
     },
     "metadata": {
      "needs_background": "light"
     },
     "output_type": "display_data"
    }
   ],
   "source": [
    "# Accuracy\n",
    "acc_random = accuracy_score(y_valid, yhat_random)\n",
    "print('Accuracy: {}'.format(acc_random))\n",
    "\n",
    "# Balanced Accuracy\n",
    "balanced_acc_random = balanced_accuracy_score(y_valid, yhat_random)\n",
    "print('Balanced Accuracy: {}'.format(balanced_acc_random))\n",
    "\n",
    "# Kappa Score\n",
    "kappa_random = cohen_kappa_score(y_valid, yhat_random)\n",
    "print('Kappa Score: {}'.format(kappa_random))\n",
    "\n",
    "# Classification Report\n",
    "print(classification_report(y_valid, yhat_random))\n",
    "\n",
    "# Confusion matrix\n",
    "plot_confusion_matrix(y_valid, yhat_random, normalize=False, figsize=(12,12))"
   ]
  },
  {
   "cell_type": "markdown",
   "metadata": {
    "heading_collapsed": true,
    "hidden": true
   },
   "source": [
    "## 6.2 Machine Learning Model - Neural Network MLP"
   ]
  },
  {
   "cell_type": "markdown",
   "metadata": {
    "heading_collapsed": true,
    "hidden": true
   },
   "source": [
    "### 6.2.1 Target Encoding"
   ]
  },
  {
   "cell_type": "code",
   "execution_count": 53,
   "metadata": {
    "ExecuteTime": {
     "end_time": "2021-01-03T20:25:11.476769Z",
     "start_time": "2021-01-03T20:25:11.446766Z"
    },
    "hidden": true
   },
   "outputs": [],
   "source": [
    "ohe = OneHotEncoder()\n",
    "y_train_nn = ohe.fit_transform(y_train.values.reshape(-1, 1)).toarray()"
   ]
  },
  {
   "cell_type": "markdown",
   "metadata": {
    "heading_collapsed": true,
    "hidden": true
   },
   "source": [
    "### 6.2.2 NN Model"
   ]
  },
  {
   "cell_type": "code",
   "execution_count": 54,
   "metadata": {
    "ExecuteTime": {
     "end_time": "2021-01-03T20:26:57.839264Z",
     "start_time": "2021-01-03T20:25:11.975766Z"
    },
    "collapsed": true,
    "hidden": true
   },
   "outputs": [
    {
     "name": "stdout",
     "output_type": "stream",
     "text": [
      "Epoch 1/100\n",
      "1705/1705 [==============================] - 1s 619us/step - loss: 1.4373 - accuracy: 0.6964\n",
      "Epoch 2/100\n",
      "1705/1705 [==============================] - 1s 607us/step - loss: 1.2733 - accuracy: 0.7077\n",
      "Epoch 3/100\n",
      "1705/1705 [==============================] - 1s 605us/step - loss: 1.2473 - accuracy: 0.7037\n",
      "Epoch 4/100\n",
      "1705/1705 [==============================] - 1s 599us/step - loss: 1.1905 - accuracy: 0.7083\n",
      "Epoch 5/100\n",
      "1705/1705 [==============================] - 1s 606us/step - loss: 1.1834 - accuracy: 0.7094\n",
      "Epoch 6/100\n",
      "1705/1705 [==============================] - 1s 677us/step - loss: 1.1641 - accuracy: 0.7081\n",
      "Epoch 7/100\n",
      "1705/1705 [==============================] - 1s 654us/step - loss: 1.1452 - accuracy: 0.7118\n",
      "Epoch 8/100\n",
      "1705/1705 [==============================] - 1s 648us/step - loss: 1.1423 - accuracy: 0.7099\n",
      "Epoch 9/100\n",
      "1705/1705 [==============================] - 1s 624us/step - loss: 1.1329 - accuracy: 0.7106\n",
      "Epoch 10/100\n",
      "1705/1705 [==============================] - 1s 616us/step - loss: 1.1327 - accuracy: 0.7085\n",
      "Epoch 11/100\n",
      "1705/1705 [==============================] - 1s 633us/step - loss: 1.1254 - accuracy: 0.7119\n",
      "Epoch 12/100\n",
      "1705/1705 [==============================] - 1s 586us/step - loss: 1.1317 - accuracy: 0.7095\n",
      "Epoch 13/100\n",
      "1705/1705 [==============================] - 1s 601us/step - loss: 1.1228 - accuracy: 0.7097\n",
      "Epoch 14/100\n",
      "1705/1705 [==============================] - 1s 590us/step - loss: 1.1396 - accuracy: 0.7055\n",
      "Epoch 15/100\n",
      "1705/1705 [==============================] - 1s 596us/step - loss: 1.1359 - accuracy: 0.7074\n",
      "Epoch 16/100\n",
      "1705/1705 [==============================] - 1s 584us/step - loss: 1.1231 - accuracy: 0.7108\n",
      "Epoch 17/100\n",
      "1705/1705 [==============================] - 1s 587us/step - loss: 1.1193 - accuracy: 0.7121\n",
      "Epoch 18/100\n",
      "1705/1705 [==============================] - 1s 595us/step - loss: 1.1295 - accuracy: 0.7074\n",
      "Epoch 19/100\n",
      "1705/1705 [==============================] - 1s 585us/step - loss: 1.1255 - accuracy: 0.7077\n",
      "Epoch 20/100\n",
      "1705/1705 [==============================] - 1s 588us/step - loss: 1.1222 - accuracy: 0.7094\n",
      "Epoch 21/100\n",
      "1705/1705 [==============================] - 1s 591us/step - loss: 1.1267 - accuracy: 0.7075\n",
      "Epoch 22/100\n",
      "1705/1705 [==============================] - 1s 585us/step - loss: 1.1212 - accuracy: 0.7096\n",
      "Epoch 23/100\n",
      "1705/1705 [==============================] - 1s 585us/step - loss: 1.1138 - accuracy: 0.7102\n",
      "Epoch 24/100\n",
      "1705/1705 [==============================] - 1s 592us/step - loss: 1.1111 - accuracy: 0.7131\n",
      "Epoch 25/100\n",
      "1705/1705 [==============================] - 1s 603us/step - loss: 1.1245 - accuracy: 0.7067\n",
      "Epoch 26/100\n",
      "1705/1705 [==============================] - 1s 600us/step - loss: 1.1124 - accuracy: 0.7111\n",
      "Epoch 27/100\n",
      "1705/1705 [==============================] - 1s 595us/step - loss: 1.1241 - accuracy: 0.7079\n",
      "Epoch 28/100\n",
      "1705/1705 [==============================] - 1s 587us/step - loss: 1.1213 - accuracy: 0.7073\n",
      "Epoch 29/100\n",
      "1705/1705 [==============================] - 1s 589us/step - loss: 1.1123 - accuracy: 0.7116\n",
      "Epoch 30/100\n",
      "1705/1705 [==============================] - 1s 592us/step - loss: 1.1167 - accuracy: 0.7103\n",
      "Epoch 31/100\n",
      "1705/1705 [==============================] - 1s 599us/step - loss: 1.1160 - accuracy: 0.7103\n",
      "Epoch 32/100\n",
      "1705/1705 [==============================] - 1s 620us/step - loss: 1.1108 - accuracy: 0.7103\n",
      "Epoch 33/100\n",
      "1705/1705 [==============================] - 1s 630us/step - loss: 1.1101 - accuracy: 0.7111\n",
      "Epoch 34/100\n",
      "1705/1705 [==============================] - 1s 614us/step - loss: 1.1123 - accuracy: 0.7107\n",
      "Epoch 35/100\n",
      "1705/1705 [==============================] - 1s 627us/step - loss: 1.1260 - accuracy: 0.7067\n",
      "Epoch 36/100\n",
      "1705/1705 [==============================] - 1s 664us/step - loss: 1.1020 - accuracy: 0.7122\n",
      "Epoch 37/100\n",
      "1705/1705 [==============================] - 1s 642us/step - loss: 1.1082 - accuracy: 0.7097\n",
      "Epoch 38/100\n",
      "1705/1705 [==============================] - 1s 644us/step - loss: 1.1172 - accuracy: 0.7089\n",
      "Epoch 39/100\n",
      "1705/1705 [==============================] - 1s 622us/step - loss: 1.1221 - accuracy: 0.7061\n",
      "Epoch 40/100\n",
      "1705/1705 [==============================] - 1s 622us/step - loss: 1.1026 - accuracy: 0.7125\n",
      "Epoch 41/100\n",
      "1705/1705 [==============================] - 1s 626us/step - loss: 1.1055 - accuracy: 0.7113\n",
      "Epoch 42/100\n",
      "1705/1705 [==============================] - 1s 613us/step - loss: 1.1116 - accuracy: 0.7111\n",
      "Epoch 43/100\n",
      "1705/1705 [==============================] - 1s 621us/step - loss: 1.1052 - accuracy: 0.7120\n",
      "Epoch 44/100\n",
      "1705/1705 [==============================] - 1s 626us/step - loss: 1.0944 - accuracy: 0.7158\n",
      "Epoch 45/100\n",
      "1705/1705 [==============================] - 1s 610us/step - loss: 1.1091 - accuracy: 0.7107\n",
      "Epoch 46/100\n",
      "1705/1705 [==============================] - 1s 626us/step - loss: 1.1048 - accuracy: 0.7114\n",
      "Epoch 47/100\n",
      "1705/1705 [==============================] - 1s 606us/step - loss: 1.1183 - accuracy: 0.7073\n",
      "Epoch 48/100\n",
      "1705/1705 [==============================] - 1s 624us/step - loss: 1.1155 - accuracy: 0.7078\n",
      "Epoch 49/100\n",
      "1705/1705 [==============================] - 1s 663us/step - loss: 1.1148 - accuracy: 0.7077\n",
      "Epoch 50/100\n",
      "1705/1705 [==============================] - 1s 675us/step - loss: 1.1056 - accuracy: 0.7113\n",
      "Epoch 51/100\n",
      "1705/1705 [==============================] - 1s 744us/step - loss: 1.1088 - accuracy: 0.7095\n",
      "Epoch 52/100\n",
      "1705/1705 [==============================] - 1s 641us/step - loss: 1.1037 - accuracy: 0.7110\n",
      "Epoch 53/100\n",
      "1705/1705 [==============================] - 1s 684us/step - loss: 1.0990 - accuracy: 0.7138\n",
      "Epoch 54/100\n",
      "1705/1705 [==============================] - 1s 614us/step - loss: 1.1100 - accuracy: 0.7077\n",
      "Epoch 55/100\n",
      "1705/1705 [==============================] - 1s 621us/step - loss: 1.1029 - accuracy: 0.7106\n",
      "Epoch 56/100\n",
      "1705/1705 [==============================] - 1s 633us/step - loss: 1.1018 - accuracy: 0.7123\n",
      "Epoch 57/100\n",
      "1705/1705 [==============================] - 1s 619us/step - loss: 1.0999 - accuracy: 0.7125\n",
      "Epoch 58/100\n",
      "1705/1705 [==============================] - 1s 623us/step - loss: 1.0968 - accuracy: 0.7124\n",
      "Epoch 59/100\n",
      "1705/1705 [==============================] - 1s 617us/step - loss: 1.1166 - accuracy: 0.7075\n",
      "Epoch 60/100\n",
      "1705/1705 [==============================] - 1s 656us/step - loss: 1.1014 - accuracy: 0.7125\n",
      "Epoch 61/100\n",
      "1705/1705 [==============================] - 1s 629us/step - loss: 1.1028 - accuracy: 0.7096\n",
      "Epoch 62/100\n",
      "1705/1705 [==============================] - 1s 633us/step - loss: 1.0970 - accuracy: 0.7131\n",
      "Epoch 63/100\n",
      "1705/1705 [==============================] - 1s 606us/step - loss: 1.1030 - accuracy: 0.7105\n",
      "Epoch 64/100\n",
      "1705/1705 [==============================] - 1s 615us/step - loss: 1.1048 - accuracy: 0.7107\n",
      "Epoch 65/100\n",
      "1705/1705 [==============================] - 1s 595us/step - loss: 1.1098 - accuracy: 0.7087\n",
      "Epoch 66/100\n",
      "1705/1705 [==============================] - 1s 601us/step - loss: 1.1086 - accuracy: 0.7093\n",
      "Epoch 67/100\n",
      "1705/1705 [==============================] - 1s 594us/step - loss: 1.1019 - accuracy: 0.7113\n",
      "Epoch 68/100\n",
      "1705/1705 [==============================] - 1s 632us/step - loss: 1.0908 - accuracy: 0.7138\n",
      "Epoch 69/100\n",
      "1705/1705 [==============================] - 1s 597us/step - loss: 1.0903 - accuracy: 0.7129\n",
      "Epoch 70/100\n",
      "1705/1705 [==============================] - 1s 596us/step - loss: 1.0997 - accuracy: 0.7120\n",
      "Epoch 71/100\n",
      "1705/1705 [==============================] - 1s 601us/step - loss: 1.0986 - accuracy: 0.7120\n",
      "Epoch 72/100\n",
      "1705/1705 [==============================] - 1s 604us/step - loss: 1.0936 - accuracy: 0.7128\n",
      "Epoch 73/100\n",
      "1705/1705 [==============================] - 1s 602us/step - loss: 1.1048 - accuracy: 0.7107\n",
      "Epoch 74/100\n",
      "1705/1705 [==============================] - 1s 598us/step - loss: 1.1016 - accuracy: 0.7113\n",
      "Epoch 75/100\n",
      "1705/1705 [==============================] - 1s 606us/step - loss: 1.0907 - accuracy: 0.7144\n",
      "Epoch 76/100\n",
      "1705/1705 [==============================] - 1s 641us/step - loss: 1.1020 - accuracy: 0.7104\n",
      "Epoch 77/100\n",
      "1705/1705 [==============================] - 1s 636us/step - loss: 1.0869 - accuracy: 0.7150\n",
      "Epoch 78/100\n"
     ]
    },
    {
     "name": "stdout",
     "output_type": "stream",
     "text": [
      "1705/1705 [==============================] - 1s 640us/step - loss: 1.0926 - accuracy: 0.7128\n",
      "Epoch 79/100\n",
      "1705/1705 [==============================] - 1s 617us/step - loss: 1.0854 - accuracy: 0.7149\n",
      "Epoch 80/100\n",
      "1705/1705 [==============================] - 1s 600us/step - loss: 1.0899 - accuracy: 0.7131\n",
      "Epoch 81/100\n",
      "1705/1705 [==============================] - 1s 612us/step - loss: 1.0919 - accuracy: 0.7131\n",
      "Epoch 82/100\n",
      "1705/1705 [==============================] - 1s 594us/step - loss: 1.1068 - accuracy: 0.7080\n",
      "Epoch 83/100\n",
      "1705/1705 [==============================] - 1s 601us/step - loss: 1.1011 - accuracy: 0.7098\n",
      "Epoch 84/100\n",
      "1705/1705 [==============================] - 1s 595us/step - loss: 1.1030 - accuracy: 0.7097\n",
      "Epoch 85/100\n",
      "1705/1705 [==============================] - 1s 594us/step - loss: 1.1016 - accuracy: 0.7089\n",
      "Epoch 86/100\n",
      "1705/1705 [==============================] - 1s 612us/step - loss: 1.0927 - accuracy: 0.7126\n",
      "Epoch 87/100\n",
      "1705/1705 [==============================] - 1s 606us/step - loss: 1.1004 - accuracy: 0.7112\n",
      "Epoch 88/100\n",
      "1705/1705 [==============================] - 1s 601us/step - loss: 1.0943 - accuracy: 0.7119\n",
      "Epoch 89/100\n",
      "1705/1705 [==============================] - 1s 605us/step - loss: 1.0903 - accuracy: 0.7148\n",
      "Epoch 90/100\n",
      "1705/1705 [==============================] - 1s 612us/step - loss: 1.0910 - accuracy: 0.7139\n",
      "Epoch 91/100\n",
      "1705/1705 [==============================] - 1s 614us/step - loss: 1.0945 - accuracy: 0.7130\n",
      "Epoch 92/100\n",
      "1705/1705 [==============================] - 1s 591us/step - loss: 1.0933 - accuracy: 0.7137\n",
      "Epoch 93/100\n",
      "1705/1705 [==============================] - 1s 595us/step - loss: 1.0964 - accuracy: 0.7117\n",
      "Epoch 94/100\n",
      "1705/1705 [==============================] - 1s 639us/step - loss: 1.0948 - accuracy: 0.7116\n",
      "Epoch 95/100\n",
      "1705/1705 [==============================] - 1s 658us/step - loss: 1.0871 - accuracy: 0.7145\n",
      "Epoch 96/100\n",
      "1705/1705 [==============================] - 1s 676us/step - loss: 1.0930 - accuracy: 0.7125\n",
      "Epoch 97/100\n",
      "1705/1705 [==============================] - 1s 695us/step - loss: 1.0941 - accuracy: 0.7128\n",
      "Epoch 98/100\n",
      "1705/1705 [==============================] - 1s 610us/step - loss: 1.1000 - accuracy: 0.7105\n",
      "Epoch 99/100\n",
      "1705/1705 [==============================] - 1s 618us/step - loss: 1.0852 - accuracy: 0.7152\n",
      "Epoch 100/100\n",
      "1705/1705 [==============================] - 1s 626us/step - loss: 1.0920 - accuracy: 0.7124\n"
     ]
    },
    {
     "data": {
      "text/plain": [
       "<tensorflow.python.keras.callbacks.History at 0x20f1ef910d0>"
      ]
     },
     "execution_count": 54,
     "metadata": {},
     "output_type": "execute_result"
    }
   ],
   "source": [
    "# Model Definition\n",
    "model = Sequential()\n",
    "model.add(Dense(128, input_dim=X_train.shape[1], activation='relu'))\n",
    "model.add(Dense(11, activation='softmax'))\n",
    "\n",
    "# Model compile\n",
    "model.compile(loss='categorical_crossentropy', optimizer='adam', metrics=['accuracy'])\n",
    "\n",
    "#Train Model\n",
    "model.fit(X_train, y_train_nn, epochs=100)"
   ]
  },
  {
   "cell_type": "markdown",
   "metadata": {
    "heading_collapsed": true,
    "hidden": true
   },
   "source": [
    "### 6.2.3 NN Performance"
   ]
  },
  {
   "cell_type": "code",
   "execution_count": 57,
   "metadata": {
    "ExecuteTime": {
     "end_time": "2021-01-03T20:27:41.874797Z",
     "start_time": "2021-01-03T20:27:41.657037Z"
    },
    "hidden": true
   },
   "outputs": [],
   "source": [
    "# Prediction\n",
    "pred_nn = model.predict(X_valid)\n",
    "\n",
    "# Inver Prediction\n",
    "yhat_nn = ohe.inverse_transform(pred_nn)\n",
    "\n",
    "# Prediction Prepare\n",
    "y_valid_nn = y_valid.to_numpy()\n",
    "yhat_nn = yhat_nn.reshape(1, -1)[0]"
   ]
  },
  {
   "cell_type": "code",
   "execution_count": 66,
   "metadata": {
    "ExecuteTime": {
     "end_time": "2021-01-03T21:26:38.302291Z",
     "start_time": "2021-01-03T21:26:36.790107Z"
    },
    "hidden": true
   },
   "outputs": [
    {
     "name": "stdout",
     "output_type": "stream",
     "text": [
      "Accuracy: 0.7026035936927026\n",
      "Balanced Accuracy: 0.09131629136063238\n",
      "Kappa Score: -0.0003689012334029407\n"
     ]
    },
    {
     "name": "stderr",
     "output_type": "stream",
     "text": [
      "C:\\Users\\fabio\\Anaconda3\\lib\\site-packages\\sklearn\\metrics\\_classification.py:1221: UndefinedMetricWarning: Precision and F-score are ill-defined and being set to 0.0 in labels with no predicted samples. Use `zero_division` parameter to control this behavior.\n",
      "  _warn_prf(average, modifier, msg_start, len(result))\n"
     ]
    },
    {
     "name": "stdout",
     "output_type": "stream",
     "text": [
      "              precision    recall  f1-score   support\n",
      "\n",
      "          AU       0.00      0.00      0.00       101\n",
      "          CA       0.00      0.00      0.00       214\n",
      "          DE       0.33      0.01      0.01       170\n",
      "          ES       0.00      0.00      0.00       345\n",
      "          FR       0.00      0.00      0.00       710\n",
      "          GB       0.00      0.00      0.00       344\n",
      "          IT       0.00      0.00      0.00       423\n",
      "          NL       0.00      0.00      0.00       128\n",
      "          PT       0.00      0.00      0.00        36\n",
      "          US       0.71      0.99      0.83      9624\n",
      "       other       0.14      0.00      0.01      1540\n",
      "\n",
      "    accuracy                           0.70     13635\n",
      "   macro avg       0.11      0.09      0.08     13635\n",
      "weighted avg       0.52      0.70      0.58     13635\n",
      "\n"
     ]
    },
    {
     "data": {
      "text/plain": [
       "<AxesSubplot:title={'center':'Confusion Matrix'}, xlabel='Predicted label', ylabel='True label'>"
      ]
     },
     "execution_count": 66,
     "metadata": {},
     "output_type": "execute_result"
    },
    {
     "data": {
      "image/png": "[encoded data removed]",
      "text/plain": [
       "<Figure size 864x864 with 2 Axes>"
      ]
     },
     "metadata": {
      "needs_background": "light"
     },
     "output_type": "display_data"
    }
   ],
   "source": [
    "# Accuracy\n",
    "acc_nn = accuracy_score(y_valid_nn, yhat_nn)\n",
    "print('Accuracy: {}'.format(acc_nn))\n",
    "\n",
    "# Balanced Accuracy\n",
    "balanced_acc_nn = balanced_accuracy_score(y_valid_nn, yhat_nn)\n",
    "print('Balanced Accuracy: {}'.format(balanced_acc_nn))\n",
    "\n",
    "# Kappa Score\n",
    "kappa_nn = cohen_kappa_score(y_valid_nn, yhat_nn)\n",
    "print('Kappa Score: {}'.format(kappa_nn))\n",
    "\n",
    "# Classification Report\n",
    "print(classification_report(y_valid_nn, yhat_nn))\n",
    "\n",
    "# Confusion matrix\n",
    "plot_confusion_matrix(y_valid_nn, yhat_nn, normalize=False, figsize=(12,12))"
   ]
  }
 ],
 "metadata": {
  "kernelspec": {
   "display_name": "Python 3",
   "language": "python",
   "name": "python3"
  },
  "language_info": {
   "codemirror_mode": {
    "name": "ipython",
    "version": 3
   },
   "file_extension": ".py",
   "mimetype": "text/x-python",
   "name": "python",
   "nbconvert_exporter": "python",
   "pygments_lexer": "ipython3",
   "version": "3.8.3"
  },
  "toc": {
   "base_numbering": 1,
   "nav_menu": {},
   "number_sections": true,
   "sideBar": true,
   "skip_h1_title": false,
   "title_cell": "Table of Contents",
   "title_sidebar": "Contents",
   "toc_cell": false,
   "toc_position": {},
   "toc_section_display": true,
   "toc_window_display": false
  }
 },
 "nbformat": 4,
 "nbformat_minor": 4
}
