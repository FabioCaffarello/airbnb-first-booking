{
 "cells": [
  {
   "cell_type": "markdown",
   "metadata": {
    "ExecuteTime": {
     "end_time": "2021-01-03T18:46:58.923445Z",
     "start_time": "2021-01-03T18:46:58.918448Z"
    },
    "heading_collapsed": true
   },
   "source": [
    "# 0.0 Understanding the Situation"
   ]
  },
  {
   "cell_type": "markdown",
   "metadata": {
    "hidden": true
   },
   "source": [
    "- objective of the proposed situation\n",
    "1. Prediction of the first destination a new user will choose\n",
    "- Why?\n",
    " - What kind of business model does Airbnb have?\n",
    " - Market Place (connecting people who offer accommodation with people who are looking for accommodation)\n",
    " - Offer (people offer accommodation)\n",
    "   - Portifolio size\n",
    "   - Portfolio diversity/density\n",
    "   - Average price\n",
    " - Demand (people looking for accommodation)\n",
    "   - Number of Users\n",
    "   - LTV (Lifetime Value)\n",
    "   - CAC (Client Acquisition Cost)\n",
    " - Gross Revenue  = fee * number of users - CAC (contribution margins)\n",
    " \n",
    " \n",
    "- **Solution**\n",
    " - Prediction model of the first destination of a new user\n",
    " - API\n",
    "   - **Input**: user and its characteristics\n",
    "   - **Output**: user and its characteristics **with the prediction of destination**"
   ]
  },
  {
   "cell_type": "markdown",
   "metadata": {},
   "source": [
    "# 1.0 IMPORTS"
   ]
  },
  {
   "cell_type": "markdown",
   "metadata": {},
   "source": [
    "## 1.1 Libraries"
   ]
  },
  {
   "cell_type": "code",
   "execution_count": null,
   "metadata": {
    "ExecuteTime": {
     "end_time": "2021-01-04T00:40:58.110057Z",
     "start_time": "2021-01-04T00:40:58.101058Z"
    }
   },
   "outputs": [],
   "source": [
    "#!pip install scikit-plot"
   ]
  },
  {
   "cell_type": "code",
   "execution_count": null,
   "metadata": {
    "ExecuteTime": {
     "end_time": "2021-01-04T15:17:15.495007Z",
     "start_time": "2021-01-04T15:17:11.283825Z"
    }
   },
   "outputs": [],
   "source": [
    "import random\n",
    "import pandas as pd  # pip install pandas\n",
    "import numpy as np # pip install numpy\n",
    "import seaborn as sns # pip install seaborn\n",
    "from scipy import stats as ss\n",
    "from sklearn.model_selection import train_test_split, StratifiedKFold  # pip install sklearn\n",
    "from sklearn.preprocessing import OneHotEncoder\n",
    "from sklearn.metrics import accuracy_score, balanced_accuracy_score, cohen_kappa_score, classification_report\n",
    "from scikitplot.metrics import plot_confusion_matrix  # pip install scikit-plot\n",
    "from keras.models import Sequential  # pip install keras; pip install tensorflow\n",
    "from keras.layers import Dense"
   ]
  },
  {
   "cell_type": "markdown",
   "metadata": {
    "heading_collapsed": true
   },
   "source": [
    "## 1.2 Helper Functions"
   ]
  },
  {
   "cell_type": "code",
   "execution_count": null,
   "metadata": {
    "ExecuteTime": {
     "end_time": "2021-01-04T15:22:10.481979Z",
     "start_time": "2021-01-04T15:22:10.472981Z"
    },
    "hidden": true
   },
   "outputs": [],
   "source": [
    "def cramer_v(x, y):\n",
    "    cm = pd.crosstab(x, y).to_numpy()\n",
    "    n = cm.sum()\n",
    "    r, k = cm.shape\n",
    "    \n",
    "    chi2 = ss.chi2_contingency(cm)[0]\n",
    "    chi2corr = max(0, chi2 - (k-1)*(r-1)/(n-1))\n",
    "    \n",
    "    kcorr = k - (k-1)**2/(n-1)\n",
    "    rcorr = r - (r-1)**2/(n-1)\n",
    "    \n",
    "    return np.sqrt((chi2corr/n)/(min(kcorr-1,rcorr-1)))"
   ]
  },
  {
   "cell_type": "markdown",
   "metadata": {
    "heading_collapsed": true
   },
   "source": [
    "## 1.3 Loading data"
   ]
  },
  {
   "cell_type": "code",
   "execution_count": null,
   "metadata": {
    "ExecuteTime": {
     "end_time": "2021-01-04T15:17:15.668548Z",
     "start_time": "2021-01-04T15:17:15.590548Z"
    },
    "hidden": true,
    "scrolled": true
   },
   "outputs": [],
   "source": [
    "!ls -l ../01-Data/csv_data"
   ]
  },
  {
   "cell_type": "markdown",
   "metadata": {
    "hidden": true
   },
   "source": [
    "### 1.3.1 Training"
   ]
  },
  {
   "cell_type": "code",
   "execution_count": null,
   "metadata": {
    "ExecuteTime": {
     "end_time": "2021-01-04T15:17:16.103547Z",
     "start_time": "2021-01-04T15:17:15.670547Z"
    },
    "hidden": true
   },
   "outputs": [],
   "source": [
    "df_train_raw = pd.read_csv(\n",
    "    \"../01-Data/csv_data/train_users_2.csv\", low_memory=True)\n",
    "df_train_raw.shape"
   ]
  },
  {
   "cell_type": "markdown",
   "metadata": {
    "hidden": true
   },
   "source": [
    "### 1.3.2 Sessions"
   ]
  },
  {
   "cell_type": "code",
   "execution_count": null,
   "metadata": {
    "ExecuteTime": {
     "end_time": "2021-01-04T15:17:22.744780Z",
     "start_time": "2021-01-04T15:17:16.105548Z"
    },
    "hidden": true
   },
   "outputs": [],
   "source": [
    "df_sessions_raw = pd.read_csv(\n",
    "    \"../01-Data/csv_data/sessions.csv\", low_memory=True)\n",
    "df_sessions_raw.shape"
   ]
  },
  {
   "cell_type": "markdown",
   "metadata": {
    "heading_collapsed": true
   },
   "source": [
    "# 2.0 DATA DESCRIPTION"
   ]
  },
  {
   "cell_type": "code",
   "execution_count": null,
   "metadata": {
    "ExecuteTime": {
     "end_time": "2021-01-04T15:17:22.933103Z",
     "start_time": "2021-01-04T15:17:22.746780Z"
    },
    "hidden": true
   },
   "outputs": [],
   "source": [
    "df_train_01 = df_train_raw.copy()\n",
    "df_sessions_01 = df_sessions_raw.copy()"
   ]
  },
  {
   "cell_type": "markdown",
   "metadata": {
    "heading_collapsed": true,
    "hidden": true
   },
   "source": [
    "## 2.1 Data Dimensions"
   ]
  },
  {
   "cell_type": "markdown",
   "metadata": {
    "heading_collapsed": true,
    "hidden": true
   },
   "source": [
    "### 2.1.1 Training"
   ]
  },
  {
   "cell_type": "code",
   "execution_count": null,
   "metadata": {
    "ExecuteTime": {
     "end_time": "2021-01-04T15:17:22.949103Z",
     "start_time": "2021-01-04T15:17:22.935103Z"
    },
    "hidden": true,
    "scrolled": true
   },
   "outputs": [],
   "source": [
    "print(f'Number of Rows: {df_train_01.shape[0]}')\n",
    "print(f'Number of Columns: {df_train_01.shape[1]}')"
   ]
  },
  {
   "cell_type": "markdown",
   "metadata": {
    "heading_collapsed": true,
    "hidden": true
   },
   "source": [
    "### 2.1.2 Sessions"
   ]
  },
  {
   "cell_type": "code",
   "execution_count": null,
   "metadata": {
    "ExecuteTime": {
     "end_time": "2021-01-04T15:17:22.965104Z",
     "start_time": "2021-01-04T15:17:22.951103Z"
    },
    "hidden": true
   },
   "outputs": [],
   "source": [
    "print(f'Number of Rows: {df_sessions_01.shape[0]}')\n",
    "print(f'Number of Columns: {df_sessions_01.shape[1]}')"
   ]
  },
  {
   "cell_type": "markdown",
   "metadata": {
    "heading_collapsed": true,
    "hidden": true
   },
   "source": [
    "## 2.2 Data Type"
   ]
  },
  {
   "cell_type": "markdown",
   "metadata": {
    "heading_collapsed": true,
    "hidden": true
   },
   "source": [
    "### 2.2.1 Training"
   ]
  },
  {
   "cell_type": "code",
   "execution_count": null,
   "metadata": {
    "ExecuteTime": {
     "end_time": "2021-01-04T15:17:22.980104Z",
     "start_time": "2021-01-04T15:17:22.968104Z"
    },
    "hidden": true,
    "scrolled": true
   },
   "outputs": [],
   "source": [
    "df_train_01.dtypes"
   ]
  },
  {
   "cell_type": "markdown",
   "metadata": {
    "heading_collapsed": true,
    "hidden": true
   },
   "source": [
    "### 2.2.2 Sessions"
   ]
  },
  {
   "cell_type": "code",
   "execution_count": null,
   "metadata": {
    "ExecuteTime": {
     "end_time": "2021-01-04T15:17:22.996102Z",
     "start_time": "2021-01-04T15:17:22.982103Z"
    },
    "hidden": true
   },
   "outputs": [],
   "source": [
    "df_sessions_01.dtypes"
   ]
  },
  {
   "cell_type": "markdown",
   "metadata": {
    "heading_collapsed": true,
    "hidden": true
   },
   "source": [
    "## 2.3 NA Check"
   ]
  },
  {
   "cell_type": "markdown",
   "metadata": {
    "heading_collapsed": true,
    "hidden": true
   },
   "source": [
    "### 2.3.1 Training"
   ]
  },
  {
   "cell_type": "code",
   "execution_count": null,
   "metadata": {
    "ExecuteTime": {
     "end_time": "2021-01-04T15:17:23.122103Z",
     "start_time": "2021-01-04T15:17:22.998103Z"
    },
    "hidden": true
   },
   "outputs": [],
   "source": [
    "df_train_01.isnull().sum() / len(df_train_01)"
   ]
  },
  {
   "cell_type": "code",
   "execution_count": null,
   "metadata": {
    "ExecuteTime": {
     "end_time": "2021-01-04T15:17:23.185103Z",
     "start_time": "2021-01-04T15:17:23.124103Z"
    },
    "hidden": true
   },
   "outputs": [],
   "source": [
    "aux = df_train_01[df_train_01['date_first_booking'].isnull()]\n",
    "aux['country_destination'].value_counts(normalize=True)"
   ]
  },
  {
   "cell_type": "code",
   "execution_count": null,
   "metadata": {
    "ExecuteTime": {
     "end_time": "2021-01-04T15:17:23.246103Z",
     "start_time": "2021-01-04T15:17:23.187105Z"
    },
    "hidden": true
   },
   "outputs": [],
   "source": [
    "aux = df_train_01[df_train_01['age'].isnull()]\n",
    "aux['country_destination'].value_counts(normalize=True)"
   ]
  },
  {
   "cell_type": "code",
   "execution_count": null,
   "metadata": {
    "ExecuteTime": {
     "end_time": "2021-01-04T15:17:23.577842Z",
     "start_time": "2021-01-04T15:17:23.248104Z"
    },
    "hidden": true
   },
   "outputs": [],
   "source": [
    "sns.displot(df_train_01[df_train_01['age']<75]['age'], kind='ecdf');"
   ]
  },
  {
   "cell_type": "code",
   "execution_count": null,
   "metadata": {
    "ExecuteTime": {
     "end_time": "2021-01-04T15:17:23.593841Z",
     "start_time": "2021-01-04T15:17:23.579843Z"
    },
    "hidden": true
   },
   "outputs": [],
   "source": [
    "df_train_01['first_affiliate_tracked'].drop_duplicates()"
   ]
  },
  {
   "cell_type": "code",
   "execution_count": null,
   "metadata": {
    "ExecuteTime": {
     "end_time": "2021-01-04T15:17:23.704403Z",
     "start_time": "2021-01-04T15:17:23.595844Z"
    },
    "hidden": true
   },
   "outputs": [],
   "source": [
    "# remove missing values completely\n",
    "#df_train_01 = df_train_01.dropna()\n",
    "\n",
    "# date_first_booking\n",
    "date_first_booking_max = pd.to_datetime(df_train_01['date_first_booking']).max().strftime('%Y-%m-%d')\n",
    "df_train_01['date_first_booking'] = df_train_01['date_first_booking'].fillna(date_first_booking_max)\n",
    "\n",
    "# age\n",
    "df_train_01 = df_train_01[(df_train_01['age'] > 15) & (df_train_01['age'] < 120)]\n",
    "avg_age = int(df_train_01['age'].mean())\n",
    "df_train_01['age'] = df_train_01['age'].fillna(avg_age)\n",
    "\n",
    "# first_affiliate_tracked\n",
    "# remove missing values completely\n",
    "df_train_01 = df_train_01[~df_train_01['first_affiliate_tracked'].isnull()]\n",
    "\n",
    "df_train_01.shape"
   ]
  },
  {
   "cell_type": "markdown",
   "metadata": {
    "heading_collapsed": true,
    "hidden": true
   },
   "source": [
    "### 2.3.2 Sessions"
   ]
  },
  {
   "cell_type": "code",
   "execution_count": null,
   "metadata": {
    "ExecuteTime": {
     "end_time": "2021-01-04T15:17:25.423786Z",
     "start_time": "2021-01-04T15:17:23.706403Z"
    },
    "hidden": true,
    "scrolled": true
   },
   "outputs": [],
   "source": [
    "df_sessions_01.isnull().sum() / len(df_sessions_01)"
   ]
  },
  {
   "cell_type": "code",
   "execution_count": null,
   "metadata": {
    "ExecuteTime": {
     "end_time": "2021-01-04T15:17:29.740173Z",
     "start_time": "2021-01-04T15:17:25.425786Z"
    },
    "hidden": true
   },
   "outputs": [],
   "source": [
    "# remove missing values completely\n",
    "## user_id - 0.3%\n",
    "df_sessions_01 = df_sessions_01[~df_sessions_01['user_id'].isnull()]\n",
    "\n",
    "## action - 0.75%\n",
    "df_sessions_01 = df_sessions_01[~df_sessions_01['action'].isnull()]\n",
    "\n",
    "## action_type - 10.65%\n",
    "df_sessions_01 = df_sessions_01[~df_sessions_01['action_type'].isnull()]\n",
    "\n",
    "## action_detail - 10.65%\n",
    "df_sessions_01 = df_sessions_01[~df_sessions_01['action_detail'].isnull()]\n",
    "\n",
    "## secs_elapsed - 1.3%\n",
    "df_sessions_01 = df_sessions_01[~df_sessions_01['secs_elapsed'].isnull()]\n",
    "\n",
    "df_sessions_01.shape"
   ]
  },
  {
   "cell_type": "markdown",
   "metadata": {
    "heading_collapsed": true,
    "hidden": true
   },
   "source": [
    "## 2.4 Change Data type "
   ]
  },
  {
   "cell_type": "markdown",
   "metadata": {
    "heading_collapsed": true,
    "hidden": true
   },
   "source": [
    "### 2.4.1 Training"
   ]
  },
  {
   "cell_type": "code",
   "execution_count": null,
   "metadata": {
    "ExecuteTime": {
     "end_time": "2021-01-04T15:17:30.133762Z",
     "start_time": "2021-01-04T15:17:29.742197Z"
    },
    "hidden": true
   },
   "outputs": [],
   "source": [
    "# date_account_created\n",
    "df_train_01['date_account_created'] = pd.to_datetime(\n",
    "    df_train_01['date_account_created'])\n",
    "# timestamp_first_active\n",
    "df_train_01['timestamp_first_active'] = pd.to_datetime(\n",
    "    df_train_01['timestamp_first_active'], format='%Y%m%d%H%M%S')\n",
    "# date_first_booking\n",
    "df_train_01['date_first_booking'] = pd.to_datetime(\n",
    "    df_train_01['date_first_booking'])\n",
    "\n",
    "# age\n",
    "df_train_01['age'] = df_train_01['age'].astype(int)"
   ]
  },
  {
   "cell_type": "code",
   "execution_count": null,
   "metadata": {
    "ExecuteTime": {
     "end_time": "2021-01-04T15:17:30.149762Z",
     "start_time": "2021-01-04T15:17:30.134763Z"
    },
    "hidden": true,
    "scrolled": true
   },
   "outputs": [],
   "source": [
    "df_train_01.dtypes"
   ]
  },
  {
   "cell_type": "markdown",
   "metadata": {
    "heading_collapsed": true,
    "hidden": true
   },
   "source": [
    "## 2.5 Check Balanced Data"
   ]
  },
  {
   "cell_type": "markdown",
   "metadata": {
    "heading_collapsed": true,
    "hidden": true
   },
   "source": [
    "### 2.5.1 Training"
   ]
  },
  {
   "cell_type": "code",
   "execution_count": null,
   "metadata": {
    "ExecuteTime": {
     "end_time": "2021-01-04T15:17:30.181764Z",
     "start_time": "2021-01-04T15:17:30.151763Z"
    },
    "hidden": true,
    "scrolled": true
   },
   "outputs": [],
   "source": [
    "df_train_01['country_destination'].value_counts(normalize=True)"
   ]
  },
  {
   "cell_type": "markdown",
   "metadata": {
    "heading_collapsed": true,
    "hidden": true
   },
   "source": [
    "## 2.6 Descriptive Analysis"
   ]
  },
  {
   "cell_type": "markdown",
   "metadata": {
    "heading_collapsed": true,
    "hidden": true
   },
   "source": [
    "### 2.6.1 General"
   ]
  },
  {
   "cell_type": "code",
   "execution_count": null,
   "metadata": {
    "ExecuteTime": {
     "end_time": "2021-01-04T15:17:30.509762Z",
     "start_time": "2021-01-04T15:17:30.182764Z"
    },
    "hidden": true
   },
   "outputs": [],
   "source": [
    "## Users\n",
    "num_attributes = df_train_01.select_dtypes(include=['int32', 'int64', 'float64'])\n",
    "cat_attributes = df_train_01.select_dtypes(exclude=['int32','int64', 'float64', 'datetime64[ns]'])\n",
    "time_attributes = df_train_01.select_dtypes(include=['datetime64[ns]'])\n",
    "\n",
    "## Sessions\n",
    "num_attributes_sessions = df_sessions_01.select_dtypes(include=['int32', 'int64', 'float64'])\n",
    "cat_attributes_sessions = df_sessions_01.select_dtypes(exclude=['int32','int64', 'float64', 'datetime64[ns]'])\n",
    "time_attributes_sessions = df_sessions_01.select_dtypes(include=['datetime64[ns]'])"
   ]
  },
  {
   "cell_type": "markdown",
   "metadata": {
    "heading_collapsed": true,
    "hidden": true
   },
   "source": [
    "### 2.6.2 Numerical Users"
   ]
  },
  {
   "cell_type": "code",
   "execution_count": null,
   "metadata": {
    "ExecuteTime": {
     "end_time": "2021-01-04T15:17:39.512704Z",
     "start_time": "2021-01-04T15:17:39.438706Z"
    },
    "hidden": true
   },
   "outputs": [],
   "source": [
    "# Central Tendency - Mean, Mediam\n",
    "ct1 = pd.DataFrame(num_attributes.apply(np.mean)).T\n",
    "ct2 = pd.DataFrame(num_attributes.apply(np.median)).T\n",
    "\n",
    "# Dispersions - Std, Min, Max, Range, Skew, Kurtosis\n",
    "d1 = pd.DataFrame(num_attributes.apply(np.std)).T\n",
    "d2 = pd.DataFrame(num_attributes.apply(min)).T\n",
    "d3 = pd.DataFrame(num_attributes.apply(max)).T\n",
    "d4 = pd.DataFrame(num_attributes.apply(lambda x: x.max() - x.min())).T\n",
    "d5 = pd.DataFrame(num_attributes.apply(lambda x: x.skew())).T\n",
    "d6 = pd.DataFrame(num_attributes.apply(lambda x: x.kurtosis())).T\n",
    "                  \n",
    "# Concatenate\n",
    "ct = pd.concat([d2, d3, d4, ct1, ct2, d1, d5, d6]).T.reset_index()\n",
    "ct.columns = ['attributes', 'min', 'max', 'range', 'mean', 'median', 'std', 'skew', 'kurtosis']\n",
    "ct"
   ]
  },
  {
   "cell_type": "markdown",
   "metadata": {
    "heading_collapsed": true,
    "hidden": true
   },
   "source": [
    "### 2.6.3 Numerical Sessions"
   ]
  },
  {
   "cell_type": "code",
   "execution_count": null,
   "metadata": {
    "ExecuteTime": {
     "end_time": "2021-01-04T15:17:42.552937Z",
     "start_time": "2021-01-04T15:17:40.766350Z"
    },
    "hidden": true
   },
   "outputs": [],
   "source": [
    "# Central Tendency - Mean, Mediam\n",
    "ct1 = pd.DataFrame(num_attributes_sessions.apply(np.mean)).T\n",
    "ct2 = pd.DataFrame(num_attributes_sessions.apply(np.median)).T\n",
    "\n",
    "# Dispersions - Std, Min, Max, Range, Skew, Kurtosis\n",
    "d1 = pd.DataFrame(num_attributes_sessions.apply(np.std)).T\n",
    "d2 = pd.DataFrame(num_attributes_sessions.apply(min)).T\n",
    "d3 = pd.DataFrame(num_attributes_sessions.apply(max)).T\n",
    "d4 = pd.DataFrame(num_attributes_sessions.apply(lambda x: x.max() - x.min())).T\n",
    "d5 = pd.DataFrame(num_attributes_sessions.apply(lambda x: x.skew())).T\n",
    "d6 = pd.DataFrame(num_attributes_sessions.apply(lambda x: x.kurtosis())).T\n",
    "\n",
    "# Concatenate\n",
    "ct = pd.concat([d2, d3, d4, ct1, ct2, d1, d5, d6]).T.reset_index()\n",
    "ct.columns = ['attributes', 'min', 'max', 'range', 'mean', 'median', 'std', 'skew', 'kurtosis']\n",
    "ct"
   ]
  },
  {
   "cell_type": "markdown",
   "metadata": {
    "heading_collapsed": true,
    "hidden": true
   },
   "source": [
    "### 2.6.3 Categorical Users"
   ]
  },
  {
   "cell_type": "code",
   "execution_count": null,
   "metadata": {
    "ExecuteTime": {
     "end_time": "2021-01-04T15:17:42.722882Z",
     "start_time": "2021-01-04T15:17:42.554844Z"
    },
    "hidden": true
   },
   "outputs": [],
   "source": [
    "cat_attributes.drop('id', axis=1).describe()"
   ]
  },
  {
   "cell_type": "markdown",
   "metadata": {
    "heading_collapsed": true,
    "hidden": true
   },
   "source": [
    "### 2.6.4 Categorical Sessions"
   ]
  },
  {
   "cell_type": "code",
   "execution_count": null,
   "metadata": {
    "ExecuteTime": {
     "end_time": "2021-01-04T15:17:47.737903Z",
     "start_time": "2021-01-04T15:17:43.609572Z"
    },
    "hidden": true,
    "scrolled": true
   },
   "outputs": [],
   "source": [
    "cat_attributes_sessions.drop('user_id', axis=1).describe()"
   ]
  },
  {
   "cell_type": "code",
   "execution_count": null,
   "metadata": {
    "ExecuteTime": {
     "end_time": "2021-01-04T15:22:44.850145Z",
     "start_time": "2021-01-04T15:22:16.276910Z"
    },
    "hidden": true
   },
   "outputs": [],
   "source": [
    "# list of attributes for Cramer's V correlation\n",
    "cat_attributes_list = cat_attributes_sessions.drop('user_id', axis=1).columns.tolist()\n",
    "\n",
    "corr_dict = {}\n",
    "for i in range(len(cat_attributes_list)):\n",
    "    corr_list = []\n",
    "    for j in range(len(cat_attributes_list)):\n",
    "        ref = cat_attributes_list[i]\n",
    "        feat = cat_attributes_list[j]\n",
    "        \n",
    "        # correlation\n",
    "        corr = cramer_v(cat_attributes_sessions[ref], cat_attributes_sessions[feat])\n",
    "        \n",
    "        # append list\n",
    "        corr_list.append(corr)\n",
    "        \n",
    "    # append correlation list for each ref attributes  \n",
    "    corr_dict[ref] = corr_list\n",
    "    \n",
    "#d = pd.DataFrame(corr_dict)"
   ]
  },
  {
   "cell_type": "code",
   "execution_count": null,
   "metadata": {
    "ExecuteTime": {
     "end_time": "2021-01-04T15:22:45.103137Z",
     "start_time": "2021-01-04T15:22:44.852138Z"
    },
    "hidden": true
   },
   "outputs": [],
   "source": [
    "d = pd.DataFrame(corr_dict)\n",
    "d = d.set_index(d.columns)\n",
    "sns.heatmap(d, annot=True);"
   ]
  },
  {
   "cell_type": "markdown",
   "metadata": {},
   "source": [
    "# 3.0 Feature Engineering"
   ]
  },
  {
   "cell_type": "code",
   "execution_count": null,
   "metadata": {
    "ExecuteTime": {
     "end_time": "2021-01-04T17:44:43.183911Z",
     "start_time": "2021-01-04T17:44:42.661035Z"
    }
   },
   "outputs": [],
   "source": [
    "df_train_02 = df_train_01.copy()\n",
    "df_sessions_02 = df_sessions_01.copy()"
   ]
  },
  {
   "cell_type": "code",
   "execution_count": null,
   "metadata": {
    "ExecuteTime": {
     "end_time": "2021-01-04T17:58:22.824710Z",
     "start_time": "2021-01-04T17:58:10.665687Z"
    }
   },
   "outputs": [],
   "source": [
    "# days from first activate up to first booking\n",
    "df_train_02['first_active'] = pd.to_datetime(df_train_02['timestamp_first_active'].dt.strftime('%Y-%m-%d'))\n",
    "df_train_02['days_from_first_active_until_booking'] = (df_train_02['date_first_booking'] - df_train_02['first_active']).apply(lambda x: x.days)\n",
    "\n",
    "# days from first activate up to account created\n",
    "df_train_02['days_from_first_active_until_account_created'] = (df_train_02['date_account_created'] - df_train_02['first_active']).apply(lambda x: x.days)\n",
    "\n",
    "# days from account created up to first booking\n",
    "df_train_02['days_from_account_created_until_first_booking'] = (df_train_02['date_first_booking'] - df_train_02['date_account_created']).apply(lambda x: x.days)\n",
    "\n",
    "\n",
    "#=============================== first active ===============================\n",
    "# year first active\n",
    "df_train_02['year_first_active'] = df_train_02['first_active'].dt.year\n",
    "\n",
    "# month first active\n",
    "df_train_02['month_first_active'] = df_train_02['first_active'].dt.month\n",
    "\n",
    "# day first active\n",
    "df_train_02['day_first_active'] = df_train_02['first_active'].dt.day\n",
    "\n",
    "# day of week first active\n",
    "df_train_02['day_of_week_first_active'] = df_train_02['first_active'].dt.dayofweek\n",
    "\n",
    "# week of year of first active\n",
    "df_train_02['week_of_year_first_active'] = df_train_02['first_active'].dt.weekofyear\n",
    "\n",
    "\n",
    "#=============================== first booking ===============================\n",
    "# year first booking\n",
    "df_train_02['year_first_booking'] = df_train_02['date_first_booking'].dt.year\n",
    "\n",
    "# month first booking\n",
    "df_train_02['month_first_booking'] = df_train_02['date_first_booking'].dt.month\n",
    "\n",
    "# day first booking\n",
    "df_train_02['day_first_booking'] = df_train_02['date_first_booking'].dt.day\n",
    "\n",
    "# day of week first booking\n",
    "df_train_02['day_of_week_first_booking'] = df_train_02['date_first_booking'].dt.dayofweek\n",
    "\n",
    "# week of year of first booking\n",
    "df_train_02['week_of_year_first_booking'] = df_train_02['date_first_booking'].dt.weekofyear\n",
    "\n",
    "\n",
    "#=============================== first account created ===============================\n",
    "# year first booking\n",
    "df_train_02['year_account_created'] = df_train_02['date_account_created'].dt.year\n",
    "\n",
    "# month first booking\n",
    "df_train_02['month_account_created'] = df_train_02['date_account_created'].dt.month\n",
    "\n",
    "# day first booking\n",
    "df_train_02['day_account_created'] = df_train_02['date_account_created'].dt.day\n",
    "\n",
    "# day of week first booking\n",
    "df_train_02['day_of_week_account_created'] = df_train_02['date_account_created'].dt.dayofweek\n",
    "\n",
    "# week of year of first booking\n",
    "df_train_02['week_of_year_account_created'] = df_train_02['date_account_created'].dt.weekofyear"
   ]
  },
  {
   "cell_type": "markdown",
   "metadata": {},
   "source": [
    "# 4.0 Data Filtering"
   ]
  },
  {
   "cell_type": "code",
   "execution_count": null,
   "metadata": {
    "ExecuteTime": {
     "end_time": "2021-01-04T00:41:05.990126Z",
     "start_time": "2021-01-04T00:41:05.976128Z"
    }
   },
   "outputs": [],
   "source": [
    "df_train_03 = df_train_02.copy()\n",
    "df_sessions_03 = df_sessions_02.copy()"
   ]
  },
  {
   "cell_type": "markdown",
   "metadata": {},
   "source": [
    "## 4.1 Filtering Rows"
   ]
  },
  {
   "cell_type": "code",
   "execution_count": null,
   "metadata": {},
   "outputs": [],
   "source": [
    "# Filtering rows:\n",
    "## age > greater than 15 and lower than 120 - There are few people over 120 years old\n",
    "df_train_03 = df_train_03[(df_train_03['age'] > 15) & (df_train_03['age'] < 120)]\n",
    "\n",
    "## secs_elapsed > greater than 0 - There is no possible secs elepsed on website\n",
    "df_sessions_03 = df_sessions_03[df_sessions_03['secs_elapsed'] > 0]"
   ]
  },
  {
   "cell_type": "markdown",
   "metadata": {},
   "source": [
    "# 5.0 Data Preparation"
   ]
  },
  {
   "cell_type": "code",
   "execution_count": null,
   "metadata": {
    "ExecuteTime": {
     "end_time": "2021-01-04T00:41:06.005136Z",
     "start_time": "2021-01-04T00:41:05.992127Z"
    }
   },
   "outputs": [],
   "source": [
    "df_train_04 = df_train_03.copy()"
   ]
  },
  {
   "cell_type": "code",
   "execution_count": null,
   "metadata": {
    "ExecuteTime": {
     "end_time": "2021-01-04T00:41:06.115127Z",
     "start_time": "2021-01-04T00:41:06.006130Z"
    }
   },
   "outputs": [],
   "source": [
    "# Dummy variable\n",
    "df_train_04_dummy = pd.get_dummies(\n",
    "    df_train_04.drop(['id', 'country_destination'], axis=1))\n",
    "\n",
    "# Join id and country_destination\n",
    "df_train_04 = pd.concat(\n",
    "    [df_train_04[['id', 'country_destination']], df_train_04_dummy], axis=1)"
   ]
  },
  {
   "cell_type": "markdown",
   "metadata": {
    "heading_collapsed": true
   },
   "source": [
    "# 6.0 Feature Selection"
   ]
  },
  {
   "cell_type": "markdown",
   "metadata": {
    "heading_collapsed": true,
    "hidden": true
   },
   "source": [
    "## 6.1 Drop Columns"
   ]
  },
  {
   "cell_type": "code",
   "execution_count": null,
   "metadata": {
    "ExecuteTime": {
     "end_time": "2021-01-04T00:41:06.131127Z",
     "start_time": "2021-01-04T00:41:06.117128Z"
    },
    "hidden": true
   },
   "outputs": [],
   "source": [
    "cols_drop = [\n",
    "    'date_account_created', 'timestamp_first_active', 'date_first_booking',\n",
    "    'id'\n",
    "]  # orginal dates\n",
    "df_train_05 = df_train_04.drop(cols_drop, axis=1)"
   ]
  },
  {
   "cell_type": "markdown",
   "metadata": {
    "heading_collapsed": true,
    "hidden": true
   },
   "source": [
    "## 6.2 Split into Train and Validation "
   ]
  },
  {
   "cell_type": "code",
   "execution_count": null,
   "metadata": {
    "ExecuteTime": {
     "end_time": "2021-01-04T00:41:06.193848Z",
     "start_time": "2021-01-04T00:41:06.133130Z"
    },
    "hidden": true
   },
   "outputs": [],
   "source": [
    "X = df_train_05.drop('country_destination', axis=1)\n",
    "y = df_train_05['country_destination'].copy()\n",
    "\n",
    "# Split dataset into train and validation\n",
    "X_train, X_test, y_train, y_test = train_test_split(\n",
    "    X, y, test_size=0.2, random_state=32)"
   ]
  },
  {
   "cell_type": "markdown",
   "metadata": {
    "heading_collapsed": true
   },
   "source": [
    "# 7.0 Machine Learning Model"
   ]
  },
  {
   "cell_type": "markdown",
   "metadata": {
    "heading_collapsed": true,
    "hidden": true
   },
   "source": [
    "## 7.1 Baseline model"
   ]
  },
  {
   "cell_type": "markdown",
   "metadata": {
    "heading_collapsed": true,
    "hidden": true
   },
   "source": [
    "### 7.1.1 Random Choices"
   ]
  },
  {
   "cell_type": "code",
   "execution_count": null,
   "metadata": {
    "ExecuteTime": {
     "end_time": "2021-01-04T00:41:06.224862Z",
     "start_time": "2021-01-04T00:41:06.197862Z"
    },
    "hidden": true
   },
   "outputs": [],
   "source": [
    "country_destination_list = y_train.drop_duplicates().sort_values().tolist()\n",
    "country_destination_weights = y_train.value_counts(\n",
    "    normalize=True).sort_index().tolist()\n",
    "k_num = y_test.shape[0]\n",
    "\n",
    "# Random Model\n",
    "\n",
    "yhat_random = random.choices(population=country_destination_list,\n",
    "                             weights=country_destination_weights,\n",
    "                             k=k_num)"
   ]
  },
  {
   "cell_type": "markdown",
   "metadata": {
    "heading_collapsed": true,
    "hidden": true
   },
   "source": [
    "### 7.1.2 Random Choices Performance"
   ]
  },
  {
   "cell_type": "code",
   "execution_count": null,
   "metadata": {
    "ExecuteTime": {
     "end_time": "2021-01-04T00:41:07.657855Z",
     "start_time": "2021-01-04T00:41:06.226855Z"
    },
    "hidden": true
   },
   "outputs": [],
   "source": [
    "# Accuracy\n",
    "acc_random = accuracy_score(y_test, yhat_random)\n",
    "print('Accuracy: {}'.format(acc_random))\n",
    "\n",
    "# Balanced Accuracy\n",
    "balanced_acc_random = balanced_accuracy_score(y_test, yhat_random)\n",
    "print('Balanced Accuracy: {}'.format(balanced_acc_random))\n",
    "\n",
    "# Kappa Score\n",
    "kappa_random = cohen_kappa_score(y_test, yhat_random)\n",
    "print('Kappa Score: {}'.format(kappa_random))\n",
    "\n",
    "# Classification Report\n",
    "print(classification_report(y_test, yhat_random))\n",
    "\n",
    "# Confusion matrix\n",
    "plot_confusion_matrix(y_test, yhat_random, normalize=False, figsize=(12, 12))"
   ]
  },
  {
   "cell_type": "markdown",
   "metadata": {
    "heading_collapsed": true,
    "hidden": true
   },
   "source": [
    "## 7.2 Machine Learning Model - Neural Network MLP"
   ]
  },
  {
   "cell_type": "markdown",
   "metadata": {
    "heading_collapsed": true,
    "hidden": true
   },
   "source": [
    "### 7.2.1 Target Encoding"
   ]
  },
  {
   "cell_type": "code",
   "execution_count": null,
   "metadata": {
    "ExecuteTime": {
     "end_time": "2021-01-04T00:41:07.688866Z",
     "start_time": "2021-01-04T00:41:07.658855Z"
    },
    "hidden": true
   },
   "outputs": [],
   "source": [
    "ohe = OneHotEncoder()\n",
    "y_train_nn = ohe.fit_transform(y_train.values.reshape(-1, 1)).toarray()"
   ]
  },
  {
   "cell_type": "markdown",
   "metadata": {
    "heading_collapsed": true,
    "hidden": true
   },
   "source": [
    "### 7.2.2 NN Model"
   ]
  },
  {
   "cell_type": "code",
   "execution_count": null,
   "metadata": {
    "ExecuteTime": {
     "end_time": "2021-01-04T00:42:55.177854Z",
     "start_time": "2021-01-04T00:41:07.693858Z"
    },
    "hidden": true
   },
   "outputs": [],
   "source": [
    "# Model Definition\n",
    "model = Sequential()\n",
    "model.add(Dense(128, input_dim=X_train.shape[1], activation='relu'))\n",
    "model.add(Dense(11, activation='softmax'))\n",
    "\n",
    "# Model compile\n",
    "model.compile(loss='categorical_crossentropy',\n",
    "              optimizer='adam', metrics=['accuracy'])\n",
    "\n",
    "# Train Model\n",
    "model.fit(X_train, y_train_nn, epochs=100)"
   ]
  },
  {
   "cell_type": "markdown",
   "metadata": {
    "heading_collapsed": true,
    "hidden": true
   },
   "source": [
    "### 7.2.3 NN Performance"
   ]
  },
  {
   "cell_type": "code",
   "execution_count": null,
   "metadata": {
    "ExecuteTime": {
     "end_time": "2021-01-04T00:42:55.395057Z",
     "start_time": "2021-01-04T00:42:55.178855Z"
    },
    "hidden": true
   },
   "outputs": [],
   "source": [
    "# Prediction\n",
    "pred_nn = model.predict(X_valid)\n",
    "\n",
    "# Inver Prediction\n",
    "yhat_nn = ohe.inverse_transform(pred_nn)\n",
    "\n",
    "# Prediction Prepare\n",
    "y_test_nn = y_test.to_numpy()\n",
    "yhat_nn = yhat_nn.reshape(1, -1)[0]"
   ]
  },
  {
   "cell_type": "code",
   "execution_count": null,
   "metadata": {
    "ExecuteTime": {
     "end_time": "2021-01-04T00:42:56.886478Z",
     "start_time": "2021-01-04T00:42:55.401078Z"
    },
    "hidden": true,
    "scrolled": true
   },
   "outputs": [],
   "source": [
    "# Accuracy\n",
    "acc_nn = accuracy_score(y_test_nn, yhat_nn)\n",
    "print('Accuracy: {}'.format(acc_nn))\n",
    "\n",
    "# Balanced Accuracy\n",
    "balanced_acc_nn = balanced_accuracy_score(y_test_nn, yhat_nn)\n",
    "print('Balanced Accuracy: {}'.format(balanced_acc_nn))\n",
    "\n",
    "# Kappa Score\n",
    "kappa_nn = cohen_kappa_score(y_test_nn, yhat_nn)\n",
    "print('Kappa Score: {}'.format(kappa_nn))\n",
    "\n",
    "# Classification Report\n",
    "print(classification_report(y_test_nn, yhat_nn))\n",
    "\n",
    "# Confusion matrix\n",
    "plot_confusion_matrix(y_test_nn, yhat_nn, normalize=False, figsize=(12, 12))"
   ]
  },
  {
   "cell_type": "markdown",
   "metadata": {
    "heading_collapsed": true,
    "hidden": true
   },
   "source": [
    "### 7.2.4 NN Performance - Cross Validation"
   ]
  },
  {
   "cell_type": "code",
   "execution_count": null,
   "metadata": {
    "ExecuteTime": {
     "end_time": "2021-01-04T00:50:16.845338Z",
     "start_time": "2021-01-04T00:43:57.051399Z"
    },
    "hidden": true
   },
   "outputs": [],
   "source": [
    "# k-fold generate\n",
    "num_folds = 5\n",
    "kfold = StratifiedKFold(n_splits=num_folds, shuffle=True, random_state=32)\n",
    "\n",
    "balanced_acc_list = []\n",
    "kappa_acc_list = []\n",
    "\n",
    "i = 1\n",
    "for train_ix, val_ix in kfold.split(X_train, y_train):\n",
    "    print('Fold Number: {}/{}'.format(i, num_folds))\n",
    "    # get fold\n",
    "    X_train_fold = X_train.iloc[train_ix]\n",
    "    y_train_fold = y_train.iloc[train_ix]\n",
    "    \n",
    "    X_val_fold = X_train.iloc[val_ix]\n",
    "    y_val_fold = y_train.iloc[val_ix]\n",
    "    \n",
    "    # target encoding\n",
    "    ohe = OneHotEncoder()\n",
    "    y_train_fold_nn = ohe.fit_transform(y_train_fold.values.reshape(-1, 1)).toarray()\n",
    "    \n",
    "    # model definition\n",
    "    model = Sequential()\n",
    "    model.add(Dense(256, input_dim=X_train_fold.shape[1], activation='relu'))\n",
    "    model.add(Dense(11, activation='softmax'))\n",
    "\n",
    "    # compile model\n",
    "    model.compile(loss='categorical_crossentropy', optimizer='adam', metrics=['accuracy'])\n",
    "\n",
    "    # training model\n",
    "    model.fit(X_train_fold, y_train_fold_nn, epochs=100, batch_size=32, verbose=0)\n",
    "\n",
    "    # prediction\n",
    "    pred_nn = model.predict(X_val_fold)\n",
    "    yhat_nn = ohe.inverse_transform(pred_nn)\n",
    "    \n",
    "    # prepare data\n",
    "    y_test_nn = y_val_fold.to_numpy()\n",
    "    yhat_nn = yhat_nn.reshape(1, -1)[0]\n",
    "\n",
    "    # metrics\n",
    "    ## Balanced Accuracy\n",
    "    balanced_acc_nn = balanced_accuracy_score(y_test_nn, yhat_nn)\n",
    "    balanced_acc_list.append(balanced_acc_nn)\n",
    "    \n",
    "    ## Kappa Metrics\n",
    "    kappa_acc_nn = cohen_kappa_score(y_test_nn, yhat_nn)\n",
    "    kappa_acc_list.append(kappa_acc_nn)\n",
    "    \n",
    "    i+=1"
   ]
  },
  {
   "cell_type": "code",
   "execution_count": null,
   "metadata": {
    "ExecuteTime": {
     "end_time": "2021-01-04T01:51:22.770075Z",
     "start_time": "2021-01-04T01:51:22.765076Z"
    },
    "hidden": true
   },
   "outputs": [],
   "source": [
    "print('Avg Balanced Accuracy: {} +/- {}'.format(np.round(np.mean(balanced_acc_list),4), np.round(np.std(balanced_acc_list),4)))\n",
    "print('Avg Kappa: {} +/- {}'.format(np.round(np.mean(kappa_acc_list),4), np.round(np.std(kappa_acc_list),4)))"
   ]
  }
 ],
 "metadata": {
  "kernelspec": {
   "display_name": "Python 3",
   "language": "python",
   "name": "python3"
  },
  "language_info": {
   "codemirror_mode": {
    "name": "ipython",
    "version": 3
   },
   "file_extension": ".py",
   "mimetype": "text/x-python",
   "name": "python",
   "nbconvert_exporter": "python",
   "pygments_lexer": "ipython3",
   "version": "3.8.3"
  },
  "toc": {
   "base_numbering": 1,
   "nav_menu": {},
   "number_sections": true,
   "sideBar": true,
   "skip_h1_title": false,
   "title_cell": "Table of Contents",
   "title_sidebar": "Contents",
   "toc_cell": false,
   "toc_position": {},
   "toc_section_display": true,
   "toc_window_display": false
  }
 },
 "nbformat": 4,
 "nbformat_minor": 4
}
