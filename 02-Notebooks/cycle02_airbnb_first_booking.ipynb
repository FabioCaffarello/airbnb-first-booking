{
 "cells": [
  {
   "cell_type": "markdown",
   "metadata": {
    "ExecuteTime": {
     "end_time": "2021-01-03T18:46:58.923445Z",
     "start_time": "2021-01-03T18:46:58.918448Z"
    },
    "heading_collapsed": true
   },
   "source": [
    "# 0.0 Understanding the Situation"
   ]
  },
  {
   "cell_type": "markdown",
   "metadata": {
    "hidden": true
   },
   "source": [
    "- objective of the proposed situation\n",
    "1. Prediction of the first destination a new user will choose\n",
    "- Why?\n",
    " - What kind of business model does Airbnb have?\n",
    " - Market Place (connecting people who offer accommodation with people who are looking for accommodation)\n",
    " - Offer (people offer accommodation)\n",
    "   - Portifolio size\n",
    "   - Portfolio diversity/density\n",
    "   - Average price\n",
    " - Demand (people looking for accommodation)\n",
    "   - Number of Users\n",
    "   - LTV (Lifetime Value)\n",
    "   - CAC (Client Acquisition Cost)\n",
    " - Gross Revenue  = fee * number of users - CAC (contribution margins)\n",
    " \n",
    " \n",
    "- **Solution**\n",
    " - Prediction model of the first destination of a new user\n",
    " - API\n",
    "   - **Input**: user and its characteristics\n",
    "   - **Output**: user and its characteristics **with the prediction of destination**"
   ]
  },
  {
   "cell_type": "markdown",
   "metadata": {},
   "source": [
    "# 1.0 IMPORTS"
   ]
  },
  {
   "cell_type": "markdown",
   "metadata": {},
   "source": [
    "## 1.1 Libraries"
   ]
  },
  {
   "cell_type": "code",
   "execution_count": null,
   "metadata": {
    "ExecuteTime": {
     "end_time": "2021-01-04T00:40:58.110057Z",
     "start_time": "2021-01-04T00:40:58.101058Z"
    }
   },
   "outputs": [],
   "source": [
    "#!pip install scikit-plot"
   ]
  },
  {
   "cell_type": "code",
   "execution_count": 1,
   "metadata": {
    "ExecuteTime": {
     "end_time": "2021-01-04T22:03:30.461738Z",
     "start_time": "2021-01-04T22:03:11.909201Z"
    }
   },
   "outputs": [],
   "source": [
    "import random\n",
    "\n",
    "import numpy  as np # pip install numpy\n",
    "import pandas as pd  # pip install pandas\n",
    "\n",
    "import seaborn as sns # pip install seaborn\n",
    "\n",
    "from scipy import stats as ss\n",
    "\n",
    "from sklearn.metrics         import accuracy_score, balanced_accuracy_score, cohen_kappa_score, classification_report\n",
    "from sklearn.preprocessing   import OneHotEncoder\n",
    "from sklearn.model_selection import train_test_split, StratifiedKFold  # pip install sklearn\n",
    "\n",
    "from scikitplot.metrics      import plot_confusion_matrix  # pip install scikit-plot\n",
    "\n",
    "from imblearn                import combine        as c\n",
    "from imblearn                import over_sampling  as over\n",
    "from imblearn                import under_sampling as us\n",
    "\n",
    "from keras.models            import Sequential  # pip install keras; pip install tensorflow\n",
    "from keras.layers            import Dense"
   ]
  },
  {
   "cell_type": "markdown",
   "metadata": {
    "heading_collapsed": true
   },
   "source": [
    "## 1.2 Helper Functions"
   ]
  },
  {
   "cell_type": "code",
   "execution_count": 2,
   "metadata": {
    "ExecuteTime": {
     "end_time": "2021-01-04T22:03:30.605831Z",
     "start_time": "2021-01-04T22:03:30.461738Z"
    },
    "hidden": true
   },
   "outputs": [],
   "source": [
    "def cramer_v(x, y):\n",
    "    cm = pd.crosstab(x, y).to_numpy()\n",
    "    n = cm.sum()\n",
    "    r, k = cm.shape\n",
    "    \n",
    "    chi2 = ss.chi2_contingency(cm)[0]\n",
    "    chi2corr = max(0, chi2 - (k-1)*(r-1)/(n-1))\n",
    "    \n",
    "    kcorr = k - (k-1)**2/(n-1)\n",
    "    rcorr = r - (r-1)**2/(n-1)\n",
    "    \n",
    "    return np.sqrt((chi2corr/n)/(min(kcorr-1,rcorr-1)))"
   ]
  },
  {
   "cell_type": "markdown",
   "metadata": {
    "heading_collapsed": true
   },
   "source": [
    "## 1.3 Loading data"
   ]
  },
  {
   "cell_type": "code",
   "execution_count": 3,
   "metadata": {
    "ExecuteTime": {
     "end_time": "2021-01-04T22:03:30.764184Z",
     "start_time": "2021-01-04T22:03:30.611831Z"
    },
    "hidden": true,
    "scrolled": true
   },
   "outputs": [
    {
     "name": "stdout",
     "output_type": "stream",
     "text": [
      "total 648652\n",
      "-rw-r--r-- 1 fabio 197609     11905 Oct 16  2015 age_gender_bkts.csv\n",
      "-rw-r--r-- 1 fabio 197609       632 Oct 16  2015 countries.csv\n",
      "-rw-r--r-- 1 fabio 197609    931451 Dec  6  2015 sample_submission_NDF.csv\n",
      "-rw-r--r-- 1 fabio 197609 631646292 Dec  6  2015 sessions.csv\n",
      "-rw-r--r-- 1 fabio 197609   6763170 May 16  2018 test_users.csv\n",
      "-rw-r--r-- 1 fabio 197609  24853881 Dec 10  2015 train_users_2.csv\n"
     ]
    }
   ],
   "source": [
    "!ls -l ../01-Data/csv_data"
   ]
  },
  {
   "cell_type": "markdown",
   "metadata": {
    "hidden": true
   },
   "source": [
    "### 1.3.1 Training"
   ]
  },
  {
   "cell_type": "code",
   "execution_count": 4,
   "metadata": {
    "ExecuteTime": {
     "end_time": "2021-01-04T22:03:31.583631Z",
     "start_time": "2021-01-04T22:03:30.766568Z"
    },
    "hidden": true
   },
   "outputs": [
    {
     "data": {
      "text/plain": [
       "(213451, 16)"
      ]
     },
     "execution_count": 4,
     "metadata": {},
     "output_type": "execute_result"
    }
   ],
   "source": [
    "df_train_raw = pd.read_csv(\n",
    "    \"../01-Data/csv_data/train_users_2.csv\", low_memory=True)\n",
    "df_train_raw.shape"
   ]
  },
  {
   "cell_type": "markdown",
   "metadata": {
    "hidden": true
   },
   "source": [
    "### 1.3.2 Sessions"
   ]
  },
  {
   "cell_type": "code",
   "execution_count": 5,
   "metadata": {
    "ExecuteTime": {
     "end_time": "2021-01-04T22:03:47.041164Z",
     "start_time": "2021-01-04T22:03:31.585852Z"
    },
    "hidden": true
   },
   "outputs": [
    {
     "data": {
      "text/plain": [
       "(10567737, 6)"
      ]
     },
     "execution_count": 5,
     "metadata": {},
     "output_type": "execute_result"
    }
   ],
   "source": [
    "df_sessions_raw = pd.read_csv(\n",
    "    \"../01-Data/csv_data/sessions.csv\", low_memory=True)\n",
    "df_sessions_raw.shape"
   ]
  },
  {
   "cell_type": "markdown",
   "metadata": {
    "heading_collapsed": true
   },
   "source": [
    "# 2.0 DATA DESCRIPTION"
   ]
  },
  {
   "cell_type": "code",
   "execution_count": 6,
   "metadata": {
    "ExecuteTime": {
     "end_time": "2021-01-04T22:03:47.370877Z",
     "start_time": "2021-01-04T22:03:47.043184Z"
    },
    "hidden": true
   },
   "outputs": [],
   "source": [
    "df_train_01 = df_train_raw.copy()\n",
    "df_sessions_01 = df_sessions_raw.copy()"
   ]
  },
  {
   "cell_type": "markdown",
   "metadata": {
    "heading_collapsed": true,
    "hidden": true
   },
   "source": [
    "## 2.1 Data Dimensions"
   ]
  },
  {
   "cell_type": "markdown",
   "metadata": {
    "heading_collapsed": true,
    "hidden": true
   },
   "source": [
    "### 2.1.1 Training"
   ]
  },
  {
   "cell_type": "code",
   "execution_count": 7,
   "metadata": {
    "ExecuteTime": {
     "end_time": "2021-01-04T22:03:47.386850Z",
     "start_time": "2021-01-04T22:03:47.373232Z"
    },
    "hidden": true,
    "scrolled": true
   },
   "outputs": [
    {
     "name": "stdout",
     "output_type": "stream",
     "text": [
      "Number of Rows: 213451\n",
      "Number of Columns: 16\n"
     ]
    }
   ],
   "source": [
    "print(f'Number of Rows: {df_train_01.shape[0]}')\n",
    "print(f'Number of Columns: {df_train_01.shape[1]}')"
   ]
  },
  {
   "cell_type": "markdown",
   "metadata": {
    "heading_collapsed": true,
    "hidden": true
   },
   "source": [
    "### 2.1.2 Sessions"
   ]
  },
  {
   "cell_type": "code",
   "execution_count": 8,
   "metadata": {
    "ExecuteTime": {
     "end_time": "2021-01-04T22:03:47.402819Z",
     "start_time": "2021-01-04T22:03:47.391851Z"
    },
    "hidden": true
   },
   "outputs": [
    {
     "name": "stdout",
     "output_type": "stream",
     "text": [
      "Number of Rows: 10567737\n",
      "Number of Columns: 6\n"
     ]
    }
   ],
   "source": [
    "print(f'Number of Rows: {df_sessions_01.shape[0]}')\n",
    "print(f'Number of Columns: {df_sessions_01.shape[1]}')"
   ]
  },
  {
   "cell_type": "markdown",
   "metadata": {
    "heading_collapsed": true,
    "hidden": true
   },
   "source": [
    "## 2.2 Data Type"
   ]
  },
  {
   "cell_type": "markdown",
   "metadata": {
    "heading_collapsed": true,
    "hidden": true
   },
   "source": [
    "### 2.2.1 Training"
   ]
  },
  {
   "cell_type": "code",
   "execution_count": 9,
   "metadata": {
    "ExecuteTime": {
     "end_time": "2021-01-04T22:03:47.428527Z",
     "start_time": "2021-01-04T22:03:47.404866Z"
    },
    "hidden": true,
    "scrolled": true
   },
   "outputs": [
    {
     "data": {
      "text/plain": [
       "id                          object\n",
       "date_account_created        object\n",
       "timestamp_first_active       int64\n",
       "date_first_booking          object\n",
       "gender                      object\n",
       "age                        float64\n",
       "signup_method               object\n",
       "signup_flow                  int64\n",
       "language                    object\n",
       "affiliate_channel           object\n",
       "affiliate_provider          object\n",
       "first_affiliate_tracked     object\n",
       "signup_app                  object\n",
       "first_device_type           object\n",
       "first_browser               object\n",
       "country_destination         object\n",
       "dtype: object"
      ]
     },
     "execution_count": 9,
     "metadata": {},
     "output_type": "execute_result"
    }
   ],
   "source": [
    "df_train_01.dtypes"
   ]
  },
  {
   "cell_type": "markdown",
   "metadata": {
    "heading_collapsed": true,
    "hidden": true
   },
   "source": [
    "### 2.2.2 Sessions"
   ]
  },
  {
   "cell_type": "code",
   "execution_count": 10,
   "metadata": {
    "ExecuteTime": {
     "end_time": "2021-01-04T22:03:47.459131Z",
     "start_time": "2021-01-04T22:03:47.433533Z"
    },
    "hidden": true
   },
   "outputs": [
    {
     "data": {
      "text/plain": [
       "user_id           object\n",
       "action            object\n",
       "action_type       object\n",
       "action_detail     object\n",
       "device_type       object\n",
       "secs_elapsed     float64\n",
       "dtype: object"
      ]
     },
     "execution_count": 10,
     "metadata": {},
     "output_type": "execute_result"
    }
   ],
   "source": [
    "df_sessions_01.dtypes"
   ]
  },
  {
   "cell_type": "markdown",
   "metadata": {
    "heading_collapsed": true,
    "hidden": true
   },
   "source": [
    "## 2.3 NA Check"
   ]
  },
  {
   "cell_type": "markdown",
   "metadata": {
    "heading_collapsed": true,
    "hidden": true
   },
   "source": [
    "### 2.3.1 Training"
   ]
  },
  {
   "cell_type": "code",
   "execution_count": 11,
   "metadata": {
    "ExecuteTime": {
     "end_time": "2021-01-04T22:03:47.704354Z",
     "start_time": "2021-01-04T22:03:47.460281Z"
    },
    "hidden": true
   },
   "outputs": [
    {
     "data": {
      "text/plain": [
       "id                         0.000000\n",
       "date_account_created       0.000000\n",
       "timestamp_first_active     0.000000\n",
       "date_first_booking         0.583473\n",
       "gender                     0.000000\n",
       "age                        0.412226\n",
       "signup_method              0.000000\n",
       "signup_flow                0.000000\n",
       "language                   0.000000\n",
       "affiliate_channel          0.000000\n",
       "affiliate_provider         0.000000\n",
       "first_affiliate_tracked    0.028414\n",
       "signup_app                 0.000000\n",
       "first_device_type          0.000000\n",
       "first_browser              0.000000\n",
       "country_destination        0.000000\n",
       "dtype: float64"
      ]
     },
     "execution_count": 11,
     "metadata": {},
     "output_type": "execute_result"
    }
   ],
   "source": [
    "df_train_01.isnull().sum() / len(df_train_01)"
   ]
  },
  {
   "cell_type": "code",
   "execution_count": 12,
   "metadata": {
    "ExecuteTime": {
     "end_time": "2021-01-04T22:03:47.807176Z",
     "start_time": "2021-01-04T22:03:47.704354Z"
    },
    "hidden": true
   },
   "outputs": [
    {
     "data": {
      "text/plain": [
       "NDF    1.0\n",
       "Name: country_destination, dtype: float64"
      ]
     },
     "execution_count": 12,
     "metadata": {},
     "output_type": "execute_result"
    }
   ],
   "source": [
    "aux = df_train_01[df_train_01['date_first_booking'].isnull()]\n",
    "aux['country_destination'].value_counts(normalize=True)"
   ]
  },
  {
   "cell_type": "code",
   "execution_count": 13,
   "metadata": {
    "ExecuteTime": {
     "end_time": "2021-01-04T22:03:47.883845Z",
     "start_time": "2021-01-04T22:03:47.807176Z"
    },
    "hidden": true
   },
   "outputs": [
    {
     "data": {
      "text/plain": [
       "NDF      0.768428\n",
       "US       0.156529\n",
       "other    0.028617\n",
       "FR       0.014888\n",
       "IT       0.009081\n",
       "GB       0.006251\n",
       "ES       0.006171\n",
       "CA       0.003989\n",
       "DE       0.002387\n",
       "NL       0.001818\n",
       "AU       0.001171\n",
       "PT       0.000671\n",
       "Name: country_destination, dtype: float64"
      ]
     },
     "execution_count": 13,
     "metadata": {},
     "output_type": "execute_result"
    }
   ],
   "source": [
    "aux = df_train_01[df_train_01['age'].isnull()]\n",
    "aux['country_destination'].value_counts(normalize=True)"
   ]
  },
  {
   "cell_type": "code",
   "execution_count": 14,
   "metadata": {
    "ExecuteTime": {
     "end_time": "2021-01-04T22:03:48.541300Z",
     "start_time": "2021-01-04T22:03:47.883845Z"
    },
    "hidden": true
   },
   "outputs": [
    {
     "data": {
      "image/png": "[encoded data removed]",
      "text/plain": [
       "<Figure size 360x360 with 1 Axes>"
      ]
     },
     "metadata": {
      "needs_background": "light"
     },
     "output_type": "display_data"
    }
   ],
   "source": [
    "sns.displot(df_train_01[df_train_01['age']<75]['age'], kind='ecdf');"
   ]
  },
  {
   "cell_type": "code",
   "execution_count": 15,
   "metadata": {
    "ExecuteTime": {
     "end_time": "2021-01-04T22:03:48.589819Z",
     "start_time": "2021-01-04T22:03:48.546097Z"
    },
    "hidden": true
   },
   "outputs": [
    {
     "data": {
      "text/plain": [
       "0            untracked\n",
       "5                  omg\n",
       "12                 NaN\n",
       "13              linked\n",
       "79       tracked-other\n",
       "257            product\n",
       "6270         marketing\n",
       "11184        local ops\n",
       "Name: first_affiliate_tracked, dtype: object"
      ]
     },
     "execution_count": 15,
     "metadata": {},
     "output_type": "execute_result"
    }
   ],
   "source": [
    "df_train_01['first_affiliate_tracked'].drop_duplicates()"
   ]
  },
  {
   "cell_type": "code",
   "execution_count": 16,
   "metadata": {
    "ExecuteTime": {
     "end_time": "2021-01-04T22:03:48.797622Z",
     "start_time": "2021-01-04T22:03:48.591820Z"
    },
    "hidden": true
   },
   "outputs": [
    {
     "data": {
      "text/plain": [
       "(122636, 16)"
      ]
     },
     "execution_count": 16,
     "metadata": {},
     "output_type": "execute_result"
    }
   ],
   "source": [
    "# remove missing values completely\n",
    "#df_train_01 = df_train_01.dropna()\n",
    "\n",
    "# date_first_booking\n",
    "date_first_booking_max = pd.to_datetime(df_train_01['date_first_booking']).max().strftime('%Y-%m-%d')\n",
    "df_train_01['date_first_booking'] = df_train_01['date_first_booking'].fillna(date_first_booking_max)\n",
    "\n",
    "# age\n",
    "df_train_01 = df_train_01[(df_train_01['age'] > 15) & (df_train_01['age'] < 120)]\n",
    "avg_age = int(df_train_01['age'].mean())\n",
    "df_train_01['age'] = df_train_01['age'].fillna(avg_age)\n",
    "\n",
    "# first_affiliate_tracked\n",
    "# remove missing values completely\n",
    "df_train_01 = df_train_01[~df_train_01['first_affiliate_tracked'].isnull()]\n",
    "\n",
    "df_train_01.shape"
   ]
  },
  {
   "cell_type": "markdown",
   "metadata": {
    "heading_collapsed": true,
    "hidden": true
   },
   "source": [
    "### 2.3.2 Sessions"
   ]
  },
  {
   "cell_type": "code",
   "execution_count": 17,
   "metadata": {
    "ExecuteTime": {
     "end_time": "2021-01-04T22:03:52.467032Z",
     "start_time": "2021-01-04T22:03:48.797622Z"
    },
    "hidden": true,
    "scrolled": true
   },
   "outputs": [
    {
     "data": {
      "text/plain": [
       "user_id          0.003264\n",
       "action           0.007535\n",
       "action_type      0.106570\n",
       "action_detail    0.106570\n",
       "device_type      0.000000\n",
       "secs_elapsed     0.012872\n",
       "dtype: float64"
      ]
     },
     "execution_count": 17,
     "metadata": {},
     "output_type": "execute_result"
    }
   ],
   "source": [
    "df_sessions_01.isnull().sum() / len(df_sessions_01)"
   ]
  },
  {
   "cell_type": "code",
   "execution_count": 18,
   "metadata": {
    "ExecuteTime": {
     "end_time": "2021-01-04T22:04:01.582260Z",
     "start_time": "2021-01-04T22:03:52.467032Z"
    },
    "hidden": true
   },
   "outputs": [
    {
     "data": {
      "text/plain": [
       "(9213930, 6)"
      ]
     },
     "execution_count": 18,
     "metadata": {},
     "output_type": "execute_result"
    }
   ],
   "source": [
    "# remove missing values completely\n",
    "## user_id - 0.3%\n",
    "df_sessions_01 = df_sessions_01[~df_sessions_01['user_id'].isnull()]\n",
    "\n",
    "## action - 0.75%\n",
    "df_sessions_01 = df_sessions_01[~df_sessions_01['action'].isnull()]\n",
    "\n",
    "## action_type - 10.65%\n",
    "df_sessions_01 = df_sessions_01[~df_sessions_01['action_type'].isnull()]\n",
    "\n",
    "## action_detail - 10.65%\n",
    "df_sessions_01 = df_sessions_01[~df_sessions_01['action_detail'].isnull()]\n",
    "\n",
    "## secs_elapsed - 1.3%\n",
    "df_sessions_01 = df_sessions_01[~df_sessions_01['secs_elapsed'].isnull()]\n",
    "\n",
    "df_sessions_01.shape"
   ]
  },
  {
   "cell_type": "markdown",
   "metadata": {
    "heading_collapsed": true,
    "hidden": true
   },
   "source": [
    "## 2.4 Change Data type "
   ]
  },
  {
   "cell_type": "markdown",
   "metadata": {
    "heading_collapsed": true,
    "hidden": true
   },
   "source": [
    "### 2.4.1 Training"
   ]
  },
  {
   "cell_type": "code",
   "execution_count": 19,
   "metadata": {
    "ExecuteTime": {
     "end_time": "2021-01-04T22:04:02.459549Z",
     "start_time": "2021-01-04T22:04:01.582260Z"
    },
    "hidden": true
   },
   "outputs": [],
   "source": [
    "# date_account_created\n",
    "df_train_01['date_account_created'] = pd.to_datetime(\n",
    "    df_train_01['date_account_created'])\n",
    "# timestamp_first_active\n",
    "df_train_01['timestamp_first_active'] = pd.to_datetime(\n",
    "    df_train_01['timestamp_first_active'], format='%Y%m%d%H%M%S')\n",
    "# date_first_booking\n",
    "df_train_01['date_first_booking'] = pd.to_datetime(\n",
    "    df_train_01['date_first_booking'])\n",
    "\n",
    "# age\n",
    "df_train_01['age'] = df_train_01['age'].astype(int)"
   ]
  },
  {
   "cell_type": "code",
   "execution_count": 20,
   "metadata": {
    "ExecuteTime": {
     "end_time": "2021-01-04T22:04:02.474985Z",
     "start_time": "2021-01-04T22:04:02.459549Z"
    },
    "hidden": true,
    "scrolled": true
   },
   "outputs": [
    {
     "data": {
      "text/plain": [
       "id                                 object\n",
       "date_account_created       datetime64[ns]\n",
       "timestamp_first_active     datetime64[ns]\n",
       "date_first_booking         datetime64[ns]\n",
       "gender                             object\n",
       "age                                 int32\n",
       "signup_method                      object\n",
       "signup_flow                         int64\n",
       "language                           object\n",
       "affiliate_channel                  object\n",
       "affiliate_provider                 object\n",
       "first_affiliate_tracked            object\n",
       "signup_app                         object\n",
       "first_device_type                  object\n",
       "first_browser                      object\n",
       "country_destination                object\n",
       "dtype: object"
      ]
     },
     "execution_count": 20,
     "metadata": {},
     "output_type": "execute_result"
    }
   ],
   "source": [
    "df_train_01.dtypes"
   ]
  },
  {
   "cell_type": "markdown",
   "metadata": {
    "heading_collapsed": true,
    "hidden": true
   },
   "source": [
    "## 2.5 Check Balanced Data"
   ]
  },
  {
   "cell_type": "markdown",
   "metadata": {
    "heading_collapsed": true,
    "hidden": true
   },
   "source": [
    "### 2.5.1 Training"
   ]
  },
  {
   "cell_type": "code",
   "execution_count": 21,
   "metadata": {
    "ExecuteTime": {
     "end_time": "2021-01-04T22:04:02.512039Z",
     "start_time": "2021-01-04T22:04:02.478987Z"
    },
    "hidden": true,
    "scrolled": true
   },
   "outputs": [
    {
     "data": {
      "text/plain": [
       "NDF      0.447275\n",
       "US       0.391867\n",
       "other    0.061246\n",
       "FR       0.029918\n",
       "IT       0.016423\n",
       "GB       0.014335\n",
       "ES       0.013740\n",
       "CA       0.008676\n",
       "DE       0.006858\n",
       "NL       0.004852\n",
       "AU       0.003531\n",
       "PT       0.001280\n",
       "Name: country_destination, dtype: float64"
      ]
     },
     "execution_count": 21,
     "metadata": {},
     "output_type": "execute_result"
    }
   ],
   "source": [
    "df_train_01['country_destination'].value_counts(normalize=True)"
   ]
  },
  {
   "cell_type": "markdown",
   "metadata": {
    "heading_collapsed": true,
    "hidden": true
   },
   "source": [
    "## 2.6 Descriptive Analysis"
   ]
  },
  {
   "cell_type": "markdown",
   "metadata": {
    "heading_collapsed": true,
    "hidden": true
   },
   "source": [
    "### 2.6.1 General"
   ]
  },
  {
   "cell_type": "code",
   "execution_count": 22,
   "metadata": {
    "ExecuteTime": {
     "end_time": "2021-01-04T22:04:03.234405Z",
     "start_time": "2021-01-04T22:04:02.512039Z"
    },
    "hidden": true
   },
   "outputs": [],
   "source": [
    "## Users\n",
    "num_attributes = df_train_01.select_dtypes(include=['int32', 'int64', 'float64'])\n",
    "cat_attributes = df_train_01.select_dtypes(exclude=['int32','int64', 'float64', 'datetime64[ns]'])\n",
    "time_attributes = df_train_01.select_dtypes(include=['datetime64[ns]'])\n",
    "\n",
    "## Sessions\n",
    "num_attributes_sessions = df_sessions_01.select_dtypes(include=['int32', 'int64', 'float64'])\n",
    "cat_attributes_sessions = df_sessions_01.select_dtypes(exclude=['int32','int64', 'float64', 'datetime64[ns]'])\n",
    "time_attributes_sessions = df_sessions_01.select_dtypes(include=['datetime64[ns]'])"
   ]
  },
  {
   "cell_type": "markdown",
   "metadata": {
    "heading_collapsed": true,
    "hidden": true
   },
   "source": [
    "### 2.6.2 Numerical Users"
   ]
  },
  {
   "cell_type": "code",
   "execution_count": 23,
   "metadata": {
    "ExecuteTime": {
     "end_time": "2021-01-04T22:04:03.450819Z",
     "start_time": "2021-01-04T22:04:03.234405Z"
    },
    "hidden": true
   },
   "outputs": [
    {
     "data": {
      "text/html": [
       "<div>\n",
       "<style scoped>\n",
       "    .dataframe tbody tr th:only-of-type {\n",
       "        vertical-align: middle;\n",
       "    }\n",
       "\n",
       "    .dataframe tbody tr th {\n",
       "        vertical-align: top;\n",
       "    }\n",
       "\n",
       "    .dataframe thead th {\n",
       "        text-align: right;\n",
       "    }\n",
       "</style>\n",
       "<table border=\"1\" class=\"dataframe\">\n",
       "  <thead>\n",
       "    <tr style=\"text-align: right;\">\n",
       "      <th></th>\n",
       "      <th>attributes</th>\n",
       "      <th>min</th>\n",
       "      <th>max</th>\n",
       "      <th>range</th>\n",
       "      <th>mean</th>\n",
       "      <th>median</th>\n",
       "      <th>std</th>\n",
       "      <th>skew</th>\n",
       "      <th>kurtosis</th>\n",
       "    </tr>\n",
       "  </thead>\n",
       "  <tbody>\n",
       "    <tr>\n",
       "      <th>0</th>\n",
       "      <td>age</td>\n",
       "      <td>16.0</td>\n",
       "      <td>115.0</td>\n",
       "      <td>99.0</td>\n",
       "      <td>37.405591</td>\n",
       "      <td>34.0</td>\n",
       "      <td>13.939844</td>\n",
       "      <td>2.089718</td>\n",
       "      <td>6.516468</td>\n",
       "    </tr>\n",
       "    <tr>\n",
       "      <th>1</th>\n",
       "      <td>signup_flow</td>\n",
       "      <td>0.0</td>\n",
       "      <td>25.0</td>\n",
       "      <td>25.0</td>\n",
       "      <td>2.519513</td>\n",
       "      <td>0.0</td>\n",
       "      <td>6.604696</td>\n",
       "      <td>2.705871</td>\n",
       "      <td>5.928298</td>\n",
       "    </tr>\n",
       "  </tbody>\n",
       "</table>\n",
       "</div>"
      ],
      "text/plain": [
       "    attributes   min    max  range       mean  median        std      skew  \\\n",
       "0          age  16.0  115.0   99.0  37.405591    34.0  13.939844  2.089718   \n",
       "1  signup_flow   0.0   25.0   25.0   2.519513     0.0   6.604696  2.705871   \n",
       "\n",
       "   kurtosis  \n",
       "0  6.516468  \n",
       "1  5.928298  "
      ]
     },
     "execution_count": 23,
     "metadata": {},
     "output_type": "execute_result"
    }
   ],
   "source": [
    "# Central Tendency - Mean, Mediam\n",
    "ct1 = pd.DataFrame(num_attributes.apply(np.mean)).T\n",
    "ct2 = pd.DataFrame(num_attributes.apply(np.median)).T\n",
    "\n",
    "# Dispersions - Std, Min, Max, Range, Skew, Kurtosis\n",
    "d1 = pd.DataFrame(num_attributes.apply(np.std)).T\n",
    "d2 = pd.DataFrame(num_attributes.apply(min)).T\n",
    "d3 = pd.DataFrame(num_attributes.apply(max)).T\n",
    "d4 = pd.DataFrame(num_attributes.apply(lambda x: x.max() - x.min())).T\n",
    "d5 = pd.DataFrame(num_attributes.apply(lambda x: x.skew())).T\n",
    "d6 = pd.DataFrame(num_attributes.apply(lambda x: x.kurtosis())).T\n",
    "                  \n",
    "# Concatenate\n",
    "ct = pd.concat([d2, d3, d4, ct1, ct2, d1, d5, d6]).T.reset_index()\n",
    "ct.columns = ['attributes', 'min', 'max', 'range', 'mean', 'median', 'std', 'skew', 'kurtosis']\n",
    "ct"
   ]
  },
  {
   "cell_type": "markdown",
   "metadata": {
    "heading_collapsed": true,
    "hidden": true
   },
   "source": [
    "### 2.6.3 Numerical Sessions"
   ]
  },
  {
   "cell_type": "code",
   "execution_count": 24,
   "metadata": {
    "ExecuteTime": {
     "end_time": "2021-01-04T22:04:07.943878Z",
     "start_time": "2021-01-04T22:04:03.450819Z"
    },
    "hidden": true
   },
   "outputs": [
    {
     "data": {
      "text/html": [
       "<div>\n",
       "<style scoped>\n",
       "    .dataframe tbody tr th:only-of-type {\n",
       "        vertical-align: middle;\n",
       "    }\n",
       "\n",
       "    .dataframe tbody tr th {\n",
       "        vertical-align: top;\n",
       "    }\n",
       "\n",
       "    .dataframe thead th {\n",
       "        text-align: right;\n",
       "    }\n",
       "</style>\n",
       "<table border=\"1\" class=\"dataframe\">\n",
       "  <thead>\n",
       "    <tr style=\"text-align: right;\">\n",
       "      <th></th>\n",
       "      <th>attributes</th>\n",
       "      <th>min</th>\n",
       "      <th>max</th>\n",
       "      <th>range</th>\n",
       "      <th>mean</th>\n",
       "      <th>median</th>\n",
       "      <th>std</th>\n",
       "      <th>skew</th>\n",
       "      <th>kurtosis</th>\n",
       "    </tr>\n",
       "  </thead>\n",
       "  <tbody>\n",
       "    <tr>\n",
       "      <th>0</th>\n",
       "      <td>secs_elapsed</td>\n",
       "      <td>0.0</td>\n",
       "      <td>1799977.0</td>\n",
       "      <td>1799977.0</td>\n",
       "      <td>19961.8251</td>\n",
       "      <td>1369.0</td>\n",
       "      <td>88849.388449</td>\n",
       "      <td>11.137761</td>\n",
       "      <td>154.84312</td>\n",
       "    </tr>\n",
       "  </tbody>\n",
       "</table>\n",
       "</div>"
      ],
      "text/plain": [
       "     attributes  min        max      range        mean  median           std  \\\n",
       "0  secs_elapsed  0.0  1799977.0  1799977.0  19961.8251  1369.0  88849.388449   \n",
       "\n",
       "        skew   kurtosis  \n",
       "0  11.137761  154.84312  "
      ]
     },
     "execution_count": 24,
     "metadata": {},
     "output_type": "execute_result"
    }
   ],
   "source": [
    "# Central Tendency - Mean, Mediam\n",
    "ct1 = pd.DataFrame(num_attributes_sessions.apply(np.mean)).T\n",
    "ct2 = pd.DataFrame(num_attributes_sessions.apply(np.median)).T\n",
    "\n",
    "# Dispersions - Std, Min, Max, Range, Skew, Kurtosis\n",
    "d1 = pd.DataFrame(num_attributes_sessions.apply(np.std)).T\n",
    "d2 = pd.DataFrame(num_attributes_sessions.apply(min)).T\n",
    "d3 = pd.DataFrame(num_attributes_sessions.apply(max)).T\n",
    "d4 = pd.DataFrame(num_attributes_sessions.apply(lambda x: x.max() - x.min())).T\n",
    "d5 = pd.DataFrame(num_attributes_sessions.apply(lambda x: x.skew())).T\n",
    "d6 = pd.DataFrame(num_attributes_sessions.apply(lambda x: x.kurtosis())).T\n",
    "\n",
    "# Concatenate\n",
    "ct = pd.concat([d2, d3, d4, ct1, ct2, d1, d5, d6]).T.reset_index()\n",
    "ct.columns = ['attributes', 'min', 'max', 'range', 'mean', 'median', 'std', 'skew', 'kurtosis']\n",
    "ct"
   ]
  },
  {
   "cell_type": "markdown",
   "metadata": {
    "heading_collapsed": true,
    "hidden": true
   },
   "source": [
    "### 2.6.3 Categorical Users"
   ]
  },
  {
   "cell_type": "code",
   "execution_count": 25,
   "metadata": {
    "ExecuteTime": {
     "end_time": "2021-01-04T22:04:08.337867Z",
     "start_time": "2021-01-04T22:04:07.946015Z"
    },
    "hidden": true
   },
   "outputs": [
    {
     "data": {
      "text/html": [
       "<div>\n",
       "<style scoped>\n",
       "    .dataframe tbody tr th:only-of-type {\n",
       "        vertical-align: middle;\n",
       "    }\n",
       "\n",
       "    .dataframe tbody tr th {\n",
       "        vertical-align: top;\n",
       "    }\n",
       "\n",
       "    .dataframe thead th {\n",
       "        text-align: right;\n",
       "    }\n",
       "</style>\n",
       "<table border=\"1\" class=\"dataframe\">\n",
       "  <thead>\n",
       "    <tr style=\"text-align: right;\">\n",
       "      <th></th>\n",
       "      <th>gender</th>\n",
       "      <th>signup_method</th>\n",
       "      <th>language</th>\n",
       "      <th>affiliate_channel</th>\n",
       "      <th>affiliate_provider</th>\n",
       "      <th>first_affiliate_tracked</th>\n",
       "      <th>signup_app</th>\n",
       "      <th>first_device_type</th>\n",
       "      <th>first_browser</th>\n",
       "      <th>country_destination</th>\n",
       "    </tr>\n",
       "  </thead>\n",
       "  <tbody>\n",
       "    <tr>\n",
       "      <th>count</th>\n",
       "      <td>122636</td>\n",
       "      <td>122636</td>\n",
       "      <td>122636</td>\n",
       "      <td>122636</td>\n",
       "      <td>122636</td>\n",
       "      <td>122636</td>\n",
       "      <td>122636</td>\n",
       "      <td>122636</td>\n",
       "      <td>122636</td>\n",
       "      <td>122636</td>\n",
       "    </tr>\n",
       "    <tr>\n",
       "      <th>unique</th>\n",
       "      <td>4</td>\n",
       "      <td>3</td>\n",
       "      <td>25</td>\n",
       "      <td>8</td>\n",
       "      <td>17</td>\n",
       "      <td>7</td>\n",
       "      <td>4</td>\n",
       "      <td>9</td>\n",
       "      <td>41</td>\n",
       "      <td>12</td>\n",
       "    </tr>\n",
       "    <tr>\n",
       "      <th>top</th>\n",
       "      <td>FEMALE</td>\n",
       "      <td>basic</td>\n",
       "      <td>en</td>\n",
       "      <td>direct</td>\n",
       "      <td>direct</td>\n",
       "      <td>untracked</td>\n",
       "      <td>Web</td>\n",
       "      <td>Mac Desktop</td>\n",
       "      <td>Chrome</td>\n",
       "      <td>NDF</td>\n",
       "    </tr>\n",
       "    <tr>\n",
       "      <th>freq</th>\n",
       "      <td>56362</td>\n",
       "      <td>66039</td>\n",
       "      <td>118205</td>\n",
       "      <td>79093</td>\n",
       "      <td>78954</td>\n",
       "      <td>64712</td>\n",
       "      <td>108283</td>\n",
       "      <td>57943</td>\n",
       "      <td>41778</td>\n",
       "      <td>54852</td>\n",
       "    </tr>\n",
       "  </tbody>\n",
       "</table>\n",
       "</div>"
      ],
      "text/plain": [
       "        gender signup_method language affiliate_channel affiliate_provider  \\\n",
       "count   122636        122636   122636            122636             122636   \n",
       "unique       4             3       25                 8                 17   \n",
       "top     FEMALE         basic       en            direct             direct   \n",
       "freq     56362         66039   118205             79093              78954   \n",
       "\n",
       "       first_affiliate_tracked signup_app first_device_type first_browser  \\\n",
       "count                   122636     122636            122636        122636   \n",
       "unique                       7          4                 9            41   \n",
       "top                  untracked        Web       Mac Desktop        Chrome   \n",
       "freq                     64712     108283             57943         41778   \n",
       "\n",
       "       country_destination  \n",
       "count               122636  \n",
       "unique                  12  \n",
       "top                    NDF  \n",
       "freq                 54852  "
      ]
     },
     "execution_count": 25,
     "metadata": {},
     "output_type": "execute_result"
    }
   ],
   "source": [
    "cat_attributes.drop('id', axis=1).describe()"
   ]
  },
  {
   "cell_type": "markdown",
   "metadata": {
    "heading_collapsed": true,
    "hidden": true
   },
   "source": [
    "### 2.6.4 Categorical Sessions"
   ]
  },
  {
   "cell_type": "code",
   "execution_count": 26,
   "metadata": {
    "ExecuteTime": {
     "end_time": "2021-01-04T22:04:18.082770Z",
     "start_time": "2021-01-04T22:04:08.337867Z"
    },
    "hidden": true,
    "scrolled": true
   },
   "outputs": [
    {
     "data": {
      "text/html": [
       "<div>\n",
       "<style scoped>\n",
       "    .dataframe tbody tr th:only-of-type {\n",
       "        vertical-align: middle;\n",
       "    }\n",
       "\n",
       "    .dataframe tbody tr th {\n",
       "        vertical-align: top;\n",
       "    }\n",
       "\n",
       "    .dataframe thead th {\n",
       "        text-align: right;\n",
       "    }\n",
       "</style>\n",
       "<table border=\"1\" class=\"dataframe\">\n",
       "  <thead>\n",
       "    <tr style=\"text-align: right;\">\n",
       "      <th></th>\n",
       "      <th>action</th>\n",
       "      <th>action_type</th>\n",
       "      <th>action_detail</th>\n",
       "      <th>device_type</th>\n",
       "    </tr>\n",
       "  </thead>\n",
       "  <tbody>\n",
       "    <tr>\n",
       "      <th>count</th>\n",
       "      <td>9213930</td>\n",
       "      <td>9213930</td>\n",
       "      <td>9213930</td>\n",
       "      <td>9213930</td>\n",
       "    </tr>\n",
       "    <tr>\n",
       "      <th>unique</th>\n",
       "      <td>347</td>\n",
       "      <td>10</td>\n",
       "      <td>155</td>\n",
       "      <td>14</td>\n",
       "    </tr>\n",
       "    <tr>\n",
       "      <th>top</th>\n",
       "      <td>show</td>\n",
       "      <td>view</td>\n",
       "      <td>view_search_results</td>\n",
       "      <td>Mac Desktop</td>\n",
       "    </tr>\n",
       "    <tr>\n",
       "      <th>freq</th>\n",
       "      <td>2178382</td>\n",
       "      <td>3545621</td>\n",
       "      <td>1770931</td>\n",
       "      <td>3019523</td>\n",
       "    </tr>\n",
       "  </tbody>\n",
       "</table>\n",
       "</div>"
      ],
      "text/plain": [
       "         action action_type        action_detail  device_type\n",
       "count   9213930     9213930              9213930      9213930\n",
       "unique      347          10                  155           14\n",
       "top        show        view  view_search_results  Mac Desktop\n",
       "freq    2178382     3545621              1770931      3019523"
      ]
     },
     "execution_count": 26,
     "metadata": {},
     "output_type": "execute_result"
    }
   ],
   "source": [
    "cat_attributes_sessions.drop('user_id', axis=1).describe()"
   ]
  },
  {
   "cell_type": "code",
   "execution_count": 27,
   "metadata": {
    "ExecuteTime": {
     "end_time": "2021-01-04T22:05:19.889445Z",
     "start_time": "2021-01-04T22:04:18.082770Z"
    },
    "hidden": true
   },
   "outputs": [],
   "source": [
    "# list of attributes for Cramer's V correlation\n",
    "cat_attributes_list = cat_attributes_sessions.drop('user_id', axis=1).columns.tolist()\n",
    "\n",
    "corr_dict = {}\n",
    "for i in range(len(cat_attributes_list)):\n",
    "    corr_list = []\n",
    "    for j in range(len(cat_attributes_list)):\n",
    "        ref = cat_attributes_list[i]\n",
    "        feat = cat_attributes_list[j]\n",
    "        \n",
    "        # correlation\n",
    "        corr = cramer_v(cat_attributes_sessions[ref], cat_attributes_sessions[feat])\n",
    "        \n",
    "        # append list\n",
    "        corr_list.append(corr)\n",
    "        \n",
    "    # append correlation list for each ref attributes  \n",
    "    corr_dict[ref] = corr_list\n",
    "    \n",
    "#d = pd.DataFrame(corr_dict)"
   ]
  },
  {
   "cell_type": "code",
   "execution_count": 28,
   "metadata": {
    "ExecuteTime": {
     "end_time": "2021-01-04T22:05:20.439069Z",
     "start_time": "2021-01-04T22:05:19.893028Z"
    },
    "hidden": true
   },
   "outputs": [
    {
     "data": {
      "image/png": "[encoded data removed]",
      "text/plain": [
       "<Figure size 432x288 with 2 Axes>"
      ]
     },
     "metadata": {
      "needs_background": "light"
     },
     "output_type": "display_data"
    }
   ],
   "source": [
    "d = pd.DataFrame(corr_dict)\n",
    "d = d.set_index(d.columns)\n",
    "sns.heatmap(d, annot=True);"
   ]
  },
  {
   "cell_type": "markdown",
   "metadata": {
    "heading_collapsed": true
   },
   "source": [
    "# 3.0 Feature Engineering"
   ]
  },
  {
   "cell_type": "code",
   "execution_count": 29,
   "metadata": {
    "ExecuteTime": {
     "end_time": "2021-01-04T22:05:20.798915Z",
     "start_time": "2021-01-04T22:05:20.439069Z"
    },
    "hidden": true
   },
   "outputs": [],
   "source": [
    "df_train_02 = df_train_01.copy()\n",
    "df_sessions_02 = df_sessions_01.copy()"
   ]
  },
  {
   "cell_type": "code",
   "execution_count": 30,
   "metadata": {
    "ExecuteTime": {
     "end_time": "2021-01-04T22:05:29.149748Z",
     "start_time": "2021-01-04T22:05:20.798915Z"
    },
    "hidden": true
   },
   "outputs": [
    {
     "name": "stderr",
     "output_type": "stream",
     "text": [
      "<ipython-input-30-e523a0ac8692>:30: FutureWarning: Series.dt.weekofyear and Series.dt.week have been deprecated.  Please use Series.dt.isocalendar().week instead.\n",
      "  df_train_02['week_of_year_first_active'] = df_train_02['first_active'].dt.weekofyear\n",
      "<ipython-input-30-e523a0ac8692>:47: FutureWarning: Series.dt.weekofyear and Series.dt.week have been deprecated.  Please use Series.dt.isocalendar().week instead.\n",
      "  df_train_02['week_of_year_first_booking'] = df_train_02['date_first_booking'].dt.weekofyear\n",
      "<ipython-input-30-e523a0ac8692>:64: FutureWarning: Series.dt.weekofyear and Series.dt.week have been deprecated.  Please use Series.dt.isocalendar().week instead.\n",
      "  df_train_02['week_of_year_account_created'] = df_train_02['date_account_created'].dt.weekofyear\n"
     ]
    }
   ],
   "source": [
    "# days from first activate up to first booking\n",
    "df_train_02['first_active'] = pd.to_datetime(\n",
    "    df_train_02['timestamp_first_active'].dt.strftime('%Y-%m-%d'))\n",
    "df_train_02['days_from_first_active_until_booking'] = (\n",
    "    df_train_02['date_first_booking'] - df_train_02['first_active']).apply(lambda x: x.days)\n",
    "\n",
    "# days from first activate up to account created\n",
    "df_train_02['days_from_first_active_until_account_created'] = (\n",
    "    df_train_02['date_account_created'] - df_train_02['first_active']).apply(lambda x: x.days)\n",
    "\n",
    "# days from account created up to first booking\n",
    "df_train_02['days_from_account_created_until_first_booking'] = (\n",
    "    df_train_02['date_first_booking'] - df_train_02['date_account_created']).apply(lambda x: x.days)\n",
    "\n",
    "\n",
    "# =============================== first active ===============================\n",
    "# year first active\n",
    "df_train_02['year_first_active'] = df_train_02['first_active'].dt.year\n",
    "\n",
    "# month first active\n",
    "df_train_02['month_first_active'] = df_train_02['first_active'].dt.month\n",
    "\n",
    "# day first active\n",
    "df_train_02['day_first_active'] = df_train_02['first_active'].dt.day\n",
    "\n",
    "# day of week first active\n",
    "df_train_02['day_of_week_first_active'] = df_train_02['first_active'].dt.dayofweek\n",
    "\n",
    "# week of year of first active\n",
    "df_train_02['week_of_year_first_active'] = df_train_02['first_active'].dt.weekofyear\n",
    "\n",
    "\n",
    "# =============================== first booking ===============================\n",
    "# year first booking\n",
    "df_train_02['year_first_booking'] = df_train_02['date_first_booking'].dt.year\n",
    "\n",
    "# month first booking\n",
    "df_train_02['month_first_booking'] = df_train_02['date_first_booking'].dt.month\n",
    "\n",
    "# day first booking\n",
    "df_train_02['day_first_booking'] = df_train_02['date_first_booking'].dt.day\n",
    "\n",
    "# day of week first booking\n",
    "df_train_02['day_of_week_first_booking'] = df_train_02['date_first_booking'].dt.dayofweek\n",
    "\n",
    "# week of year of first booking\n",
    "df_train_02['week_of_year_first_booking'] = df_train_02['date_first_booking'].dt.weekofyear\n",
    "\n",
    "\n",
    "# =============================== first account created ===============================\n",
    "# year first booking\n",
    "df_train_02['year_account_created'] = df_train_02['date_account_created'].dt.year\n",
    "\n",
    "# month first booking\n",
    "df_train_02['month_account_created'] = df_train_02['date_account_created'].dt.month\n",
    "\n",
    "# day first booking\n",
    "df_train_02['day_account_created'] = df_train_02['date_account_created'].dt.day\n",
    "\n",
    "# day of week first booking\n",
    "df_train_02['day_of_week_account_created'] = df_train_02['date_account_created'].dt.dayofweek\n",
    "\n",
    "# week of year of first booking\n",
    "df_train_02['week_of_year_account_created'] = df_train_02['date_account_created'].dt.weekofyear"
   ]
  },
  {
   "cell_type": "markdown",
   "metadata": {
    "heading_collapsed": true
   },
   "source": [
    "# 4.0 Data Filtering"
   ]
  },
  {
   "cell_type": "code",
   "execution_count": 31,
   "metadata": {
    "ExecuteTime": {
     "end_time": "2021-01-04T22:05:29.509578Z",
     "start_time": "2021-01-04T22:05:29.153797Z"
    },
    "hidden": true
   },
   "outputs": [],
   "source": [
    "df_train_03 = df_train_02.copy()\n",
    "df_sessions_03 = df_sessions_02.copy()"
   ]
  },
  {
   "cell_type": "markdown",
   "metadata": {
    "heading_collapsed": true,
    "hidden": true
   },
   "source": [
    "## 4.1 Filtering Rows"
   ]
  },
  {
   "cell_type": "code",
   "execution_count": 32,
   "metadata": {
    "ExecuteTime": {
     "end_time": "2021-01-04T22:05:30.898170Z",
     "start_time": "2021-01-04T22:05:29.513639Z"
    },
    "hidden": true
   },
   "outputs": [],
   "source": [
    "# Filtering rows:\n",
    "## age > greater than 15 and lower than 120 - There are few people over 120 years old\n",
    "df_train_03 = df_train_03[(df_train_03['age'] > 15) & (df_train_03['age'] < 120)]\n",
    "\n",
    "## secs_elapsed > greater than 0 - There is no possible secs elepsed on website\n",
    "df_sessions_03 = df_sessions_03[df_sessions_03['secs_elapsed'] > 0]"
   ]
  },
  {
   "cell_type": "markdown",
   "metadata": {
    "heading_collapsed": true,
    "hidden": true
   },
   "source": [
    "## 4.1 Filtering Columns"
   ]
  },
  {
   "cell_type": "code",
   "execution_count": 33,
   "metadata": {
    "ExecuteTime": {
     "end_time": "2021-01-04T22:05:30.959005Z",
     "start_time": "2021-01-04T22:05:30.899717Z"
    },
    "hidden": true
   },
   "outputs": [],
   "source": [
    "cols = ['date_account_created', 'timestamp_first_active', 'date_first_booking', 'first_active'] # orginal Datetime\n",
    "df_train_03 = df_train_03.drop(cols, axis=1)"
   ]
  },
  {
   "cell_type": "markdown",
   "metadata": {},
   "source": [
    "# 5.0 Balanced Dataset"
   ]
  },
  {
   "cell_type": "code",
   "execution_count": 34,
   "metadata": {
    "ExecuteTime": {
     "end_time": "2021-01-04T22:05:30.991067Z",
     "start_time": "2021-01-04T22:05:30.959005Z"
    }
   },
   "outputs": [],
   "source": [
    "df_train_04 = df_train_03.copy()"
   ]
  },
  {
   "cell_type": "code",
   "execution_count": 65,
   "metadata": {
    "ExecuteTime": {
     "end_time": "2021-01-04T22:36:53.636051Z",
     "start_time": "2021-01-04T22:36:52.981045Z"
    }
   },
   "outputs": [],
   "source": [
    "# Encoder Categorical Variables\n",
    "ohe = OneHotEncoder()\n",
    "\n",
    "# Numerical\n",
    "col_num = df_train_04.select_dtypes(include=['int32', 'int64', 'float64']).columns.tolist()\n",
    "\n",
    "# Categorical\n",
    "col_cat = df_train_04.select_dtypes(exclude=['int32', 'int64', 'float64', 'datetime64[ns]'])\\\n",
    "    .drop(['id', 'country_destination'], axis=1).columns.tolist()\n",
    "\n",
    "# Encoding\n",
    "df_train_04_dummy = pd.DataFrame(ohe.fit_transform(df_train_04[col_cat]).toarray(), index=df_train_04.index)\n",
    "\n",
    "# join Numerical and Categorical\n",
    "df_train_04_1 = pd.concat([df_train_04[col_num], df_train_04_dummy], axis=1)"
   ]
  },
  {
   "cell_type": "markdown",
   "metadata": {},
   "source": [
    "## 5.1 Random Undersampling"
   ]
  },
  {
   "cell_type": "code",
   "execution_count": 66,
   "metadata": {
    "ExecuteTime": {
     "end_time": "2021-01-04T22:36:55.537674Z",
     "start_time": "2021-01-04T22:36:54.670389Z"
    }
   },
   "outputs": [],
   "source": [
    "# ratio balanced\n",
    "ratio_balanced = {'NDF': 10000}\n",
    "\n",
    "# define sampler\n",
    "undersampling = us.RandomUnderSampler(sampling_strategy=ratio_balanced, random_state=32)\n",
    "\n",
    "# apply sampler\n",
    "X_under, y_under = undersampling.fit_resample(df_train_04_1, df_train_04['country_destination'])"
   ]
  },
  {
   "cell_type": "code",
   "execution_count": 67,
   "metadata": {
    "ExecuteTime": {
     "end_time": "2021-01-04T22:36:55.740477Z",
     "start_time": "2021-01-04T22:36:55.709477Z"
    },
    "cell_style": "split",
    "scrolled": true
   },
   "outputs": [
    {
     "data": {
      "text/plain": [
       "NDF      54852\n",
       "US       48057\n",
       "other     7511\n",
       "FR        3669\n",
       "IT        2014\n",
       "GB        1758\n",
       "ES        1685\n",
       "CA        1064\n",
       "DE         841\n",
       "NL         595\n",
       "AU         433\n",
       "PT         157\n",
       "Name: country_destination, dtype: int64"
      ]
     },
     "execution_count": 67,
     "metadata": {},
     "output_type": "execute_result"
    }
   ],
   "source": [
    "df_train_04['country_destination'].value_counts()"
   ]
  },
  {
   "cell_type": "code",
   "execution_count": 68,
   "metadata": {
    "ExecuteTime": {
     "end_time": "2021-01-04T22:36:56.416784Z",
     "start_time": "2021-01-04T22:36:56.397785Z"
    },
    "cell_style": "split",
    "scrolled": true
   },
   "outputs": [
    {
     "data": {
      "text/plain": [
       "US       48057\n",
       "NDF      10000\n",
       "other     7511\n",
       "FR        3669\n",
       "IT        2014\n",
       "GB        1758\n",
       "ES        1685\n",
       "CA        1064\n",
       "DE         841\n",
       "NL         595\n",
       "AU         433\n",
       "PT         157\n",
       "Name: country_destination, dtype: int64"
      ]
     },
     "execution_count": 68,
     "metadata": {},
     "output_type": "execute_result"
    }
   ],
   "source": [
    "y_under.value_counts()"
   ]
  },
  {
   "cell_type": "markdown",
   "metadata": {},
   "source": [
    "## 5.2 Random Oversampling"
   ]
  },
  {
   "cell_type": "code",
   "execution_count": 69,
   "metadata": {
    "ExecuteTime": {
     "end_time": "2021-01-04T22:37:02.355375Z",
     "start_time": "2021-01-04T22:36:57.854697Z"
    }
   },
   "outputs": [],
   "source": [
    "# ratio balanced\n",
    "#ratio_balanced = {'NDF': 10000}\n",
    "\n",
    "# define sampler\n",
    "oversampling = over.RandomOverSampler(sampling_strategy='all', random_state=32)\n",
    "\n",
    "# apply sampler\n",
    "X_over, y_over = oversampling.fit_resample(df_train_04_1, df_train_04['country_destination'])"
   ]
  },
  {
   "cell_type": "code",
   "execution_count": 70,
   "metadata": {
    "ExecuteTime": {
     "end_time": "2021-01-04T22:37:02.387375Z",
     "start_time": "2021-01-04T22:37:02.358385Z"
    },
    "cell_style": "split",
    "scrolled": true
   },
   "outputs": [
    {
     "data": {
      "text/plain": [
       "NDF      54852\n",
       "US       48057\n",
       "other     7511\n",
       "FR        3669\n",
       "IT        2014\n",
       "GB        1758\n",
       "ES        1685\n",
       "CA        1064\n",
       "DE         841\n",
       "NL         595\n",
       "AU         433\n",
       "PT         157\n",
       "Name: country_destination, dtype: int64"
      ]
     },
     "execution_count": 70,
     "metadata": {},
     "output_type": "execute_result"
    }
   ],
   "source": [
    "df_train_04['country_destination'].value_counts()"
   ]
  },
  {
   "cell_type": "code",
   "execution_count": 71,
   "metadata": {
    "ExecuteTime": {
     "end_time": "2021-01-04T22:37:02.510374Z",
     "start_time": "2021-01-04T22:37:02.391388Z"
    },
    "cell_style": "split",
    "scrolled": false
   },
   "outputs": [
    {
     "data": {
      "text/plain": [
       "other    54852\n",
       "FR       54852\n",
       "CA       54852\n",
       "AU       54852\n",
       "US       54852\n",
       "NL       54852\n",
       "NDF      54852\n",
       "DE       54852\n",
       "GB       54852\n",
       "IT       54852\n",
       "ES       54852\n",
       "PT       54852\n",
       "Name: country_destination, dtype: int64"
      ]
     },
     "execution_count": 71,
     "metadata": {},
     "output_type": "execute_result"
    }
   ],
   "source": [
    "y_over.value_counts()"
   ]
  },
  {
   "cell_type": "markdown",
   "metadata": {},
   "source": [
    "## 5.3 SMOTE + TOMEKLINK"
   ]
  },
  {
   "cell_type": "code",
   "execution_count": 92,
   "metadata": {
    "ExecuteTime": {
     "end_time": "2021-01-04T22:54:24.776014Z",
     "start_time": "2021-01-04T22:54:24.756016Z"
    }
   },
   "outputs": [],
   "source": [
    "ratio_balanced = {\n",
    "                    'NDF': 54852,\n",
    "                    'US': 48057,\n",
    "                    'other': 6*7511,\n",
    "                    'FR': 12*3669,\n",
    "                    'IT': 20*2014,\n",
    "                    'GB': 25*1758,\n",
    "                    'ES': 25*1685,\n",
    "                    'CA': 40*1064,\n",
    "                    'DE': 45*841,\n",
    "                    'NL': 80*595,\n",
    "                    'AU': 85*433,\n",
    "                    'PT': 250*157}"
   ]
  },
  {
   "cell_type": "code",
   "execution_count": 93,
   "metadata": {
    "ExecuteTime": {
     "end_time": "2021-01-04T22:58:03.250122Z",
     "start_time": "2021-01-04T22:54:43.666268Z"
    }
   },
   "outputs": [],
   "source": [
    "# define sampler\n",
    "smt = c.SMOTETomek(sampling_strategy=ratio_balanced, random_state=32, n_jobs=-1)\n",
    "\n",
    "# apply sampler\n",
    "X_smt, y_smt = smt.fit_resample(df_train_04_1, df_train_04['country_destination'])"
   ]
  },
  {
   "cell_type": "code",
   "execution_count": 94,
   "metadata": {
    "ExecuteTime": {
     "end_time": "2021-01-04T22:58:04.369195Z",
     "start_time": "2021-01-04T22:58:03.255107Z"
    }
   },
   "outputs": [],
   "source": [
    "# numerical data\n",
    "df_train_04_2 = X_smt[col_num]\n",
    "\n",
    "# categorical data\n",
    "df_train_04_3 = X_smt.drop(col_num, axis=1)\n",
    "df_train_04_4 = pd.DataFrame(ohe.inverse_transform(df_train_04_3), columns=col_cat, index=df_train_04_3.index)\n",
    "\n",
    "# join numerical and categorical\n",
    "df_train_04_6 = pd.concat([df_train_04_2, df_train_04_4], axis=1)\n",
    "df_train_04_6['country_destination'] = y_smt"
   ]
  },
  {
   "cell_type": "code",
   "execution_count": 95,
   "metadata": {
    "ExecuteTime": {
     "end_time": "2021-01-04T22:58:04.400201Z",
     "start_time": "2021-01-04T22:58:04.371197Z"
    },
    "cell_style": "split"
   },
   "outputs": [
    {
     "data": {
      "text/plain": [
       "NDF      54852\n",
       "US       48057\n",
       "other     7511\n",
       "FR        3669\n",
       "IT        2014\n",
       "GB        1758\n",
       "ES        1685\n",
       "CA        1064\n",
       "DE         841\n",
       "NL         595\n",
       "AU         433\n",
       "PT         157\n",
       "Name: country_destination, dtype: int64"
      ]
     },
     "execution_count": 95,
     "metadata": {},
     "output_type": "execute_result"
    }
   ],
   "source": [
    "df_train_04['country_destination'].value_counts()"
   ]
  },
  {
   "cell_type": "code",
   "execution_count": 96,
   "metadata": {
    "ExecuteTime": {
     "end_time": "2021-01-04T22:58:04.462193Z",
     "start_time": "2021-01-04T22:58:04.403196Z"
    },
    "cell_style": "split"
   },
   "outputs": [
    {
     "data": {
      "text/plain": [
       "NDF      54850\n",
       "NL       47598\n",
       "US       47525\n",
       "other    44744\n",
       "GB       43895\n",
       "FR       43869\n",
       "CA       42542\n",
       "ES       42071\n",
       "IT       40200\n",
       "PT       39250\n",
       "DE       37828\n",
       "AU       36802\n",
       "Name: country_destination, dtype: int64"
      ]
     },
     "execution_count": 96,
     "metadata": {},
     "output_type": "execute_result"
    }
   ],
   "source": [
    "y_smt.value_counts()"
   ]
  },
  {
   "cell_type": "markdown",
   "metadata": {},
   "source": [
    "# 6.0 Data Preparation"
   ]
  },
  {
   "cell_type": "code",
   "execution_count": 97,
   "metadata": {
    "ExecuteTime": {
     "end_time": "2021-01-04T22:58:04.508193Z",
     "start_time": "2021-01-04T22:58:04.463194Z"
    }
   },
   "outputs": [],
   "source": [
    "df_train_05 = df_train_04_6.copy()"
   ]
  },
  {
   "cell_type": "code",
   "execution_count": 99,
   "metadata": {
    "ExecuteTime": {
     "end_time": "2021-01-04T22:58:45.843039Z",
     "start_time": "2021-01-04T22:58:45.186376Z"
    }
   },
   "outputs": [],
   "source": [
    "# Dummy variable\n",
    "df_train_05_dummy = pd.get_dummies(\n",
    "    df_train_05.drop(['country_destination'], axis=1))\n",
    "\n",
    "# Join id and country_destination\n",
    "df_train_05 = pd.concat(\n",
    "    [df_train_05[['country_destination']], df_train_05_dummy], axis=1)"
   ]
  },
  {
   "cell_type": "markdown",
   "metadata": {},
   "source": [
    "# 7.0 Feature Selection"
   ]
  },
  {
   "cell_type": "markdown",
   "metadata": {},
   "source": [
    "## 7.1 Drop Columns"
   ]
  },
  {
   "cell_type": "code",
   "execution_count": 101,
   "metadata": {
    "ExecuteTime": {
     "end_time": "2021-01-04T22:59:26.793964Z",
     "start_time": "2021-01-04T22:59:26.744962Z"
    }
   },
   "outputs": [],
   "source": [
    "# cols_drop = ['id']\n",
    "# df_train_06 = df_train_05.drop(cols_drop, axis=1)\n",
    "df_train_06 = df_train_05.copy()"
   ]
  },
  {
   "cell_type": "markdown",
   "metadata": {},
   "source": [
    "## 7.2 Split into Train and Validation "
   ]
  },
  {
   "cell_type": "code",
   "execution_count": 102,
   "metadata": {
    "ExecuteTime": {
     "end_time": "2021-01-04T22:59:28.491414Z",
     "start_time": "2021-01-04T22:59:28.021177Z"
    }
   },
   "outputs": [],
   "source": [
    "X = df_train_06.drop('country_destination', axis=1)\n",
    "y = df_train_06['country_destination'].copy()\n",
    "\n",
    "# Split dataset into train and validation\n",
    "X_train, X_test, y_train, y_test = train_test_split(\n",
    "    X, y, test_size=0.2, random_state=32)"
   ]
  },
  {
   "cell_type": "markdown",
   "metadata": {},
   "source": [
    "# 8.0 Machine Learning Model"
   ]
  },
  {
   "cell_type": "markdown",
   "metadata": {},
   "source": [
    "## 8.1 Baseline model"
   ]
  },
  {
   "cell_type": "markdown",
   "metadata": {},
   "source": [
    "### 8.1.1 Random Choices"
   ]
  },
  {
   "cell_type": "code",
   "execution_count": 103,
   "metadata": {
    "ExecuteTime": {
     "end_time": "2021-01-04T22:59:32.461137Z",
     "start_time": "2021-01-04T22:59:32.305131Z"
    }
   },
   "outputs": [],
   "source": [
    "country_destination_list = y_train.drop_duplicates().sort_values().tolist()\n",
    "country_destination_weights = y_train.value_counts(\n",
    "    normalize=True).sort_index().tolist()\n",
    "k_num = y_test.shape[0]\n",
    "\n",
    "# Random Model\n",
    "\n",
    "yhat_random = random.choices(population=country_destination_list,\n",
    "                             weights=country_destination_weights,\n",
    "                             k=k_num)"
   ]
  },
  {
   "cell_type": "markdown",
   "metadata": {},
   "source": [
    "### 8.1.2 Random Choices Performance"
   ]
  },
  {
   "cell_type": "code",
   "execution_count": 104,
   "metadata": {
    "ExecuteTime": {
     "end_time": "2021-01-04T22:59:38.629299Z",
     "start_time": "2021-01-04T22:59:33.693901Z"
    }
   },
   "outputs": [
    {
     "name": "stdout",
     "output_type": "stream",
     "text": [
      "Accuracy: 0.08457811675540845\n",
      "Balanced Accuracy: 0.08365008530336737\n",
      "Kappa Score: 0.0002692548645654158\n",
      "              precision    recall  f1-score   support\n",
      "\n",
      "          AU       0.08      0.08      0.08      7482\n",
      "          CA       0.08      0.08      0.08      8419\n",
      "          DE       0.07      0.07      0.07      7454\n",
      "          ES       0.08      0.08      0.08      8390\n",
      "          FR       0.08      0.08      0.08      8828\n",
      "          GB       0.08      0.08      0.08      8741\n",
      "          IT       0.08      0.08      0.08      7961\n",
      "         NDF       0.11      0.11      0.11     10939\n",
      "          NL       0.09      0.09      0.09      9526\n",
      "          PT       0.08      0.08      0.08      7942\n",
      "          US       0.09      0.09      0.09      9519\n",
      "       other       0.09      0.08      0.08      9034\n",
      "\n",
      "    accuracy                           0.08    104235\n",
      "   macro avg       0.08      0.08      0.08    104235\n",
      "weighted avg       0.08      0.08      0.08    104235\n",
      "\n"
     ]
    },
    {
     "data": {
      "text/plain": [
       "<AxesSubplot:title={'center':'Confusion Matrix'}, xlabel='Predicted label', ylabel='True label'>"
      ]
     },
     "execution_count": 104,
     "metadata": {},
     "output_type": "execute_result"
    },
    {
     "data": {
      "image/png": "[encoded data removed]",
      "text/plain": [
       "<Figure size 864x864 with 2 Axes>"
      ]
     },
     "metadata": {
      "needs_background": "light"
     },
     "output_type": "display_data"
    }
   ],
   "source": [
    "# Accuracy\n",
    "acc_random = accuracy_score(y_test, yhat_random)\n",
    "print('Accuracy: {}'.format(acc_random))\n",
    "\n",
    "# Balanced Accuracy\n",
    "balanced_acc_random = balanced_accuracy_score(y_test, yhat_random)\n",
    "print('Balanced Accuracy: {}'.format(balanced_acc_random))\n",
    "\n",
    "# Kappa Score\n",
    "kappa_random = cohen_kappa_score(y_test, yhat_random)\n",
    "print('Kappa Score: {}'.format(kappa_random))\n",
    "\n",
    "# Classification Report\n",
    "print(classification_report(y_test, yhat_random))\n",
    "\n",
    "# Confusion matrix\n",
    "plot_confusion_matrix(y_test, yhat_random, normalize=False, figsize=(12, 12))"
   ]
  },
  {
   "cell_type": "markdown",
   "metadata": {},
   "source": [
    "## 8.2 Machine Learning Model - Neural Network MLP"
   ]
  },
  {
   "cell_type": "markdown",
   "metadata": {},
   "source": [
    "### 8.2.1 Target Encoding"
   ]
  },
  {
   "cell_type": "code",
   "execution_count": 105,
   "metadata": {
    "ExecuteTime": {
     "end_time": "2021-01-04T22:59:42.673308Z",
     "start_time": "2021-01-04T22:59:42.480300Z"
    }
   },
   "outputs": [],
   "source": [
    "ohe = OneHotEncoder()\n",
    "y_train_nn = ohe.fit_transform(y_train.values.reshape(-1, 1)).toarray()"
   ]
  },
  {
   "cell_type": "markdown",
   "metadata": {},
   "source": [
    "### 8.2.2 NN Model"
   ]
  },
  {
   "cell_type": "code",
   "execution_count": 106,
   "metadata": {
    "ExecuteTime": {
     "end_time": "2021-01-04T23:14:24.841810Z",
     "start_time": "2021-01-04T22:59:43.328773Z"
    }
   },
   "outputs": [
    {
     "name": "stdout",
     "output_type": "stream",
     "text": [
      "Epoch 1/100\n",
      "13030/13030 [==============================] - 9s 638us/step - loss: 11.0447 - accuracy: 0.1879\n",
      "Epoch 2/100\n",
      "13030/13030 [==============================] - 9s 657us/step - loss: 2.4291 - accuracy: 0.2010\n",
      "Epoch 3/100\n",
      "13030/13030 [==============================] - 8s 644us/step - loss: 2.1473 - accuracy: 0.1959\n",
      "Epoch 4/100\n",
      "13030/13030 [==============================] - 8s 640us/step - loss: 2.1456 - accuracy: 0.1957\n",
      "Epoch 5/100\n",
      "13030/13030 [==============================] - 8s 642us/step - loss: 2.1444 - accuracy: 0.1953\n",
      "Epoch 6/100\n",
      "13030/13030 [==============================] - 8s 640us/step - loss: 2.1430 - accuracy: 0.1970\n",
      "Epoch 7/100\n",
      "13030/13030 [==============================] - 9s 687us/step - loss: 2.1417 - accuracy: 0.1977\n",
      "Epoch 8/100\n",
      "13030/13030 [==============================] - 9s 687us/step - loss: 2.1456 - accuracy: 0.1960\n",
      "Epoch 9/100\n",
      "13030/13030 [==============================] - 9s 682us/step - loss: 2.1455 - accuracy: 0.1951\n",
      "Epoch 10/100\n",
      "13030/13030 [==============================] - 9s 676us/step - loss: 2.1436 - accuracy: 0.1970\n",
      "Epoch 11/100\n",
      "13030/13030 [==============================] - 9s 678us/step - loss: 2.1420 - accuracy: 0.1972\n",
      "Epoch 12/100\n",
      "13030/13030 [==============================] - 9s 688us/step - loss: 2.1440 - accuracy: 0.1966\n",
      "Epoch 13/100\n",
      "13030/13030 [==============================] - 9s 679us/step - loss: 2.1422 - accuracy: 0.1966\n",
      "Epoch 14/100\n",
      "13030/13030 [==============================] - 9s 677us/step - loss: 2.1424 - accuracy: 0.1969\n",
      "Epoch 15/100\n",
      "13030/13030 [==============================] - 9s 675us/step - loss: 2.1427 - accuracy: 0.1969\n",
      "Epoch 16/100\n",
      "13030/13030 [==============================] - 9s 701us/step - loss: 2.1424 - accuracy: 0.1973\n",
      "Epoch 17/100\n",
      "13030/13030 [==============================] - 10s 734us/step - loss: 2.1416 - accuracy: 0.1960\n",
      "Epoch 18/100\n",
      "13030/13030 [==============================] - 9s 680us/step - loss: 2.1432 - accuracy: 0.1965\n",
      "Epoch 19/100\n",
      "13030/13030 [==============================] - 9s 684us/step - loss: 2.1422 - accuracy: 0.1968\n",
      "Epoch 20/100\n",
      "13030/13030 [==============================] - 9s 681us/step - loss: 2.1397 - accuracy: 0.1982\n",
      "Epoch 21/100\n",
      "13030/13030 [==============================] - 9s 691us/step - loss: 2.1423 - accuracy: 0.1981\n",
      "Epoch 22/100\n",
      "13030/13030 [==============================] - 9s 714us/step - loss: 2.1422 - accuracy: 0.1967\n",
      "Epoch 23/100\n",
      "13030/13030 [==============================] - 9s 699us/step - loss: 2.1455 - accuracy: 0.1961\n",
      "Epoch 24/100\n",
      "13030/13030 [==============================] - 9s 678us/step - loss: 2.1427 - accuracy: 0.1969\n",
      "Epoch 25/100\n",
      "13030/13030 [==============================] - 9s 687us/step - loss: 2.1430 - accuracy: 0.1966\n",
      "Epoch 26/100\n",
      "13030/13030 [==============================] - 9s 685us/step - loss: 2.1432 - accuracy: 0.1963\n",
      "Epoch 27/100\n",
      "13030/13030 [==============================] - 9s 686us/step - loss: 2.1447 - accuracy: 0.1962\n",
      "Epoch 28/100\n",
      "13030/13030 [==============================] - 9s 693us/step - loss: 2.1428 - accuracy: 0.1963\n",
      "Epoch 29/100\n",
      "13030/13030 [==============================] - 9s 699us/step - loss: 2.1430 - accuracy: 0.1970\n",
      "Epoch 30/100\n",
      "13030/13030 [==============================] - 9s 693us/step - loss: 2.1444 - accuracy: 0.1967\n",
      "Epoch 31/100\n",
      "13030/13030 [==============================] - 9s 690us/step - loss: 2.1423 - accuracy: 0.1969\n",
      "Epoch 32/100\n",
      "13030/13030 [==============================] - 9s 684us/step - loss: 2.1428 - accuracy: 0.1972\n",
      "Epoch 33/100\n",
      "13030/13030 [==============================] - 9s 682us/step - loss: 2.1406 - accuracy: 0.1972\n",
      "Epoch 34/100\n",
      "13030/13030 [==============================] - 9s 679us/step - loss: 2.1436 - accuracy: 0.1976\n",
      "Epoch 35/100\n",
      "13030/13030 [==============================] - 9s 688us/step - loss: 2.1425 - accuracy: 0.1970\n",
      "Epoch 36/100\n",
      "13030/13030 [==============================] - 9s 717us/step - loss: 2.1452 - accuracy: 0.1963\n",
      "Epoch 37/100\n",
      "13030/13030 [==============================] - 10s 756us/step - loss: 2.1445 - accuracy: 0.1958\n",
      "Epoch 38/100\n",
      "13030/13030 [==============================] - 10s 748us/step - loss: 2.1437 - accuracy: 0.1948\n",
      "Epoch 39/100\n",
      "13030/13030 [==============================] - 9s 686us/step - loss: 2.1420 - accuracy: 0.1965\n",
      "Epoch 40/100\n",
      "13030/13030 [==============================] - 9s 678us/step - loss: 2.1450 - accuracy: 0.1955\n",
      "Epoch 41/100\n",
      "13030/13030 [==============================] - 9s 682us/step - loss: 2.1429 - accuracy: 0.1965\n",
      "Epoch 42/100\n",
      "13030/13030 [==============================] - 9s 683us/step - loss: 2.1434 - accuracy: 0.1967\n",
      "Epoch 43/100\n",
      "13030/13030 [==============================] - 9s 677us/step - loss: 2.1442 - accuracy: 0.1960\n",
      "Epoch 44/100\n",
      "13030/13030 [==============================] - 9s 681us/step - loss: 2.1420 - accuracy: 0.1974\n",
      "Epoch 45/100\n",
      "13030/13030 [==============================] - 9s 682us/step - loss: 2.1454 - accuracy: 0.1960\n",
      "Epoch 46/100\n",
      "13030/13030 [==============================] - 9s 689us/step - loss: 2.1448 - accuracy: 0.1959\n",
      "Epoch 47/100\n",
      "13030/13030 [==============================] - 9s 686us/step - loss: 2.1451 - accuracy: 0.1959\n",
      "Epoch 48/100\n",
      "13030/13030 [==============================] - 9s 694us/step - loss: 2.1455 - accuracy: 0.1960\n",
      "Epoch 49/100\n",
      "13030/13030 [==============================] - 9s 693us/step - loss: 2.1447 - accuracy: 0.1955\n",
      "Epoch 50/100\n",
      "13030/13030 [==============================] - 10s 783us/step - loss: 2.1444 - accuracy: 0.1967\n",
      "Epoch 51/100\n",
      "13030/13030 [==============================] - 9s 723us/step - loss: 2.1421 - accuracy: 0.1971\n",
      "Epoch 52/100\n",
      "13030/13030 [==============================] - 12s 899us/step - loss: 2.1447 - accuracy: 0.1967\n",
      "Epoch 53/100\n",
      "13030/13030 [==============================] - 10s 801us/step - loss: 2.1424 - accuracy: 0.1960\n",
      "Epoch 54/100\n",
      "13030/13030 [==============================] - 9s 711us/step - loss: 2.1432 - accuracy: 0.1968\n",
      "Epoch 55/100\n",
      "13030/13030 [==============================] - 10s 800us/step - loss: 2.1440 - accuracy: 0.1960\n",
      "Epoch 56/100\n",
      "13030/13030 [==============================] - 8s 649us/step - loss: 2.1427 - accuracy: 0.1964\n",
      "Epoch 57/100\n",
      "13030/13030 [==============================] - 8s 646us/step - loss: 2.1463 - accuracy: 0.1946\n",
      "Epoch 58/100\n",
      "13030/13030 [==============================] - 8s 642us/step - loss: 2.1455 - accuracy: 0.1949\n",
      "Epoch 59/100\n",
      "13030/13030 [==============================] - 8s 651us/step - loss: 2.1434 - accuracy: 0.1965\n",
      "Epoch 60/100\n",
      "13030/13030 [==============================] - 8s 643us/step - loss: 2.1436 - accuracy: 0.1958\n",
      "Epoch 61/100\n",
      "13030/13030 [==============================] - 8s 643us/step - loss: 2.1424 - accuracy: 0.1973\n",
      "Epoch 62/100\n",
      "13030/13030 [==============================] - 8s 649us/step - loss: 2.1430 - accuracy: 0.1966\n",
      "Epoch 63/100\n",
      "13030/13030 [==============================] - 8s 639us/step - loss: 2.1444 - accuracy: 0.1961\n",
      "Epoch 64/100\n",
      "13030/13030 [==============================] - 8s 641us/step - loss: 2.1434 - accuracy: 0.1967\n",
      "Epoch 65/100\n",
      "13030/13030 [==============================] - 8s 641us/step - loss: 2.1449 - accuracy: 0.1969\n",
      "Epoch 66/100\n",
      "13030/13030 [==============================] - 8s 645us/step - loss: 2.1416 - accuracy: 0.1959\n",
      "Epoch 67/100\n",
      "13030/13030 [==============================] - 8s 649us/step - loss: 2.1450 - accuracy: 0.1960\n",
      "Epoch 68/100\n",
      "13030/13030 [==============================] - 8s 642us/step - loss: 2.1445 - accuracy: 0.1962\n",
      "Epoch 69/100\n",
      "13030/13030 [==============================] - 8s 647us/step - loss: 2.1452 - accuracy: 0.1960\n",
      "Epoch 70/100\n",
      "13030/13030 [==============================] - 8s 648us/step - loss: 2.1443 - accuracy: 0.1965\n",
      "Epoch 71/100\n",
      "13030/13030 [==============================] - 8s 644us/step - loss: 2.1452 - accuracy: 0.1960\n",
      "Epoch 72/100\n",
      "13030/13030 [==============================] - 8s 644us/step - loss: 2.1436 - accuracy: 0.1972\n",
      "Epoch 73/100\n",
      "13030/13030 [==============================] - 9s 678us/step - loss: 2.1461 - accuracy: 0.1955\n",
      "Epoch 74/100\n",
      "13030/13030 [==============================] - 8s 638us/step - loss: 2.1439 - accuracy: 0.1961\n",
      "Epoch 75/100\n",
      "13030/13030 [==============================] - 9s 654us/step - loss: 2.1434 - accuracy: 0.1974\n",
      "Epoch 76/100\n"
     ]
    },
    {
     "name": "stdout",
     "output_type": "stream",
     "text": [
      "13030/13030 [==============================] - 8s 640us/step - loss: 2.1438 - accuracy: 0.1965\n",
      "Epoch 77/100\n",
      "13030/13030 [==============================] - 8s 638us/step - loss: 2.1427 - accuracy: 0.1968\n",
      "Epoch 78/100\n",
      "13030/13030 [==============================] - 8s 638us/step - loss: 2.1464 - accuracy: 0.1956\n",
      "Epoch 79/100\n",
      "13030/13030 [==============================] - 8s 638us/step - loss: 2.1440 - accuracy: 0.1965\n",
      "Epoch 80/100\n",
      "13030/13030 [==============================] - 8s 640us/step - loss: 2.1438 - accuracy: 0.1954\n",
      "Epoch 81/100\n",
      "13030/13030 [==============================] - 8s 637us/step - loss: 2.1448 - accuracy: 0.1954\n",
      "Epoch 82/100\n",
      "13030/13030 [==============================] - 8s 639us/step - loss: 2.1432 - accuracy: 0.1958\n",
      "Epoch 83/100\n",
      "13030/13030 [==============================] - 8s 637us/step - loss: 2.1432 - accuracy: 0.1966\n",
      "Epoch 84/100\n",
      "13030/13030 [==============================] - 8s 652us/step - loss: 2.1437 - accuracy: 0.1957\n",
      "Epoch 85/100\n",
      "13030/13030 [==============================] - 9s 691us/step - loss: 2.1455 - accuracy: 0.1965\n",
      "Epoch 86/100\n",
      "13030/13030 [==============================] - 9s 722us/step - loss: 2.1443 - accuracy: 0.1971\n",
      "Epoch 87/100\n",
      "13030/13030 [==============================] - 9s 723us/step - loss: 2.1421 - accuracy: 0.1972\n",
      "Epoch 88/100\n",
      "13030/13030 [==============================] - 9s 667us/step - loss: 2.1484 - accuracy: 0.1963\n",
      "Epoch 89/100\n",
      "13030/13030 [==============================] - 8s 639us/step - loss: 2.1466 - accuracy: 0.1946\n",
      "Epoch 90/100\n",
      "13030/13030 [==============================] - 8s 644us/step - loss: 2.1427 - accuracy: 0.1959\n",
      "Epoch 91/100\n",
      "13030/13030 [==============================] - 9s 669us/step - loss: 2.1439 - accuracy: 0.1964\n",
      "Epoch 92/100\n",
      "13030/13030 [==============================] - 8s 641us/step - loss: 2.1438 - accuracy: 0.1965\n",
      "Epoch 93/100\n",
      "13030/13030 [==============================] - 8s 639us/step - loss: 2.1425 - accuracy: 0.1961\n",
      "Epoch 94/100\n",
      "13030/13030 [==============================] - 8s 648us/step - loss: 2.1428 - accuracy: 0.1963\n",
      "Epoch 95/100\n",
      "13030/13030 [==============================] - 9s 656us/step - loss: 2.1468 - accuracy: 0.1967\n",
      "Epoch 96/100\n",
      "13030/13030 [==============================] - 8s 644us/step - loss: 2.1432 - accuracy: 0.1962\n",
      "Epoch 97/100\n",
      "13030/13030 [==============================] - 8s 640us/step - loss: 2.1433 - accuracy: 0.1961\n",
      "Epoch 98/100\n",
      "13030/13030 [==============================] - 8s 649us/step - loss: 2.1442 - accuracy: 0.1959\n",
      "Epoch 99/100\n",
      "13030/13030 [==============================] - 8s 644us/step - loss: 2.1434 - accuracy: 0.1965\n",
      "Epoch 100/100\n",
      "13030/13030 [==============================] - 8s 644us/step - loss: 2.1439 - accuracy: 0.1960\n"
     ]
    },
    {
     "data": {
      "text/plain": [
       "<tensorflow.python.keras.callbacks.History at 0x17f91704640>"
      ]
     },
     "execution_count": 106,
     "metadata": {},
     "output_type": "execute_result"
    }
   ],
   "source": [
    "# Model Definition\n",
    "model = Sequential()\n",
    "model.add(Dense(256, input_dim=X_train.shape[1], activation='relu'))\n",
    "model.add(Dense(12, activation='softmax'))\n",
    "\n",
    "# Model compile\n",
    "model.compile(loss='categorical_crossentropy',\n",
    "              optimizer='adam', metrics=['accuracy'])\n",
    "\n",
    "# Train Model\n",
    "model.fit(X_train, y_train_nn, epochs=100)"
   ]
  },
  {
   "cell_type": "markdown",
   "metadata": {},
   "source": [
    "### 8.2.3 NN Performance"
   ]
  },
  {
   "cell_type": "code",
   "execution_count": 107,
   "metadata": {
    "ExecuteTime": {
     "end_time": "2021-01-04T23:14:26.086500Z",
     "start_time": "2021-01-04T23:14:24.843814Z"
    }
   },
   "outputs": [],
   "source": [
    "# Prediction\n",
    "pred_nn = model.predict(X_test)\n",
    "\n",
    "# Inver Prediction\n",
    "yhat_nn = ohe.inverse_transform(pred_nn)\n",
    "\n",
    "# Prediction Prepare\n",
    "y_test_nn = y_test.to_numpy()\n",
    "yhat_nn = yhat_nn.reshape(1, -1)[0]"
   ]
  },
  {
   "cell_type": "code",
   "execution_count": 108,
   "metadata": {
    "ExecuteTime": {
     "end_time": "2021-01-04T23:14:31.817771Z",
     "start_time": "2021-01-04T23:14:26.086500Z"
    },
    "scrolled": true
   },
   "outputs": [
    {
     "name": "stdout",
     "output_type": "stream",
     "text": [
      "Accuracy: 0.19634479781263492\n",
      "Balanced Accuracy: 0.16667542108764924\n",
      "Kappa Score: 0.11412466756363282\n"
     ]
    },
    {
     "name": "stderr",
     "output_type": "stream",
     "text": [
      "C:\\Users\\fabio\\Anaconda3\\lib\\site-packages\\sklearn\\metrics\\_classification.py:1221: UndefinedMetricWarning: Precision and F-score are ill-defined and being set to 0.0 in labels with no predicted samples. Use `zero_division` parameter to control this behavior.\n",
      "  _warn_prf(average, modifier, msg_start, len(result))\n"
     ]
    },
    {
     "name": "stdout",
     "output_type": "stream",
     "text": [
      "              precision    recall  f1-score   support\n",
      "\n",
      "          AU       0.00      0.00      0.00      7482\n",
      "          CA       0.00      0.00      0.00      8419\n",
      "          DE       0.00      0.00      0.00      7454\n",
      "          ES       0.00      0.00      0.00      8390\n",
      "          FR       0.00      0.00      0.00      8828\n",
      "          GB       0.00      0.00      0.00      8741\n",
      "          IT       0.00      0.00      0.00      7961\n",
      "         NDF       1.00      1.00      1.00     10939\n",
      "          NL       0.10      1.00      0.19      9526\n",
      "          PT       0.00      0.00      0.00      7942\n",
      "          US       0.25      0.00      0.00      9519\n",
      "       other       0.00      0.00      0.00      9034\n",
      "\n",
      "    accuracy                           0.20    104235\n",
      "   macro avg       0.11      0.17      0.10    104235\n",
      "weighted avg       0.14      0.20      0.12    104235\n",
      "\n"
     ]
    },
    {
     "data": {
      "text/plain": [
       "<AxesSubplot:title={'center':'Confusion Matrix'}, xlabel='Predicted label', ylabel='True label'>"
      ]
     },
     "execution_count": 108,
     "metadata": {},
     "output_type": "execute_result"
    },
    {
     "data": {
      "image/png": "[encoded data removed]",
      "text/plain": [
       "<Figure size 864x864 with 2 Axes>"
      ]
     },
     "metadata": {
      "needs_background": "light"
     },
     "output_type": "display_data"
    }
   ],
   "source": [
    "# Accuracy\n",
    "acc_nn = accuracy_score(y_test_nn, yhat_nn)\n",
    "print('Accuracy: {}'.format(acc_nn))\n",
    "\n",
    "# Balanced Accuracy\n",
    "balanced_acc_nn = balanced_accuracy_score(y_test_nn, yhat_nn)\n",
    "print('Balanced Accuracy: {}'.format(balanced_acc_nn))\n",
    "\n",
    "# Kappa Score\n",
    "kappa_nn = cohen_kappa_score(y_test_nn, yhat_nn)\n",
    "print('Kappa Score: {}'.format(kappa_nn))\n",
    "\n",
    "# Classification Report\n",
    "print(classification_report(y_test_nn, yhat_nn))\n",
    "\n",
    "# Confusion matrix\n",
    "plot_confusion_matrix(y_test_nn, yhat_nn, normalize=False, figsize=(12, 12))"
   ]
  },
  {
   "cell_type": "markdown",
   "metadata": {},
   "source": [
    "### 8.2.4 NN Performance - Cross Validation"
   ]
  },
  {
   "cell_type": "code",
   "execution_count": 109,
   "metadata": {
    "ExecuteTime": {
     "end_time": "2021-01-05T00:02:32.014292Z",
     "start_time": "2021-01-04T23:14:31.819773Z"
    }
   },
   "outputs": [
    {
     "name": "stdout",
     "output_type": "stream",
     "text": [
      "Fold Number: 1/5\n",
      "Fold Number: 2/5\n",
      "Fold Number: 3/5\n",
      "Fold Number: 4/5\n",
      "Fold Number: 5/5\n"
     ]
    }
   ],
   "source": [
    "# k-fold generate\n",
    "num_folds = 5\n",
    "kfold = StratifiedKFold(n_splits=num_folds, shuffle=True, random_state=32)\n",
    "\n",
    "balanced_acc_list = []\n",
    "kappa_acc_list = []\n",
    "\n",
    "i = 1\n",
    "for train_ix, val_ix in kfold.split(X_train, y_train):\n",
    "    print('Fold Number: {}/{}'.format(i, num_folds))\n",
    "    # get fold\n",
    "    X_train_fold = X_train.iloc[train_ix]\n",
    "    y_train_fold = y_train.iloc[train_ix]\n",
    "\n",
    "    X_val_fold = X_train.iloc[val_ix]\n",
    "    y_val_fold = y_train.iloc[val_ix]\n",
    "\n",
    "    # target encoding\n",
    "    ohe = OneHotEncoder()\n",
    "    y_train_fold_nn = ohe.fit_transform(\n",
    "        y_train_fold.values.reshape(-1, 1)).toarray()\n",
    "\n",
    "    # model definition\n",
    "    model = Sequential()\n",
    "    model.add(Dense(256, input_dim=X_train_fold.shape[1], activation='relu'))\n",
    "    model.add(Dense(12, activation='softmax'))\n",
    "\n",
    "    # compile model\n",
    "    model.compile(loss='categorical_crossentropy',\n",
    "                  optimizer='adam', metrics=['accuracy'])\n",
    "\n",
    "    # training model\n",
    "    model.fit(X_train_fold, y_train_fold_nn,\n",
    "              epochs=100, batch_size=32, verbose=0)\n",
    "\n",
    "    # prediction\n",
    "    pred_nn = model.predict(X_val_fold)\n",
    "    yhat_nn = ohe.inverse_transform(pred_nn)\n",
    "\n",
    "    # prepare data\n",
    "    y_test_nn = y_val_fold.to_numpy()\n",
    "    yhat_nn = yhat_nn.reshape(1, -1)[0]\n",
    "\n",
    "    # metrics\n",
    "    # Balanced Accuracy\n",
    "    balanced_acc_nn = balanced_accuracy_score(y_test_nn, yhat_nn)\n",
    "    balanced_acc_list.append(balanced_acc_nn)\n",
    "\n",
    "    # Kappa Metrics\n",
    "    kappa_acc_nn = cohen_kappa_score(y_test_nn, yhat_nn)\n",
    "    kappa_acc_list.append(kappa_acc_nn)\n",
    "\n",
    "    i += 1"
   ]
  },
  {
   "cell_type": "code",
   "execution_count": 110,
   "metadata": {
    "ExecuteTime": {
     "end_time": "2021-01-05T00:02:32.030287Z",
     "start_time": "2021-01-05T00:02:32.016285Z"
    }
   },
   "outputs": [
    {
     "name": "stdout",
     "output_type": "stream",
     "text": [
      "Avg Balanced Accuracy: 0.1667 +/- 0.0\n",
      "Avg Kappa: 0.1145 +/- 0.0001\n"
     ]
    }
   ],
   "source": [
    "print('Avg Balanced Accuracy: {} +/- {}'.format(np.round(np.mean(balanced_acc_list), 4),\n",
    "                                                np.round(np.std(balanced_acc_list), 4)))\n",
    "print('Avg Kappa: {} +/- {}'.format(np.round(np.mean(kappa_acc_list), 4),\n",
    "                                    np.round(np.std(kappa_acc_list), 4)))"
   ]
  }
 ],
 "metadata": {
  "kernelspec": {
   "display_name": "Python 3",
   "language": "python",
   "name": "python3"
  },
  "language_info": {
   "codemirror_mode": {
    "name": "ipython",
    "version": 3
   },
   "file_extension": ".py",
   "mimetype": "text/x-python",
   "name": "python",
   "nbconvert_exporter": "python",
   "pygments_lexer": "ipython3",
   "version": "3.8.3"
  },
  "nbTranslate": {
   "displayLangs": [
    "*"
   ],
   "hotkey": "alt-t",
   "langInMainMenu": true,
   "sourceLang": "en",
   "targetLang": "fr",
   "useGoogleTranslate": true
  },
  "toc": {
   "base_numbering": 1,
   "nav_menu": {},
   "number_sections": true,
   "sideBar": true,
   "skip_h1_title": false,
   "title_cell": "Table of Contents",
   "title_sidebar": "Contents",
   "toc_cell": false,
   "toc_position": {},
   "toc_section_display": true,
   "toc_window_display": false
  }
 },
 "nbformat": 4,
 "nbformat_minor": 4
}
