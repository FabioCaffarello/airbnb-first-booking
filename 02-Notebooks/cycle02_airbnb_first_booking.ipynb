{
 "cells": [
  {
   "cell_type": "markdown",
   "metadata": {
    "ExecuteTime": {
     "end_time": "2021-01-03T18:46:58.923445Z",
     "start_time": "2021-01-03T18:46:58.918448Z"
    },
    "heading_collapsed": true
   },
   "source": [
    "# 0.0 Understanding the Situation"
   ]
  },
  {
   "cell_type": "markdown",
   "metadata": {
    "hidden": true
   },
   "source": [
    "- objective of the proposed situation\n",
    "1. Prediction of the first destination a new user will choose\n",
    "- Why?\n",
    " - What kind of business model does Airbnb have?\n",
    " - Market Place (connecting people who offer accommodation with people who are looking for accommodation)\n",
    " - Offer (people offer accommodation)\n",
    "   - Portifolio size\n",
    "   - Portfolio diversity/density\n",
    "   - Average price\n",
    " - Demand (people looking for accommodation)\n",
    "   - Number of Users\n",
    "   - LTV (Lifetime Value)\n",
    "   - CAC (Client Acquisition Cost)\n",
    " - Gross Revenue  = fee * number of users - CAC (contribution margins)\n",
    " \n",
    " \n",
    "- **Solution**\n",
    " - Prediction model of the first destination of a new user\n",
    " - API\n",
    "   - **Input**: user and its characteristics\n",
    "   - **Output**: user and its characteristics **with the prediction of destination**"
   ]
  },
  {
   "cell_type": "markdown",
   "metadata": {},
   "source": [
    "# 1.0 IMPORTS"
   ]
  },
  {
   "cell_type": "markdown",
   "metadata": {},
   "source": [
    "## 1.1 Libraries"
   ]
  },
  {
   "cell_type": "code",
   "execution_count": 116,
   "metadata": {
    "ExecuteTime": {
     "end_time": "2021-01-05T17:10:36.657134Z",
     "start_time": "2021-01-05T17:10:36.638383Z"
    }
   },
   "outputs": [],
   "source": [
    "#!pip install category_encoders"
   ]
  },
  {
   "cell_type": "code",
   "execution_count": 117,
   "metadata": {
    "ExecuteTime": {
     "end_time": "2021-01-05T17:10:43.756788Z",
     "start_time": "2021-01-05T17:10:37.643089Z"
    }
   },
   "outputs": [],
   "source": [
    "import random\n",
    "\n",
    "import numpy  as np # pip install numpy\n",
    "import pandas as pd  # pip install pandas\n",
    "\n",
    "import seaborn as sns # pip install seaborn\n",
    "import matplotlib.pyplot as plt\n",
    "\n",
    "from scipy import stats as ss # pip install scipy\n",
    "\n",
    "from sklearn.metrics         import accuracy_score, balanced_accuracy_score, cohen_kappa_score, classification_report\n",
    "from sklearn.preprocessing   import OneHotEncoder, StandardScaler, RobustScaler, MinMaxScaler\n",
    "from sklearn.model_selection import train_test_split, StratifiedKFold  # pip install sklearn\n",
    "\n",
    "from scikitplot.metrics      import plot_confusion_matrix  # pip install scikit-plot\n",
    "\n",
    "from imblearn                import combine        as c # pip install imblearn\n",
    "from imblearn                import over_sampling  as over\n",
    "from imblearn                import under_sampling as us\n",
    "\n",
    "from category_encoders       import TargetEncoder\n",
    "\n",
    "from pandas_profiling        import ProfileReport # pip install pandas-profiling\n",
    "\n",
    "from keras.models            import Sequential  # pip install keras; pip install tensorflow\n",
    "from keras.layers            import Dense"
   ]
  },
  {
   "cell_type": "markdown",
   "metadata": {
    "heading_collapsed": true
   },
   "source": [
    "## 1.2 Helper Functions"
   ]
  },
  {
   "cell_type": "code",
   "execution_count": 2,
   "metadata": {
    "ExecuteTime": {
     "end_time": "2021-01-05T11:52:08.213643Z",
     "start_time": "2021-01-05T11:52:08.197532Z"
    },
    "hidden": true
   },
   "outputs": [],
   "source": [
    "def cramer_v(x, y):\n",
    "    cm = pd.crosstab(x, y).to_numpy()\n",
    "    n = cm.sum()\n",
    "    r, k = cm.shape\n",
    "    \n",
    "    chi2 = ss.chi2_contingency(cm)[0]\n",
    "    chi2corr = max(0, chi2 - (k-1)*(r-1)/(n-1))\n",
    "    \n",
    "    kcorr = k - (k-1)**2/(n-1)\n",
    "    rcorr = r - (r-1)**2/(n-1)\n",
    "    \n",
    "    return np.sqrt((chi2corr/n)/(min(kcorr-1,rcorr-1)))"
   ]
  },
  {
   "cell_type": "markdown",
   "metadata": {
    "heading_collapsed": true
   },
   "source": [
    "## 1.3 Loading data"
   ]
  },
  {
   "cell_type": "code",
   "execution_count": 3,
   "metadata": {
    "ExecuteTime": {
     "end_time": "2021-01-05T11:52:08.846964Z",
     "start_time": "2021-01-05T11:52:08.222524Z"
    },
    "hidden": true,
    "scrolled": true
   },
   "outputs": [
    {
     "name": "stdout",
     "output_type": "stream",
     "text": [
      "total 648652\n",
      "-rw-r--r-- 1 fabio 197609     11905 Oct 16  2015 age_gender_bkts.csv\n",
      "-rw-r--r-- 1 fabio 197609       632 Oct 16  2015 countries.csv\n",
      "-rw-r--r-- 1 fabio 197609    931451 Dec  6  2015 sample_submission_NDF.csv\n",
      "-rw-r--r-- 1 fabio 197609 631646292 Dec  6  2015 sessions.csv\n",
      "-rw-r--r-- 1 fabio 197609   6763170 May 16  2018 test_users.csv\n",
      "-rw-r--r-- 1 fabio 197609  24853881 Dec 10  2015 train_users_2.csv\n"
     ]
    }
   ],
   "source": [
    "!ls -l ../01-Data/csv_data"
   ]
  },
  {
   "cell_type": "markdown",
   "metadata": {
    "hidden": true
   },
   "source": [
    "### 1.3.1 Training"
   ]
  },
  {
   "cell_type": "code",
   "execution_count": 4,
   "metadata": {
    "ExecuteTime": {
     "end_time": "2021-01-05T11:52:10.687781Z",
     "start_time": "2021-01-05T11:52:08.854941Z"
    },
    "hidden": true
   },
   "outputs": [
    {
     "data": {
      "text/plain": [
       "(213451, 16)"
      ]
     },
     "execution_count": 4,
     "metadata": {},
     "output_type": "execute_result"
    }
   ],
   "source": [
    "df_train_raw = pd.read_csv(\n",
    "    \"../01-Data/csv_data/train_users_2.csv\", low_memory=True)\n",
    "df_train_raw.shape"
   ]
  },
  {
   "cell_type": "markdown",
   "metadata": {
    "hidden": true
   },
   "source": [
    "### 1.3.2 Sessions"
   ]
  },
  {
   "cell_type": "code",
   "execution_count": 5,
   "metadata": {
    "ExecuteTime": {
     "end_time": "2021-01-05T11:52:30.998578Z",
     "start_time": "2021-01-05T11:52:10.696548Z"
    },
    "hidden": true
   },
   "outputs": [
    {
     "data": {
      "text/plain": [
       "(10567737, 6)"
      ]
     },
     "execution_count": 5,
     "metadata": {},
     "output_type": "execute_result"
    }
   ],
   "source": [
    "df_sessions_raw = pd.read_csv(\n",
    "    \"../01-Data/csv_data/sessions.csv\", low_memory=True)\n",
    "df_sessions_raw.shape"
   ]
  },
  {
   "cell_type": "markdown",
   "metadata": {
    "heading_collapsed": true
   },
   "source": [
    "# 2.0 DATA DESCRIPTION"
   ]
  },
  {
   "cell_type": "code",
   "execution_count": 6,
   "metadata": {
    "ExecuteTime": {
     "end_time": "2021-01-05T11:52:31.437661Z",
     "start_time": "2021-01-05T11:52:30.999396Z"
    },
    "hidden": true
   },
   "outputs": [],
   "source": [
    "df_train_01 = df_train_raw.copy()\n",
    "df_sessions_01 = df_sessions_raw.copy()"
   ]
  },
  {
   "cell_type": "markdown",
   "metadata": {
    "heading_collapsed": true,
    "hidden": true
   },
   "source": [
    "## 2.1 Data Dimensions"
   ]
  },
  {
   "cell_type": "markdown",
   "metadata": {
    "heading_collapsed": true,
    "hidden": true
   },
   "source": [
    "### 2.1.1 Training"
   ]
  },
  {
   "cell_type": "code",
   "execution_count": 7,
   "metadata": {
    "ExecuteTime": {
     "end_time": "2021-01-05T11:52:31.462688Z",
     "start_time": "2021-01-05T11:52:31.442944Z"
    },
    "hidden": true,
    "scrolled": true
   },
   "outputs": [
    {
     "name": "stdout",
     "output_type": "stream",
     "text": [
      "Number of Rows: 213451\n",
      "Number of Columns: 16\n"
     ]
    }
   ],
   "source": [
    "print(f'Number of Rows: {df_train_01.shape[0]}')\n",
    "print(f'Number of Columns: {df_train_01.shape[1]}')"
   ]
  },
  {
   "cell_type": "markdown",
   "metadata": {
    "heading_collapsed": true,
    "hidden": true
   },
   "source": [
    "### 2.1.2 Sessions"
   ]
  },
  {
   "cell_type": "code",
   "execution_count": 8,
   "metadata": {
    "ExecuteTime": {
     "end_time": "2021-01-05T11:52:31.485927Z",
     "start_time": "2021-01-05T11:52:31.468566Z"
    },
    "hidden": true
   },
   "outputs": [
    {
     "name": "stdout",
     "output_type": "stream",
     "text": [
      "Number of Rows: 10567737\n",
      "Number of Columns: 6\n"
     ]
    }
   ],
   "source": [
    "print(f'Number of Rows: {df_sessions_01.shape[0]}')\n",
    "print(f'Number of Columns: {df_sessions_01.shape[1]}')"
   ]
  },
  {
   "cell_type": "markdown",
   "metadata": {
    "heading_collapsed": true,
    "hidden": true
   },
   "source": [
    "## 2.2 Data Type"
   ]
  },
  {
   "cell_type": "markdown",
   "metadata": {
    "heading_collapsed": true,
    "hidden": true
   },
   "source": [
    "### 2.2.1 Training"
   ]
  },
  {
   "cell_type": "code",
   "execution_count": 9,
   "metadata": {
    "ExecuteTime": {
     "end_time": "2021-01-05T11:52:31.525483Z",
     "start_time": "2021-01-05T11:52:31.497146Z"
    },
    "hidden": true,
    "scrolled": true
   },
   "outputs": [
    {
     "data": {
      "text/plain": [
       "id                          object\n",
       "date_account_created        object\n",
       "timestamp_first_active       int64\n",
       "date_first_booking          object\n",
       "gender                      object\n",
       "age                        float64\n",
       "signup_method               object\n",
       "signup_flow                  int64\n",
       "language                    object\n",
       "affiliate_channel           object\n",
       "affiliate_provider          object\n",
       "first_affiliate_tracked     object\n",
       "signup_app                  object\n",
       "first_device_type           object\n",
       "first_browser               object\n",
       "country_destination         object\n",
       "dtype: object"
      ]
     },
     "execution_count": 9,
     "metadata": {},
     "output_type": "execute_result"
    }
   ],
   "source": [
    "df_train_01.dtypes"
   ]
  },
  {
   "cell_type": "markdown",
   "metadata": {
    "heading_collapsed": true,
    "hidden": true
   },
   "source": [
    "### 2.2.2 Sessions"
   ]
  },
  {
   "cell_type": "code",
   "execution_count": 10,
   "metadata": {
    "ExecuteTime": {
     "end_time": "2021-01-05T11:52:31.561087Z",
     "start_time": "2021-01-05T11:52:31.535769Z"
    },
    "hidden": true
   },
   "outputs": [
    {
     "data": {
      "text/plain": [
       "user_id           object\n",
       "action            object\n",
       "action_type       object\n",
       "action_detail     object\n",
       "device_type       object\n",
       "secs_elapsed     float64\n",
       "dtype: object"
      ]
     },
     "execution_count": 10,
     "metadata": {},
     "output_type": "execute_result"
    }
   ],
   "source": [
    "df_sessions_01.dtypes"
   ]
  },
  {
   "cell_type": "markdown",
   "metadata": {
    "heading_collapsed": true,
    "hidden": true
   },
   "source": [
    "## 2.3 NA Check"
   ]
  },
  {
   "cell_type": "markdown",
   "metadata": {
    "heading_collapsed": true,
    "hidden": true
   },
   "source": [
    "### 2.3.1 Training"
   ]
  },
  {
   "cell_type": "code",
   "execution_count": 11,
   "metadata": {
    "ExecuteTime": {
     "end_time": "2021-01-05T11:52:31.849371Z",
     "start_time": "2021-01-05T11:52:31.568224Z"
    },
    "hidden": true
   },
   "outputs": [
    {
     "data": {
      "text/plain": [
       "id                         0.000000\n",
       "date_account_created       0.000000\n",
       "timestamp_first_active     0.000000\n",
       "date_first_booking         0.583473\n",
       "gender                     0.000000\n",
       "age                        0.412226\n",
       "signup_method              0.000000\n",
       "signup_flow                0.000000\n",
       "language                   0.000000\n",
       "affiliate_channel          0.000000\n",
       "affiliate_provider         0.000000\n",
       "first_affiliate_tracked    0.028414\n",
       "signup_app                 0.000000\n",
       "first_device_type          0.000000\n",
       "first_browser              0.000000\n",
       "country_destination        0.000000\n",
       "dtype: float64"
      ]
     },
     "execution_count": 11,
     "metadata": {},
     "output_type": "execute_result"
    }
   ],
   "source": [
    "df_train_01.isnull().sum() / len(df_train_01)"
   ]
  },
  {
   "cell_type": "code",
   "execution_count": 12,
   "metadata": {
    "ExecuteTime": {
     "end_time": "2021-01-05T11:52:31.978867Z",
     "start_time": "2021-01-05T11:52:31.849371Z"
    },
    "hidden": true
   },
   "outputs": [
    {
     "data": {
      "text/plain": [
       "NDF    1.0\n",
       "Name: country_destination, dtype: float64"
      ]
     },
     "execution_count": 12,
     "metadata": {},
     "output_type": "execute_result"
    }
   ],
   "source": [
    "aux = df_train_01[df_train_01['date_first_booking'].isnull()]\n",
    "aux['country_destination'].value_counts(normalize=True)"
   ]
  },
  {
   "cell_type": "code",
   "execution_count": 13,
   "metadata": {
    "ExecuteTime": {
     "end_time": "2021-01-05T11:52:32.074742Z",
     "start_time": "2021-01-05T11:52:31.979904Z"
    },
    "hidden": true
   },
   "outputs": [
    {
     "data": {
      "text/plain": [
       "NDF      0.768428\n",
       "US       0.156529\n",
       "other    0.028617\n",
       "FR       0.014888\n",
       "IT       0.009081\n",
       "GB       0.006251\n",
       "ES       0.006171\n",
       "CA       0.003989\n",
       "DE       0.002387\n",
       "NL       0.001818\n",
       "AU       0.001171\n",
       "PT       0.000671\n",
       "Name: country_destination, dtype: float64"
      ]
     },
     "execution_count": 13,
     "metadata": {},
     "output_type": "execute_result"
    }
   ],
   "source": [
    "aux = df_train_01[df_train_01['age'].isnull()]\n",
    "aux['country_destination'].value_counts(normalize=True)"
   ]
  },
  {
   "cell_type": "code",
   "execution_count": 14,
   "metadata": {
    "ExecuteTime": {
     "end_time": "2021-01-05T11:52:33.482361Z",
     "start_time": "2021-01-05T11:52:32.075738Z"
    },
    "hidden": true
   },
   "outputs": [
    {
     "data": {
      "image/png": "[encoded data removed]",
      "text/plain": [
       "<Figure size 360x360 with 1 Axes>"
      ]
     },
     "metadata": {
      "needs_background": "light"
     },
     "output_type": "display_data"
    }
   ],
   "source": [
    "sns.displot(df_train_01[df_train_01['age']<75]['age'], kind='ecdf');"
   ]
  },
  {
   "cell_type": "code",
   "execution_count": 15,
   "metadata": {
    "ExecuteTime": {
     "end_time": "2021-01-05T11:52:33.542561Z",
     "start_time": "2021-01-05T11:52:33.490055Z"
    },
    "hidden": true
   },
   "outputs": [
    {
     "data": {
      "text/plain": [
       "0            untracked\n",
       "5                  omg\n",
       "12                 NaN\n",
       "13              linked\n",
       "79       tracked-other\n",
       "257            product\n",
       "6270         marketing\n",
       "11184        local ops\n",
       "Name: first_affiliate_tracked, dtype: object"
      ]
     },
     "execution_count": 15,
     "metadata": {},
     "output_type": "execute_result"
    }
   ],
   "source": [
    "df_train_01['first_affiliate_tracked'].drop_duplicates()"
   ]
  },
  {
   "cell_type": "code",
   "execution_count": 16,
   "metadata": {
    "ExecuteTime": {
     "end_time": "2021-01-05T11:52:33.864377Z",
     "start_time": "2021-01-05T11:52:33.550794Z"
    },
    "hidden": true
   },
   "outputs": [
    {
     "data": {
      "text/plain": [
       "(122636, 16)"
      ]
     },
     "execution_count": 16,
     "metadata": {},
     "output_type": "execute_result"
    }
   ],
   "source": [
    "# remove missing values completely\n",
    "#df_train_01 = df_train_01.dropna()\n",
    "\n",
    "# date_first_booking\n",
    "date_first_booking_max = pd.to_datetime(df_train_01['date_first_booking']).max().strftime('%Y-%m-%d')\n",
    "df_train_01['date_first_booking'] = df_train_01['date_first_booking'].fillna(date_first_booking_max)\n",
    "\n",
    "# age\n",
    "df_train_01 = df_train_01[(df_train_01['age'] > 15) & (df_train_01['age'] < 120)]\n",
    "avg_age = int(df_train_01['age'].mean())\n",
    "df_train_01['age'] = df_train_01['age'].fillna(avg_age)\n",
    "\n",
    "# first_affiliate_tracked\n",
    "# remove missing values completely\n",
    "df_train_01 = df_train_01[~df_train_01['first_affiliate_tracked'].isnull()]\n",
    "\n",
    "df_train_01.shape"
   ]
  },
  {
   "cell_type": "markdown",
   "metadata": {
    "heading_collapsed": true,
    "hidden": true
   },
   "source": [
    "### 2.3.2 Sessions"
   ]
  },
  {
   "cell_type": "code",
   "execution_count": 17,
   "metadata": {
    "ExecuteTime": {
     "end_time": "2021-01-05T11:52:38.627334Z",
     "start_time": "2021-01-05T11:52:33.874948Z"
    },
    "hidden": true,
    "scrolled": true
   },
   "outputs": [
    {
     "data": {
      "text/plain": [
       "user_id          0.003264\n",
       "action           0.007535\n",
       "action_type      0.106570\n",
       "action_detail    0.106570\n",
       "device_type      0.000000\n",
       "secs_elapsed     0.012872\n",
       "dtype: float64"
      ]
     },
     "execution_count": 17,
     "metadata": {},
     "output_type": "execute_result"
    }
   ],
   "source": [
    "df_sessions_01.isnull().sum() / len(df_sessions_01)"
   ]
  },
  {
   "cell_type": "code",
   "execution_count": 18,
   "metadata": {
    "ExecuteTime": {
     "end_time": "2021-01-05T11:52:50.049562Z",
     "start_time": "2021-01-05T11:52:38.633731Z"
    },
    "hidden": true
   },
   "outputs": [
    {
     "data": {
      "text/plain": [
       "(9213930, 6)"
      ]
     },
     "execution_count": 18,
     "metadata": {},
     "output_type": "execute_result"
    }
   ],
   "source": [
    "# remove missing values completely\n",
    "## user_id - 0.3%\n",
    "df_sessions_01 = df_sessions_01[~df_sessions_01['user_id'].isnull()]\n",
    "\n",
    "## action - 0.75%\n",
    "df_sessions_01 = df_sessions_01[~df_sessions_01['action'].isnull()]\n",
    "\n",
    "## action_type - 10.65%\n",
    "df_sessions_01 = df_sessions_01[~df_sessions_01['action_type'].isnull()]\n",
    "\n",
    "## action_detail - 10.65%\n",
    "df_sessions_01 = df_sessions_01[~df_sessions_01['action_detail'].isnull()]\n",
    "\n",
    "## secs_elapsed - 1.3%\n",
    "df_sessions_01 = df_sessions_01[~df_sessions_01['secs_elapsed'].isnull()]\n",
    "\n",
    "df_sessions_01.shape"
   ]
  },
  {
   "cell_type": "markdown",
   "metadata": {
    "heading_collapsed": true,
    "hidden": true
   },
   "source": [
    "## 2.4 Change Data type "
   ]
  },
  {
   "cell_type": "markdown",
   "metadata": {
    "heading_collapsed": true,
    "hidden": true
   },
   "source": [
    "### 2.4.1 Training"
   ]
  },
  {
   "cell_type": "code",
   "execution_count": 19,
   "metadata": {
    "ExecuteTime": {
     "end_time": "2021-01-05T11:52:51.269412Z",
     "start_time": "2021-01-05T11:52:50.053394Z"
    },
    "hidden": true
   },
   "outputs": [],
   "source": [
    "# date_account_created\n",
    "df_train_01['date_account_created'] = pd.to_datetime(\n",
    "    df_train_01['date_account_created'])\n",
    "# timestamp_first_active\n",
    "df_train_01['timestamp_first_active'] = pd.to_datetime(\n",
    "    df_train_01['timestamp_first_active'], format='%Y%m%d%H%M%S')\n",
    "# date_first_booking\n",
    "df_train_01['date_first_booking'] = pd.to_datetime(\n",
    "    df_train_01['date_first_booking'])\n",
    "\n",
    "# age\n",
    "df_train_01['age'] = df_train_01['age'].astype(int)"
   ]
  },
  {
   "cell_type": "code",
   "execution_count": 20,
   "metadata": {
    "ExecuteTime": {
     "end_time": "2021-01-05T11:52:51.295646Z",
     "start_time": "2021-01-05T11:52:51.272419Z"
    },
    "hidden": true,
    "scrolled": true
   },
   "outputs": [
    {
     "data": {
      "text/plain": [
       "id                                 object\n",
       "date_account_created       datetime64[ns]\n",
       "timestamp_first_active     datetime64[ns]\n",
       "date_first_booking         datetime64[ns]\n",
       "gender                             object\n",
       "age                                 int32\n",
       "signup_method                      object\n",
       "signup_flow                         int64\n",
       "language                           object\n",
       "affiliate_channel                  object\n",
       "affiliate_provider                 object\n",
       "first_affiliate_tracked            object\n",
       "signup_app                         object\n",
       "first_device_type                  object\n",
       "first_browser                      object\n",
       "country_destination                object\n",
       "dtype: object"
      ]
     },
     "execution_count": 20,
     "metadata": {},
     "output_type": "execute_result"
    }
   ],
   "source": [
    "df_train_01.dtypes"
   ]
  },
  {
   "cell_type": "markdown",
   "metadata": {
    "heading_collapsed": true,
    "hidden": true
   },
   "source": [
    "## 2.5 Check Balanced Data"
   ]
  },
  {
   "cell_type": "markdown",
   "metadata": {
    "heading_collapsed": true,
    "hidden": true
   },
   "source": [
    "### 2.5.1 Training"
   ]
  },
  {
   "cell_type": "code",
   "execution_count": 21,
   "metadata": {
    "ExecuteTime": {
     "end_time": "2021-01-05T11:52:51.359479Z",
     "start_time": "2021-01-05T11:52:51.302227Z"
    },
    "hidden": true,
    "scrolled": true
   },
   "outputs": [
    {
     "data": {
      "text/plain": [
       "NDF      0.447275\n",
       "US       0.391867\n",
       "other    0.061246\n",
       "FR       0.029918\n",
       "IT       0.016423\n",
       "GB       0.014335\n",
       "ES       0.013740\n",
       "CA       0.008676\n",
       "DE       0.006858\n",
       "NL       0.004852\n",
       "AU       0.003531\n",
       "PT       0.001280\n",
       "Name: country_destination, dtype: float64"
      ]
     },
     "execution_count": 21,
     "metadata": {},
     "output_type": "execute_result"
    }
   ],
   "source": [
    "df_train_01['country_destination'].value_counts(normalize=True)"
   ]
  },
  {
   "cell_type": "markdown",
   "metadata": {
    "heading_collapsed": true,
    "hidden": true
   },
   "source": [
    "## 2.6 Descriptive Analysis"
   ]
  },
  {
   "cell_type": "markdown",
   "metadata": {
    "heading_collapsed": true,
    "hidden": true
   },
   "source": [
    "### 2.6.1 General"
   ]
  },
  {
   "cell_type": "code",
   "execution_count": 22,
   "metadata": {
    "ExecuteTime": {
     "end_time": "2021-01-05T11:52:52.183739Z",
     "start_time": "2021-01-05T11:52:51.365542Z"
    },
    "hidden": true
   },
   "outputs": [],
   "source": [
    "## Users\n",
    "num_attributes = df_train_01.select_dtypes(include=['int32', 'int64', 'float64'])\n",
    "cat_attributes = df_train_01.select_dtypes(exclude=['int32','int64', 'float64', 'datetime64[ns]'])\n",
    "time_attributes = df_train_01.select_dtypes(include=['datetime64[ns]'])\n",
    "\n",
    "## Sessions\n",
    "num_attributes_sessions = df_sessions_01.select_dtypes(include=['int32', 'int64', 'float64'])\n",
    "cat_attributes_sessions = df_sessions_01.select_dtypes(exclude=['int32','int64', 'float64', 'datetime64[ns]'])\n",
    "time_attributes_sessions = df_sessions_01.select_dtypes(include=['datetime64[ns]'])"
   ]
  },
  {
   "cell_type": "markdown",
   "metadata": {
    "heading_collapsed": true,
    "hidden": true
   },
   "source": [
    "### 2.6.2 Numerical Users"
   ]
  },
  {
   "cell_type": "code",
   "execution_count": 23,
   "metadata": {
    "ExecuteTime": {
     "end_time": "2021-01-05T11:52:52.502206Z",
     "start_time": "2021-01-05T11:52:52.187378Z"
    },
    "hidden": true
   },
   "outputs": [
    {
     "data": {
      "text/html": [
       "<div>\n",
       "<style scoped>\n",
       "    .dataframe tbody tr th:only-of-type {\n",
       "        vertical-align: middle;\n",
       "    }\n",
       "\n",
       "    .dataframe tbody tr th {\n",
       "        vertical-align: top;\n",
       "    }\n",
       "\n",
       "    .dataframe thead th {\n",
       "        text-align: right;\n",
       "    }\n",
       "</style>\n",
       "<table border=\"1\" class=\"dataframe\">\n",
       "  <thead>\n",
       "    <tr style=\"text-align: right;\">\n",
       "      <th></th>\n",
       "      <th>attributes</th>\n",
       "      <th>min</th>\n",
       "      <th>max</th>\n",
       "      <th>range</th>\n",
       "      <th>mean</th>\n",
       "      <th>median</th>\n",
       "      <th>std</th>\n",
       "      <th>skew</th>\n",
       "      <th>kurtosis</th>\n",
       "    </tr>\n",
       "  </thead>\n",
       "  <tbody>\n",
       "    <tr>\n",
       "      <th>0</th>\n",
       "      <td>age</td>\n",
       "      <td>16.0</td>\n",
       "      <td>115.0</td>\n",
       "      <td>99.0</td>\n",
       "      <td>37.405591</td>\n",
       "      <td>34.0</td>\n",
       "      <td>13.939844</td>\n",
       "      <td>2.089718</td>\n",
       "      <td>6.516468</td>\n",
       "    </tr>\n",
       "    <tr>\n",
       "      <th>1</th>\n",
       "      <td>signup_flow</td>\n",
       "      <td>0.0</td>\n",
       "      <td>25.0</td>\n",
       "      <td>25.0</td>\n",
       "      <td>2.519513</td>\n",
       "      <td>0.0</td>\n",
       "      <td>6.604696</td>\n",
       "      <td>2.705871</td>\n",
       "      <td>5.928298</td>\n",
       "    </tr>\n",
       "  </tbody>\n",
       "</table>\n",
       "</div>"
      ],
      "text/plain": [
       "    attributes   min    max  range       mean  median        std      skew  \\\n",
       "0          age  16.0  115.0   99.0  37.405591    34.0  13.939844  2.089718   \n",
       "1  signup_flow   0.0   25.0   25.0   2.519513     0.0   6.604696  2.705871   \n",
       "\n",
       "   kurtosis  \n",
       "0  6.516468  \n",
       "1  5.928298  "
      ]
     },
     "execution_count": 23,
     "metadata": {},
     "output_type": "execute_result"
    }
   ],
   "source": [
    "# Central Tendency - Mean, Mediam\n",
    "ct1 = pd.DataFrame(num_attributes.apply(np.mean)).T\n",
    "ct2 = pd.DataFrame(num_attributes.apply(np.median)).T\n",
    "\n",
    "# Dispersions - Std, Min, Max, Range, Skew, Kurtosis\n",
    "d1 = pd.DataFrame(num_attributes.apply(np.std)).T\n",
    "d2 = pd.DataFrame(num_attributes.apply(min)).T\n",
    "d3 = pd.DataFrame(num_attributes.apply(max)).T\n",
    "d4 = pd.DataFrame(num_attributes.apply(lambda x: x.max() - x.min())).T\n",
    "d5 = pd.DataFrame(num_attributes.apply(lambda x: x.skew())).T\n",
    "d6 = pd.DataFrame(num_attributes.apply(lambda x: x.kurtosis())).T\n",
    "                  \n",
    "# Concatenate\n",
    "ct = pd.concat([d2, d3, d4, ct1, ct2, d1, d5, d6]).T.reset_index()\n",
    "ct.columns = ['attributes', 'min', 'max', 'range', 'mean', 'median', 'std', 'skew', 'kurtosis']\n",
    "ct"
   ]
  },
  {
   "cell_type": "markdown",
   "metadata": {
    "heading_collapsed": true,
    "hidden": true
   },
   "source": [
    "### 2.6.3 Numerical Sessions"
   ]
  },
  {
   "cell_type": "code",
   "execution_count": 24,
   "metadata": {
    "ExecuteTime": {
     "end_time": "2021-01-05T11:52:57.761750Z",
     "start_time": "2021-01-05T11:52:52.505888Z"
    },
    "hidden": true
   },
   "outputs": [
    {
     "data": {
      "text/html": [
       "<div>\n",
       "<style scoped>\n",
       "    .dataframe tbody tr th:only-of-type {\n",
       "        vertical-align: middle;\n",
       "    }\n",
       "\n",
       "    .dataframe tbody tr th {\n",
       "        vertical-align: top;\n",
       "    }\n",
       "\n",
       "    .dataframe thead th {\n",
       "        text-align: right;\n",
       "    }\n",
       "</style>\n",
       "<table border=\"1\" class=\"dataframe\">\n",
       "  <thead>\n",
       "    <tr style=\"text-align: right;\">\n",
       "      <th></th>\n",
       "      <th>attributes</th>\n",
       "      <th>min</th>\n",
       "      <th>max</th>\n",
       "      <th>range</th>\n",
       "      <th>mean</th>\n",
       "      <th>median</th>\n",
       "      <th>std</th>\n",
       "      <th>skew</th>\n",
       "      <th>kurtosis</th>\n",
       "    </tr>\n",
       "  </thead>\n",
       "  <tbody>\n",
       "    <tr>\n",
       "      <th>0</th>\n",
       "      <td>secs_elapsed</td>\n",
       "      <td>0.0</td>\n",
       "      <td>1799977.0</td>\n",
       "      <td>1799977.0</td>\n",
       "      <td>19961.8251</td>\n",
       "      <td>1369.0</td>\n",
       "      <td>88849.388449</td>\n",
       "      <td>11.137761</td>\n",
       "      <td>154.84312</td>\n",
       "    </tr>\n",
       "  </tbody>\n",
       "</table>\n",
       "</div>"
      ],
      "text/plain": [
       "     attributes  min        max      range        mean  median           std  \\\n",
       "0  secs_elapsed  0.0  1799977.0  1799977.0  19961.8251  1369.0  88849.388449   \n",
       "\n",
       "        skew   kurtosis  \n",
       "0  11.137761  154.84312  "
      ]
     },
     "execution_count": 24,
     "metadata": {},
     "output_type": "execute_result"
    }
   ],
   "source": [
    "# Central Tendency - Mean, Mediam\n",
    "ct1 = pd.DataFrame(num_attributes_sessions.apply(np.mean)).T\n",
    "ct2 = pd.DataFrame(num_attributes_sessions.apply(np.median)).T\n",
    "\n",
    "# Dispersions - Std, Min, Max, Range, Skew, Kurtosis\n",
    "d1 = pd.DataFrame(num_attributes_sessions.apply(np.std)).T\n",
    "d2 = pd.DataFrame(num_attributes_sessions.apply(min)).T\n",
    "d3 = pd.DataFrame(num_attributes_sessions.apply(max)).T\n",
    "d4 = pd.DataFrame(num_attributes_sessions.apply(lambda x: x.max() - x.min())).T\n",
    "d5 = pd.DataFrame(num_attributes_sessions.apply(lambda x: x.skew())).T\n",
    "d6 = pd.DataFrame(num_attributes_sessions.apply(lambda x: x.kurtosis())).T\n",
    "\n",
    "# Concatenate\n",
    "ct = pd.concat([d2, d3, d4, ct1, ct2, d1, d5, d6]).T.reset_index()\n",
    "ct.columns = ['attributes', 'min', 'max', 'range', 'mean', 'median', 'std', 'skew', 'kurtosis']\n",
    "ct"
   ]
  },
  {
   "cell_type": "markdown",
   "metadata": {
    "heading_collapsed": true,
    "hidden": true
   },
   "source": [
    "### 2.6.3 Categorical Users"
   ]
  },
  {
   "cell_type": "code",
   "execution_count": 25,
   "metadata": {
    "ExecuteTime": {
     "end_time": "2021-01-05T11:52:58.545960Z",
     "start_time": "2021-01-05T11:52:57.770227Z"
    },
    "hidden": true
   },
   "outputs": [
    {
     "data": {
      "text/html": [
       "<div>\n",
       "<style scoped>\n",
       "    .dataframe tbody tr th:only-of-type {\n",
       "        vertical-align: middle;\n",
       "    }\n",
       "\n",
       "    .dataframe tbody tr th {\n",
       "        vertical-align: top;\n",
       "    }\n",
       "\n",
       "    .dataframe thead th {\n",
       "        text-align: right;\n",
       "    }\n",
       "</style>\n",
       "<table border=\"1\" class=\"dataframe\">\n",
       "  <thead>\n",
       "    <tr style=\"text-align: right;\">\n",
       "      <th></th>\n",
       "      <th>gender</th>\n",
       "      <th>signup_method</th>\n",
       "      <th>language</th>\n",
       "      <th>affiliate_channel</th>\n",
       "      <th>affiliate_provider</th>\n",
       "      <th>first_affiliate_tracked</th>\n",
       "      <th>signup_app</th>\n",
       "      <th>first_device_type</th>\n",
       "      <th>first_browser</th>\n",
       "      <th>country_destination</th>\n",
       "    </tr>\n",
       "  </thead>\n",
       "  <tbody>\n",
       "    <tr>\n",
       "      <th>count</th>\n",
       "      <td>122636</td>\n",
       "      <td>122636</td>\n",
       "      <td>122636</td>\n",
       "      <td>122636</td>\n",
       "      <td>122636</td>\n",
       "      <td>122636</td>\n",
       "      <td>122636</td>\n",
       "      <td>122636</td>\n",
       "      <td>122636</td>\n",
       "      <td>122636</td>\n",
       "    </tr>\n",
       "    <tr>\n",
       "      <th>unique</th>\n",
       "      <td>4</td>\n",
       "      <td>3</td>\n",
       "      <td>25</td>\n",
       "      <td>8</td>\n",
       "      <td>17</td>\n",
       "      <td>7</td>\n",
       "      <td>4</td>\n",
       "      <td>9</td>\n",
       "      <td>41</td>\n",
       "      <td>12</td>\n",
       "    </tr>\n",
       "    <tr>\n",
       "      <th>top</th>\n",
       "      <td>FEMALE</td>\n",
       "      <td>basic</td>\n",
       "      <td>en</td>\n",
       "      <td>direct</td>\n",
       "      <td>direct</td>\n",
       "      <td>untracked</td>\n",
       "      <td>Web</td>\n",
       "      <td>Mac Desktop</td>\n",
       "      <td>Chrome</td>\n",
       "      <td>NDF</td>\n",
       "    </tr>\n",
       "    <tr>\n",
       "      <th>freq</th>\n",
       "      <td>56362</td>\n",
       "      <td>66039</td>\n",
       "      <td>118205</td>\n",
       "      <td>79093</td>\n",
       "      <td>78954</td>\n",
       "      <td>64712</td>\n",
       "      <td>108283</td>\n",
       "      <td>57943</td>\n",
       "      <td>41778</td>\n",
       "      <td>54852</td>\n",
       "    </tr>\n",
       "  </tbody>\n",
       "</table>\n",
       "</div>"
      ],
      "text/plain": [
       "        gender signup_method language affiliate_channel affiliate_provider  \\\n",
       "count   122636        122636   122636            122636             122636   \n",
       "unique       4             3       25                 8                 17   \n",
       "top     FEMALE         basic       en            direct             direct   \n",
       "freq     56362         66039   118205             79093              78954   \n",
       "\n",
       "       first_affiliate_tracked signup_app first_device_type first_browser  \\\n",
       "count                   122636     122636            122636        122636   \n",
       "unique                       7          4                 9            41   \n",
       "top                  untracked        Web       Mac Desktop        Chrome   \n",
       "freq                     64712     108283             57943         41778   \n",
       "\n",
       "       country_destination  \n",
       "count               122636  \n",
       "unique                  12  \n",
       "top                    NDF  \n",
       "freq                 54852  "
      ]
     },
     "execution_count": 25,
     "metadata": {},
     "output_type": "execute_result"
    }
   ],
   "source": [
    "cat_attributes.drop('id', axis=1).describe()"
   ]
  },
  {
   "cell_type": "markdown",
   "metadata": {
    "heading_collapsed": true,
    "hidden": true
   },
   "source": [
    "### 2.6.4 Categorical Sessions"
   ]
  },
  {
   "cell_type": "code",
   "execution_count": 26,
   "metadata": {
    "ExecuteTime": {
     "end_time": "2021-01-05T11:53:11.241505Z",
     "start_time": "2021-01-05T11:52:58.551334Z"
    },
    "hidden": true,
    "scrolled": true
   },
   "outputs": [
    {
     "data": {
      "text/html": [
       "<div>\n",
       "<style scoped>\n",
       "    .dataframe tbody tr th:only-of-type {\n",
       "        vertical-align: middle;\n",
       "    }\n",
       "\n",
       "    .dataframe tbody tr th {\n",
       "        vertical-align: top;\n",
       "    }\n",
       "\n",
       "    .dataframe thead th {\n",
       "        text-align: right;\n",
       "    }\n",
       "</style>\n",
       "<table border=\"1\" class=\"dataframe\">\n",
       "  <thead>\n",
       "    <tr style=\"text-align: right;\">\n",
       "      <th></th>\n",
       "      <th>action</th>\n",
       "      <th>action_type</th>\n",
       "      <th>action_detail</th>\n",
       "      <th>device_type</th>\n",
       "    </tr>\n",
       "  </thead>\n",
       "  <tbody>\n",
       "    <tr>\n",
       "      <th>count</th>\n",
       "      <td>9213930</td>\n",
       "      <td>9213930</td>\n",
       "      <td>9213930</td>\n",
       "      <td>9213930</td>\n",
       "    </tr>\n",
       "    <tr>\n",
       "      <th>unique</th>\n",
       "      <td>347</td>\n",
       "      <td>10</td>\n",
       "      <td>155</td>\n",
       "      <td>14</td>\n",
       "    </tr>\n",
       "    <tr>\n",
       "      <th>top</th>\n",
       "      <td>show</td>\n",
       "      <td>view</td>\n",
       "      <td>view_search_results</td>\n",
       "      <td>Mac Desktop</td>\n",
       "    </tr>\n",
       "    <tr>\n",
       "      <th>freq</th>\n",
       "      <td>2178382</td>\n",
       "      <td>3545621</td>\n",
       "      <td>1770931</td>\n",
       "      <td>3019523</td>\n",
       "    </tr>\n",
       "  </tbody>\n",
       "</table>\n",
       "</div>"
      ],
      "text/plain": [
       "         action action_type        action_detail  device_type\n",
       "count   9213930     9213930              9213930      9213930\n",
       "unique      347          10                  155           14\n",
       "top        show        view  view_search_results  Mac Desktop\n",
       "freq    2178382     3545621              1770931      3019523"
      ]
     },
     "execution_count": 26,
     "metadata": {},
     "output_type": "execute_result"
    }
   ],
   "source": [
    "cat_attributes_sessions.drop('user_id', axis=1).describe()"
   ]
  },
  {
   "cell_type": "code",
   "execution_count": 27,
   "metadata": {
    "ExecuteTime": {
     "end_time": "2021-01-05T11:54:35.857818Z",
     "start_time": "2021-01-05T11:53:11.254983Z"
    },
    "hidden": true
   },
   "outputs": [],
   "source": [
    "# list of attributes for Cramer's V correlation\n",
    "cat_attributes_list = cat_attributes_sessions.drop('user_id', axis=1).columns.tolist()\n",
    "\n",
    "corr_dict = {}\n",
    "for i in range(len(cat_attributes_list)):\n",
    "    corr_list = []\n",
    "    for j in range(len(cat_attributes_list)):\n",
    "        ref = cat_attributes_list[i]\n",
    "        feat = cat_attributes_list[j]\n",
    "        \n",
    "        # correlation\n",
    "        corr = cramer_v(cat_attributes_sessions[ref], cat_attributes_sessions[feat])\n",
    "        \n",
    "        # append list\n",
    "        corr_list.append(corr)\n",
    "        \n",
    "    # append correlation list for each ref attributes  \n",
    "    corr_dict[ref] = corr_list\n",
    "    \n",
    "#d = pd.DataFrame(corr_dict)"
   ]
  },
  {
   "cell_type": "code",
   "execution_count": 28,
   "metadata": {
    "ExecuteTime": {
     "end_time": "2021-01-05T11:54:36.744870Z",
     "start_time": "2021-01-05T11:54:35.864778Z"
    },
    "hidden": true
   },
   "outputs": [
    {
     "data": {
      "image/png": "[encoded data removed]",
      "text/plain": [
       "<Figure size 432x288 with 2 Axes>"
      ]
     },
     "metadata": {
      "needs_background": "light"
     },
     "output_type": "display_data"
    }
   ],
   "source": [
    "d = pd.DataFrame(corr_dict)\n",
    "d = d.set_index(d.columns)\n",
    "sns.heatmap(d, annot=True);"
   ]
  },
  {
   "cell_type": "markdown",
   "metadata": {
    "heading_collapsed": true
   },
   "source": [
    "# 3.0 Feature Engineering"
   ]
  },
  {
   "cell_type": "code",
   "execution_count": 29,
   "metadata": {
    "ExecuteTime": {
     "end_time": "2021-01-05T11:54:37.142525Z",
     "start_time": "2021-01-05T11:54:36.752226Z"
    },
    "hidden": true
   },
   "outputs": [],
   "source": [
    "df_train_02 = df_train_01.copy()\n",
    "df_sessions_02 = df_sessions_01.copy()"
   ]
  },
  {
   "cell_type": "code",
   "execution_count": 30,
   "metadata": {
    "ExecuteTime": {
     "end_time": "2021-01-05T11:54:47.316441Z",
     "start_time": "2021-01-05T11:54:37.152185Z"
    },
    "hidden": true
   },
   "outputs": [
    {
     "name": "stderr",
     "output_type": "stream",
     "text": [
      "<ipython-input-30-e523a0ac8692>:30: FutureWarning: Series.dt.weekofyear and Series.dt.week have been deprecated.  Please use Series.dt.isocalendar().week instead.\n",
      "  df_train_02['week_of_year_first_active'] = df_train_02['first_active'].dt.weekofyear\n",
      "<ipython-input-30-e523a0ac8692>:47: FutureWarning: Series.dt.weekofyear and Series.dt.week have been deprecated.  Please use Series.dt.isocalendar().week instead.\n",
      "  df_train_02['week_of_year_first_booking'] = df_train_02['date_first_booking'].dt.weekofyear\n",
      "<ipython-input-30-e523a0ac8692>:64: FutureWarning: Series.dt.weekofyear and Series.dt.week have been deprecated.  Please use Series.dt.isocalendar().week instead.\n",
      "  df_train_02['week_of_year_account_created'] = df_train_02['date_account_created'].dt.weekofyear\n"
     ]
    }
   ],
   "source": [
    "# days from first activate up to first booking\n",
    "df_train_02['first_active'] = pd.to_datetime(\n",
    "    df_train_02['timestamp_first_active'].dt.strftime('%Y-%m-%d'))\n",
    "df_train_02['days_from_first_active_until_booking'] = (\n",
    "    df_train_02['date_first_booking'] - df_train_02['first_active']).apply(lambda x: x.days)\n",
    "\n",
    "# days from first activate up to account created\n",
    "df_train_02['days_from_first_active_until_account_created'] = (\n",
    "    df_train_02['date_account_created'] - df_train_02['first_active']).apply(lambda x: x.days)\n",
    "\n",
    "# days from account created up to first booking\n",
    "df_train_02['days_from_account_created_until_first_booking'] = (\n",
    "    df_train_02['date_first_booking'] - df_train_02['date_account_created']).apply(lambda x: x.days)\n",
    "\n",
    "\n",
    "# =============================== first active ===============================\n",
    "# year first active\n",
    "df_train_02['year_first_active'] = df_train_02['first_active'].dt.year\n",
    "\n",
    "# month first active\n",
    "df_train_02['month_first_active'] = df_train_02['first_active'].dt.month\n",
    "\n",
    "# day first active\n",
    "df_train_02['day_first_active'] = df_train_02['first_active'].dt.day\n",
    "\n",
    "# day of week first active\n",
    "df_train_02['day_of_week_first_active'] = df_train_02['first_active'].dt.dayofweek\n",
    "\n",
    "# week of year of first active\n",
    "df_train_02['week_of_year_first_active'] = df_train_02['first_active'].dt.weekofyear\n",
    "\n",
    "\n",
    "# =============================== first booking ===============================\n",
    "# year first booking\n",
    "df_train_02['year_first_booking'] = df_train_02['date_first_booking'].dt.year\n",
    "\n",
    "# month first booking\n",
    "df_train_02['month_first_booking'] = df_train_02['date_first_booking'].dt.month\n",
    "\n",
    "# day first booking\n",
    "df_train_02['day_first_booking'] = df_train_02['date_first_booking'].dt.day\n",
    "\n",
    "# day of week first booking\n",
    "df_train_02['day_of_week_first_booking'] = df_train_02['date_first_booking'].dt.dayofweek\n",
    "\n",
    "# week of year of first booking\n",
    "df_train_02['week_of_year_first_booking'] = df_train_02['date_first_booking'].dt.weekofyear\n",
    "\n",
    "\n",
    "# =============================== first account created ===============================\n",
    "# year first booking\n",
    "df_train_02['year_account_created'] = df_train_02['date_account_created'].dt.year\n",
    "\n",
    "# month first booking\n",
    "df_train_02['month_account_created'] = df_train_02['date_account_created'].dt.month\n",
    "\n",
    "# day first booking\n",
    "df_train_02['day_account_created'] = df_train_02['date_account_created'].dt.day\n",
    "\n",
    "# day of week first booking\n",
    "df_train_02['day_of_week_account_created'] = df_train_02['date_account_created'].dt.dayofweek\n",
    "\n",
    "# week of year of first booking\n",
    "df_train_02['week_of_year_account_created'] = df_train_02['date_account_created'].dt.weekofyear"
   ]
  },
  {
   "cell_type": "markdown",
   "metadata": {
    "heading_collapsed": true
   },
   "source": [
    "# 4.0 Data Filtering"
   ]
  },
  {
   "cell_type": "code",
   "execution_count": 31,
   "metadata": {
    "ExecuteTime": {
     "end_time": "2021-01-05T11:54:47.703146Z",
     "start_time": "2021-01-05T11:54:47.319928Z"
    },
    "hidden": true
   },
   "outputs": [],
   "source": [
    "df_train_03 = df_train_02.copy()\n",
    "df_sessions_03 = df_sessions_02.copy()"
   ]
  },
  {
   "cell_type": "markdown",
   "metadata": {
    "heading_collapsed": true,
    "hidden": true
   },
   "source": [
    "## 4.1 Filtering Rows"
   ]
  },
  {
   "cell_type": "code",
   "execution_count": 32,
   "metadata": {
    "ExecuteTime": {
     "end_time": "2021-01-05T11:54:49.695917Z",
     "start_time": "2021-01-05T11:54:47.709332Z"
    },
    "hidden": true
   },
   "outputs": [],
   "source": [
    "# Filtering rows:\n",
    "## age > greater than 15 and lower than 120 - There are few people over 120 years old\n",
    "df_train_03 = df_train_03[(df_train_03['age'] > 15) & (df_train_03['age'] < 120)]\n",
    "\n",
    "## secs_elapsed > greater than 0 - There is no possible secs elepsed on website\n",
    "df_sessions_03 = df_sessions_03[df_sessions_03['secs_elapsed'] > 0]"
   ]
  },
  {
   "cell_type": "markdown",
   "metadata": {
    "heading_collapsed": true,
    "hidden": true
   },
   "source": [
    "## 4.1 Filtering Columns"
   ]
  },
  {
   "cell_type": "code",
   "execution_count": 33,
   "metadata": {
    "ExecuteTime": {
     "end_time": "2021-01-05T11:54:49.827771Z",
     "start_time": "2021-01-05T11:54:49.706063Z"
    },
    "hidden": true
   },
   "outputs": [],
   "source": [
    "cols = ['date_account_created', 'timestamp_first_active', 'date_first_booking', 'first_active'] # orginal Datetime\n",
    "df_train_03 = df_train_03.drop(cols, axis=1)"
   ]
  },
  {
   "cell_type": "markdown",
   "metadata": {
    "heading_collapsed": true
   },
   "source": [
    "# 5.0 Balanced Dataset"
   ]
  },
  {
   "cell_type": "code",
   "execution_count": 34,
   "metadata": {
    "ExecuteTime": {
     "end_time": "2021-01-05T11:54:49.903038Z",
     "start_time": "2021-01-05T11:54:49.839666Z"
    },
    "hidden": true
   },
   "outputs": [],
   "source": [
    "df_train_04 = df_train_03.copy()"
   ]
  },
  {
   "cell_type": "code",
   "execution_count": 35,
   "metadata": {
    "ExecuteTime": {
     "end_time": "2021-01-05T11:54:51.448666Z",
     "start_time": "2021-01-05T11:54:49.910865Z"
    },
    "hidden": true
   },
   "outputs": [],
   "source": [
    "# Encoder Categorical Variables\n",
    "ohe = OneHotEncoder()\n",
    "\n",
    "# Numerical\n",
    "col_num = df_train_04.select_dtypes(include=['int32', 'int64', 'float64']).columns.tolist()\n",
    "\n",
    "# Categorical\n",
    "col_cat = df_train_04.select_dtypes(exclude=['int32', 'int64', 'float64', 'datetime64[ns]'])\\\n",
    "    .drop(['id', 'country_destination'], axis=1).columns.tolist()\n",
    "\n",
    "# Encoding\n",
    "df_train_04_dummy = pd.DataFrame(ohe.fit_transform(df_train_04[col_cat]).toarray(), index=df_train_04.index)\n",
    "\n",
    "# join Numerical and Categorical\n",
    "df_train_04_1 = pd.concat([df_train_04[col_num], df_train_04_dummy], axis=1)"
   ]
  },
  {
   "cell_type": "markdown",
   "metadata": {
    "heading_collapsed": true,
    "hidden": true
   },
   "source": [
    "## 5.1 Random Undersampling"
   ]
  },
  {
   "cell_type": "code",
   "execution_count": 36,
   "metadata": {
    "ExecuteTime": {
     "end_time": "2021-01-05T11:54:53.565277Z",
     "start_time": "2021-01-05T11:54:51.452086Z"
    },
    "hidden": true
   },
   "outputs": [],
   "source": [
    "# ratio balanced\n",
    "ratio_balanced = {'NDF': 10000}\n",
    "\n",
    "# define sampler\n",
    "undersampling = us.RandomUnderSampler(sampling_strategy=ratio_balanced, random_state=32)\n",
    "\n",
    "# apply sampler\n",
    "X_under, y_under = undersampling.fit_resample(df_train_04_1, df_train_04['country_destination'])"
   ]
  },
  {
   "cell_type": "code",
   "execution_count": 37,
   "metadata": {
    "ExecuteTime": {
     "end_time": "2021-01-05T11:54:53.630065Z",
     "start_time": "2021-01-05T11:54:53.573297Z"
    },
    "cell_style": "split",
    "hidden": true,
    "scrolled": true
   },
   "outputs": [
    {
     "data": {
      "text/plain": [
       "NDF      54852\n",
       "US       48057\n",
       "other     7511\n",
       "FR        3669\n",
       "IT        2014\n",
       "GB        1758\n",
       "ES        1685\n",
       "CA        1064\n",
       "DE         841\n",
       "NL         595\n",
       "AU         433\n",
       "PT         157\n",
       "Name: country_destination, dtype: int64"
      ]
     },
     "execution_count": 37,
     "metadata": {},
     "output_type": "execute_result"
    }
   ],
   "source": [
    "df_train_04['country_destination'].value_counts()"
   ]
  },
  {
   "cell_type": "code",
   "execution_count": 38,
   "metadata": {
    "ExecuteTime": {
     "end_time": "2021-01-05T11:54:53.689913Z",
     "start_time": "2021-01-05T11:54:53.638093Z"
    },
    "cell_style": "split",
    "hidden": true,
    "scrolled": true
   },
   "outputs": [
    {
     "data": {
      "text/plain": [
       "US       48057\n",
       "NDF      10000\n",
       "other     7511\n",
       "FR        3669\n",
       "IT        2014\n",
       "GB        1758\n",
       "ES        1685\n",
       "CA        1064\n",
       "DE         841\n",
       "NL         595\n",
       "AU         433\n",
       "PT         157\n",
       "Name: country_destination, dtype: int64"
      ]
     },
     "execution_count": 38,
     "metadata": {},
     "output_type": "execute_result"
    }
   ],
   "source": [
    "y_under.value_counts()"
   ]
  },
  {
   "cell_type": "markdown",
   "metadata": {
    "heading_collapsed": true,
    "hidden": true
   },
   "source": [
    "## 5.2 Random Oversampling"
   ]
  },
  {
   "cell_type": "code",
   "execution_count": 39,
   "metadata": {
    "ExecuteTime": {
     "end_time": "2021-01-05T11:55:02.372962Z",
     "start_time": "2021-01-05T11:54:53.697252Z"
    },
    "hidden": true
   },
   "outputs": [],
   "source": [
    "# ratio balanced\n",
    "#ratio_balanced = {'NDF': 10000}\n",
    "\n",
    "# define sampler\n",
    "oversampling = over.RandomOverSampler(sampling_strategy='all', random_state=32)\n",
    "\n",
    "# apply sampler\n",
    "X_over, y_over = oversampling.fit_resample(df_train_04_1, df_train_04['country_destination'])"
   ]
  },
  {
   "cell_type": "code",
   "execution_count": 40,
   "metadata": {
    "ExecuteTime": {
     "end_time": "2021-01-05T11:55:02.456339Z",
     "start_time": "2021-01-05T11:55:02.380871Z"
    },
    "cell_style": "split",
    "hidden": true,
    "scrolled": true
   },
   "outputs": [
    {
     "data": {
      "text/plain": [
       "NDF      54852\n",
       "US       48057\n",
       "other     7511\n",
       "FR        3669\n",
       "IT        2014\n",
       "GB        1758\n",
       "ES        1685\n",
       "CA        1064\n",
       "DE         841\n",
       "NL         595\n",
       "AU         433\n",
       "PT         157\n",
       "Name: country_destination, dtype: int64"
      ]
     },
     "execution_count": 40,
     "metadata": {},
     "output_type": "execute_result"
    }
   ],
   "source": [
    "df_train_04['country_destination'].value_counts()"
   ]
  },
  {
   "cell_type": "code",
   "execution_count": 41,
   "metadata": {
    "ExecuteTime": {
     "end_time": "2021-01-05T11:55:02.669569Z",
     "start_time": "2021-01-05T11:55:02.462283Z"
    },
    "cell_style": "split",
    "hidden": true,
    "scrolled": false
   },
   "outputs": [
    {
     "data": {
      "text/plain": [
       "IT       54852\n",
       "NDF      54852\n",
       "CA       54852\n",
       "NL       54852\n",
       "other    54852\n",
       "AU       54852\n",
       "PT       54852\n",
       "US       54852\n",
       "ES       54852\n",
       "GB       54852\n",
       "DE       54852\n",
       "FR       54852\n",
       "Name: country_destination, dtype: int64"
      ]
     },
     "execution_count": 41,
     "metadata": {},
     "output_type": "execute_result"
    }
   ],
   "source": [
    "y_over.value_counts()"
   ]
  },
  {
   "cell_type": "markdown",
   "metadata": {
    "heading_collapsed": true,
    "hidden": true
   },
   "source": [
    "## 5.3 SMOTE + TOMEKLINK"
   ]
  },
  {
   "cell_type": "code",
   "execution_count": 42,
   "metadata": {
    "ExecuteTime": {
     "end_time": "2021-01-05T11:55:02.697141Z",
     "start_time": "2021-01-05T11:55:02.677954Z"
    },
    "hidden": true
   },
   "outputs": [],
   "source": [
    "ratio_balanced = {\n",
    "                    'NDF': 54852,\n",
    "                    'US': 48057,\n",
    "                    'other': 6*7511,\n",
    "                    'FR': 12*3669,\n",
    "                    'IT': 20*2014,\n",
    "                    'GB': 25*1758,\n",
    "                    'ES': 25*1685,\n",
    "                    'CA': 40*1064,\n",
    "                    'DE': 45*841,\n",
    "                    'NL': 80*595,\n",
    "                    'AU': 85*433,\n",
    "                    'PT': 250*157}"
   ]
  },
  {
   "cell_type": "code",
   "execution_count": 43,
   "metadata": {
    "ExecuteTime": {
     "end_time": "2021-01-05T12:00:05.782459Z",
     "start_time": "2021-01-05T11:55:02.706902Z"
    },
    "hidden": true
   },
   "outputs": [],
   "source": [
    "# define sampler\n",
    "smt = c.SMOTETomek(sampling_strategy=ratio_balanced, random_state=32, n_jobs=-1)\n",
    "\n",
    "# apply sampler\n",
    "X_smt, y_smt = smt.fit_resample(df_train_04_1, df_train_04['country_destination'])"
   ]
  },
  {
   "cell_type": "code",
   "execution_count": 44,
   "metadata": {
    "ExecuteTime": {
     "end_time": "2021-01-05T12:00:06.928486Z",
     "start_time": "2021-01-05T12:00:05.785451Z"
    },
    "hidden": true
   },
   "outputs": [],
   "source": [
    "# numerical data\n",
    "df_train_04_2 = X_smt[col_num]\n",
    "\n",
    "# categorical data\n",
    "df_train_04_3 = X_smt.drop(col_num, axis=1)\n",
    "df_train_04_4 = pd.DataFrame(ohe.inverse_transform(df_train_04_3), columns=col_cat, index=df_train_04_3.index)\n",
    "\n",
    "# join numerical and categorical\n",
    "df_train_04_6 = pd.concat([df_train_04_2, df_train_04_4], axis=1)\n",
    "df_train_04_6['country_destination'] = y_smt"
   ]
  },
  {
   "cell_type": "code",
   "execution_count": 45,
   "metadata": {
    "ExecuteTime": {
     "end_time": "2021-01-05T12:00:06.974466Z",
     "start_time": "2021-01-05T12:00:06.932454Z"
    },
    "cell_style": "split",
    "hidden": true
   },
   "outputs": [
    {
     "data": {
      "text/plain": [
       "NDF      54852\n",
       "US       48057\n",
       "other     7511\n",
       "FR        3669\n",
       "IT        2014\n",
       "GB        1758\n",
       "ES        1685\n",
       "CA        1064\n",
       "DE         841\n",
       "NL         595\n",
       "AU         433\n",
       "PT         157\n",
       "Name: country_destination, dtype: int64"
      ]
     },
     "execution_count": 45,
     "metadata": {},
     "output_type": "execute_result"
    }
   ],
   "source": [
    "df_train_04['country_destination'].value_counts()"
   ]
  },
  {
   "cell_type": "code",
   "execution_count": 46,
   "metadata": {
    "ExecuteTime": {
     "end_time": "2021-01-05T12:00:07.099457Z",
     "start_time": "2021-01-05T12:00:06.978454Z"
    },
    "cell_style": "split",
    "hidden": true
   },
   "outputs": [
    {
     "data": {
      "text/plain": [
       "NDF      54850\n",
       "NL       47598\n",
       "US       47525\n",
       "other    44744\n",
       "GB       43895\n",
       "FR       43869\n",
       "CA       42542\n",
       "ES       42071\n",
       "IT       40200\n",
       "PT       39250\n",
       "DE       37828\n",
       "AU       36802\n",
       "Name: country_destination, dtype: int64"
      ]
     },
     "execution_count": 46,
     "metadata": {},
     "output_type": "execute_result"
    }
   ],
   "source": [
    "y_smt.value_counts()"
   ]
  },
  {
   "cell_type": "markdown",
   "metadata": {
    "heading_collapsed": true
   },
   "source": [
    "# 6.0 Exploratory Data Analysis (EDA)"
   ]
  },
  {
   "cell_type": "code",
   "execution_count": 60,
   "metadata": {
    "ExecuteTime": {
     "end_time": "2021-01-05T12:11:28.296213Z",
     "start_time": "2021-01-05T12:11:28.202690Z"
    },
    "hidden": true
   },
   "outputs": [],
   "source": [
    "df_train_05_1 = df_train_04_6.copy()\n",
    "df_train_05_2 = df_train_04.copy()"
   ]
  },
  {
   "cell_type": "markdown",
   "metadata": {
    "heading_collapsed": true,
    "hidden": true
   },
   "source": [
    "## 6.1 Univariate Analysis - Feature Bahaviour (Balanced Dataset)"
   ]
  },
  {
   "cell_type": "code",
   "execution_count": 59,
   "metadata": {
    "ExecuteTime": {
     "end_time": "2021-01-05T12:06:17.677475Z",
     "start_time": "2021-01-05T12:06:03.462355Z"
    },
    "hidden": true,
    "scrolled": false
   },
   "outputs": [
    {
     "data": {
      "application/vnd.jupyter.widget-view+json": {
       "model_id": "0e439fce52624413ab0ee4b9273f25b0",
       "version_major": 2,
       "version_minor": 0
      },
      "text/plain": [
       "HBox(children=(HTML(value='Summarize dataset'), FloatProgress(value=0.0, max=39.0), HTML(value='')))"
      ]
     },
     "metadata": {},
     "output_type": "display_data"
    },
    {
     "name": "stdout",
     "output_type": "stream",
     "text": [
      "\n"
     ]
    },
    {
     "data": {
      "application/vnd.jupyter.widget-view+json": {
       "model_id": "3317c143e7944454986eeb94751227c2",
       "version_major": 2,
       "version_minor": 0
      },
      "text/plain": [
       "HBox(children=(HTML(value='Generate report structure'), FloatProgress(value=0.0, max=1.0), HTML(value='')))"
      ]
     },
     "metadata": {},
     "output_type": "display_data"
    },
    {
     "name": "stdout",
     "output_type": "stream",
     "text": [
      "\n"
     ]
    },
    {
     "data": {
      "application/vnd.jupyter.widget-view+json": {
       "model_id": "05c615f107854b5b965024f81fc7119e",
       "version_major": 2,
       "version_minor": 0
      },
      "text/plain": [
       "HBox(children=(HTML(value='Render HTML'), FloatProgress(value=0.0, max=1.0), HTML(value='')))"
      ]
     },
     "metadata": {},
     "output_type": "display_data"
    },
    {
     "name": "stdout",
     "output_type": "stream",
     "text": [
      "\n"
     ]
    },
    {
     "data": {
      "application/vnd.jupyter.widget-view+json": {
       "model_id": "bf99666a4d9d46dcad1949a402fbb3cc",
       "version_major": 2,
       "version_minor": 0
      },
      "text/plain": [
       "HBox(children=(HTML(value='Export report to file'), FloatProgress(value=0.0, max=1.0), HTML(value='')))"
      ]
     },
     "metadata": {},
     "output_type": "display_data"
    },
    {
     "name": "stdout",
     "output_type": "stream",
     "text": [
      "\n"
     ]
    }
   ],
   "source": [
    "profile = ProfileReport(df_train_05_1, title=\"Airbnb First Booking\", html={'style': {'full_width':True}}, minimal=True)\n",
    "\n",
    "profile.to_file(output_file='airbnb_booking.html')"
   ]
  },
  {
   "cell_type": "markdown",
   "metadata": {
    "heading_collapsed": true,
    "hidden": true
   },
   "source": [
    "## 6.2 Bivariate Analysis - Hypothesis Validation (Unbalanced dataset)"
   ]
  },
  {
   "cell_type": "markdown",
   "metadata": {
    "hidden": true
   },
   "source": [
    "> - **H01** - At all destinations, it takes users 15 days on average to make their first Airbnb reservation since their first activation\n",
    "> - **H02** - In all destinations, users take 3 days, on average, to register on the site\n",
    "> - **H03** - The volume of annual reservations made during the summer increased by 20% for destinations within the US\n",
    "> - **H04** - Female users make 10% more reservations for countries outside the US\n",
    "> - **H05** - The Google Marketing channel accounts for 40% of reservations for countries outside the US\n",
    "> - **H06** - The US target represents more than 20% on all channels\n",
    "> - **H07** - The average age of people is 35 years in all destinations\n",
    "> - **H08** - The percentage of users who use the site in the English American language to book accommodation in any destination is greater than 90%\n",
    "> - **H09** - Is the number of Airbnb reservations increasing or decreasing over the years?\n",
    "> - **H10** - The number of Airbnb reservations is increasing over the years"
   ]
  },
  {
   "cell_type": "markdown",
   "metadata": {
    "hidden": true
   },
   "source": [
    "**H01** - At all destinations, it takes users 15 days on average to make their first Airbnb reservation since their first activation\n",
    "> - **True:** At all destinations, it takes users up to 6 days to book the first Airbnb"
   ]
  },
  {
   "cell_type": "code",
   "execution_count": 74,
   "metadata": {
    "ExecuteTime": {
     "end_time": "2021-01-05T12:40:54.101205Z",
     "start_time": "2021-01-05T12:40:53.721231Z"
    },
    "hidden": true,
    "scrolled": false
   },
   "outputs": [
    {
     "data": {
      "image/png": "[encoded data removed]",
      "text/plain": [
       "<Figure size 1440x864 with 2 Axes>"
      ]
     },
     "metadata": {
      "needs_background": "light"
     },
     "output_type": "display_data"
    }
   ],
   "source": [
    "plt.figure(figsize=(20,12))\n",
    "\n",
    "plt.subplot(2,1,1)\n",
    "aux01 = df_train_05_2[['days_from_first_active_until_booking', 'country_destination']].groupby('country_destination').median().reset_index()\n",
    "sns.barplot(x='country_destination', y='days_from_first_active_until_booking',\n",
    "            data=aux01. sort_values('days_from_first_active_until_booking'));\n",
    "\n",
    "# remove outlier\n",
    "aux02 = df_train_05_2[df_train_05_2['country_destination'] != 'NDF']\n",
    "aux02 = aux02[['days_from_first_active_until_booking', 'country_destination']].groupby('country_destination').median().reset_index()\n",
    "\n",
    "plt.subplot(2,1,2)\n",
    "sns.barplot(x='country_destination', y='days_from_first_active_until_booking',\n",
    "            data=aux02. sort_values('days_from_first_active_until_booking'));"
   ]
  },
  {
   "cell_type": "markdown",
   "metadata": {
    "hidden": true
   },
   "source": [
    "**H02** - In all destinations, users take 3 days, on average, to register on the site\n",
    "> - **True:** In all destinations, users take, on average, up to 2 days to complete the registration "
   ]
  },
  {
   "cell_type": "code",
   "execution_count": 84,
   "metadata": {
    "ExecuteTime": {
     "end_time": "2021-01-05T12:49:29.057040Z",
     "start_time": "2021-01-05T12:49:28.800035Z"
    },
    "hidden": true
   },
   "outputs": [
    {
     "data": {
      "image/png": "[encoded data removed]",
      "text/plain": [
       "<Figure size 1440x864 with 1 Axes>"
      ]
     },
     "metadata": {
      "needs_background": "light"
     },
     "output_type": "display_data"
    }
   ],
   "source": [
    "plt.figure(figsize=(20,12))\n",
    "\n",
    "#plt.subplot(2,1,1)\n",
    "aux01 = df_train_05_2[['days_from_first_active_until_account_created', 'country_destination']].groupby('country_destination').mean().reset_index()\n",
    "sns.barplot(x='country_destination', y='days_from_first_active_until_account_created',\n",
    "            data=aux01. sort_values('days_from_first_active_until_account_created'));\n",
    "\n",
    "# # remove outlier\n",
    "# aux02 = df_train_05_2[df_train_05_2['country_destination'] != 'NDF']\n",
    "# aux02 = aux02[['days_from_first_active_until_account_created', 'country_destination']].groupby('country_destination').mean().reset_index()\n",
    "\n",
    "# plt.subplot(2,1,2)\n",
    "# sns.barplot(x='country_destination', y='days_from_first_active_until_account_created',\n",
    "#             data=aux02. sort_values('days_from_first_active_until_account_created'));"
   ]
  },
  {
   "cell_type": "markdown",
   "metadata": {
    "hidden": true
   },
   "source": [
    "**H03** - The volume of annual reservations made during the summer increased by 20% for destinations within the US\n",
    "> - **FALSE:**  The volume of reserves increases during the summer between the years 2010 to 2013"
   ]
  },
  {
   "cell_type": "code",
   "execution_count": 86,
   "metadata": {
    "ExecuteTime": {
     "end_time": "2021-01-05T13:00:59.214438Z",
     "start_time": "2021-01-05T13:00:59.013443Z"
    },
    "hidden": true
   },
   "outputs": [
    {
     "data": {
      "image/png": "[encoded data removed]",
      "text/plain": [
       "<Figure size 1440x864 with 1 Axes>"
      ]
     },
     "metadata": {
      "needs_background": "light"
     },
     "output_type": "display_data"
    }
   ],
   "source": [
    "aux01 = df_train_05_2[['year_first_booking', 'month_first_booking', 'country_destination']].\\\n",
    "        groupby(['year_first_booking', 'month_first_booking', 'country_destination']).\\\n",
    "        size().reset_index().rename(columns={0: 'count'})\n",
    "\n",
    "# select only summer \n",
    "aux01 = aux01[(aux01['month_first_booking'].isin([6, 7, 8, 9])) & (aux01['country_destination'] == 'US')]\n",
    "\n",
    "aux02 = aux01[['year_first_booking', 'count']].groupby('year_first_booking').sum().reset_index()\n",
    "\n",
    "aux02['delta'] = 100*aux02['count'].pct_change().fillna(0)\n",
    "\n",
    "plt.figure(figsize=(20,12))\n",
    "sns.barplot(x='year_first_booking', y='delta', data=aux02);"
   ]
  },
  {
   "cell_type": "markdown",
   "metadata": {
    "heading_collapsed": true,
    "hidden": true
   },
   "source": [
    "## 6.3 Multivariable analysis (Balanced Dataset)"
   ]
  },
  {
   "cell_type": "code",
   "execution_count": 89,
   "metadata": {
    "ExecuteTime": {
     "end_time": "2021-01-05T15:08:19.269491Z",
     "start_time": "2021-01-05T15:08:19.090494Z"
    },
    "hidden": true
   },
   "outputs": [],
   "source": [
    "## Users\n",
    "num_attributes = df_train_05_1.select_dtypes(include=['int32', 'int64', 'float64'])\n",
    "cat_attributes = df_train_05_1.select_dtypes(exclude=['int32','int64', 'float64', 'datetime64[ns]'])"
   ]
  },
  {
   "cell_type": "markdown",
   "metadata": {
    "ExecuteTime": {
     "end_time": "2021-01-05T15:04:06.551848Z",
     "start_time": "2021-01-05T15:04:06.532851Z"
    },
    "hidden": true
   },
   "source": [
    "### 6.3.1 Numerical"
   ]
  },
  {
   "cell_type": "code",
   "execution_count": 90,
   "metadata": {
    "ExecuteTime": {
     "end_time": "2021-01-05T15:08:24.779546Z",
     "start_time": "2021-01-05T15:08:20.751577Z"
    },
    "hidden": true
   },
   "outputs": [
    {
     "data": {
      "image/png": "[encoded data removed]",
      "text/plain": [
       "<Figure size 1512x864 with 2 Axes>"
      ]
     },
     "metadata": {
      "needs_background": "light"
     },
     "output_type": "display_data"
    }
   ],
   "source": [
    "correlation = num_attributes.corr(method='pearson')\n",
    "plt.figure(figsize=(21,12))\n",
    "sns.heatmap(correlation, annot=True);"
   ]
  },
  {
   "cell_type": "markdown",
   "metadata": {
    "heading_collapsed": true,
    "hidden": true
   },
   "source": [
    "### 6.3.2 Categorical"
   ]
  },
  {
   "cell_type": "code",
   "execution_count": 91,
   "metadata": {
    "ExecuteTime": {
     "end_time": "2021-01-05T15:09:02.905325Z",
     "start_time": "2021-01-05T15:08:52.334233Z"
    },
    "hidden": true
   },
   "outputs": [
    {
     "data": {
      "image/png": "[encoded data removed]",
      "text/plain": [
       "<Figure size 1512x864 with 2 Axes>"
      ]
     },
     "metadata": {
      "needs_background": "light"
     },
     "output_type": "display_data"
    }
   ],
   "source": [
    "# list of attributes for Cramer's V correlation\n",
    "cat_attributes_list = cat_attributes.columns.tolist()\n",
    "\n",
    "corr_dict = {}\n",
    "for i in range(len(cat_attributes_list)):\n",
    "    corr_list = []\n",
    "    for j in range(len(cat_attributes_list)):\n",
    "        ref = cat_attributes_list[i]\n",
    "        feat = cat_attributes_list[j]\n",
    "        \n",
    "        # correlation\n",
    "        corr = cramer_v(cat_attributes[ref], cat_attributes[feat])\n",
    "        \n",
    "        # append list\n",
    "        corr_list.append(corr)\n",
    "        \n",
    "    # append correlation list for each ref attributes  \n",
    "    corr_dict[ref] = corr_list\n",
    "    \n",
    "d = pd.DataFrame(corr_dict)\n",
    "d = d.set_index(d.columns)\n",
    "plt.figure(figsize=(21,12))\n",
    "sns.heatmap(d, annot=True);"
   ]
  },
  {
   "cell_type": "markdown",
   "metadata": {
    "heading_collapsed": true
   },
   "source": [
    "# 7.0 Data Filtering 2"
   ]
  },
  {
   "cell_type": "markdown",
   "metadata": {
    "heading_collapsed": true,
    "hidden": true
   },
   "source": [
    "## 7.1 Filtering Columns"
   ]
  },
  {
   "cell_type": "code",
   "execution_count": 108,
   "metadata": {
    "ExecuteTime": {
     "end_time": "2021-01-05T17:04:06.792526Z",
     "start_time": "2021-01-05T17:04:06.672745Z"
    },
    "hidden": true
   },
   "outputs": [],
   "source": [
    "# ============================== High Correlation ==============================\n",
    "# days_from_first_active_until_booking x days_from_account_created_until_first_booking\n",
    "# remove: days_from_first_active_until_booking\n",
    "\n",
    "# year_first_active x year_account_created\n",
    "# remove: year_first_active\n",
    "\n",
    "# month_first_active x month_account_created\n",
    "# remove:month_first_active\n",
    "\n",
    "# day_first_active x day_account_created\n",
    "# remove:day_first_active\n",
    "\n",
    "# day_of_week_first_active x day_of_week_account_created\n",
    "# remove: day_of_week_first_active\n",
    "\n",
    "# week_of_year_first_active x week_of_year_account_created\n",
    "# remove: week_of_year_first_active\n",
    "\n",
    "# month_first_active x week_of_year_account_created\n",
    "# remove: month_first_active\n",
    "\n",
    "# month_first_active x week_of_year_first_active\n",
    "# remove: month_first_active\n",
    "\n",
    "# week_of_year_first_active x month_account_created\n",
    "# remove: week_of_year_first_active\n",
    "\n",
    "# month_first_booking x week_of_year_first_booking\n",
    "# remove: month_first_booking\n",
    "\n",
    "# month_account_created x week_of_year_account_created\n",
    "# remove: month_account_created\n",
    "\n",
    "# month_account_created x week_of_year_account_created\n",
    "# remove: month_account_created\n",
    "\n",
    "# year_first_booking x year_account_created\n",
    "# remove: year_first_booking\n",
    "\n",
    "# week_of_year_first_booking x week_of_year_account_created\n",
    "# remove: week_of_year_first_booking\n",
    "\n",
    "\n",
    "# affiliate_channel x affiliate_provider\n",
    "# remove: affiliate_provider\n",
    "\n",
    "# first_device_type x first_browser\n",
    "# remove: first_browser\n",
    "\n",
    "# first_device_type x signup_app\n",
    "# remove: first_device_type\n",
    "\n",
    "\n",
    "cols_to_drop = ['days_from_first_active_until_booking','year_first_active','month_first_active','day_first_active',\n",
    "'day_of_week_first_active','week_of_year_first_active','month_first_booking','month_account_created',\n",
    "'year_first_booking','week_of_year_first_booking','affiliate_provider','first_browser','first_device_type', 'language']\n",
    "\n",
    "df_train_07 = df_train_05_1.drop(cols_to_drop, axis=1)"
   ]
  },
  {
   "cell_type": "markdown",
   "metadata": {
    "heading_collapsed": true
   },
   "source": [
    "# 8.0 Data Preparation"
   ]
  },
  {
   "cell_type": "code",
   "execution_count": 121,
   "metadata": {
    "ExecuteTime": {
     "end_time": "2021-01-05T17:47:23.611396Z",
     "start_time": "2021-01-05T17:47:23.541845Z"
    },
    "hidden": true
   },
   "outputs": [],
   "source": [
    "df_train_08 = df_train_07.copy()"
   ]
  },
  {
   "cell_type": "code",
   "execution_count": 122,
   "metadata": {
    "ExecuteTime": {
     "end_time": "2021-01-05T17:47:24.215133Z",
     "start_time": "2021-01-05T17:47:24.204467Z"
    },
    "hidden": true
   },
   "outputs": [],
   "source": [
    "# # Dummy variable\n",
    "# df_train_08_dummy = pd.get_dummies(\n",
    "#     df_train_08.drop(['country_destination'], axis=1))\n",
    "\n",
    "# # Join id and country_destination\n",
    "# df_train_08 = pd.concat(\n",
    "#     [df_train_08[['country_destination']], df_train_08_dummy], axis=1)"
   ]
  },
  {
   "cell_type": "markdown",
   "metadata": {
    "heading_collapsed": true,
    "hidden": true
   },
   "source": [
    "## 8.1 Rescaling"
   ]
  },
  {
   "cell_type": "code",
   "execution_count": 123,
   "metadata": {
    "ExecuteTime": {
     "end_time": "2021-01-05T17:47:25.650635Z",
     "start_time": "2021-01-05T17:47:25.364676Z"
    },
    "hidden": true
   },
   "outputs": [],
   "source": [
    "ss = StandardScaler()\n",
    "rs = RobustScaler()\n",
    "mms = MinMaxScaler()\n",
    "\n",
    "# =========================== Standardization ===========================\n",
    "# age\n",
    "df_train_08['age'] = ss.fit_transform(df_train_08[['age']].values)\n",
    "\n",
    "\n",
    "# =========================== Robust Sacaler ===========================\n",
    "# signup_flow\n",
    "df_train_08['signup_flow'] = rs.fit_transform(df_train_08[['signup_flow']].values)\n",
    "\n",
    "# days_from_first_active_until_account_created\n",
    "df_train_08['days_from_first_active_until_account_created'] = rs.fit_transform(df_train_08[['days_from_first_active_until_account_created']].values)\n",
    "\n",
    "# days_from_account_created_until_first_booking\n",
    "df_train_08['days_from_account_created_until_first_booking'] = rs.fit_transform(df_train_08[['days_from_account_created_until_first_booking']].values)\n",
    "\n",
    "# =========================== MinMax Sacaler ===========================\n",
    "\n",
    "# year_account_created\n",
    "df_train_08['year_account_created'] = mms.fit_transform(df_train_08[['year_account_created']].values)"
   ]
  },
  {
   "cell_type": "markdown",
   "metadata": {
    "heading_collapsed": true,
    "hidden": true
   },
   "source": [
    "## 8.2 Encoding"
   ]
  },
  {
   "cell_type": "code",
   "execution_count": 124,
   "metadata": {
    "ExecuteTime": {
     "end_time": "2021-01-05T17:47:30.680234Z",
     "start_time": "2021-01-05T17:47:28.529393Z"
    },
    "hidden": true
   },
   "outputs": [
    {
     "name": "stderr",
     "output_type": "stream",
     "text": [
      "C:\\Users\\fabio\\Anaconda3\\lib\\site-packages\\category_encoders\\utils.py:21: FutureWarning: is_categorical is deprecated and will be removed in a future version.  Use is_categorical_dtype instead\n",
      "  elif pd.api.types.is_categorical(cols):\n",
      "C:\\Users\\fabio\\Anaconda3\\lib\\site-packages\\category_encoders\\utils.py:21: FutureWarning: is_categorical is deprecated and will be removed in a future version.  Use is_categorical_dtype instead\n",
      "  elif pd.api.types.is_categorical(cols):\n"
     ]
    }
   ],
   "source": [
    "te = TargetEncoder()\n",
    "\n",
    "# =========================== One Hot Encoder ===========================\n",
    "# gender\n",
    "df_train_08 = pd.get_dummies(df_train_08, prefix=['gender'], columns=['gender'])\n",
    "\n",
    "# signup_method\n",
    "df_train_08 = pd.get_dummies(df_train_08, prefix=['signup_method'], columns=['signup_method'])\n",
    "\n",
    "# signup_app\n",
    "df_train_08 = pd.get_dummies(df_train_08, prefix=['signup_app'], columns=['signup_app'])\n",
    "\n",
    "\n",
    "# =========================== Target Encoder ===========================\n",
    "c = {'NDF': 0,'US': 1,'other': 2,'CA': 3,'FR': 4,'IT': 5,'ES': 6,'GB': 7,'NL': 8,'DE': 9,'AU': 10,'PT':11}\n",
    "\n",
    "# first_affiliate_tracked\n",
    "df_train_08['first_affiliate_tracked'] = te.fit_transform(df_train_08[['first_affiliate_tracked']].values, df_train_08['country_destination'].map(c))\n",
    "\n",
    "# affiliate_channel\n",
    "df_train_08['affiliate_channel'] = te.fit_transform(df_train_08[['affiliate_channel']].values, df_train_08['country_destination'].map(c))"
   ]
  },
  {
   "cell_type": "markdown",
   "metadata": {
    "heading_collapsed": true,
    "hidden": true
   },
   "source": [
    "## 8.3 Transformation"
   ]
  },
  {
   "cell_type": "code",
   "execution_count": 125,
   "metadata": {
    "ExecuteTime": {
     "end_time": "2021-01-05T17:47:46.885010Z",
     "start_time": "2021-01-05T17:47:31.578777Z"
    },
    "hidden": true
   },
   "outputs": [],
   "source": [
    "# week_of_year_account_created\n",
    "df_train_08['week_of_year_account_created_sin'] = df_train_08['week_of_year_account_created'].apply(lambda x: np.sin(x * (2*np.pi/52)))\n",
    "df_train_08['week_of_year_account_created_cos'] = df_train_08['week_of_year_account_created'].apply(lambda x: np.cos(x * (2*np.pi/52)))\n",
    "\n",
    "# day_of_week_account_created\n",
    "df_train_08['day_of_week_account_created_sin'] = df_train_08['day_of_week_account_created'].apply(lambda x: np.sin(x * (2*np.pi/7)))\n",
    "df_train_08['day_of_week_account_created_cos'] = df_train_08['day_of_week_account_created'].apply(lambda x: np.cos(x * (2*np.pi/7)))\n",
    "\n",
    "# day_of_week_first_booking\n",
    "df_train_08['day_of_week_first_booking_sin'] = df_train_08['day_of_week_first_booking'].apply(lambda x: np.sin(x * (2*np.pi/7)))\n",
    "df_train_08['day_of_week_first_booking_cos'] = df_train_08['day_of_week_first_booking'].apply(lambda x: np.cos(x * (2*np.pi/7)))\n",
    "\n",
    "# day_account_created\n",
    "df_train_08['day_account_created_sin'] = df_train_08['day_account_created'].apply(lambda x: np.sin(x * (2*np.pi/31)))\n",
    "df_train_08['day_account_created_cos'] = df_train_08['day_account_created'].apply(lambda x: np.cos(x * (2*np.pi/31)))"
   ]
  },
  {
   "cell_type": "markdown",
   "metadata": {
    "heading_collapsed": true
   },
   "source": [
    "# 9.0 Feature Selection"
   ]
  },
  {
   "cell_type": "code",
   "execution_count": 126,
   "metadata": {
    "ExecuteTime": {
     "end_time": "2021-01-05T17:48:51.940848Z",
     "start_time": "2021-01-05T17:48:51.876063Z"
    },
    "hidden": true
   },
   "outputs": [],
   "source": [
    "# cols_drop = ['id']\n",
    "# df_train_06 = df_train_05.drop(cols_drop, axis=1)\n",
    "df_train_09 = df_train_08.copy()"
   ]
  },
  {
   "cell_type": "markdown",
   "metadata": {
    "heading_collapsed": true,
    "hidden": true
   },
   "source": [
    "## 9.1 Split into Train and Validation "
   ]
  },
  {
   "cell_type": "code",
   "execution_count": 127,
   "metadata": {
    "ExecuteTime": {
     "end_time": "2021-01-05T17:48:53.495087Z",
     "start_time": "2021-01-05T17:48:52.918076Z"
    },
    "hidden": true
   },
   "outputs": [],
   "source": [
    "X = df_train_09.drop('country_destination', axis=1)\n",
    "y = df_train_09['country_destination'].copy()\n",
    "\n",
    "# Split dataset into train and validation\n",
    "X_train, X_test, y_train, y_test = train_test_split(\n",
    "    X, y, test_size=0.2, random_state=32)"
   ]
  },
  {
   "cell_type": "markdown",
   "metadata": {},
   "source": [
    "# 10.0 Machine Learning Model"
   ]
  },
  {
   "cell_type": "markdown",
   "metadata": {
    "heading_collapsed": true
   },
   "source": [
    "## 10.1 Baseline model"
   ]
  },
  {
   "cell_type": "markdown",
   "metadata": {
    "heading_collapsed": true,
    "hidden": true
   },
   "source": [
    "### 10.1.1 Random Choices"
   ]
  },
  {
   "cell_type": "code",
   "execution_count": 128,
   "metadata": {
    "ExecuteTime": {
     "end_time": "2021-01-05T17:50:22.423259Z",
     "start_time": "2021-01-05T17:50:22.089571Z"
    },
    "hidden": true
   },
   "outputs": [],
   "source": [
    "country_destination_list = y_train.drop_duplicates().sort_values().tolist()\n",
    "country_destination_weights = y_train.value_counts(\n",
    "    normalize=True).sort_index().tolist()\n",
    "k_num = y_test.shape[0]\n",
    "\n",
    "# Random Model\n",
    "\n",
    "yhat_random = random.choices(population=country_destination_list,\n",
    "                             weights=country_destination_weights,\n",
    "                             k=k_num)"
   ]
  },
  {
   "cell_type": "markdown",
   "metadata": {
    "heading_collapsed": true,
    "hidden": true
   },
   "source": [
    "### 10.1.2 Random Choices Performance"
   ]
  },
  {
   "cell_type": "code",
   "execution_count": 129,
   "metadata": {
    "ExecuteTime": {
     "end_time": "2021-01-05T17:50:41.991120Z",
     "start_time": "2021-01-05T17:50:23.914768Z"
    },
    "hidden": true
   },
   "outputs": [
    {
     "name": "stdout",
     "output_type": "stream",
     "text": [
      "Accuracy: 0.08264018803664797\n",
      "Balanced Accuracy: 0.08169024683512284\n",
      "Kappa Score: -0.0018641203084088787\n",
      "              precision    recall  f1-score   support\n",
      "\n",
      "          AU       0.07      0.07      0.07      7482\n",
      "          CA       0.08      0.08      0.08      8419\n",
      "          DE       0.07      0.07      0.07      7454\n",
      "          ES       0.08      0.07      0.08      8390\n",
      "          FR       0.08      0.08      0.08      8828\n",
      "          GB       0.08      0.08      0.08      8741\n",
      "          IT       0.07      0.07      0.07      7961\n",
      "         NDF       0.10      0.10      0.10     10939\n",
      "          NL       0.09      0.09      0.09      9526\n",
      "          PT       0.07      0.07      0.07      7942\n",
      "          US       0.09      0.09      0.09      9519\n",
      "       other       0.09      0.08      0.09      9034\n",
      "\n",
      "    accuracy                           0.08    104235\n",
      "   macro avg       0.08      0.08      0.08    104235\n",
      "weighted avg       0.08      0.08      0.08    104235\n",
      "\n"
     ]
    },
    {
     "data": {
      "text/plain": [
       "<AxesSubplot:title={'center':'Confusion Matrix'}, xlabel='Predicted label', ylabel='True label'>"
      ]
     },
     "execution_count": 129,
     "metadata": {},
     "output_type": "execute_result"
    },
    {
     "data": {
      "image/png": "[encoded data removed]",
      "text/plain": [
       "<Figure size 864x864 with 2 Axes>"
      ]
     },
     "metadata": {
      "needs_background": "light"
     },
     "output_type": "display_data"
    }
   ],
   "source": [
    "# Accuracy\n",
    "acc_random = accuracy_score(y_test, yhat_random)\n",
    "print('Accuracy: {}'.format(acc_random))\n",
    "\n",
    "# Balanced Accuracy\n",
    "balanced_acc_random = balanced_accuracy_score(y_test, yhat_random)\n",
    "print('Balanced Accuracy: {}'.format(balanced_acc_random))\n",
    "\n",
    "# Kappa Score\n",
    "kappa_random = cohen_kappa_score(y_test, yhat_random)\n",
    "print('Kappa Score: {}'.format(kappa_random))\n",
    "\n",
    "# Classification Report\n",
    "print(classification_report(y_test, yhat_random))\n",
    "\n",
    "# Confusion matrix\n",
    "plot_confusion_matrix(y_test, yhat_random, normalize=False, figsize=(12, 12))"
   ]
  },
  {
   "cell_type": "markdown",
   "metadata": {},
   "source": [
    "## 10.2 Machine Learning Model - Neural Network MLP"
   ]
  },
  {
   "cell_type": "markdown",
   "metadata": {
    "heading_collapsed": true
   },
   "source": [
    "### 10.2.1 Target Encoding"
   ]
  },
  {
   "cell_type": "code",
   "execution_count": 130,
   "metadata": {
    "ExecuteTime": {
     "end_time": "2021-01-05T17:50:48.262591Z",
     "start_time": "2021-01-05T17:50:47.846655Z"
    },
    "hidden": true
   },
   "outputs": [],
   "source": [
    "ohe = OneHotEncoder()\n",
    "y_train_nn = ohe.fit_transform(y_train.values.reshape(-1, 1)).toarray()"
   ]
  },
  {
   "cell_type": "markdown",
   "metadata": {},
   "source": [
    "### 10.2.2 NN Model"
   ]
  },
  {
   "cell_type": "code",
   "execution_count": 132,
   "metadata": {
    "ExecuteTime": {
     "end_time": "2021-01-05T18:16:25.084621Z",
     "start_time": "2021-01-05T17:56:01.125221Z"
    }
   },
   "outputs": [
    {
     "name": "stdout",
     "output_type": "stream",
     "text": [
      "Epoch 1/100\n",
      "13030/13030 [==============================] - 15s 1ms/step - loss: 2.1373 - accuracy: 0.2448\n",
      "Epoch 2/100\n",
      "13030/13030 [==============================] - 15s 1ms/step - loss: 1.9171 - accuracy: 0.3250\n",
      "Epoch 3/100\n",
      "13030/13030 [==============================] - 15s 1ms/step - loss: 1.8293 - accuracy: 0.3617\n",
      "Epoch 4/100\n",
      "13030/13030 [==============================] - 15s 1ms/step - loss: 1.7799 - accuracy: 0.3781\n",
      "Epoch 5/100\n",
      "13030/13030 [==============================] - 14s 1ms/step - loss: 1.7485 - accuracy: 0.3898\n",
      "Epoch 6/100\n",
      "13030/13030 [==============================] - 14s 1ms/step - loss: 1.7283 - accuracy: 0.3965\n",
      "Epoch 7/100\n",
      "13030/13030 [==============================] - 14s 1ms/step - loss: 1.7104 - accuracy: 0.4023\n",
      "Epoch 8/100\n",
      "13030/13030 [==============================] - 14s 1ms/step - loss: 1.6974 - accuracy: 0.4078\n",
      "Epoch 9/100\n",
      "13030/13030 [==============================] - 14s 1ms/step - loss: 1.6846 - accuracy: 0.4126\n",
      "Epoch 10/100\n",
      "13030/13030 [==============================] - 14s 1ms/step - loss: 1.6776 - accuracy: 0.4142\n",
      "Epoch 11/100\n",
      "13030/13030 [==============================] - 14s 1ms/step - loss: 1.6708 - accuracy: 0.4169\n",
      "Epoch 12/100\n",
      "13030/13030 [==============================] - 14s 1ms/step - loss: 1.6630 - accuracy: 0.4200\n",
      "Epoch 13/100\n",
      "13030/13030 [==============================] - 15s 1ms/step - loss: 1.6554 - accuracy: 0.4230\n",
      "Epoch 14/100\n",
      "13030/13030 [==============================] - 15s 1ms/step - loss: 1.6565 - accuracy: 0.4217\n",
      "Epoch 15/100\n",
      "13030/13030 [==============================] - 14s 1ms/step - loss: 1.6453 - accuracy: 0.4266\n",
      "Epoch 16/100\n",
      "13030/13030 [==============================] - 15s 1ms/step - loss: 1.6437 - accuracy: 0.4271\n",
      "Epoch 17/100\n",
      "13030/13030 [==============================] - 15s 1ms/step - loss: 1.6381 - accuracy: 0.4307\n",
      "Epoch 18/100\n",
      "13030/13030 [==============================] - 15s 1ms/step - loss: 1.6337 - accuracy: 0.4321\n",
      "Epoch 19/100\n",
      "13030/13030 [==============================] - 14s 1ms/step - loss: 1.6308 - accuracy: 0.4316\n",
      "Epoch 20/100\n",
      "13030/13030 [==============================] - 15s 1ms/step - loss: 1.6313 - accuracy: 0.4324\n",
      "Epoch 21/100\n",
      "13030/13030 [==============================] - 14s 1ms/step - loss: 1.6246 - accuracy: 0.4345\n",
      "Epoch 22/100\n",
      "13030/13030 [==============================] - 15s 1ms/step - loss: 1.6217 - accuracy: 0.4352\n",
      "Epoch 23/100\n",
      "13030/13030 [==============================] - 14s 1ms/step - loss: 1.6206 - accuracy: 0.4347\n",
      "Epoch 24/100\n",
      "13030/13030 [==============================] - 14s 1ms/step - loss: 1.6172 - accuracy: 0.4373\n",
      "Epoch 25/100\n",
      "13030/13030 [==============================] - 14s 1ms/step - loss: 1.6117 - accuracy: 0.4391\n",
      "Epoch 26/100\n",
      "13030/13030 [==============================] - 14s 1ms/step - loss: 1.6114 - accuracy: 0.4393\n",
      "Epoch 27/100\n",
      "13030/13030 [==============================] - 15s 1ms/step - loss: 1.6117 - accuracy: 0.4386\n",
      "Epoch 28/100\n",
      "13030/13030 [==============================] - 15s 1ms/step - loss: 1.6052 - accuracy: 0.4396\n",
      "Epoch 29/100\n",
      "13030/13030 [==============================] - 14s 1ms/step - loss: 1.6057 - accuracy: 0.4405\n",
      "Epoch 30/100\n",
      "13030/13030 [==============================] - 15s 1ms/step - loss: 1.6051 - accuracy: 0.4412\n",
      "Epoch 31/100\n",
      "13030/13030 [==============================] - 15s 1ms/step - loss: 1.6025 - accuracy: 0.4414\n",
      "Epoch 32/100\n",
      "13030/13030 [==============================] - 15s 1ms/step - loss: 1.6004 - accuracy: 0.4421 0s - loss: 1.6\n",
      "Epoch 33/100\n",
      "13030/13030 [==============================] - 14s 1ms/step - loss: 1.5981 - accuracy: 0.4440\n",
      "Epoch 34/100\n",
      "13030/13030 [==============================] - 15s 1ms/step - loss: 1.5953 - accuracy: 0.4428\n",
      "Epoch 35/100\n",
      "13030/13030 [==============================] - 14s 1ms/step - loss: 1.5966 - accuracy: 0.4443\n",
      "Epoch 36/100\n",
      "13030/13030 [==============================] - 14s 1ms/step - loss: 1.5942 - accuracy: 0.4438\n",
      "Epoch 37/100\n",
      "13030/13030 [==============================] - 14s 1ms/step - loss: 1.5942 - accuracy: 0.4449\n",
      "Epoch 38/100\n",
      "13030/13030 [==============================] - 14s 1ms/step - loss: 1.5927 - accuracy: 0.4436\n",
      "Epoch 39/100\n",
      "13030/13030 [==============================] - 14s 1ms/step - loss: 1.5884 - accuracy: 0.4453\n",
      "Epoch 40/100\n",
      "13030/13030 [==============================] - 14s 1ms/step - loss: 1.5879 - accuracy: 0.4450\n",
      "Epoch 41/100\n",
      "13030/13030 [==============================] - 14s 1ms/step - loss: 1.5915 - accuracy: 0.4443\n",
      "Epoch 42/100\n",
      "13030/13030 [==============================] - 14s 1ms/step - loss: 1.5908 - accuracy: 0.4449\n",
      "Epoch 43/100\n",
      "13030/13030 [==============================] - 14s 1ms/step - loss: 1.5864 - accuracy: 0.4462\n",
      "Epoch 44/100\n",
      "13030/13030 [==============================] - 16s 1ms/step - loss: 1.5866 - accuracy: 0.4467\n",
      "Epoch 45/100\n",
      "13030/13030 [==============================] - 15s 1ms/step - loss: 1.5836 - accuracy: 0.4479\n",
      "Epoch 46/100\n",
      "13030/13030 [==============================] - 15s 1ms/step - loss: 1.5880 - accuracy: 0.4466\n",
      "Epoch 47/100\n",
      "13030/13030 [==============================] - 16s 1ms/step - loss: 1.5873 - accuracy: 0.4455\n",
      "Epoch 48/100\n",
      "13030/13030 [==============================] - 14s 1ms/step - loss: 1.5765 - accuracy: 0.4497\n",
      "Epoch 49/100\n",
      "13030/13030 [==============================] - 15s 1ms/step - loss: 1.5841 - accuracy: 0.4470\n",
      "Epoch 50/100\n",
      "13030/13030 [==============================] - 14s 1ms/step - loss: 1.5837 - accuracy: 0.4490\n",
      "Epoch 51/100\n",
      "13030/13030 [==============================] - 15s 1ms/step - loss: 1.5807 - accuracy: 0.4479\n",
      "Epoch 52/100\n",
      "13030/13030 [==============================] - 14s 1ms/step - loss: 1.5782 - accuracy: 0.4502\n",
      "Epoch 53/100\n",
      "13030/13030 [==============================] - 15s 1ms/step - loss: 1.5754 - accuracy: 0.4512\n",
      "Epoch 54/100\n",
      "13030/13030 [==============================] - 14s 1ms/step - loss: 1.5769 - accuracy: 0.4494\n",
      "Epoch 55/100\n",
      "13030/13030 [==============================] - 14s 1ms/step - loss: 1.5785 - accuracy: 0.4484\n",
      "Epoch 56/100\n",
      "13030/13030 [==============================] - 15s 1ms/step - loss: 1.5768 - accuracy: 0.4497\n",
      "Epoch 57/100\n",
      "13030/13030 [==============================] - 14s 1ms/step - loss: 1.5760 - accuracy: 0.4501\n",
      "Epoch 58/100\n",
      "13030/13030 [==============================] - 15s 1ms/step - loss: 1.5763 - accuracy: 0.4504\n",
      "Epoch 59/100\n",
      "13030/13030 [==============================] - 14s 1ms/step - loss: 1.5750 - accuracy: 0.4503\n",
      "Epoch 60/100\n",
      "13030/13030 [==============================] - 14s 1ms/step - loss: 1.5752 - accuracy: 0.4494\n",
      "Epoch 61/100\n",
      "13030/13030 [==============================] - 14s 1ms/step - loss: 1.5743 - accuracy: 0.4514\n",
      "Epoch 62/100\n",
      "13030/13030 [==============================] - 14s 1ms/step - loss: 1.5742 - accuracy: 0.4519\n",
      "Epoch 63/100\n",
      "13030/13030 [==============================] - 14s 1ms/step - loss: 1.5707 - accuracy: 0.4523\n",
      "Epoch 64/100\n",
      "13030/13030 [==============================] - 14s 1ms/step - loss: 1.5697 - accuracy: 0.4520\n",
      "Epoch 65/100\n",
      "13030/13030 [==============================] - 14s 1ms/step - loss: 1.5703 - accuracy: 0.4529\n",
      "Epoch 66/100\n",
      "13030/13030 [==============================] - 11s 875us/step - loss: 1.5689 - accuracy: 0.4533\n",
      "Epoch 67/100\n",
      "13030/13030 [==============================] - 8s 606us/step - loss: 1.5722 - accuracy: 0.4514\n",
      "Epoch 68/100\n",
      "13030/13030 [==============================] - 8s 603us/step - loss: 1.5711 - accuracy: 0.4521\n",
      "Epoch 69/100\n",
      "13030/13030 [==============================] - 8s 622us/step - loss: 1.5674 - accuracy: 0.4523\n",
      "Epoch 70/100\n",
      "13030/13030 [==============================] - 8s 604us/step - loss: 1.5633 - accuracy: 0.4551\n",
      "Epoch 71/100\n",
      "13030/13030 [==============================] - 8s 599us/step - loss: 1.5677 - accuracy: 0.4529\n",
      "Epoch 72/100\n",
      "13030/13030 [==============================] - 8s 595us/step - loss: 1.5651 - accuracy: 0.4545\n",
      "Epoch 73/100\n",
      "13030/13030 [==============================] - 8s 601us/step - loss: 1.5742 - accuracy: 0.4531\n",
      "Epoch 74/100\n",
      "13030/13030 [==============================] - 8s 598us/step - loss: 1.5633 - accuracy: 0.4555\n",
      "Epoch 75/100\n",
      "13030/13030 [==============================] - 8s 607us/step - loss: 1.5638 - accuracy: 0.4528\n",
      "Epoch 76/100\n",
      "13030/13030 [==============================] - 8s 599us/step - loss: 1.5673 - accuracy: 0.4517\n",
      "Epoch 77/100\n"
     ]
    },
    {
     "name": "stdout",
     "output_type": "stream",
     "text": [
      "13030/13030 [==============================] - 8s 600us/step - loss: 1.5674 - accuracy: 0.4536\n",
      "Epoch 78/100\n",
      "13030/13030 [==============================] - 8s 603us/step - loss: 1.5634 - accuracy: 0.4538\n",
      "Epoch 79/100\n",
      "13030/13030 [==============================] - 8s 601us/step - loss: 1.5662 - accuracy: 0.4538\n",
      "Epoch 80/100\n",
      "13030/13030 [==============================] - 8s 596us/step - loss: 1.5650 - accuracy: 0.4546\n",
      "Epoch 81/100\n",
      "13030/13030 [==============================] - 8s 599us/step - loss: 1.5603 - accuracy: 0.4558\n",
      "Epoch 82/100\n",
      "13030/13030 [==============================] - 8s 602us/step - loss: 1.5640 - accuracy: 0.4549\n",
      "Epoch 83/100\n",
      "13030/13030 [==============================] - 8s 598us/step - loss: 1.5605 - accuracy: 0.4556\n",
      "Epoch 84/100\n",
      "13030/13030 [==============================] - 8s 601us/step - loss: 1.5604 - accuracy: 0.4554\n",
      "Epoch 85/100\n",
      "13030/13030 [==============================] - 8s 593us/step - loss: 1.5593 - accuracy: 0.4562\n",
      "Epoch 86/100\n",
      "13030/13030 [==============================] - 8s 599us/step - loss: 1.5606 - accuracy: 0.4548\n",
      "Epoch 87/100\n",
      "13030/13030 [==============================] - 8s 596us/step - loss: 1.5594 - accuracy: 0.4561\n",
      "Epoch 88/100\n",
      "13030/13030 [==============================] - 8s 599us/step - loss: 1.5564 - accuracy: 0.4566\n",
      "Epoch 89/100\n",
      "13030/13030 [==============================] - 8s 593us/step - loss: 1.5575 - accuracy: 0.4563\n",
      "Epoch 90/100\n",
      "13030/13030 [==============================] - 8s 598us/step - loss: 1.5561 - accuracy: 0.4564\n",
      "Epoch 91/100\n",
      "13030/13030 [==============================] - 8s 597us/step - loss: 1.5567 - accuracy: 0.4574\n",
      "Epoch 92/100\n",
      "13030/13030 [==============================] - 8s 603us/step - loss: 1.5572 - accuracy: 0.4567\n",
      "Epoch 93/100\n",
      "13030/13030 [==============================] - 8s 602us/step - loss: 1.5575 - accuracy: 0.4569\n",
      "Epoch 94/100\n",
      "13030/13030 [==============================] - 8s 595us/step - loss: 1.5611 - accuracy: 0.4549\n",
      "Epoch 95/100\n",
      "13030/13030 [==============================] - 8s 617us/step - loss: 1.5584 - accuracy: 0.4578\n",
      "Epoch 96/100\n",
      "13030/13030 [==============================] - 8s 614us/step - loss: 1.5564 - accuracy: 0.4588\n",
      "Epoch 97/100\n",
      "13030/13030 [==============================] - 8s 601us/step - loss: 1.5574 - accuracy: 0.4571\n",
      "Epoch 98/100\n",
      "13030/13030 [==============================] - 8s 595us/step - loss: 1.5584 - accuracy: 0.4578\n",
      "Epoch 99/100\n",
      "13030/13030 [==============================] - 8s 600us/step - loss: 1.5523 - accuracy: 0.4593\n",
      "Epoch 100/100\n",
      "13030/13030 [==============================] - 8s 597us/step - loss: 1.5566 - accuracy: 0.4569\n"
     ]
    },
    {
     "data": {
      "text/plain": [
       "<tensorflow.python.keras.callbacks.History at 0x1336a986820>"
      ]
     },
     "execution_count": 132,
     "metadata": {},
     "output_type": "execute_result"
    }
   ],
   "source": [
    "# Model Definition\n",
    "model = Sequential()\n",
    "model.add(Dense(256, input_dim=X_train.shape[1], activation='relu'))\n",
    "model.add(Dense(12, activation='softmax'))\n",
    "\n",
    "# Model compile\n",
    "model.compile(loss='categorical_crossentropy',\n",
    "              optimizer='adam', metrics=['accuracy'])\n",
    "\n",
    "# Train Model\n",
    "model.fit(X_train, y_train_nn, epochs=100)"
   ]
  },
  {
   "cell_type": "markdown",
   "metadata": {},
   "source": [
    "### 10.2.3 NN Performance"
   ]
  },
  {
   "cell_type": "code",
   "execution_count": 133,
   "metadata": {
    "ExecuteTime": {
     "end_time": "2021-01-05T18:29:14.147401Z",
     "start_time": "2021-01-05T18:29:13.073823Z"
    }
   },
   "outputs": [],
   "source": [
    "# Prediction\n",
    "pred_nn = model.predict(X_test)\n",
    "\n",
    "# Inver Prediction\n",
    "yhat_nn = ohe.inverse_transform(pred_nn)\n",
    "\n",
    "# Prediction Prepare\n",
    "y_test_nn = y_test.to_numpy()\n",
    "yhat_nn = yhat_nn.reshape(1, -1)[0]"
   ]
  },
  {
   "cell_type": "code",
   "execution_count": 134,
   "metadata": {
    "ExecuteTime": {
     "end_time": "2021-01-05T18:29:20.743351Z",
     "start_time": "2021-01-05T18:29:14.909288Z"
    },
    "scrolled": true
   },
   "outputs": [
    {
     "name": "stdout",
     "output_type": "stream",
     "text": [
      "Accuracy: 0.45162373482995155\n",
      "Balanced Accuracy: 0.44264262533749577\n",
      "Kappa Score: 0.40097414093310346\n",
      "              precision    recall  f1-score   support\n",
      "\n",
      "          AU       0.54      0.69      0.60      7482\n",
      "          CA       0.32      0.44      0.37      8419\n",
      "          DE       0.42      0.35      0.38      7454\n",
      "          ES       0.30      0.18      0.23      8390\n",
      "          FR       0.19      0.20      0.20      8828\n",
      "          GB       0.24      0.26      0.25      8741\n",
      "          IT       0.29      0.13      0.18      7961\n",
      "         NDF       1.00      1.00      1.00     10939\n",
      "          NL       0.43      0.76      0.55      9526\n",
      "          PT       0.67      0.96      0.79      7942\n",
      "          US       0.32      0.26      0.28      9519\n",
      "       other       0.23      0.08      0.12      9034\n",
      "\n",
      "    accuracy                           0.45    104235\n",
      "   macro avg       0.41      0.44      0.41    104235\n",
      "weighted avg       0.42      0.45      0.42    104235\n",
      "\n"
     ]
    },
    {
     "data": {
      "text/plain": [
       "<AxesSubplot:title={'center':'Confusion Matrix'}, xlabel='Predicted label', ylabel='True label'>"
      ]
     },
     "execution_count": 134,
     "metadata": {},
     "output_type": "execute_result"
    },
    {
     "data": {
      "image/png": "[encoded data removed]",
      "text/plain": [
       "<Figure size 864x864 with 2 Axes>"
      ]
     },
     "metadata": {
      "needs_background": "light"
     },
     "output_type": "display_data"
    }
   ],
   "source": [
    "# Accuracy\n",
    "acc_nn = accuracy_score(y_test_nn, yhat_nn)\n",
    "print('Accuracy: {}'.format(acc_nn))\n",
    "\n",
    "# Balanced Accuracy\n",
    "balanced_acc_nn = balanced_accuracy_score(y_test_nn, yhat_nn)\n",
    "print('Balanced Accuracy: {}'.format(balanced_acc_nn))\n",
    "\n",
    "# Kappa Score\n",
    "kappa_nn = cohen_kappa_score(y_test_nn, yhat_nn)\n",
    "print('Kappa Score: {}'.format(kappa_nn))\n",
    "\n",
    "# Classification Report\n",
    "print(classification_report(y_test_nn, yhat_nn))\n",
    "\n",
    "# Confusion matrix\n",
    "plot_confusion_matrix(y_test_nn, yhat_nn, normalize=False, figsize=(12, 12))"
   ]
  },
  {
   "cell_type": "markdown",
   "metadata": {},
   "source": [
    "### 10.2.4 NN Performance - Cross Validation"
   ]
  },
  {
   "cell_type": "code",
   "execution_count": 135,
   "metadata": {
    "ExecuteTime": {
     "end_time": "2021-01-05T19:14:52.170964Z",
     "start_time": "2021-01-05T18:30:25.630764Z"
    }
   },
   "outputs": [
    {
     "name": "stdout",
     "output_type": "stream",
     "text": [
      "Fold Number: 1/5\n",
      "Fold Number: 2/5\n",
      "Fold Number: 3/5\n",
      "Fold Number: 4/5\n",
      "Fold Number: 5/5\n"
     ]
    }
   ],
   "source": [
    "# k-fold generate\n",
    "num_folds = 5\n",
    "kfold = StratifiedKFold(n_splits=num_folds, shuffle=True, random_state=32)\n",
    "\n",
    "balanced_acc_list = []\n",
    "kappa_acc_list = []\n",
    "\n",
    "i = 1\n",
    "for train_ix, val_ix in kfold.split(X_train, y_train):\n",
    "    print('Fold Number: {}/{}'.format(i, num_folds))\n",
    "    # get fold\n",
    "    X_train_fold = X_train.iloc[train_ix]\n",
    "    y_train_fold = y_train.iloc[train_ix]\n",
    "\n",
    "    X_val_fold = X_train.iloc[val_ix]\n",
    "    y_val_fold = y_train.iloc[val_ix]\n",
    "\n",
    "    # target encoding\n",
    "    ohe = OneHotEncoder()\n",
    "    y_train_fold_nn = ohe.fit_transform(\n",
    "        y_train_fold.values.reshape(-1, 1)).toarray()\n",
    "\n",
    "    # model definition\n",
    "    model = Sequential()\n",
    "    model.add(Dense(256, input_dim=X_train_fold.shape[1], activation='relu'))\n",
    "    model.add(Dense(12, activation='softmax'))\n",
    "\n",
    "    # compile model\n",
    "    model.compile(loss='categorical_crossentropy',\n",
    "                  optimizer='adam', metrics=['accuracy'])\n",
    "\n",
    "    # training model\n",
    "    model.fit(X_train_fold, y_train_fold_nn,\n",
    "              epochs=100, batch_size=32, verbose=0)\n",
    "\n",
    "    # prediction\n",
    "    pred_nn = model.predict(X_val_fold)\n",
    "    yhat_nn = ohe.inverse_transform(pred_nn)\n",
    "\n",
    "    # prepare data\n",
    "    y_test_nn = y_val_fold.to_numpy()\n",
    "    yhat_nn = yhat_nn.reshape(1, -1)[0]\n",
    "\n",
    "    # metrics\n",
    "    # Balanced Accuracy\n",
    "    balanced_acc_nn = balanced_accuracy_score(y_test_nn, yhat_nn)\n",
    "    balanced_acc_list.append(balanced_acc_nn)\n",
    "\n",
    "    # Kappa Metrics\n",
    "    kappa_acc_nn = cohen_kappa_score(y_test_nn, yhat_nn)\n",
    "    kappa_acc_list.append(kappa_acc_nn)\n",
    "\n",
    "    i += 1"
   ]
  },
  {
   "cell_type": "code",
   "execution_count": 136,
   "metadata": {
    "ExecuteTime": {
     "end_time": "2021-01-05T19:14:52.186925Z",
     "start_time": "2021-01-05T19:14:52.175925Z"
    }
   },
   "outputs": [
    {
     "name": "stdout",
     "output_type": "stream",
     "text": [
      "Avg Balanced Accuracy: 0.4421 +/- 0.0042\n",
      "Avg Kappa: 0.3983 +/- 0.0042\n"
     ]
    }
   ],
   "source": [
    "print('Avg Balanced Accuracy: {} +/- {}'.format(np.round(np.mean(balanced_acc_list), 4),\n",
    "                                                np.round(np.std(balanced_acc_list), 4)))\n",
    "print('Avg Kappa: {} +/- {}'.format(np.round(np.mean(kappa_acc_list), 4),\n",
    "                                    np.round(np.std(kappa_acc_list), 4)))"
   ]
  }
 ],
 "metadata": {
  "kernelspec": {
   "display_name": "Python 3",
   "language": "python",
   "name": "python3"
  },
  "language_info": {
   "codemirror_mode": {
    "name": "ipython",
    "version": 3
   },
   "file_extension": ".py",
   "mimetype": "text/x-python",
   "name": "python",
   "nbconvert_exporter": "python",
   "pygments_lexer": "ipython3",
   "version": "3.8.3"
  },
  "nbTranslate": {
   "displayLangs": [
    "*"
   ],
   "hotkey": "alt-t",
   "langInMainMenu": true,
   "sourceLang": "en",
   "targetLang": "fr",
   "useGoogleTranslate": true
  },
  "toc": {
   "base_numbering": 1,
   "nav_menu": {},
   "number_sections": true,
   "sideBar": true,
   "skip_h1_title": false,
   "title_cell": "Table of Contents",
   "title_sidebar": "Contents",
   "toc_cell": false,
   "toc_position": {},
   "toc_section_display": true,
   "toc_window_display": false
  }
 },
 "nbformat": 4,
 "nbformat_minor": 4
}
