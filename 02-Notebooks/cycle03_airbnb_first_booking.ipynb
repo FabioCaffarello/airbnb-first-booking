{
 "cells": [
  {
   "cell_type": "markdown",
   "metadata": {
    "ExecuteTime": {
     "end_time": "2021-01-03T18:46:58.923445Z",
     "start_time": "2021-01-03T18:46:58.918448Z"
    },
    "heading_collapsed": true
   },
   "source": [
    "# 0.0 Understanding the Situation"
   ]
  },
  {
   "cell_type": "markdown",
   "metadata": {
    "hidden": true
   },
   "source": [
    "- objective of the proposed situation\n",
    "1. Prediction of the first destination a new user will choose\n",
    "- Why?\n",
    " - What kind of business model does Airbnb have?\n",
    " - Market Place (connecting people who offer accommodation with people who are looking for accommodation)\n",
    " - Offer (people offer accommodation)\n",
    "   - Portifolio size\n",
    "   - Portfolio diversity/density\n",
    "   - Average price\n",
    " - Demand (people looking for accommodation)\n",
    "   - Number of Users\n",
    "   - LTV (Lifetime Value)\n",
    "   - CAC (Client Acquisition Cost)\n",
    " - Gross Revenue  = fee * number of users - CAC (contribution margins)\n",
    " \n",
    " \n",
    "- **Solution**\n",
    " - Prediction model of the first destination of a new user\n",
    " - API\n",
    "   - **Input**: user and its characteristics\n",
    "   - **Output**: user and its characteristics **with the prediction of destination**"
   ]
  },
  {
   "cell_type": "markdown",
   "metadata": {},
   "source": [
    "# 1.0 IMPORTS"
   ]
  },
  {
   "cell_type": "markdown",
   "metadata": {},
   "source": [
    "## 1.1 Libraries"
   ]
  },
  {
   "cell_type": "code",
   "execution_count": 116,
   "metadata": {
    "ExecuteTime": {
     "end_time": "2021-01-05T17:10:36.657134Z",
     "start_time": "2021-01-05T17:10:36.638383Z"
    }
   },
   "outputs": [],
   "source": [
    "#!pip install category_encoders"
   ]
  },
  {
   "cell_type": "code",
   "execution_count": 1,
   "metadata": {
    "ExecuteTime": {
     "end_time": "2021-01-08T00:40:19.819716Z",
     "start_time": "2021-01-08T00:39:51.340335Z"
    }
   },
   "outputs": [],
   "source": [
    "import random\n",
    "\n",
    "import numpy  as np # pip install numpy\n",
    "import pandas as pd  # pip install pandas\n",
    "\n",
    "import seaborn as sns # pip install seaborn\n",
    "import matplotlib.pyplot as plt\n",
    "\n",
    "from scipy import stats as ss # pip install scipy\n",
    "\n",
    "from sklearn.metrics         import accuracy_score, balanced_accuracy_score, cohen_kappa_score, classification_report\n",
    "from sklearn.preprocessing   import OneHotEncoder, StandardScaler, RobustScaler, MinMaxScaler\n",
    "from sklearn.model_selection import train_test_split, StratifiedKFold  # pip install sklearn\n",
    "from sklearn.ensemble        import RandomForestClassifier\n",
    "\n",
    "from boruta                  import BorutaPy\n",
    "\n",
    "from scikitplot.metrics      import plot_confusion_matrix  # pip install scikit-plot\n",
    "\n",
    "from imblearn                import combine        as c # pip install imblearn\n",
    "from imblearn                import over_sampling  as over\n",
    "from imblearn                import under_sampling as us\n",
    "\n",
    "from category_encoders       import TargetEncoder\n",
    "\n",
    "from pandas_profiling        import ProfileReport # pip install pandas-profiling\n",
    "\n",
    "from keras.models            import Sequential  # pip install keras; pip install tensorflow\n",
    "from keras.layers            import Dense"
   ]
  },
  {
   "cell_type": "markdown",
   "metadata": {
    "heading_collapsed": true
   },
   "source": [
    "## 1.2 Helper Functions"
   ]
  },
  {
   "cell_type": "code",
   "execution_count": 2,
   "metadata": {
    "ExecuteTime": {
     "end_time": "2021-01-08T00:40:19.842638Z",
     "start_time": "2021-01-08T00:40:19.825297Z"
    },
    "hidden": true
   },
   "outputs": [],
   "source": [
    "def cramer_v(x, y):\n",
    "    cm = pd.crosstab(x, y).to_numpy()\n",
    "    n = cm.sum()\n",
    "    r, k = cm.shape\n",
    "    \n",
    "    chi2 = ss.chi2_contingency(cm)[0]\n",
    "    chi2corr = max(0, chi2 - (k-1)*(r-1)/(n-1))\n",
    "    \n",
    "    kcorr = k - (k-1)**2/(n-1)\n",
    "    rcorr = r - (r-1)**2/(n-1)\n",
    "    \n",
    "    return np.sqrt((chi2corr/n)/(min(kcorr-1,rcorr-1)))"
   ]
  },
  {
   "cell_type": "markdown",
   "metadata": {
    "heading_collapsed": true
   },
   "source": [
    "## 1.3 Loading data"
   ]
  },
  {
   "cell_type": "code",
   "execution_count": 3,
   "metadata": {
    "ExecuteTime": {
     "end_time": "2021-01-08T00:40:21.828794Z",
     "start_time": "2021-01-08T00:40:19.849206Z"
    },
    "hidden": true,
    "scrolled": true
   },
   "outputs": [
    {
     "name": "stdout",
     "output_type": "stream",
     "text": [
      "total 648652\n",
      "-rw-r--r-- 1 fabio 197609     11905 Oct 16  2015 age_gender_bkts.csv\n",
      "-rw-r--r-- 1 fabio 197609       632 Oct 16  2015 countries.csv\n",
      "-rw-r--r-- 1 fabio 197609    931451 Dec  6  2015 sample_submission_NDF.csv\n",
      "-rw-r--r-- 1 fabio 197609 631646292 Dec  6  2015 sessions.csv\n",
      "-rw-r--r-- 1 fabio 197609   6763170 May 16  2018 test_users.csv\n",
      "-rw-r--r-- 1 fabio 197609  24853881 Dec 10  2015 train_users_2.csv\n"
     ]
    }
   ],
   "source": [
    "!ls -l ../01-Data/csv_data"
   ]
  },
  {
   "cell_type": "markdown",
   "metadata": {
    "hidden": true
   },
   "source": [
    "### 1.3.1 Training"
   ]
  },
  {
   "cell_type": "code",
   "execution_count": 4,
   "metadata": {
    "ExecuteTime": {
     "end_time": "2021-01-08T00:40:23.127437Z",
     "start_time": "2021-01-08T00:40:21.835449Z"
    },
    "hidden": true
   },
   "outputs": [
    {
     "data": {
      "text/plain": [
       "(213451, 16)"
      ]
     },
     "execution_count": 4,
     "metadata": {},
     "output_type": "execute_result"
    }
   ],
   "source": [
    "df_train_raw = pd.read_csv(\n",
    "    \"../01-Data/csv_data/train_users_2.csv\", low_memory=True)\n",
    "df_train_raw.shape"
   ]
  },
  {
   "cell_type": "markdown",
   "metadata": {
    "hidden": true
   },
   "source": [
    "### 1.3.2 Sessions"
   ]
  },
  {
   "cell_type": "code",
   "execution_count": 5,
   "metadata": {
    "ExecuteTime": {
     "end_time": "2021-01-08T00:40:42.503415Z",
     "start_time": "2021-01-08T00:40:23.133996Z"
    },
    "hidden": true
   },
   "outputs": [
    {
     "data": {
      "text/plain": [
       "(10567737, 6)"
      ]
     },
     "execution_count": 5,
     "metadata": {},
     "output_type": "execute_result"
    }
   ],
   "source": [
    "df_sessions_raw = pd.read_csv(\n",
    "    \"../01-Data/csv_data/sessions.csv\", low_memory=True)\n",
    "df_sessions_raw.shape"
   ]
  },
  {
   "cell_type": "markdown",
   "metadata": {
    "heading_collapsed": true
   },
   "source": [
    "# 2.0 DATA DESCRIPTION"
   ]
  },
  {
   "cell_type": "code",
   "execution_count": 6,
   "metadata": {
    "ExecuteTime": {
     "end_time": "2021-01-08T00:40:42.988598Z",
     "start_time": "2021-01-08T00:40:42.509997Z"
    },
    "hidden": true
   },
   "outputs": [],
   "source": [
    "df_train_01 = df_train_raw.copy()\n",
    "df_sessions_01 = df_sessions_raw.copy()"
   ]
  },
  {
   "cell_type": "markdown",
   "metadata": {
    "heading_collapsed": true,
    "hidden": true
   },
   "source": [
    "## 2.1 Data Dimensions"
   ]
  },
  {
   "cell_type": "markdown",
   "metadata": {
    "heading_collapsed": true,
    "hidden": true
   },
   "source": [
    "### 2.1.1 Training"
   ]
  },
  {
   "cell_type": "code",
   "execution_count": 7,
   "metadata": {
    "ExecuteTime": {
     "end_time": "2021-01-08T00:40:43.011651Z",
     "start_time": "2021-01-08T00:40:42.990598Z"
    },
    "hidden": true,
    "scrolled": true
   },
   "outputs": [
    {
     "name": "stdout",
     "output_type": "stream",
     "text": [
      "Number of Rows: 213451\n",
      "Number of Columns: 16\n"
     ]
    }
   ],
   "source": [
    "print(f'Number of Rows: {df_train_01.shape[0]}')\n",
    "print(f'Number of Columns: {df_train_01.shape[1]}')"
   ]
  },
  {
   "cell_type": "markdown",
   "metadata": {
    "heading_collapsed": true,
    "hidden": true
   },
   "source": [
    "### 2.1.2 Sessions"
   ]
  },
  {
   "cell_type": "code",
   "execution_count": 8,
   "metadata": {
    "ExecuteTime": {
     "end_time": "2021-01-08T00:40:43.027067Z",
     "start_time": "2021-01-08T00:40:43.016641Z"
    },
    "hidden": true
   },
   "outputs": [
    {
     "name": "stdout",
     "output_type": "stream",
     "text": [
      "Number of Rows: 10567737\n",
      "Number of Columns: 6\n"
     ]
    }
   ],
   "source": [
    "print(f'Number of Rows: {df_sessions_01.shape[0]}')\n",
    "print(f'Number of Columns: {df_sessions_01.shape[1]}')"
   ]
  },
  {
   "cell_type": "markdown",
   "metadata": {
    "heading_collapsed": true,
    "hidden": true
   },
   "source": [
    "## 2.2 Data Type"
   ]
  },
  {
   "cell_type": "markdown",
   "metadata": {
    "heading_collapsed": true,
    "hidden": true
   },
   "source": [
    "### 2.2.1 Training"
   ]
  },
  {
   "cell_type": "code",
   "execution_count": 9,
   "metadata": {
    "ExecuteTime": {
     "end_time": "2021-01-08T00:40:43.058191Z",
     "start_time": "2021-01-08T00:40:43.035376Z"
    },
    "hidden": true,
    "scrolled": true
   },
   "outputs": [
    {
     "data": {
      "text/plain": [
       "id                          object\n",
       "date_account_created        object\n",
       "timestamp_first_active       int64\n",
       "date_first_booking          object\n",
       "gender                      object\n",
       "age                        float64\n",
       "signup_method               object\n",
       "signup_flow                  int64\n",
       "language                    object\n",
       "affiliate_channel           object\n",
       "affiliate_provider          object\n",
       "first_affiliate_tracked     object\n",
       "signup_app                  object\n",
       "first_device_type           object\n",
       "first_browser               object\n",
       "country_destination         object\n",
       "dtype: object"
      ]
     },
     "execution_count": 9,
     "metadata": {},
     "output_type": "execute_result"
    }
   ],
   "source": [
    "df_train_01.dtypes"
   ]
  },
  {
   "cell_type": "markdown",
   "metadata": {
    "heading_collapsed": true,
    "hidden": true
   },
   "source": [
    "### 2.2.2 Sessions"
   ]
  },
  {
   "cell_type": "code",
   "execution_count": 10,
   "metadata": {
    "ExecuteTime": {
     "end_time": "2021-01-08T00:40:43.089321Z",
     "start_time": "2021-01-08T00:40:43.065871Z"
    },
    "hidden": true
   },
   "outputs": [
    {
     "data": {
      "text/plain": [
       "user_id           object\n",
       "action            object\n",
       "action_type       object\n",
       "action_detail     object\n",
       "device_type       object\n",
       "secs_elapsed     float64\n",
       "dtype: object"
      ]
     },
     "execution_count": 10,
     "metadata": {},
     "output_type": "execute_result"
    }
   ],
   "source": [
    "df_sessions_01.dtypes"
   ]
  },
  {
   "cell_type": "markdown",
   "metadata": {
    "heading_collapsed": true,
    "hidden": true
   },
   "source": [
    "## 2.3 NA Check"
   ]
  },
  {
   "cell_type": "markdown",
   "metadata": {
    "heading_collapsed": true,
    "hidden": true
   },
   "source": [
    "### 2.3.1 Training"
   ]
  },
  {
   "cell_type": "code",
   "execution_count": 11,
   "metadata": {
    "ExecuteTime": {
     "end_time": "2021-01-08T00:40:43.417986Z",
     "start_time": "2021-01-08T00:40:43.094901Z"
    },
    "hidden": true
   },
   "outputs": [
    {
     "data": {
      "text/plain": [
       "id                         0.000000\n",
       "date_account_created       0.000000\n",
       "timestamp_first_active     0.000000\n",
       "date_first_booking         0.583473\n",
       "gender                     0.000000\n",
       "age                        0.412226\n",
       "signup_method              0.000000\n",
       "signup_flow                0.000000\n",
       "language                   0.000000\n",
       "affiliate_channel          0.000000\n",
       "affiliate_provider         0.000000\n",
       "first_affiliate_tracked    0.028414\n",
       "signup_app                 0.000000\n",
       "first_device_type          0.000000\n",
       "first_browser              0.000000\n",
       "country_destination        0.000000\n",
       "dtype: float64"
      ]
     },
     "execution_count": 11,
     "metadata": {},
     "output_type": "execute_result"
    }
   ],
   "source": [
    "df_train_01.isnull().sum() / len(df_train_01)"
   ]
  },
  {
   "cell_type": "code",
   "execution_count": 12,
   "metadata": {
    "ExecuteTime": {
     "end_time": "2021-01-08T00:40:43.566496Z",
     "start_time": "2021-01-08T00:40:43.424513Z"
    },
    "hidden": true
   },
   "outputs": [
    {
     "data": {
      "text/plain": [
       "NDF    1.0\n",
       "Name: country_destination, dtype: float64"
      ]
     },
     "execution_count": 12,
     "metadata": {},
     "output_type": "execute_result"
    }
   ],
   "source": [
    "aux = df_train_01[df_train_01['date_first_booking'].isnull()]\n",
    "aux['country_destination'].value_counts(normalize=True)"
   ]
  },
  {
   "cell_type": "code",
   "execution_count": 13,
   "metadata": {
    "ExecuteTime": {
     "end_time": "2021-01-08T00:40:43.696515Z",
     "start_time": "2021-01-08T00:40:43.576654Z"
    },
    "hidden": true
   },
   "outputs": [
    {
     "data": {
      "text/plain": [
       "NDF      0.768428\n",
       "US       0.156529\n",
       "other    0.028617\n",
       "FR       0.014888\n",
       "IT       0.009081\n",
       "GB       0.006251\n",
       "ES       0.006171\n",
       "CA       0.003989\n",
       "DE       0.002387\n",
       "NL       0.001818\n",
       "AU       0.001171\n",
       "PT       0.000671\n",
       "Name: country_destination, dtype: float64"
      ]
     },
     "execution_count": 13,
     "metadata": {},
     "output_type": "execute_result"
    }
   ],
   "source": [
    "aux = df_train_01[df_train_01['age'].isnull()]\n",
    "aux['country_destination'].value_counts(normalize=True)"
   ]
  },
  {
   "cell_type": "code",
   "execution_count": 14,
   "metadata": {
    "ExecuteTime": {
     "end_time": "2021-01-08T00:40:44.963504Z",
     "start_time": "2021-01-08T00:40:43.701674Z"
    },
    "hidden": true
   },
   "outputs": [
    {
     "data": {
      "image/png": "[encoded data removed]",
      "text/plain": [
       "<Figure size 360x360 with 1 Axes>"
      ]
     },
     "metadata": {
      "needs_background": "light"
     },
     "output_type": "display_data"
    }
   ],
   "source": [
    "sns.displot(df_train_01[df_train_01['age']<75]['age'], kind='ecdf');"
   ]
  },
  {
   "cell_type": "code",
   "execution_count": 15,
   "metadata": {
    "ExecuteTime": {
     "end_time": "2021-01-08T00:40:45.007799Z",
     "start_time": "2021-01-08T00:40:44.969667Z"
    },
    "hidden": true
   },
   "outputs": [
    {
     "data": {
      "text/plain": [
       "0            untracked\n",
       "5                  omg\n",
       "12                 NaN\n",
       "13              linked\n",
       "79       tracked-other\n",
       "257            product\n",
       "6270         marketing\n",
       "11184        local ops\n",
       "Name: first_affiliate_tracked, dtype: object"
      ]
     },
     "execution_count": 15,
     "metadata": {},
     "output_type": "execute_result"
    }
   ],
   "source": [
    "df_train_01['first_affiliate_tracked'].drop_duplicates()"
   ]
  },
  {
   "cell_type": "code",
   "execution_count": 16,
   "metadata": {
    "ExecuteTime": {
     "end_time": "2021-01-08T00:40:45.255611Z",
     "start_time": "2021-01-08T00:40:45.013941Z"
    },
    "hidden": true
   },
   "outputs": [
    {
     "data": {
      "text/plain": [
       "(122636, 16)"
      ]
     },
     "execution_count": 16,
     "metadata": {},
     "output_type": "execute_result"
    }
   ],
   "source": [
    "# remove missing values completely\n",
    "#df_train_01 = df_train_01.dropna()\n",
    "\n",
    "# date_first_booking\n",
    "date_first_booking_max = pd.to_datetime(df_train_01['date_first_booking']).max().strftime('%Y-%m-%d')\n",
    "df_train_01['date_first_booking'] = df_train_01['date_first_booking'].fillna(date_first_booking_max)\n",
    "\n",
    "# age\n",
    "df_train_01 = df_train_01[(df_train_01['age'] > 15) & (df_train_01['age'] < 120)]\n",
    "avg_age = int(df_train_01['age'].mean())\n",
    "df_train_01['age'] = df_train_01['age'].fillna(avg_age)\n",
    "\n",
    "# first_affiliate_tracked\n",
    "# remove missing values completely\n",
    "df_train_01 = df_train_01[~df_train_01['first_affiliate_tracked'].isnull()]\n",
    "\n",
    "df_train_01.shape"
   ]
  },
  {
   "cell_type": "markdown",
   "metadata": {
    "heading_collapsed": true,
    "hidden": true
   },
   "source": [
    "### 2.3.2 Sessions"
   ]
  },
  {
   "cell_type": "code",
   "execution_count": 17,
   "metadata": {
    "ExecuteTime": {
     "end_time": "2021-01-08T00:40:50.375642Z",
     "start_time": "2021-01-08T00:40:45.260372Z"
    },
    "hidden": true,
    "scrolled": true
   },
   "outputs": [
    {
     "data": {
      "text/plain": [
       "user_id          0.003264\n",
       "action           0.007535\n",
       "action_type      0.106570\n",
       "action_detail    0.106570\n",
       "device_type      0.000000\n",
       "secs_elapsed     0.012872\n",
       "dtype: float64"
      ]
     },
     "execution_count": 17,
     "metadata": {},
     "output_type": "execute_result"
    }
   ],
   "source": [
    "df_sessions_01.isnull().sum() / len(df_sessions_01)"
   ]
  },
  {
   "cell_type": "code",
   "execution_count": 18,
   "metadata": {
    "ExecuteTime": {
     "end_time": "2021-01-08T00:41:03.150521Z",
     "start_time": "2021-01-08T00:40:50.381731Z"
    },
    "hidden": true
   },
   "outputs": [
    {
     "data": {
      "text/plain": [
       "(9213930, 6)"
      ]
     },
     "execution_count": 18,
     "metadata": {},
     "output_type": "execute_result"
    }
   ],
   "source": [
    "# remove missing values completely\n",
    "## user_id - 0.3%\n",
    "df_sessions_01 = df_sessions_01[~df_sessions_01['user_id'].isnull()]\n",
    "\n",
    "## action - 0.75%\n",
    "df_sessions_01 = df_sessions_01[~df_sessions_01['action'].isnull()]\n",
    "\n",
    "## action_type - 10.65%\n",
    "df_sessions_01 = df_sessions_01[~df_sessions_01['action_type'].isnull()]\n",
    "\n",
    "## action_detail - 10.65%\n",
    "df_sessions_01 = df_sessions_01[~df_sessions_01['action_detail'].isnull()]\n",
    "\n",
    "## secs_elapsed - 1.3%\n",
    "df_sessions_01 = df_sessions_01[~df_sessions_01['secs_elapsed'].isnull()]\n",
    "\n",
    "df_sessions_01.shape"
   ]
  },
  {
   "cell_type": "markdown",
   "metadata": {
    "heading_collapsed": true,
    "hidden": true
   },
   "source": [
    "## 2.4 Change Data type "
   ]
  },
  {
   "cell_type": "markdown",
   "metadata": {
    "heading_collapsed": true,
    "hidden": true
   },
   "source": [
    "### 2.4.1 Training"
   ]
  },
  {
   "cell_type": "code",
   "execution_count": 19,
   "metadata": {
    "ExecuteTime": {
     "end_time": "2021-01-08T00:41:04.402471Z",
     "start_time": "2021-01-08T00:41:03.156405Z"
    },
    "hidden": true
   },
   "outputs": [],
   "source": [
    "# date_account_created\n",
    "df_train_01['date_account_created'] = pd.to_datetime(\n",
    "    df_train_01['date_account_created'])\n",
    "# timestamp_first_active\n",
    "df_train_01['timestamp_first_active'] = pd.to_datetime(\n",
    "    df_train_01['timestamp_first_active'], format='%Y%m%d%H%M%S')\n",
    "# date_first_booking\n",
    "df_train_01['date_first_booking'] = pd.to_datetime(\n",
    "    df_train_01['date_first_booking'])\n",
    "\n",
    "# age\n",
    "df_train_01['age'] = df_train_01['age'].astype(int)"
   ]
  },
  {
   "cell_type": "code",
   "execution_count": 20,
   "metadata": {
    "ExecuteTime": {
     "end_time": "2021-01-08T00:41:04.434097Z",
     "start_time": "2021-01-08T00:41:04.407417Z"
    },
    "hidden": true,
    "scrolled": true
   },
   "outputs": [
    {
     "data": {
      "text/plain": [
       "id                                 object\n",
       "date_account_created       datetime64[ns]\n",
       "timestamp_first_active     datetime64[ns]\n",
       "date_first_booking         datetime64[ns]\n",
       "gender                             object\n",
       "age                                 int32\n",
       "signup_method                      object\n",
       "signup_flow                         int64\n",
       "language                           object\n",
       "affiliate_channel                  object\n",
       "affiliate_provider                 object\n",
       "first_affiliate_tracked            object\n",
       "signup_app                         object\n",
       "first_device_type                  object\n",
       "first_browser                      object\n",
       "country_destination                object\n",
       "dtype: object"
      ]
     },
     "execution_count": 20,
     "metadata": {},
     "output_type": "execute_result"
    }
   ],
   "source": [
    "df_train_01.dtypes"
   ]
  },
  {
   "cell_type": "markdown",
   "metadata": {
    "heading_collapsed": true,
    "hidden": true
   },
   "source": [
    "## 2.5 Check Balanced Data"
   ]
  },
  {
   "cell_type": "markdown",
   "metadata": {
    "heading_collapsed": true,
    "hidden": true
   },
   "source": [
    "### 2.5.1 Training"
   ]
  },
  {
   "cell_type": "code",
   "execution_count": 21,
   "metadata": {
    "ExecuteTime": {
     "end_time": "2021-01-08T00:41:04.492451Z",
     "start_time": "2021-01-08T00:41:04.438618Z"
    },
    "hidden": true,
    "scrolled": true
   },
   "outputs": [
    {
     "data": {
      "text/plain": [
       "NDF      0.447275\n",
       "US       0.391867\n",
       "other    0.061246\n",
       "FR       0.029918\n",
       "IT       0.016423\n",
       "GB       0.014335\n",
       "ES       0.013740\n",
       "CA       0.008676\n",
       "DE       0.006858\n",
       "NL       0.004852\n",
       "AU       0.003531\n",
       "PT       0.001280\n",
       "Name: country_destination, dtype: float64"
      ]
     },
     "execution_count": 21,
     "metadata": {},
     "output_type": "execute_result"
    }
   ],
   "source": [
    "df_train_01['country_destination'].value_counts(normalize=True)"
   ]
  },
  {
   "cell_type": "markdown",
   "metadata": {
    "heading_collapsed": true,
    "hidden": true
   },
   "source": [
    "## 2.6 Descriptive Analysis"
   ]
  },
  {
   "cell_type": "markdown",
   "metadata": {
    "heading_collapsed": true,
    "hidden": true
   },
   "source": [
    "### 2.6.1 General"
   ]
  },
  {
   "cell_type": "code",
   "execution_count": 22,
   "metadata": {
    "ExecuteTime": {
     "end_time": "2021-01-08T00:41:05.356938Z",
     "start_time": "2021-01-08T00:41:04.498547Z"
    },
    "hidden": true
   },
   "outputs": [],
   "source": [
    "## Users\n",
    "num_attributes = df_train_01.select_dtypes(include=['int32', 'int64', 'float64'])\n",
    "cat_attributes = df_train_01.select_dtypes(exclude=['int32','int64', 'float64', 'datetime64[ns]'])\n",
    "time_attributes = df_train_01.select_dtypes(include=['datetime64[ns]'])\n",
    "\n",
    "## Sessions\n",
    "num_attributes_sessions = df_sessions_01.select_dtypes(include=['int32', 'int64', 'float64'])\n",
    "cat_attributes_sessions = df_sessions_01.select_dtypes(exclude=['int32','int64', 'float64', 'datetime64[ns]'])\n",
    "time_attributes_sessions = df_sessions_01.select_dtypes(include=['datetime64[ns]'])"
   ]
  },
  {
   "cell_type": "markdown",
   "metadata": {
    "heading_collapsed": true,
    "hidden": true
   },
   "source": [
    "### 2.6.2 Numerical Users"
   ]
  },
  {
   "cell_type": "code",
   "execution_count": 23,
   "metadata": {
    "ExecuteTime": {
     "end_time": "2021-01-08T00:41:05.577008Z",
     "start_time": "2021-01-08T00:41:05.361190Z"
    },
    "hidden": true
   },
   "outputs": [
    {
     "data": {
      "text/html": [
       "<div>\n",
       "<style scoped>\n",
       "    .dataframe tbody tr th:only-of-type {\n",
       "        vertical-align: middle;\n",
       "    }\n",
       "\n",
       "    .dataframe tbody tr th {\n",
       "        vertical-align: top;\n",
       "    }\n",
       "\n",
       "    .dataframe thead th {\n",
       "        text-align: right;\n",
       "    }\n",
       "</style>\n",
       "<table border=\"1\" class=\"dataframe\">\n",
       "  <thead>\n",
       "    <tr style=\"text-align: right;\">\n",
       "      <th></th>\n",
       "      <th>attributes</th>\n",
       "      <th>min</th>\n",
       "      <th>max</th>\n",
       "      <th>range</th>\n",
       "      <th>mean</th>\n",
       "      <th>median</th>\n",
       "      <th>std</th>\n",
       "      <th>skew</th>\n",
       "      <th>kurtosis</th>\n",
       "    </tr>\n",
       "  </thead>\n",
       "  <tbody>\n",
       "    <tr>\n",
       "      <th>0</th>\n",
       "      <td>age</td>\n",
       "      <td>16.0</td>\n",
       "      <td>115.0</td>\n",
       "      <td>99.0</td>\n",
       "      <td>37.405591</td>\n",
       "      <td>34.0</td>\n",
       "      <td>13.939844</td>\n",
       "      <td>2.089718</td>\n",
       "      <td>6.516468</td>\n",
       "    </tr>\n",
       "    <tr>\n",
       "      <th>1</th>\n",
       "      <td>signup_flow</td>\n",
       "      <td>0.0</td>\n",
       "      <td>25.0</td>\n",
       "      <td>25.0</td>\n",
       "      <td>2.519513</td>\n",
       "      <td>0.0</td>\n",
       "      <td>6.604696</td>\n",
       "      <td>2.705871</td>\n",
       "      <td>5.928298</td>\n",
       "    </tr>\n",
       "  </tbody>\n",
       "</table>\n",
       "</div>"
      ],
      "text/plain": [
       "    attributes   min    max  range       mean  median        std      skew  \\\n",
       "0          age  16.0  115.0   99.0  37.405591    34.0  13.939844  2.089718   \n",
       "1  signup_flow   0.0   25.0   25.0   2.519513     0.0   6.604696  2.705871   \n",
       "\n",
       "   kurtosis  \n",
       "0  6.516468  \n",
       "1  5.928298  "
      ]
     },
     "execution_count": 23,
     "metadata": {},
     "output_type": "execute_result"
    }
   ],
   "source": [
    "# Central Tendency - Mean, Mediam\n",
    "ct1 = pd.DataFrame(num_attributes.apply(np.mean)).T\n",
    "ct2 = pd.DataFrame(num_attributes.apply(np.median)).T\n",
    "\n",
    "# Dispersions - Std, Min, Max, Range, Skew, Kurtosis\n",
    "d1 = pd.DataFrame(num_attributes.apply(np.std)).T\n",
    "d2 = pd.DataFrame(num_attributes.apply(min)).T\n",
    "d3 = pd.DataFrame(num_attributes.apply(max)).T\n",
    "d4 = pd.DataFrame(num_attributes.apply(lambda x: x.max() - x.min())).T\n",
    "d5 = pd.DataFrame(num_attributes.apply(lambda x: x.skew())).T\n",
    "d6 = pd.DataFrame(num_attributes.apply(lambda x: x.kurtosis())).T\n",
    "                  \n",
    "# Concatenate\n",
    "ct = pd.concat([d2, d3, d4, ct1, ct2, d1, d5, d6]).T.reset_index()\n",
    "ct.columns = ['attributes', 'min', 'max', 'range', 'mean', 'median', 'std', 'skew', 'kurtosis']\n",
    "ct"
   ]
  },
  {
   "cell_type": "markdown",
   "metadata": {
    "heading_collapsed": true,
    "hidden": true
   },
   "source": [
    "### 2.6.3 Numerical Sessions"
   ]
  },
  {
   "cell_type": "code",
   "execution_count": 24,
   "metadata": {
    "ExecuteTime": {
     "end_time": "2021-01-08T00:41:10.795625Z",
     "start_time": "2021-01-08T00:41:05.581246Z"
    },
    "hidden": true
   },
   "outputs": [
    {
     "data": {
      "text/html": [
       "<div>\n",
       "<style scoped>\n",
       "    .dataframe tbody tr th:only-of-type {\n",
       "        vertical-align: middle;\n",
       "    }\n",
       "\n",
       "    .dataframe tbody tr th {\n",
       "        vertical-align: top;\n",
       "    }\n",
       "\n",
       "    .dataframe thead th {\n",
       "        text-align: right;\n",
       "    }\n",
       "</style>\n",
       "<table border=\"1\" class=\"dataframe\">\n",
       "  <thead>\n",
       "    <tr style=\"text-align: right;\">\n",
       "      <th></th>\n",
       "      <th>attributes</th>\n",
       "      <th>min</th>\n",
       "      <th>max</th>\n",
       "      <th>range</th>\n",
       "      <th>mean</th>\n",
       "      <th>median</th>\n",
       "      <th>std</th>\n",
       "      <th>skew</th>\n",
       "      <th>kurtosis</th>\n",
       "    </tr>\n",
       "  </thead>\n",
       "  <tbody>\n",
       "    <tr>\n",
       "      <th>0</th>\n",
       "      <td>secs_elapsed</td>\n",
       "      <td>0.0</td>\n",
       "      <td>1799977.0</td>\n",
       "      <td>1799977.0</td>\n",
       "      <td>19961.8251</td>\n",
       "      <td>1369.0</td>\n",
       "      <td>88849.388449</td>\n",
       "      <td>11.137761</td>\n",
       "      <td>154.84312</td>\n",
       "    </tr>\n",
       "  </tbody>\n",
       "</table>\n",
       "</div>"
      ],
      "text/plain": [
       "     attributes  min        max      range        mean  median           std  \\\n",
       "0  secs_elapsed  0.0  1799977.0  1799977.0  19961.8251  1369.0  88849.388449   \n",
       "\n",
       "        skew   kurtosis  \n",
       "0  11.137761  154.84312  "
      ]
     },
     "execution_count": 24,
     "metadata": {},
     "output_type": "execute_result"
    }
   ],
   "source": [
    "# Central Tendency - Mean, Mediam\n",
    "ct1 = pd.DataFrame(num_attributes_sessions.apply(np.mean)).T\n",
    "ct2 = pd.DataFrame(num_attributes_sessions.apply(np.median)).T\n",
    "\n",
    "# Dispersions - Std, Min, Max, Range, Skew, Kurtosis\n",
    "d1 = pd.DataFrame(num_attributes_sessions.apply(np.std)).T\n",
    "d2 = pd.DataFrame(num_attributes_sessions.apply(min)).T\n",
    "d3 = pd.DataFrame(num_attributes_sessions.apply(max)).T\n",
    "d4 = pd.DataFrame(num_attributes_sessions.apply(lambda x: x.max() - x.min())).T\n",
    "d5 = pd.DataFrame(num_attributes_sessions.apply(lambda x: x.skew())).T\n",
    "d6 = pd.DataFrame(num_attributes_sessions.apply(lambda x: x.kurtosis())).T\n",
    "\n",
    "# Concatenate\n",
    "ct = pd.concat([d2, d3, d4, ct1, ct2, d1, d5, d6]).T.reset_index()\n",
    "ct.columns = ['attributes', 'min', 'max', 'range', 'mean', 'median', 'std', 'skew', 'kurtosis']\n",
    "ct"
   ]
  },
  {
   "cell_type": "markdown",
   "metadata": {
    "heading_collapsed": true,
    "hidden": true
   },
   "source": [
    "### 2.6.3 Categorical Users"
   ]
  },
  {
   "cell_type": "code",
   "execution_count": 25,
   "metadata": {
    "ExecuteTime": {
     "end_time": "2021-01-08T00:41:11.316200Z",
     "start_time": "2021-01-08T00:41:10.801676Z"
    },
    "hidden": true
   },
   "outputs": [
    {
     "data": {
      "text/html": [
       "<div>\n",
       "<style scoped>\n",
       "    .dataframe tbody tr th:only-of-type {\n",
       "        vertical-align: middle;\n",
       "    }\n",
       "\n",
       "    .dataframe tbody tr th {\n",
       "        vertical-align: top;\n",
       "    }\n",
       "\n",
       "    .dataframe thead th {\n",
       "        text-align: right;\n",
       "    }\n",
       "</style>\n",
       "<table border=\"1\" class=\"dataframe\">\n",
       "  <thead>\n",
       "    <tr style=\"text-align: right;\">\n",
       "      <th></th>\n",
       "      <th>gender</th>\n",
       "      <th>signup_method</th>\n",
       "      <th>language</th>\n",
       "      <th>affiliate_channel</th>\n",
       "      <th>affiliate_provider</th>\n",
       "      <th>first_affiliate_tracked</th>\n",
       "      <th>signup_app</th>\n",
       "      <th>first_device_type</th>\n",
       "      <th>first_browser</th>\n",
       "      <th>country_destination</th>\n",
       "    </tr>\n",
       "  </thead>\n",
       "  <tbody>\n",
       "    <tr>\n",
       "      <th>count</th>\n",
       "      <td>122636</td>\n",
       "      <td>122636</td>\n",
       "      <td>122636</td>\n",
       "      <td>122636</td>\n",
       "      <td>122636</td>\n",
       "      <td>122636</td>\n",
       "      <td>122636</td>\n",
       "      <td>122636</td>\n",
       "      <td>122636</td>\n",
       "      <td>122636</td>\n",
       "    </tr>\n",
       "    <tr>\n",
       "      <th>unique</th>\n",
       "      <td>4</td>\n",
       "      <td>3</td>\n",
       "      <td>25</td>\n",
       "      <td>8</td>\n",
       "      <td>17</td>\n",
       "      <td>7</td>\n",
       "      <td>4</td>\n",
       "      <td>9</td>\n",
       "      <td>41</td>\n",
       "      <td>12</td>\n",
       "    </tr>\n",
       "    <tr>\n",
       "      <th>top</th>\n",
       "      <td>FEMALE</td>\n",
       "      <td>basic</td>\n",
       "      <td>en</td>\n",
       "      <td>direct</td>\n",
       "      <td>direct</td>\n",
       "      <td>untracked</td>\n",
       "      <td>Web</td>\n",
       "      <td>Mac Desktop</td>\n",
       "      <td>Chrome</td>\n",
       "      <td>NDF</td>\n",
       "    </tr>\n",
       "    <tr>\n",
       "      <th>freq</th>\n",
       "      <td>56362</td>\n",
       "      <td>66039</td>\n",
       "      <td>118205</td>\n",
       "      <td>79093</td>\n",
       "      <td>78954</td>\n",
       "      <td>64712</td>\n",
       "      <td>108283</td>\n",
       "      <td>57943</td>\n",
       "      <td>41778</td>\n",
       "      <td>54852</td>\n",
       "    </tr>\n",
       "  </tbody>\n",
       "</table>\n",
       "</div>"
      ],
      "text/plain": [
       "        gender signup_method language affiliate_channel affiliate_provider  \\\n",
       "count   122636        122636   122636            122636             122636   \n",
       "unique       4             3       25                 8                 17   \n",
       "top     FEMALE         basic       en            direct             direct   \n",
       "freq     56362         66039   118205             79093              78954   \n",
       "\n",
       "       first_affiliate_tracked signup_app first_device_type first_browser  \\\n",
       "count                   122636     122636            122636        122636   \n",
       "unique                       7          4                 9            41   \n",
       "top                  untracked        Web       Mac Desktop        Chrome   \n",
       "freq                     64712     108283             57943         41778   \n",
       "\n",
       "       country_destination  \n",
       "count               122636  \n",
       "unique                  12  \n",
       "top                    NDF  \n",
       "freq                 54852  "
      ]
     },
     "execution_count": 25,
     "metadata": {},
     "output_type": "execute_result"
    }
   ],
   "source": [
    "cat_attributes.drop('id', axis=1).describe()"
   ]
  },
  {
   "cell_type": "markdown",
   "metadata": {
    "heading_collapsed": true,
    "hidden": true
   },
   "source": [
    "### 2.6.4 Categorical Sessions"
   ]
  },
  {
   "cell_type": "code",
   "execution_count": 26,
   "metadata": {
    "ExecuteTime": {
     "end_time": "2021-01-08T00:41:24.571313Z",
     "start_time": "2021-01-08T00:41:11.321324Z"
    },
    "hidden": true,
    "scrolled": true
   },
   "outputs": [
    {
     "data": {
      "text/html": [
       "<div>\n",
       "<style scoped>\n",
       "    .dataframe tbody tr th:only-of-type {\n",
       "        vertical-align: middle;\n",
       "    }\n",
       "\n",
       "    .dataframe tbody tr th {\n",
       "        vertical-align: top;\n",
       "    }\n",
       "\n",
       "    .dataframe thead th {\n",
       "        text-align: right;\n",
       "    }\n",
       "</style>\n",
       "<table border=\"1\" class=\"dataframe\">\n",
       "  <thead>\n",
       "    <tr style=\"text-align: right;\">\n",
       "      <th></th>\n",
       "      <th>action</th>\n",
       "      <th>action_type</th>\n",
       "      <th>action_detail</th>\n",
       "      <th>device_type</th>\n",
       "    </tr>\n",
       "  </thead>\n",
       "  <tbody>\n",
       "    <tr>\n",
       "      <th>count</th>\n",
       "      <td>9213930</td>\n",
       "      <td>9213930</td>\n",
       "      <td>9213930</td>\n",
       "      <td>9213930</td>\n",
       "    </tr>\n",
       "    <tr>\n",
       "      <th>unique</th>\n",
       "      <td>347</td>\n",
       "      <td>10</td>\n",
       "      <td>155</td>\n",
       "      <td>14</td>\n",
       "    </tr>\n",
       "    <tr>\n",
       "      <th>top</th>\n",
       "      <td>show</td>\n",
       "      <td>view</td>\n",
       "      <td>view_search_results</td>\n",
       "      <td>Mac Desktop</td>\n",
       "    </tr>\n",
       "    <tr>\n",
       "      <th>freq</th>\n",
       "      <td>2178382</td>\n",
       "      <td>3545621</td>\n",
       "      <td>1770931</td>\n",
       "      <td>3019523</td>\n",
       "    </tr>\n",
       "  </tbody>\n",
       "</table>\n",
       "</div>"
      ],
      "text/plain": [
       "         action action_type        action_detail  device_type\n",
       "count   9213930     9213930              9213930      9213930\n",
       "unique      347          10                  155           14\n",
       "top        show        view  view_search_results  Mac Desktop\n",
       "freq    2178382     3545621              1770931      3019523"
      ]
     },
     "execution_count": 26,
     "metadata": {},
     "output_type": "execute_result"
    }
   ],
   "source": [
    "cat_attributes_sessions.drop('user_id', axis=1).describe()"
   ]
  },
  {
   "cell_type": "code",
   "execution_count": 27,
   "metadata": {
    "ExecuteTime": {
     "end_time": "2021-01-08T00:42:40.017695Z",
     "start_time": "2021-01-08T00:41:24.583809Z"
    },
    "hidden": true
   },
   "outputs": [],
   "source": [
    "# list of attributes for Cramer's V correlation\n",
    "cat_attributes_list = cat_attributes_sessions.drop('user_id', axis=1).columns.tolist()\n",
    "\n",
    "corr_dict = {}\n",
    "for i in range(len(cat_attributes_list)):\n",
    "    corr_list = []\n",
    "    for j in range(len(cat_attributes_list)):\n",
    "        ref = cat_attributes_list[i]\n",
    "        feat = cat_attributes_list[j]\n",
    "        \n",
    "        # correlation\n",
    "        corr = cramer_v(cat_attributes_sessions[ref], cat_attributes_sessions[feat])\n",
    "        \n",
    "        # append list\n",
    "        corr_list.append(corr)\n",
    "        \n",
    "    # append correlation list for each ref attributes  \n",
    "    corr_dict[ref] = corr_list\n",
    "    \n",
    "#d = pd.DataFrame(corr_dict)"
   ]
  },
  {
   "cell_type": "code",
   "execution_count": 28,
   "metadata": {
    "ExecuteTime": {
     "end_time": "2021-01-08T00:42:40.707280Z",
     "start_time": "2021-01-08T00:42:40.025785Z"
    },
    "hidden": true
   },
   "outputs": [
    {
     "data": {
      "image/png": "[encoded data removed]",
      "text/plain": [
       "<Figure size 432x288 with 2 Axes>"
      ]
     },
     "metadata": {
      "needs_background": "light"
     },
     "output_type": "display_data"
    }
   ],
   "source": [
    "d = pd.DataFrame(corr_dict)\n",
    "d = d.set_index(d.columns)\n",
    "sns.heatmap(d, annot=True);"
   ]
  },
  {
   "cell_type": "markdown",
   "metadata": {},
   "source": [
    "# 3.0 Feature Engineering"
   ]
  },
  {
   "cell_type": "code",
   "execution_count": 89,
   "metadata": {
    "ExecuteTime": {
     "end_time": "2021-01-08T01:24:58.761600Z",
     "start_time": "2021-01-08T01:23:35.880098Z"
    }
   },
   "outputs": [],
   "source": [
    "df_train_02 = df_train_01.copy()\n",
    "df_sessions_02 = df_sessions_01.copy()"
   ]
  },
  {
   "cell_type": "markdown",
   "metadata": {
    "heading_collapsed": true
   },
   "source": [
    "## 3.1 Training"
   ]
  },
  {
   "cell_type": "code",
   "execution_count": 90,
   "metadata": {
    "ExecuteTime": {
     "end_time": "2021-01-08T01:25:11.808794Z",
     "start_time": "2021-01-08T01:24:58.766574Z"
    },
    "hidden": true
   },
   "outputs": [
    {
     "name": "stderr",
     "output_type": "stream",
     "text": [
      "<ipython-input-90-e523a0ac8692>:30: FutureWarning: Series.dt.weekofyear and Series.dt.week have been deprecated.  Please use Series.dt.isocalendar().week instead.\n",
      "  df_train_02['week_of_year_first_active'] = df_train_02['first_active'].dt.weekofyear\n",
      "<ipython-input-90-e523a0ac8692>:47: FutureWarning: Series.dt.weekofyear and Series.dt.week have been deprecated.  Please use Series.dt.isocalendar().week instead.\n",
      "  df_train_02['week_of_year_first_booking'] = df_train_02['date_first_booking'].dt.weekofyear\n",
      "<ipython-input-90-e523a0ac8692>:64: FutureWarning: Series.dt.weekofyear and Series.dt.week have been deprecated.  Please use Series.dt.isocalendar().week instead.\n",
      "  df_train_02['week_of_year_account_created'] = df_train_02['date_account_created'].dt.weekofyear\n"
     ]
    }
   ],
   "source": [
    "# days from first activate up to first booking\n",
    "df_train_02['first_active'] = pd.to_datetime(\n",
    "    df_train_02['timestamp_first_active'].dt.strftime('%Y-%m-%d'))\n",
    "df_train_02['days_from_first_active_until_booking'] = (\n",
    "    df_train_02['date_first_booking'] - df_train_02['first_active']).apply(lambda x: x.days)\n",
    "\n",
    "# days from first activate up to account created\n",
    "df_train_02['days_from_first_active_until_account_created'] = (\n",
    "    df_train_02['date_account_created'] - df_train_02['first_active']).apply(lambda x: x.days)\n",
    "\n",
    "# days from account created up to first booking\n",
    "df_train_02['days_from_account_created_until_first_booking'] = (\n",
    "    df_train_02['date_first_booking'] - df_train_02['date_account_created']).apply(lambda x: x.days)\n",
    "\n",
    "\n",
    "# =============================== first active ===============================\n",
    "# year first active\n",
    "df_train_02['year_first_active'] = df_train_02['first_active'].dt.year\n",
    "\n",
    "# month first active\n",
    "df_train_02['month_first_active'] = df_train_02['first_active'].dt.month\n",
    "\n",
    "# day first active\n",
    "df_train_02['day_first_active'] = df_train_02['first_active'].dt.day\n",
    "\n",
    "# day of week first active\n",
    "df_train_02['day_of_week_first_active'] = df_train_02['first_active'].dt.dayofweek\n",
    "\n",
    "# week of year of first active\n",
    "df_train_02['week_of_year_first_active'] = df_train_02['first_active'].dt.weekofyear\n",
    "\n",
    "\n",
    "# =============================== first booking ===============================\n",
    "# year first booking\n",
    "df_train_02['year_first_booking'] = df_train_02['date_first_booking'].dt.year\n",
    "\n",
    "# month first booking\n",
    "df_train_02['month_first_booking'] = df_train_02['date_first_booking'].dt.month\n",
    "\n",
    "# day first booking\n",
    "df_train_02['day_first_booking'] = df_train_02['date_first_booking'].dt.day\n",
    "\n",
    "# day of week first booking\n",
    "df_train_02['day_of_week_first_booking'] = df_train_02['date_first_booking'].dt.dayofweek\n",
    "\n",
    "# week of year of first booking\n",
    "df_train_02['week_of_year_first_booking'] = df_train_02['date_first_booking'].dt.weekofyear\n",
    "\n",
    "\n",
    "# =============================== first account created ===============================\n",
    "# year first booking\n",
    "df_train_02['year_account_created'] = df_train_02['date_account_created'].dt.year\n",
    "\n",
    "# month first booking\n",
    "df_train_02['month_account_created'] = df_train_02['date_account_created'].dt.month\n",
    "\n",
    "# day first booking\n",
    "df_train_02['day_account_created'] = df_train_02['date_account_created'].dt.day\n",
    "\n",
    "# day of week first booking\n",
    "df_train_02['day_of_week_account_created'] = df_train_02['date_account_created'].dt.dayofweek\n",
    "\n",
    "# week of year of first booking\n",
    "df_train_02['week_of_year_account_created'] = df_train_02['date_account_created'].dt.weekofyear"
   ]
  },
  {
   "cell_type": "markdown",
   "metadata": {
    "heading_collapsed": true
   },
   "source": [
    "## 3.2 Sessions"
   ]
  },
  {
   "cell_type": "code",
   "execution_count": 91,
   "metadata": {
    "ExecuteTime": {
     "end_time": "2021-01-08T01:25:18.985421Z",
     "start_time": "2021-01-08T01:25:11.816494Z"
    },
    "hidden": true
   },
   "outputs": [],
   "source": [
    "aux01 = df_sessions_02.groupby(['user_id', 'action_type']).size().reset_index().rename(columns={0: 'count'})\n",
    "aux01 = aux01.pivot_table(index='user_id', columns='action_type', values='count', aggfunc='sum').reset_index()\n",
    "aux01 = aux01.fillna(0.0)\n",
    "cols_aux01 = ['user_id','click', 'view']\n",
    "\n",
    "aux02 = df_sessions_02.groupby('user_id')['secs_elapsed'].sum().reset_index().rename(columns={0: 'secs_elapsed_sum'})\n",
    "\n",
    "df_sessions_aux = pd.concat([df_sessions_R[cols_aux01], df_sessions_R_se.drop('user_id', axis=1)], axis=1)"
   ]
  },
  {
   "cell_type": "code",
   "execution_count": 92,
   "metadata": {
    "ExecuteTime": {
     "end_time": "2021-01-08T01:25:19.016323Z",
     "start_time": "2021-01-08T01:25:18.990108Z"
    },
    "hidden": true
   },
   "outputs": [],
   "source": [
    "# secs_elapsed_per_view\n",
    "df_sessions_aux['secs_elapsed_per_view'] = df_sessions_aux['secs_elapsed'] / df_sessions_aux['view']\n",
    "\n",
    "# secs_elapsed_per_click\n",
    "df_sessions_aux['secs_elapsed_per_click'] = df_sessions_aux['secs_elapsed'] / df_sessions_aux['click']\n",
    "\n",
    "# view_per_click\n",
    "df_sessions_aux['view_per_click'] = df_sessions_aux['view'] / df_sessions_aux['click']"
   ]
  },
  {
   "cell_type": "markdown",
   "metadata": {
    "heading_collapsed": true
   },
   "source": [
    "## 3.3 Join Datasets"
   ]
  },
  {
   "cell_type": "code",
   "execution_count": 93,
   "metadata": {
    "ExecuteTime": {
     "end_time": "2021-01-08T01:25:19.835176Z",
     "start_time": "2021-01-08T01:25:19.023418Z"
    },
    "hidden": true
   },
   "outputs": [],
   "source": [
    "df_train_02 =  pd.merge(df_train_02, df_sessions_aux, how='left', left_on='id', right_on='user_id').drop(['user_id'], axis=1).fillna(0.0)"
   ]
  },
  {
   "cell_type": "code",
   "execution_count": 96,
   "metadata": {
    "ExecuteTime": {
     "end_time": "2021-01-08T01:30:15.353953Z",
     "start_time": "2021-01-08T01:30:15.312039Z"
    },
    "hidden": true
   },
   "outputs": [],
   "source": [
    "# days_from_first_active_until_booking_per_clicks\n",
    "df_train_02['days_from_first_active_until_booking_per_clicks'] = df_train_02['days_from_account_created_until_first_booking'] / df_train_02['click']\n",
    "\n",
    "# days_from_first_active_until_booking_per_views\n",
    "df_train_02['days_from_first_active_until_booking_per_views'] = df_train_02['days_from_account_created_until_first_booking'] / df_train_02['view']\n",
    "\n",
    "# secs_elapsed_per_days_from_first_active_until_booking\n",
    "df_train_02['secs_elapsed_per_days_from_first_active_until_booking'] = df_train_02['secs_elapsed'] / df_train_02['days_from_account_created_until_first_booking']"
   ]
  },
  {
   "cell_type": "markdown",
   "metadata": {},
   "source": [
    "# 4.0 Data Filtering"
   ]
  },
  {
   "cell_type": "code",
   "execution_count": 98,
   "metadata": {
    "ExecuteTime": {
     "end_time": "2021-01-08T01:30:37.702665Z",
     "start_time": "2021-01-08T01:30:35.780045Z"
    }
   },
   "outputs": [],
   "source": [
    "df_train_03 = df_train_02.copy()\n",
    "#df_sessions_03 = df_sessions_02.copy()"
   ]
  },
  {
   "cell_type": "code",
   "execution_count": 113,
   "metadata": {
    "ExecuteTime": {
     "end_time": "2021-01-08T01:32:14.911500Z",
     "start_time": "2021-01-08T01:32:14.846147Z"
    }
   },
   "outputs": [
    {
     "data": {
      "text/html": [
       "<div>\n",
       "<style scoped>\n",
       "    .dataframe tbody tr th:only-of-type {\n",
       "        vertical-align: middle;\n",
       "    }\n",
       "\n",
       "    .dataframe tbody tr th {\n",
       "        vertical-align: top;\n",
       "    }\n",
       "\n",
       "    .dataframe thead th {\n",
       "        text-align: right;\n",
       "    }\n",
       "</style>\n",
       "<table border=\"1\" class=\"dataframe\">\n",
       "  <thead>\n",
       "    <tr style=\"text-align: right;\">\n",
       "      <th></th>\n",
       "      <th>id</th>\n",
       "      <th>gender</th>\n",
       "      <th>age</th>\n",
       "      <th>signup_method</th>\n",
       "      <th>signup_flow</th>\n",
       "      <th>language</th>\n",
       "      <th>affiliate_channel</th>\n",
       "      <th>affiliate_provider</th>\n",
       "      <th>first_affiliate_tracked</th>\n",
       "      <th>signup_app</th>\n",
       "      <th>...</th>\n",
       "      <th>week_of_year_account_created</th>\n",
       "      <th>click</th>\n",
       "      <th>view</th>\n",
       "      <th>secs_elapsed</th>\n",
       "      <th>secs_elapsed_per_view</th>\n",
       "      <th>secs_elapsed_per_click</th>\n",
       "      <th>view_per_click</th>\n",
       "      <th>days_from_first_active_until_booking_per_clicks</th>\n",
       "      <th>days_from_first_active_until_booking_per_views</th>\n",
       "      <th>secs_elapsed_per_days_from_first_active_until_booking</th>\n",
       "    </tr>\n",
       "  </thead>\n",
       "  <tbody>\n",
       "    <tr>\n",
       "      <th>0</th>\n",
       "      <td>820tgsjxq7</td>\n",
       "      <td>MALE</td>\n",
       "      <td>38</td>\n",
       "      <td>facebook</td>\n",
       "      <td>0</td>\n",
       "      <td>en</td>\n",
       "      <td>seo</td>\n",
       "      <td>google</td>\n",
       "      <td>untracked</td>\n",
       "      <td>Web</td>\n",
       "      <td>...</td>\n",
       "      <td>21</td>\n",
       "      <td>0.0</td>\n",
       "      <td>0.0</td>\n",
       "      <td>0.0</td>\n",
       "      <td>0.0</td>\n",
       "      <td>0.0</td>\n",
       "      <td>0.0</td>\n",
       "      <td>inf</td>\n",
       "      <td>inf</td>\n",
       "      <td>0.0</td>\n",
       "    </tr>\n",
       "    <tr>\n",
       "      <th>1</th>\n",
       "      <td>4ft3gnwmtx</td>\n",
       "      <td>FEMALE</td>\n",
       "      <td>56</td>\n",
       "      <td>basic</td>\n",
       "      <td>3</td>\n",
       "      <td>en</td>\n",
       "      <td>direct</td>\n",
       "      <td>direct</td>\n",
       "      <td>untracked</td>\n",
       "      <td>Web</td>\n",
       "      <td>...</td>\n",
       "      <td>39</td>\n",
       "      <td>0.0</td>\n",
       "      <td>0.0</td>\n",
       "      <td>0.0</td>\n",
       "      <td>0.0</td>\n",
       "      <td>0.0</td>\n",
       "      <td>0.0</td>\n",
       "      <td>-inf</td>\n",
       "      <td>-inf</td>\n",
       "      <td>-0.0</td>\n",
       "    </tr>\n",
       "    <tr>\n",
       "      <th>2</th>\n",
       "      <td>bjjt8pjhuk</td>\n",
       "      <td>FEMALE</td>\n",
       "      <td>42</td>\n",
       "      <td>facebook</td>\n",
       "      <td>0</td>\n",
       "      <td>en</td>\n",
       "      <td>direct</td>\n",
       "      <td>direct</td>\n",
       "      <td>untracked</td>\n",
       "      <td>Web</td>\n",
       "      <td>...</td>\n",
       "      <td>49</td>\n",
       "      <td>0.0</td>\n",
       "      <td>0.0</td>\n",
       "      <td>0.0</td>\n",
       "      <td>0.0</td>\n",
       "      <td>0.0</td>\n",
       "      <td>0.0</td>\n",
       "      <td>inf</td>\n",
       "      <td>inf</td>\n",
       "      <td>0.0</td>\n",
       "    </tr>\n",
       "    <tr>\n",
       "      <th>3</th>\n",
       "      <td>87mebub9p4</td>\n",
       "      <td>-unknown-</td>\n",
       "      <td>41</td>\n",
       "      <td>basic</td>\n",
       "      <td>0</td>\n",
       "      <td>en</td>\n",
       "      <td>direct</td>\n",
       "      <td>direct</td>\n",
       "      <td>untracked</td>\n",
       "      <td>Web</td>\n",
       "      <td>...</td>\n",
       "      <td>37</td>\n",
       "      <td>0.0</td>\n",
       "      <td>0.0</td>\n",
       "      <td>0.0</td>\n",
       "      <td>0.0</td>\n",
       "      <td>0.0</td>\n",
       "      <td>0.0</td>\n",
       "      <td>-inf</td>\n",
       "      <td>-inf</td>\n",
       "      <td>-0.0</td>\n",
       "    </tr>\n",
       "    <tr>\n",
       "      <th>4</th>\n",
       "      <td>lsw9q7uk0j</td>\n",
       "      <td>FEMALE</td>\n",
       "      <td>46</td>\n",
       "      <td>basic</td>\n",
       "      <td>0</td>\n",
       "      <td>en</td>\n",
       "      <td>other</td>\n",
       "      <td>craigslist</td>\n",
       "      <td>untracked</td>\n",
       "      <td>Web</td>\n",
       "      <td>...</td>\n",
       "      <td>53</td>\n",
       "      <td>0.0</td>\n",
       "      <td>0.0</td>\n",
       "      <td>0.0</td>\n",
       "      <td>0.0</td>\n",
       "      <td>0.0</td>\n",
       "      <td>0.0</td>\n",
       "      <td>inf</td>\n",
       "      <td>inf</td>\n",
       "      <td>0.0</td>\n",
       "    </tr>\n",
       "  </tbody>\n",
       "</table>\n",
       "<p>5 rows × 40 columns</p>\n",
       "</div>"
      ],
      "text/plain": [
       "           id     gender  age signup_method  signup_flow language  \\\n",
       "0  820tgsjxq7       MALE   38      facebook            0       en   \n",
       "1  4ft3gnwmtx     FEMALE   56         basic            3       en   \n",
       "2  bjjt8pjhuk     FEMALE   42      facebook            0       en   \n",
       "3  87mebub9p4  -unknown-   41         basic            0       en   \n",
       "4  lsw9q7uk0j     FEMALE   46         basic            0       en   \n",
       "\n",
       "  affiliate_channel affiliate_provider first_affiliate_tracked signup_app  \\\n",
       "0               seo             google               untracked        Web   \n",
       "1            direct             direct               untracked        Web   \n",
       "2            direct             direct               untracked        Web   \n",
       "3            direct             direct               untracked        Web   \n",
       "4             other         craigslist               untracked        Web   \n",
       "\n",
       "   ... week_of_year_account_created click view  secs_elapsed  \\\n",
       "0  ...                           21   0.0  0.0           0.0   \n",
       "1  ...                           39   0.0  0.0           0.0   \n",
       "2  ...                           49   0.0  0.0           0.0   \n",
       "3  ...                           37   0.0  0.0           0.0   \n",
       "4  ...                           53   0.0  0.0           0.0   \n",
       "\n",
       "   secs_elapsed_per_view  secs_elapsed_per_click  view_per_click  \\\n",
       "0                    0.0                     0.0             0.0   \n",
       "1                    0.0                     0.0             0.0   \n",
       "2                    0.0                     0.0             0.0   \n",
       "3                    0.0                     0.0             0.0   \n",
       "4                    0.0                     0.0             0.0   \n",
       "\n",
       "   days_from_first_active_until_booking_per_clicks  \\\n",
       "0                                              inf   \n",
       "1                                             -inf   \n",
       "2                                              inf   \n",
       "3                                             -inf   \n",
       "4                                              inf   \n",
       "\n",
       "   days_from_first_active_until_booking_per_views  \\\n",
       "0                                             inf   \n",
       "1                                            -inf   \n",
       "2                                             inf   \n",
       "3                                            -inf   \n",
       "4                                             inf   \n",
       "\n",
       "   secs_elapsed_per_days_from_first_active_until_booking  \n",
       "0                                                0.0      \n",
       "1                                               -0.0      \n",
       "2                                                0.0      \n",
       "3                                               -0.0      \n",
       "4                                                0.0      \n",
       "\n",
       "[5 rows x 40 columns]"
      ]
     },
     "execution_count": 113,
     "metadata": {},
     "output_type": "execute_result"
    }
   ],
   "source": [
    "df_train_03.head()"
   ]
  },
  {
   "cell_type": "markdown",
   "metadata": {},
   "source": [
    "## 4.1 Filtering Rows"
   ]
  },
  {
   "cell_type": "code",
   "execution_count": 99,
   "metadata": {
    "ExecuteTime": {
     "end_time": "2021-01-08T01:30:39.263887Z",
     "start_time": "2021-01-08T01:30:37.709843Z"
    }
   },
   "outputs": [],
   "source": [
    "# Filtering rows:\n",
    "## age > greater than 15 and lower than 120 - There are few people over 120 years old\n",
    "df_train_03 = df_train_03[(df_train_03['age'] > 15) & (df_train_03['age'] < 120)]\n",
    "\n",
    "## secs_elapsed > greater than 0 - There is no possible secs elepsed on website\n",
    "df_sessions_03 = df_sessions_03[df_sessions_03['secs_elapsed'] > 0]"
   ]
  },
  {
   "cell_type": "markdown",
   "metadata": {},
   "source": [
    "## 4.1 Filtering Columns"
   ]
  },
  {
   "cell_type": "code",
   "execution_count": 100,
   "metadata": {
    "ExecuteTime": {
     "end_time": "2021-01-08T01:30:39.335953Z",
     "start_time": "2021-01-08T01:30:39.269038Z"
    }
   },
   "outputs": [],
   "source": [
    "cols = ['date_account_created', 'timestamp_first_active', 'date_first_booking', 'first_active'] # orginal Datetime\n",
    "df_train_03 = df_train_03.drop(cols, axis=1)"
   ]
  },
  {
   "cell_type": "markdown",
   "metadata": {},
   "source": [
    "# 5.0 Balanced Dataset"
   ]
  },
  {
   "cell_type": "code",
   "execution_count": 101,
   "metadata": {
    "ExecuteTime": {
     "end_time": "2021-01-08T01:30:42.588724Z",
     "start_time": "2021-01-08T01:30:42.537689Z"
    }
   },
   "outputs": [],
   "source": [
    "df_train_04 = df_train_03.copy()"
   ]
  },
  {
   "cell_type": "code",
   "execution_count": 102,
   "metadata": {
    "ExecuteTime": {
     "end_time": "2021-01-08T01:30:44.613926Z",
     "start_time": "2021-01-08T01:30:43.551784Z"
    }
   },
   "outputs": [],
   "source": [
    "# Encoder Categorical Variables\n",
    "ohe = OneHotEncoder()\n",
    "\n",
    "# Numerical\n",
    "col_num = df_train_04.select_dtypes(include=['int32', 'int64', 'float64']).columns.tolist()\n",
    "\n",
    "# Categorical\n",
    "col_cat = df_train_04.select_dtypes(exclude=['int32', 'int64', 'float64', 'datetime64[ns]'])\\\n",
    "    .drop(['id', 'country_destination'], axis=1).columns.tolist()\n",
    "\n",
    "# Encoding\n",
    "df_train_04_dummy = pd.DataFrame(ohe.fit_transform(df_train_04[col_cat]).toarray(), index=df_train_04.index)\n",
    "\n",
    "# join Numerical and Categorical\n",
    "df_train_04_1 = pd.concat([df_train_04[col_num], df_train_04_dummy], axis=1)"
   ]
  },
  {
   "cell_type": "markdown",
   "metadata": {},
   "source": [
    "## 5.1 Random Undersampling"
   ]
  },
  {
   "cell_type": "code",
   "execution_count": 103,
   "metadata": {
    "ExecuteTime": {
     "end_time": "2021-01-08T01:30:49.524166Z",
     "start_time": "2021-01-08T01:30:47.974347Z"
    }
   },
   "outputs": [],
   "source": [
    "# ratio balanced\n",
    "ratio_balanced = {'NDF': 10000}\n",
    "\n",
    "# define sampler\n",
    "undersampling = us.RandomUnderSampler(sampling_strategy=ratio_balanced, random_state=32)\n",
    "\n",
    "# apply sampler\n",
    "X_under, y_under = undersampling.fit_resample(df_train_04_1, df_train_04['country_destination'])"
   ]
  },
  {
   "cell_type": "code",
   "execution_count": 104,
   "metadata": {
    "ExecuteTime": {
     "end_time": "2021-01-08T01:30:50.223962Z",
     "start_time": "2021-01-08T01:30:50.184070Z"
    },
    "cell_style": "split",
    "scrolled": false
   },
   "outputs": [
    {
     "data": {
      "text/plain": [
       "NDF      54852\n",
       "US       48057\n",
       "other     7511\n",
       "FR        3669\n",
       "IT        2014\n",
       "GB        1758\n",
       "ES        1685\n",
       "CA        1064\n",
       "DE         841\n",
       "NL         595\n",
       "AU         433\n",
       "PT         157\n",
       "Name: country_destination, dtype: int64"
      ]
     },
     "execution_count": 104,
     "metadata": {},
     "output_type": "execute_result"
    }
   ],
   "source": [
    "df_train_04['country_destination'].value_counts()"
   ]
  },
  {
   "cell_type": "code",
   "execution_count": 105,
   "metadata": {
    "ExecuteTime": {
     "end_time": "2021-01-08T01:30:50.699091Z",
     "start_time": "2021-01-08T01:30:50.655750Z"
    },
    "cell_style": "split",
    "scrolled": true
   },
   "outputs": [
    {
     "data": {
      "text/plain": [
       "US       48057\n",
       "NDF      10000\n",
       "other     7511\n",
       "FR        3669\n",
       "IT        2014\n",
       "GB        1758\n",
       "ES        1685\n",
       "CA        1064\n",
       "DE         841\n",
       "NL         595\n",
       "AU         433\n",
       "PT         157\n",
       "Name: country_destination, dtype: int64"
      ]
     },
     "execution_count": 105,
     "metadata": {},
     "output_type": "execute_result"
    }
   ],
   "source": [
    "y_under.value_counts()"
   ]
  },
  {
   "cell_type": "markdown",
   "metadata": {},
   "source": [
    "## 5.2 Random Oversampling"
   ]
  },
  {
   "cell_type": "code",
   "execution_count": 106,
   "metadata": {
    "ExecuteTime": {
     "end_time": "2021-01-08T01:31:02.341444Z",
     "start_time": "2021-01-08T01:30:55.043911Z"
    }
   },
   "outputs": [],
   "source": [
    "# ratio balanced\n",
    "#ratio_balanced = {'NDF': 10000}\n",
    "\n",
    "# define sampler\n",
    "oversampling = over.RandomOverSampler(sampling_strategy='all', random_state=32)\n",
    "\n",
    "# apply sampler\n",
    "X_over, y_over = oversampling.fit_resample(df_train_04_1, df_train_04['country_destination'])"
   ]
  },
  {
   "cell_type": "code",
   "execution_count": 107,
   "metadata": {
    "ExecuteTime": {
     "end_time": "2021-01-08T01:31:02.398828Z",
     "start_time": "2021-01-08T01:31:02.346085Z"
    },
    "cell_style": "split",
    "scrolled": true
   },
   "outputs": [
    {
     "data": {
      "text/plain": [
       "NDF      54852\n",
       "US       48057\n",
       "other     7511\n",
       "FR        3669\n",
       "IT        2014\n",
       "GB        1758\n",
       "ES        1685\n",
       "CA        1064\n",
       "DE         841\n",
       "NL         595\n",
       "AU         433\n",
       "PT         157\n",
       "Name: country_destination, dtype: int64"
      ]
     },
     "execution_count": 107,
     "metadata": {},
     "output_type": "execute_result"
    }
   ],
   "source": [
    "df_train_04['country_destination'].value_counts()"
   ]
  },
  {
   "cell_type": "code",
   "execution_count": 108,
   "metadata": {
    "ExecuteTime": {
     "end_time": "2021-01-08T01:31:02.576871Z",
     "start_time": "2021-01-08T01:31:02.405828Z"
    },
    "cell_style": "split",
    "scrolled": false
   },
   "outputs": [
    {
     "data": {
      "text/plain": [
       "PT       54852\n",
       "IT       54852\n",
       "NDF      54852\n",
       "NL       54852\n",
       "ES       54852\n",
       "CA       54852\n",
       "AU       54852\n",
       "DE       54852\n",
       "other    54852\n",
       "FR       54852\n",
       "GB       54852\n",
       "US       54852\n",
       "Name: country_destination, dtype: int64"
      ]
     },
     "execution_count": 108,
     "metadata": {},
     "output_type": "execute_result"
    }
   ],
   "source": [
    "y_over.value_counts()"
   ]
  },
  {
   "cell_type": "markdown",
   "metadata": {},
   "source": [
    "## 5.3 SMOTE + TOMEKLINK"
   ]
  },
  {
   "cell_type": "code",
   "execution_count": 109,
   "metadata": {
    "ExecuteTime": {
     "end_time": "2021-01-08T01:31:10.043804Z",
     "start_time": "2021-01-08T01:31:10.031661Z"
    }
   },
   "outputs": [],
   "source": [
    "ratio_balanced = {\n",
    "                    'NDF': 54852,\n",
    "                    'US': 48057,\n",
    "                    'other': 6*7511,\n",
    "                    'FR': 12*3669,\n",
    "                    'IT': 20*2014,\n",
    "                    'GB': 25*1758,\n",
    "                    'ES': 25*1685,\n",
    "                    'CA': 40*1064,\n",
    "                    'DE': 45*841,\n",
    "                    'NL': 80*595,\n",
    "                    'AU': 85*433,\n",
    "                    'PT': 250*157}"
   ]
  },
  {
   "cell_type": "code",
   "execution_count": 112,
   "metadata": {
    "ExecuteTime": {
     "end_time": "2021-01-08T01:31:35.204084Z",
     "start_time": "2021-01-08T01:31:35.171275Z"
    }
   },
   "outputs": [
    {
     "ename": "AttributeError",
     "evalue": "'dict' object has no attribute 'SMOTETomek'",
     "output_type": "error",
     "traceback": [
      "\u001b[1;31m---------------------------------------------------------------------------\u001b[0m",
      "\u001b[1;31mAttributeError\u001b[0m                            Traceback (most recent call last)",
      "\u001b[1;32m<ipython-input-112-3244bc82c07e>\u001b[0m in \u001b[0;36m<module>\u001b[1;34m\u001b[0m\n\u001b[0;32m      1\u001b[0m \u001b[1;31m# define sampler\u001b[0m\u001b[1;33m\u001b[0m\u001b[1;33m\u001b[0m\u001b[1;33m\u001b[0m\u001b[0m\n\u001b[1;32m----> 2\u001b[1;33m \u001b[0msmt\u001b[0m \u001b[1;33m=\u001b[0m \u001b[0mc\u001b[0m\u001b[1;33m.\u001b[0m\u001b[0mSMOTETomek\u001b[0m\u001b[1;33m(\u001b[0m\u001b[0msampling_strategy\u001b[0m\u001b[1;33m=\u001b[0m\u001b[0mratio_balanced\u001b[0m\u001b[1;33m,\u001b[0m \u001b[0mrandom_state\u001b[0m\u001b[1;33m=\u001b[0m\u001b[1;36m32\u001b[0m\u001b[1;33m,\u001b[0m \u001b[0mn_jobs\u001b[0m\u001b[1;33m=\u001b[0m\u001b[1;33m-\u001b[0m\u001b[1;36m1\u001b[0m\u001b[1;33m)\u001b[0m\u001b[1;33m\u001b[0m\u001b[1;33m\u001b[0m\u001b[0m\n\u001b[0m\u001b[0;32m      3\u001b[0m \u001b[1;33m\u001b[0m\u001b[0m\n\u001b[0;32m      4\u001b[0m \u001b[1;31m# apply sampler\u001b[0m\u001b[1;33m\u001b[0m\u001b[1;33m\u001b[0m\u001b[1;33m\u001b[0m\u001b[0m\n\u001b[0;32m      5\u001b[0m \u001b[0mX_smt\u001b[0m\u001b[1;33m,\u001b[0m \u001b[0my_smt\u001b[0m \u001b[1;33m=\u001b[0m \u001b[0msmt\u001b[0m\u001b[1;33m.\u001b[0m\u001b[0mfit_resample\u001b[0m\u001b[1;33m(\u001b[0m\u001b[0mdf_train_04_1\u001b[0m\u001b[1;33m,\u001b[0m \u001b[0mdf_train_04\u001b[0m\u001b[1;33m[\u001b[0m\u001b[1;34m'country_destination'\u001b[0m\u001b[1;33m]\u001b[0m\u001b[1;33m)\u001b[0m\u001b[1;33m\u001b[0m\u001b[1;33m\u001b[0m\u001b[0m\n",
      "\u001b[1;31mAttributeError\u001b[0m: 'dict' object has no attribute 'SMOTETomek'"
     ]
    }
   ],
   "source": [
    "# define sampler\n",
    "smt = c.SMOTETomek(sampling_strategy=ratio_balanced, random_state=32, n_jobs=-1)\n",
    "\n",
    "# apply sampler\n",
    "X_smt, y_smt = smt.fit_resample(df_train_04_1, df_train_04['country_destination'])"
   ]
  },
  {
   "cell_type": "code",
   "execution_count": 111,
   "metadata": {
    "ExecuteTime": {
     "end_time": "2021-01-08T01:31:11.103972Z",
     "start_time": "2021-01-08T01:31:11.047326Z"
    }
   },
   "outputs": [
    {
     "ename": "KeyError",
     "evalue": "\"['secs_elapsed_per_days_from_first_active_until_booking', 'view', 'secs_elapsed_per_click', 'click', 'secs_elapsed', 'days_from_first_active_until_booking_per_views', 'days_from_first_active_until_booking_per_clicks', 'secs_elapsed_per_view', 'view_per_click'] not in index\"",
     "output_type": "error",
     "traceback": [
      "\u001b[1;31m---------------------------------------------------------------------------\u001b[0m",
      "\u001b[1;31mKeyError\u001b[0m                                  Traceback (most recent call last)",
      "\u001b[1;32m<ipython-input-111-36f1f14399dd>\u001b[0m in \u001b[0;36m<module>\u001b[1;34m\u001b[0m\n\u001b[0;32m      1\u001b[0m \u001b[1;31m# numerical data\u001b[0m\u001b[1;33m\u001b[0m\u001b[1;33m\u001b[0m\u001b[1;33m\u001b[0m\u001b[0m\n\u001b[1;32m----> 2\u001b[1;33m \u001b[0mdf_train_04_2\u001b[0m \u001b[1;33m=\u001b[0m \u001b[0mX_smt\u001b[0m\u001b[1;33m[\u001b[0m\u001b[0mcol_num\u001b[0m\u001b[1;33m]\u001b[0m\u001b[1;33m\u001b[0m\u001b[1;33m\u001b[0m\u001b[0m\n\u001b[0m\u001b[0;32m      3\u001b[0m \u001b[1;33m\u001b[0m\u001b[0m\n\u001b[0;32m      4\u001b[0m \u001b[1;31m# categorical data\u001b[0m\u001b[1;33m\u001b[0m\u001b[1;33m\u001b[0m\u001b[1;33m\u001b[0m\u001b[0m\n\u001b[0;32m      5\u001b[0m \u001b[0mdf_train_04_3\u001b[0m \u001b[1;33m=\u001b[0m \u001b[0mX_smt\u001b[0m\u001b[1;33m.\u001b[0m\u001b[0mdrop\u001b[0m\u001b[1;33m(\u001b[0m\u001b[0mcol_num\u001b[0m\u001b[1;33m,\u001b[0m \u001b[0maxis\u001b[0m\u001b[1;33m=\u001b[0m\u001b[1;36m1\u001b[0m\u001b[1;33m)\u001b[0m\u001b[1;33m\u001b[0m\u001b[1;33m\u001b[0m\u001b[0m\n",
      "\u001b[1;32m~\\Anaconda3\\lib\\site-packages\\pandas\\core\\frame.py\u001b[0m in \u001b[0;36m__getitem__\u001b[1;34m(self, key)\u001b[0m\n\u001b[0;32m   2906\u001b[0m             \u001b[1;32mif\u001b[0m \u001b[0mis_iterator\u001b[0m\u001b[1;33m(\u001b[0m\u001b[0mkey\u001b[0m\u001b[1;33m)\u001b[0m\u001b[1;33m:\u001b[0m\u001b[1;33m\u001b[0m\u001b[1;33m\u001b[0m\u001b[0m\n\u001b[0;32m   2907\u001b[0m                 \u001b[0mkey\u001b[0m \u001b[1;33m=\u001b[0m \u001b[0mlist\u001b[0m\u001b[1;33m(\u001b[0m\u001b[0mkey\u001b[0m\u001b[1;33m)\u001b[0m\u001b[1;33m\u001b[0m\u001b[1;33m\u001b[0m\u001b[0m\n\u001b[1;32m-> 2908\u001b[1;33m             \u001b[0mindexer\u001b[0m \u001b[1;33m=\u001b[0m \u001b[0mself\u001b[0m\u001b[1;33m.\u001b[0m\u001b[0mloc\u001b[0m\u001b[1;33m.\u001b[0m\u001b[0m_get_listlike_indexer\u001b[0m\u001b[1;33m(\u001b[0m\u001b[0mkey\u001b[0m\u001b[1;33m,\u001b[0m \u001b[0maxis\u001b[0m\u001b[1;33m=\u001b[0m\u001b[1;36m1\u001b[0m\u001b[1;33m,\u001b[0m \u001b[0mraise_missing\u001b[0m\u001b[1;33m=\u001b[0m\u001b[1;32mTrue\u001b[0m\u001b[1;33m)\u001b[0m\u001b[1;33m[\u001b[0m\u001b[1;36m1\u001b[0m\u001b[1;33m]\u001b[0m\u001b[1;33m\u001b[0m\u001b[1;33m\u001b[0m\u001b[0m\n\u001b[0m\u001b[0;32m   2909\u001b[0m \u001b[1;33m\u001b[0m\u001b[0m\n\u001b[0;32m   2910\u001b[0m         \u001b[1;31m# take() does not accept boolean indexers\u001b[0m\u001b[1;33m\u001b[0m\u001b[1;33m\u001b[0m\u001b[1;33m\u001b[0m\u001b[0m\n",
      "\u001b[1;32m~\\Anaconda3\\lib\\site-packages\\pandas\\core\\indexing.py\u001b[0m in \u001b[0;36m_get_listlike_indexer\u001b[1;34m(self, key, axis, raise_missing)\u001b[0m\n\u001b[0;32m   1252\u001b[0m             \u001b[0mkeyarr\u001b[0m\u001b[1;33m,\u001b[0m \u001b[0mindexer\u001b[0m\u001b[1;33m,\u001b[0m \u001b[0mnew_indexer\u001b[0m \u001b[1;33m=\u001b[0m \u001b[0max\u001b[0m\u001b[1;33m.\u001b[0m\u001b[0m_reindex_non_unique\u001b[0m\u001b[1;33m(\u001b[0m\u001b[0mkeyarr\u001b[0m\u001b[1;33m)\u001b[0m\u001b[1;33m\u001b[0m\u001b[1;33m\u001b[0m\u001b[0m\n\u001b[0;32m   1253\u001b[0m \u001b[1;33m\u001b[0m\u001b[0m\n\u001b[1;32m-> 1254\u001b[1;33m         \u001b[0mself\u001b[0m\u001b[1;33m.\u001b[0m\u001b[0m_validate_read_indexer\u001b[0m\u001b[1;33m(\u001b[0m\u001b[0mkeyarr\u001b[0m\u001b[1;33m,\u001b[0m \u001b[0mindexer\u001b[0m\u001b[1;33m,\u001b[0m \u001b[0maxis\u001b[0m\u001b[1;33m,\u001b[0m \u001b[0mraise_missing\u001b[0m\u001b[1;33m=\u001b[0m\u001b[0mraise_missing\u001b[0m\u001b[1;33m)\u001b[0m\u001b[1;33m\u001b[0m\u001b[1;33m\u001b[0m\u001b[0m\n\u001b[0m\u001b[0;32m   1255\u001b[0m         \u001b[1;32mreturn\u001b[0m \u001b[0mkeyarr\u001b[0m\u001b[1;33m,\u001b[0m \u001b[0mindexer\u001b[0m\u001b[1;33m\u001b[0m\u001b[1;33m\u001b[0m\u001b[0m\n\u001b[0;32m   1256\u001b[0m \u001b[1;33m\u001b[0m\u001b[0m\n",
      "\u001b[1;32m~\\Anaconda3\\lib\\site-packages\\pandas\\core\\indexing.py\u001b[0m in \u001b[0;36m_validate_read_indexer\u001b[1;34m(self, key, indexer, axis, raise_missing)\u001b[0m\n\u001b[0;32m   1302\u001b[0m             \u001b[1;32mif\u001b[0m \u001b[0mraise_missing\u001b[0m\u001b[1;33m:\u001b[0m\u001b[1;33m\u001b[0m\u001b[1;33m\u001b[0m\u001b[0m\n\u001b[0;32m   1303\u001b[0m                 \u001b[0mnot_found\u001b[0m \u001b[1;33m=\u001b[0m \u001b[0mlist\u001b[0m\u001b[1;33m(\u001b[0m\u001b[0mset\u001b[0m\u001b[1;33m(\u001b[0m\u001b[0mkey\u001b[0m\u001b[1;33m)\u001b[0m \u001b[1;33m-\u001b[0m \u001b[0mset\u001b[0m\u001b[1;33m(\u001b[0m\u001b[0max\u001b[0m\u001b[1;33m)\u001b[0m\u001b[1;33m)\u001b[0m\u001b[1;33m\u001b[0m\u001b[1;33m\u001b[0m\u001b[0m\n\u001b[1;32m-> 1304\u001b[1;33m                 \u001b[1;32mraise\u001b[0m \u001b[0mKeyError\u001b[0m\u001b[1;33m(\u001b[0m\u001b[1;34mf\"{not_found} not in index\"\u001b[0m\u001b[1;33m)\u001b[0m\u001b[1;33m\u001b[0m\u001b[1;33m\u001b[0m\u001b[0m\n\u001b[0m\u001b[0;32m   1305\u001b[0m \u001b[1;33m\u001b[0m\u001b[0m\n\u001b[0;32m   1306\u001b[0m             \u001b[1;31m# we skip the warning on Categorical\u001b[0m\u001b[1;33m\u001b[0m\u001b[1;33m\u001b[0m\u001b[1;33m\u001b[0m\u001b[0m\n",
      "\u001b[1;31mKeyError\u001b[0m: \"['secs_elapsed_per_days_from_first_active_until_booking', 'view', 'secs_elapsed_per_click', 'click', 'secs_elapsed', 'days_from_first_active_until_booking_per_views', 'days_from_first_active_until_booking_per_clicks', 'secs_elapsed_per_view', 'view_per_click'] not in index\""
     ]
    }
   ],
   "source": [
    "# numerical data\n",
    "df_train_04_2 = X_smt[col_num]\n",
    "\n",
    "# categorical data\n",
    "df_train_04_3 = X_smt.drop(col_num, axis=1)\n",
    "df_train_04_4 = pd.DataFrame(ohe.inverse_transform(df_train_04_3), columns=col_cat, index=df_train_04_3.index)\n",
    "\n",
    "# join numerical and categorical\n",
    "df_train_04_6 = pd.concat([df_train_04_2, df_train_04_4], axis=1)\n",
    "df_train_04_6['country_destination'] = y_smt"
   ]
  },
  {
   "cell_type": "code",
   "execution_count": 45,
   "metadata": {
    "ExecuteTime": {
     "end_time": "2021-01-08T00:51:38.157079Z",
     "start_time": "2021-01-08T00:51:38.098567Z"
    },
    "cell_style": "split"
   },
   "outputs": [
    {
     "data": {
      "text/plain": [
       "NDF      54852\n",
       "US       48057\n",
       "other     7511\n",
       "FR        3669\n",
       "IT        2014\n",
       "GB        1758\n",
       "ES        1685\n",
       "CA        1064\n",
       "DE         841\n",
       "NL         595\n",
       "AU         433\n",
       "PT         157\n",
       "Name: country_destination, dtype: int64"
      ]
     },
     "execution_count": 45,
     "metadata": {},
     "output_type": "execute_result"
    }
   ],
   "source": [
    "df_train_04['country_destination'].value_counts()"
   ]
  },
  {
   "cell_type": "code",
   "execution_count": 46,
   "metadata": {
    "ExecuteTime": {
     "end_time": "2021-01-08T00:51:38.315715Z",
     "start_time": "2021-01-08T00:51:38.162935Z"
    },
    "cell_style": "split"
   },
   "outputs": [
    {
     "data": {
      "text/plain": [
       "NDF      54850\n",
       "NL       47598\n",
       "US       47525\n",
       "other    44744\n",
       "GB       43895\n",
       "FR       43869\n",
       "CA       42542\n",
       "ES       42071\n",
       "IT       40200\n",
       "PT       39250\n",
       "DE       37828\n",
       "AU       36802\n",
       "Name: country_destination, dtype: int64"
      ]
     },
     "execution_count": 46,
     "metadata": {},
     "output_type": "execute_result"
    }
   ],
   "source": [
    "y_smt.value_counts()"
   ]
  },
  {
   "cell_type": "markdown",
   "metadata": {
    "heading_collapsed": true
   },
   "source": [
    "# 6.0 Exploratory Data Analysis (EDA)"
   ]
  },
  {
   "cell_type": "code",
   "execution_count": 47,
   "metadata": {
    "ExecuteTime": {
     "end_time": "2021-01-08T00:51:38.524540Z",
     "start_time": "2021-01-08T00:51:38.324036Z"
    },
    "hidden": true
   },
   "outputs": [],
   "source": [
    "df_train_05_1 = df_train_04_6.copy()\n",
    "df_train_05_2 = df_train_04.copy()"
   ]
  },
  {
   "cell_type": "markdown",
   "metadata": {
    "heading_collapsed": true,
    "hidden": true
   },
   "source": [
    "## 6.1 Univariate Analysis - Feature Bahaviour (Balanced Dataset)"
   ]
  },
  {
   "cell_type": "code",
   "execution_count": 48,
   "metadata": {
    "ExecuteTime": {
     "end_time": "2021-01-08T00:52:13.783720Z",
     "start_time": "2021-01-08T00:51:38.531378Z"
    },
    "hidden": true,
    "scrolled": false
   },
   "outputs": [
    {
     "data": {
      "application/vnd.jupyter.widget-view+json": {
       "model_id": "bf76caae3fe641e1be52d4ef5eb1bf34",
       "version_major": 2,
       "version_minor": 0
      },
      "text/plain": [
       "HBox(children=(HTML(value='Summarize dataset'), FloatProgress(value=0.0, max=39.0), HTML(value='')))"
      ]
     },
     "metadata": {},
     "output_type": "display_data"
    },
    {
     "name": "stdout",
     "output_type": "stream",
     "text": [
      "\n"
     ]
    },
    {
     "data": {
      "application/vnd.jupyter.widget-view+json": {
       "model_id": "6f9580f9cea64e2f90a6a26a88064f58",
       "version_major": 2,
       "version_minor": 0
      },
      "text/plain": [
       "HBox(children=(HTML(value='Generate report structure'), FloatProgress(value=0.0, max=1.0), HTML(value='')))"
      ]
     },
     "metadata": {},
     "output_type": "display_data"
    },
    {
     "name": "stdout",
     "output_type": "stream",
     "text": [
      "\n"
     ]
    },
    {
     "data": {
      "application/vnd.jupyter.widget-view+json": {
       "model_id": "93c5129b8bcc4aa2ba31210646e9379f",
       "version_major": 2,
       "version_minor": 0
      },
      "text/plain": [
       "HBox(children=(HTML(value='Render HTML'), FloatProgress(value=0.0, max=1.0), HTML(value='')))"
      ]
     },
     "metadata": {},
     "output_type": "display_data"
    },
    {
     "name": "stdout",
     "output_type": "stream",
     "text": [
      "\n"
     ]
    },
    {
     "data": {
      "application/vnd.jupyter.widget-view+json": {
       "model_id": "e2170a1efdf74882bb3ce6b8606a4772",
       "version_major": 2,
       "version_minor": 0
      },
      "text/plain": [
       "HBox(children=(HTML(value='Export report to file'), FloatProgress(value=0.0, max=1.0), HTML(value='')))"
      ]
     },
     "metadata": {},
     "output_type": "display_data"
    },
    {
     "name": "stdout",
     "output_type": "stream",
     "text": [
      "\n"
     ]
    }
   ],
   "source": [
    "profile = ProfileReport(df_train_05_1, title=\"Airbnb First Booking\", html={'style': {'full_width':True}}, minimal=True)\n",
    "\n",
    "profile.to_file(output_file='airbnb_booking.html')"
   ]
  },
  {
   "cell_type": "markdown",
   "metadata": {
    "heading_collapsed": true,
    "hidden": true
   },
   "source": [
    "## 6.2 Bivariate Analysis - Hypothesis Validation (Unbalanced dataset)"
   ]
  },
  {
   "cell_type": "markdown",
   "metadata": {
    "hidden": true
   },
   "source": [
    "> - **H01** - At all destinations, it takes users 15 days on average to make their first Airbnb reservation since their first activation\n",
    "> - **H02** - In all destinations, users take 3 days, on average, to register on the site\n",
    "> - **H03** - The volume of annual reservations made during the summer increased by 20% for destinations within the US\n",
    "> - **H04** - Female users make 10% more reservations for countries outside the US\n",
    "> - **H05** - The Google Marketing channel accounts for 40% of reservations for countries outside the US\n",
    "> - **H06** - The US target represents more than 20% on all channels\n",
    "> - **H07** - The average age of people is 35 years in all destinations\n",
    "> - **H08** - The percentage of users who use the site in the English American language to book accommodation in any destination is greater than 90%\n",
    "> - **H09** - Is the number of Airbnb reservations increasing or decreasing over the years?\n",
    "> - **H10** - The number of Airbnb reservations is increasing over the years"
   ]
  },
  {
   "cell_type": "markdown",
   "metadata": {
    "hidden": true
   },
   "source": [
    "**H01** - At all destinations, it takes users 15 days on average to make their first Airbnb reservation since their first activation\n",
    "> - **True:** At all destinations, it takes users up to 6 days to book the first Airbnb"
   ]
  },
  {
   "cell_type": "code",
   "execution_count": 49,
   "metadata": {
    "ExecuteTime": {
     "end_time": "2021-01-08T00:52:14.915306Z",
     "start_time": "2021-01-08T00:52:13.792868Z"
    },
    "hidden": true,
    "scrolled": false
   },
   "outputs": [
    {
     "data": {
      "image/png": "[encoded data removed]",
      "text/plain": [
       "<Figure size 1440x864 with 2 Axes>"
      ]
     },
     "metadata": {
      "needs_background": "light"
     },
     "output_type": "display_data"
    }
   ],
   "source": [
    "plt.figure(figsize=(20,12))\n",
    "\n",
    "plt.subplot(2,1,1)\n",
    "aux01 = df_train_05_2[['days_from_first_active_until_booking', 'country_destination']].groupby('country_destination').median().reset_index()\n",
    "sns.barplot(x='country_destination', y='days_from_first_active_until_booking',\n",
    "            data=aux01. sort_values('days_from_first_active_until_booking'));\n",
    "\n",
    "# remove outlier\n",
    "aux02 = df_train_05_2[df_train_05_2['country_destination'] != 'NDF']\n",
    "aux02 = aux02[['days_from_first_active_until_booking', 'country_destination']].groupby('country_destination').median().reset_index()\n",
    "\n",
    "plt.subplot(2,1,2)\n",
    "sns.barplot(x='country_destination', y='days_from_first_active_until_booking',\n",
    "            data=aux02. sort_values('days_from_first_active_until_booking'));"
   ]
  },
  {
   "cell_type": "markdown",
   "metadata": {
    "hidden": true
   },
   "source": [
    "**H02** - In all destinations, users take 3 days, on average, to register on the site\n",
    "> - **True:** In all destinations, users take, on average, up to 2 days to complete the registration "
   ]
  },
  {
   "cell_type": "code",
   "execution_count": 50,
   "metadata": {
    "ExecuteTime": {
     "end_time": "2021-01-08T00:52:15.572685Z",
     "start_time": "2021-01-08T00:52:14.919456Z"
    },
    "hidden": true
   },
   "outputs": [
    {
     "data": {
      "image/png": "[encoded data removed]",
      "text/plain": [
       "<Figure size 1440x864 with 1 Axes>"
      ]
     },
     "metadata": {
      "needs_background": "light"
     },
     "output_type": "display_data"
    }
   ],
   "source": [
    "plt.figure(figsize=(20,12))\n",
    "\n",
    "#plt.subplot(2,1,1)\n",
    "aux01 = df_train_05_2[['days_from_first_active_until_account_created', 'country_destination']].groupby('country_destination').mean().reset_index()\n",
    "sns.barplot(x='country_destination', y='days_from_first_active_until_account_created',\n",
    "            data=aux01. sort_values('days_from_first_active_until_account_created'));\n",
    "\n",
    "# # remove outlier\n",
    "# aux02 = df_train_05_2[df_train_05_2['country_destination'] != 'NDF']\n",
    "# aux02 = aux02[['days_from_first_active_until_account_created', 'country_destination']].groupby('country_destination').mean().reset_index()\n",
    "\n",
    "# plt.subplot(2,1,2)\n",
    "# sns.barplot(x='country_destination', y='days_from_first_active_until_account_created',\n",
    "#             data=aux02. sort_values('days_from_first_active_until_account_created'));"
   ]
  },
  {
   "cell_type": "markdown",
   "metadata": {
    "hidden": true
   },
   "source": [
    "**H03** - The volume of annual reservations made during the summer increased by 20% for destinations within the US\n",
    "> - **FALSE:**  The volume of reserves increases during the summer between the years 2010 to 2013"
   ]
  },
  {
   "cell_type": "code",
   "execution_count": 51,
   "metadata": {
    "ExecuteTime": {
     "end_time": "2021-01-08T00:52:16.154542Z",
     "start_time": "2021-01-08T00:52:15.579025Z"
    },
    "hidden": true
   },
   "outputs": [
    {
     "data": {
      "image/png": "[encoded data removed]",
      "text/plain": [
       "<Figure size 1440x864 with 1 Axes>"
      ]
     },
     "metadata": {
      "needs_background": "light"
     },
     "output_type": "display_data"
    }
   ],
   "source": [
    "aux01 = df_train_05_2[['year_first_booking', 'month_first_booking', 'country_destination']].\\\n",
    "        groupby(['year_first_booking', 'month_first_booking', 'country_destination']).\\\n",
    "        size().reset_index().rename(columns={0: 'count'})\n",
    "\n",
    "# select only summer \n",
    "aux01 = aux01[(aux01['month_first_booking'].isin([6, 7, 8, 9])) & (aux01['country_destination'] == 'US')]\n",
    "\n",
    "aux02 = aux01[['year_first_booking', 'count']].groupby('year_first_booking').sum().reset_index()\n",
    "\n",
    "aux02['delta'] = 100*aux02['count'].pct_change().fillna(0)\n",
    "\n",
    "plt.figure(figsize=(20,12))\n",
    "sns.barplot(x='year_first_booking', y='delta', data=aux02);"
   ]
  },
  {
   "cell_type": "markdown",
   "metadata": {
    "heading_collapsed": true,
    "hidden": true
   },
   "source": [
    "## 6.3 Multivariable analysis (Balanced Dataset)"
   ]
  },
  {
   "cell_type": "code",
   "execution_count": 52,
   "metadata": {
    "ExecuteTime": {
     "end_time": "2021-01-08T00:52:16.435813Z",
     "start_time": "2021-01-08T00:52:16.157972Z"
    },
    "hidden": true
   },
   "outputs": [],
   "source": [
    "## Users\n",
    "num_attributes = df_train_05_1.select_dtypes(include=['int32', 'int64', 'float64'])\n",
    "cat_attributes = df_train_05_1.select_dtypes(exclude=['int32','int64', 'float64', 'datetime64[ns]'])"
   ]
  },
  {
   "cell_type": "markdown",
   "metadata": {
    "ExecuteTime": {
     "end_time": "2021-01-05T15:04:06.551848Z",
     "start_time": "2021-01-05T15:04:06.532851Z"
    },
    "heading_collapsed": true,
    "hidden": true
   },
   "source": [
    "### 6.3.1 Numerical"
   ]
  },
  {
   "cell_type": "code",
   "execution_count": 53,
   "metadata": {
    "ExecuteTime": {
     "end_time": "2021-01-08T00:52:27.915572Z",
     "start_time": "2021-01-08T00:52:16.439742Z"
    },
    "hidden": true
   },
   "outputs": [
    {
     "data": {
      "image/png": "[encoded data removed]",
      "text/plain": [
       "<Figure size 1512x864 with 2 Axes>"
      ]
     },
     "metadata": {
      "needs_background": "light"
     },
     "output_type": "display_data"
    }
   ],
   "source": [
    "correlation = num_attributes.corr(method='pearson')\n",
    "plt.figure(figsize=(21,12))\n",
    "sns.heatmap(correlation, annot=True);"
   ]
  },
  {
   "cell_type": "markdown",
   "metadata": {
    "heading_collapsed": true,
    "hidden": true
   },
   "source": [
    "### 6.3.2 Categorical"
   ]
  },
  {
   "cell_type": "code",
   "execution_count": 54,
   "metadata": {
    "ExecuteTime": {
     "end_time": "2021-01-08T00:52:55.465635Z",
     "start_time": "2021-01-08T00:52:27.920532Z"
    },
    "hidden": true
   },
   "outputs": [
    {
     "data": {
      "image/png": "[encoded data removed]",
      "text/plain": [
       "<Figure size 1512x864 with 2 Axes>"
      ]
     },
     "metadata": {
      "needs_background": "light"
     },
     "output_type": "display_data"
    }
   ],
   "source": [
    "# list of attributes for Cramer's V correlation\n",
    "cat_attributes_list = cat_attributes.columns.tolist()\n",
    "\n",
    "corr_dict = {}\n",
    "for i in range(len(cat_attributes_list)):\n",
    "    corr_list = []\n",
    "    for j in range(len(cat_attributes_list)):\n",
    "        ref = cat_attributes_list[i]\n",
    "        feat = cat_attributes_list[j]\n",
    "        \n",
    "        # correlation\n",
    "        corr = cramer_v(cat_attributes[ref], cat_attributes[feat])\n",
    "        \n",
    "        # append list\n",
    "        corr_list.append(corr)\n",
    "        \n",
    "    # append correlation list for each ref attributes  \n",
    "    corr_dict[ref] = corr_list\n",
    "    \n",
    "d = pd.DataFrame(corr_dict)\n",
    "d = d.set_index(d.columns)\n",
    "plt.figure(figsize=(21,12))\n",
    "sns.heatmap(d, annot=True);"
   ]
  },
  {
   "cell_type": "markdown",
   "metadata": {},
   "source": [
    "# 7.0 Data Filtering 2"
   ]
  },
  {
   "cell_type": "markdown",
   "metadata": {
    "heading_collapsed": true
   },
   "source": [
    "## 7.1 Filtering Columns"
   ]
  },
  {
   "cell_type": "code",
   "execution_count": 55,
   "metadata": {
    "ExecuteTime": {
     "end_time": "2021-01-08T00:52:55.583272Z",
     "start_time": "2021-01-08T00:52:55.470804Z"
    },
    "hidden": true
   },
   "outputs": [],
   "source": [
    "# ============================== High Correlation ==============================\n",
    "# days_from_first_active_until_booking x days_from_account_created_until_first_booking\n",
    "# remove: days_from_first_active_until_booking\n",
    "\n",
    "# year_first_active x year_account_created\n",
    "# remove: year_first_active\n",
    "\n",
    "# month_first_active x month_account_created\n",
    "# remove:month_first_active\n",
    "\n",
    "# day_first_active x day_account_created\n",
    "# remove:day_first_active\n",
    "\n",
    "# day_of_week_first_active x day_of_week_account_created\n",
    "# remove: day_of_week_first_active\n",
    "\n",
    "# week_of_year_first_active x week_of_year_account_created\n",
    "# remove: week_of_year_first_active\n",
    "\n",
    "# month_first_active x week_of_year_account_created\n",
    "# remove: month_first_active\n",
    "\n",
    "# month_first_active x week_of_year_first_active\n",
    "# remove: month_first_active\n",
    "\n",
    "# week_of_year_first_active x month_account_created\n",
    "# remove: week_of_year_first_active\n",
    "\n",
    "# month_first_booking x week_of_year_first_booking\n",
    "# remove: month_first_booking\n",
    "\n",
    "# month_account_created x week_of_year_account_created\n",
    "# remove: month_account_created\n",
    "\n",
    "# month_account_created x week_of_year_account_created\n",
    "# remove: month_account_created\n",
    "\n",
    "# year_first_booking x year_account_created\n",
    "# remove: year_first_booking\n",
    "\n",
    "# week_of_year_first_booking x week_of_year_account_created\n",
    "# remove: week_of_year_first_booking\n",
    "\n",
    "\n",
    "# affiliate_channel x affiliate_provider\n",
    "# remove: affiliate_provider\n",
    "\n",
    "# first_device_type x first_browser\n",
    "# remove: first_browser\n",
    "\n",
    "# first_device_type x signup_app\n",
    "# remove: first_device_type\n",
    "\n",
    "\n",
    "cols_to_drop = ['days_from_first_active_until_booking','year_first_active','month_first_active','day_first_active',\n",
    "'day_of_week_first_active','week_of_year_first_active','month_first_booking','month_account_created',\n",
    "'year_first_booking','week_of_year_first_booking','affiliate_provider','first_browser','first_device_type', 'language']\n",
    "\n",
    "df_train_07 = df_train_05_1.drop(cols_to_drop, axis=1)"
   ]
  },
  {
   "cell_type": "markdown",
   "metadata": {},
   "source": [
    "# 8.0 Data Preparation"
   ]
  },
  {
   "cell_type": "code",
   "execution_count": 56,
   "metadata": {
    "ExecuteTime": {
     "end_time": "2021-01-08T00:52:55.650762Z",
     "start_time": "2021-01-08T00:52:55.588902Z"
    }
   },
   "outputs": [],
   "source": [
    "df_train_08 = df_train_07.copy()"
   ]
  },
  {
   "cell_type": "code",
   "execution_count": 57,
   "metadata": {
    "ExecuteTime": {
     "end_time": "2021-01-08T00:55:39.622235Z",
     "start_time": "2021-01-08T00:55:39.605065Z"
    }
   },
   "outputs": [],
   "source": [
    "# # Dummy variable\n",
    "# df_train_08_dummy = pd.get_dummies(\n",
    "#     df_train_08.drop(['country_destination'], axis=1))\n",
    "\n",
    "# # Join id and country_destination\n",
    "# df_train_08 = pd.concat(\n",
    "#     [df_train_08[['country_destination']], df_train_08_dummy], axis=1)"
   ]
  },
  {
   "cell_type": "markdown",
   "metadata": {
    "heading_collapsed": true
   },
   "source": [
    "## 8.1 Rescaling"
   ]
  },
  {
   "cell_type": "code",
   "execution_count": 58,
   "metadata": {
    "ExecuteTime": {
     "end_time": "2021-01-08T00:55:46.091521Z",
     "start_time": "2021-01-08T00:55:45.759542Z"
    },
    "hidden": true
   },
   "outputs": [],
   "source": [
    "ss = StandardScaler()\n",
    "rs = RobustScaler()\n",
    "mms = MinMaxScaler()\n",
    "\n",
    "# =========================== Standardization ===========================\n",
    "# age\n",
    "df_train_08['age'] = ss.fit_transform(df_train_08[['age']].values)\n",
    "\n",
    "\n",
    "# =========================== Robust Sacaler ===========================\n",
    "# signup_flow\n",
    "df_train_08['signup_flow'] = rs.fit_transform(df_train_08[['signup_flow']].values)\n",
    "\n",
    "# days_from_first_active_until_account_created\n",
    "df_train_08['days_from_first_active_until_account_created'] = rs.fit_transform(df_train_08[['days_from_first_active_until_account_created']].values)\n",
    "\n",
    "# days_from_account_created_until_first_booking\n",
    "df_train_08['days_from_account_created_until_first_booking'] = rs.fit_transform(df_train_08[['days_from_account_created_until_first_booking']].values)\n",
    "\n",
    "# =========================== MinMax Sacaler ===========================\n",
    "\n",
    "# year_account_created\n",
    "df_train_08['year_account_created'] = mms.fit_transform(df_train_08[['year_account_created']].values)"
   ]
  },
  {
   "cell_type": "markdown",
   "metadata": {
    "heading_collapsed": true
   },
   "source": [
    "## 8.2 Encoding"
   ]
  },
  {
   "cell_type": "code",
   "execution_count": 59,
   "metadata": {
    "ExecuteTime": {
     "end_time": "2021-01-08T00:55:49.799719Z",
     "start_time": "2021-01-08T00:55:47.354026Z"
    },
    "hidden": true
   },
   "outputs": [
    {
     "name": "stderr",
     "output_type": "stream",
     "text": [
      "C:\\Users\\fabio\\Anaconda3\\lib\\site-packages\\category_encoders\\utils.py:21: FutureWarning: is_categorical is deprecated and will be removed in a future version.  Use is_categorical_dtype instead\n",
      "  elif pd.api.types.is_categorical(cols):\n",
      "C:\\Users\\fabio\\Anaconda3\\lib\\site-packages\\category_encoders\\utils.py:21: FutureWarning: is_categorical is deprecated and will be removed in a future version.  Use is_categorical_dtype instead\n",
      "  elif pd.api.types.is_categorical(cols):\n"
     ]
    }
   ],
   "source": [
    "te = TargetEncoder()\n",
    "\n",
    "# =========================== One Hot Encoder ===========================\n",
    "# gender\n",
    "df_train_08 = pd.get_dummies(df_train_08, prefix=['gender'], columns=['gender'])\n",
    "\n",
    "# signup_method\n",
    "df_train_08 = pd.get_dummies(df_train_08, prefix=['signup_method'], columns=['signup_method'])\n",
    "\n",
    "# signup_app\n",
    "df_train_08 = pd.get_dummies(df_train_08, prefix=['signup_app'], columns=['signup_app'])\n",
    "\n",
    "\n",
    "# =========================== Target Encoder ===========================\n",
    "c = {'NDF': 0,'US': 1,'other': 2,'CA': 3,'FR': 4,'IT': 5,'ES': 6,'GB': 7,'NL': 8,'DE': 9,'AU': 10,'PT':11}\n",
    "\n",
    "# first_affiliate_tracked\n",
    "df_train_08['first_affiliate_tracked'] = te.fit_transform(df_train_08[['first_affiliate_tracked']].values, df_train_08['country_destination'].map(c))\n",
    "\n",
    "# affiliate_channel\n",
    "df_train_08['affiliate_channel'] = te.fit_transform(df_train_08[['affiliate_channel']].values, df_train_08['country_destination'].map(c))"
   ]
  },
  {
   "cell_type": "markdown",
   "metadata": {
    "heading_collapsed": true
   },
   "source": [
    "## 8.3 Transformation"
   ]
  },
  {
   "cell_type": "code",
   "execution_count": 60,
   "metadata": {
    "ExecuteTime": {
     "end_time": "2021-01-08T00:56:05.130061Z",
     "start_time": "2021-01-08T00:55:49.805407Z"
    },
    "hidden": true
   },
   "outputs": [],
   "source": [
    "# week_of_year_account_created\n",
    "df_train_08['week_of_year_account_created_sin'] = df_train_08['week_of_year_account_created'].apply(lambda x: np.sin(x * (2*np.pi/52)))\n",
    "df_train_08['week_of_year_account_created_cos'] = df_train_08['week_of_year_account_created'].apply(lambda x: np.cos(x * (2*np.pi/52)))\n",
    "\n",
    "# day_of_week_account_created\n",
    "df_train_08['day_of_week_account_created_sin'] = df_train_08['day_of_week_account_created'].apply(lambda x: np.sin(x * (2*np.pi/7)))\n",
    "df_train_08['day_of_week_account_created_cos'] = df_train_08['day_of_week_account_created'].apply(lambda x: np.cos(x * (2*np.pi/7)))\n",
    "\n",
    "# day_of_week_first_booking\n",
    "df_train_08['day_of_week_first_booking_sin'] = df_train_08['day_of_week_first_booking'].apply(lambda x: np.sin(x * (2*np.pi/7)))\n",
    "df_train_08['day_of_week_first_booking_cos'] = df_train_08['day_of_week_first_booking'].apply(lambda x: np.cos(x * (2*np.pi/7)))\n",
    "\n",
    "# day_account_created\n",
    "df_train_08['day_account_created_sin'] = df_train_08['day_account_created'].apply(lambda x: np.sin(x * (2*np.pi/31)))\n",
    "df_train_08['day_account_created_cos'] = df_train_08['day_account_created'].apply(lambda x: np.cos(x * (2*np.pi/31)))"
   ]
  },
  {
   "cell_type": "markdown",
   "metadata": {},
   "source": [
    "# 9.0 Feature Selection"
   ]
  },
  {
   "cell_type": "code",
   "execution_count": 61,
   "metadata": {
    "ExecuteTime": {
     "end_time": "2021-01-08T00:56:05.204723Z",
     "start_time": "2021-01-08T00:56:05.136708Z"
    }
   },
   "outputs": [],
   "source": [
    "# cols_drop = ['id']\n",
    "# df_train_06 = df_train_05.drop(cols_drop, axis=1)\n",
    "df_train_09 = df_train_08.copy()"
   ]
  },
  {
   "cell_type": "markdown",
   "metadata": {
    "heading_collapsed": true
   },
   "source": [
    "## 9.1 Boruta as Feature Selector"
   ]
  },
  {
   "cell_type": "code",
   "execution_count": 63,
   "metadata": {
    "ExecuteTime": {
     "end_time": "2021-01-07T15:36:08.296577Z",
     "start_time": "2021-01-07T15:29:26.882466Z"
    },
    "hidden": true
   },
   "outputs": [
    {
     "data": {
      "text/plain": [
       "BorutaPy(estimator=RandomForestClassifier(n_estimators=78, n_jobs=-1,\n",
       "                                          random_state=RandomState(MT19937) at 0x23C81133640),\n",
       "         n_estimators='auto',\n",
       "         random_state=RandomState(MT19937) at 0x23C81133640)"
      ]
     },
     "execution_count": 63,
     "metadata": {},
     "output_type": "execute_result"
    }
   ],
   "source": [
    "X = df_train_09.drop(columns=['country_destination'], axis=1)\n",
    "y = df_train_09['country_destination']\n",
    "\n",
    "\n",
    "# Training and Validation dataset for Boruta\n",
    "X_train_n = X.to_numpy()\n",
    "y_train_n = y.values.ravel()\n",
    "\n",
    "# define RandomForestRegressor\n",
    "rf = RandomForestClassifier(n_jobs=-1)\n",
    "\n",
    "# define Boruta\n",
    "boruta = BorutaPy(rf, verbose=0, n_estimators='auto', random_state=42)\n",
    "boruta.fit(X_train_n, y_train_n)"
   ]
  },
  {
   "cell_type": "code",
   "execution_count": 64,
   "metadata": {
    "ExecuteTime": {
     "end_time": "2021-01-07T15:36:08.414504Z",
     "start_time": "2021-01-07T15:36:08.302480Z"
    },
    "hidden": true
   },
   "outputs": [
    {
     "data": {
      "text/plain": [
       "['age',\n",
       " 'signup_flow',\n",
       " 'days_from_account_created_until_first_booking',\n",
       " 'day_first_booking',\n",
       " 'day_of_week_first_booking',\n",
       " 'year_account_created',\n",
       " 'day_account_created',\n",
       " 'day_of_week_account_created',\n",
       " 'week_of_year_account_created',\n",
       " 'affiliate_channel',\n",
       " 'first_affiliate_tracked',\n",
       " 'week_of_year_account_created_sin',\n",
       " 'week_of_year_account_created_cos',\n",
       " 'day_of_week_account_created_sin',\n",
       " 'day_of_week_account_created_cos',\n",
       " 'day_of_week_first_booking_sin',\n",
       " 'day_of_week_first_booking_cos',\n",
       " 'day_account_created_sin',\n",
       " 'day_account_created_cos']"
      ]
     },
     "execution_count": 64,
     "metadata": {},
     "output_type": "execute_result"
    }
   ],
   "source": [
    "cols_selected = boruta.support_.tolist()\n",
    "\n",
    "# Best Features\n",
    "X_train_fs = X\n",
    "cols_selected_boruta = X_train_fs.iloc[:, cols_selected].columns.tolist()\n",
    "\n",
    "cols_not_select_boruta = list(np.setdiff1d(X_train_fs.columns, cols_selected_boruta))\n",
    "cols_selected_boruta"
   ]
  },
  {
   "cell_type": "code",
   "execution_count": 62,
   "metadata": {
    "ExecuteTime": {
     "end_time": "2021-01-08T00:56:55.257975Z",
     "start_time": "2021-01-08T00:56:55.241578Z"
    },
    "hidden": true
   },
   "outputs": [],
   "source": [
    "cols_selected = ['age',\n",
    "                        'signup_flow',\n",
    "                        'days_from_account_created_until_first_booking',\n",
    "                        'day_first_booking',\n",
    "                        'day_of_week_first_booking',\n",
    "                        'year_account_created',\n",
    "                        'day_account_created',\n",
    "                        'day_of_week_account_created',\n",
    "                        'week_of_year_account_created',\n",
    "                        'affiliate_channel',\n",
    "                        'first_affiliate_tracked',\n",
    "                        'week_of_year_account_created_sin',\n",
    "                        'week_of_year_account_created_cos',\n",
    "                        'day_of_week_account_created_sin',\n",
    "                        'day_of_week_account_created_cos',\n",
    "                        'day_of_week_first_booking_sin',\n",
    "                        'day_of_week_first_booking_cos',\n",
    "                        'day_account_created_sin',\n",
    "                        'day_account_created_cos']"
   ]
  },
  {
   "cell_type": "markdown",
   "metadata": {
    "heading_collapsed": true
   },
   "source": [
    "## 9. Split into Train and Validation "
   ]
  },
  {
   "cell_type": "code",
   "execution_count": 63,
   "metadata": {
    "ExecuteTime": {
     "end_time": "2021-01-08T00:56:59.613007Z",
     "start_time": "2021-01-08T00:56:58.979452Z"
    },
    "hidden": true
   },
   "outputs": [],
   "source": [
    "# X = df_train_09.drop('country_destination', axis=1)\n",
    "X = df_train_09[cols_selected]\n",
    "y = df_train_09['country_destination'].copy()\n",
    "\n",
    "# Split dataset into train and validation\n",
    "X_train, X_test, y_train, y_test = train_test_split(\n",
    "    X, y, test_size=0.2, random_state=32)"
   ]
  },
  {
   "cell_type": "markdown",
   "metadata": {},
   "source": [
    "# 10.0 Machine Learning Model"
   ]
  },
  {
   "cell_type": "markdown",
   "metadata": {
    "heading_collapsed": true
   },
   "source": [
    "## 10.1 Baseline model"
   ]
  },
  {
   "cell_type": "markdown",
   "metadata": {
    "heading_collapsed": true,
    "hidden": true
   },
   "source": [
    "### 10.1.1 Random Choices"
   ]
  },
  {
   "cell_type": "code",
   "execution_count": 64,
   "metadata": {
    "ExecuteTime": {
     "end_time": "2021-01-08T00:57:02.931391Z",
     "start_time": "2021-01-08T00:57:02.611302Z"
    },
    "hidden": true
   },
   "outputs": [],
   "source": [
    "country_destination_list = y_train.drop_duplicates().sort_values().tolist()\n",
    "country_destination_weights = y_train.value_counts(\n",
    "    normalize=True).sort_index().tolist()\n",
    "k_num = y_test.shape[0]\n",
    "\n",
    "# Random Model\n",
    "\n",
    "yhat_random = random.choices(population=country_destination_list,\n",
    "                             weights=country_destination_weights,\n",
    "                             k=k_num)"
   ]
  },
  {
   "cell_type": "markdown",
   "metadata": {
    "heading_collapsed": true,
    "hidden": true
   },
   "source": [
    "### 10.1.2 Random Choices Performance"
   ]
  },
  {
   "cell_type": "code",
   "execution_count": 65,
   "metadata": {
    "ExecuteTime": {
     "end_time": "2021-01-08T00:57:18.063841Z",
     "start_time": "2021-01-08T00:57:04.128077Z"
    },
    "hidden": true
   },
   "outputs": [
    {
     "name": "stdout",
     "output_type": "stream",
     "text": [
      "Accuracy: 0.08254425097136278\n",
      "Balanced Accuracy: 0.08164329319289469\n",
      "Kappa Score: -0.0018842533073895051\n",
      "              precision    recall  f1-score   support\n",
      "\n",
      "          AU       0.07      0.07      0.07      7482\n",
      "          CA       0.08      0.09      0.08      8419\n",
      "          DE       0.07      0.07      0.07      7454\n",
      "          ES       0.08      0.08      0.08      8390\n",
      "          FR       0.08      0.08      0.08      8828\n",
      "          GB       0.09      0.09      0.09      8741\n",
      "          IT       0.07      0.08      0.08      7961\n",
      "         NDF       0.10      0.10      0.10     10939\n",
      "          NL       0.09      0.09      0.09      9526\n",
      "          PT       0.07      0.07      0.07      7942\n",
      "          US       0.09      0.09      0.09      9519\n",
      "       other       0.08      0.08      0.08      9034\n",
      "\n",
      "    accuracy                           0.08    104235\n",
      "   macro avg       0.08      0.08      0.08    104235\n",
      "weighted avg       0.08      0.08      0.08    104235\n",
      "\n"
     ]
    },
    {
     "data": {
      "text/plain": [
       "<AxesSubplot:title={'center':'Confusion Matrix'}, xlabel='Predicted label', ylabel='True label'>"
      ]
     },
     "execution_count": 65,
     "metadata": {},
     "output_type": "execute_result"
    },
    {
     "data": {
      "image/png": "[encoded data removed]",
      "text/plain": [
       "<Figure size 864x864 with 2 Axes>"
      ]
     },
     "metadata": {
      "needs_background": "light"
     },
     "output_type": "display_data"
    }
   ],
   "source": [
    "# Accuracy\n",
    "acc_random = accuracy_score(y_test, yhat_random)\n",
    "print('Accuracy: {}'.format(acc_random))\n",
    "\n",
    "# Balanced Accuracy\n",
    "balanced_acc_random = balanced_accuracy_score(y_test, yhat_random)\n",
    "print('Balanced Accuracy: {}'.format(balanced_acc_random))\n",
    "\n",
    "# Kappa Score\n",
    "kappa_random = cohen_kappa_score(y_test, yhat_random)\n",
    "print('Kappa Score: {}'.format(kappa_random))\n",
    "\n",
    "# Classification Report\n",
    "print(classification_report(y_test, yhat_random))\n",
    "\n",
    "# Confusion matrix\n",
    "plot_confusion_matrix(y_test, yhat_random, normalize=False, figsize=(12, 12))"
   ]
  },
  {
   "cell_type": "markdown",
   "metadata": {},
   "source": [
    "## 10.2 Machine Learning Model - Neural Network MLP"
   ]
  },
  {
   "cell_type": "markdown",
   "metadata": {
    "heading_collapsed": true
   },
   "source": [
    "### 10.2.1 Target Encoding"
   ]
  },
  {
   "cell_type": "code",
   "execution_count": 71,
   "metadata": {
    "ExecuteTime": {
     "end_time": "2021-01-07T16:09:56.450798Z",
     "start_time": "2021-01-07T16:09:55.988307Z"
    },
    "hidden": true
   },
   "outputs": [],
   "source": [
    "ohe = OneHotEncoder()\n",
    "y_train_nn = ohe.fit_transform(y_train.values.reshape(-1, 1)).toarray()"
   ]
  },
  {
   "cell_type": "markdown",
   "metadata": {
    "heading_collapsed": true
   },
   "source": [
    "### 10.2.2 NN Model"
   ]
  },
  {
   "cell_type": "code",
   "execution_count": 72,
   "metadata": {
    "ExecuteTime": {
     "end_time": "2021-01-07T16:51:36.265063Z",
     "start_time": "2021-01-07T16:09:57.684245Z"
    },
    "hidden": true
   },
   "outputs": [
    {
     "name": "stdout",
     "output_type": "stream",
     "text": [
      "Epoch 1/100\n",
      "13030/13030 [==============================] - 34s 2ms/step - loss: 2.1384 - accuracy: 0.2376\n",
      "Epoch 2/100\n",
      "13030/13030 [==============================] - 32s 2ms/step - loss: 1.9539 - accuracy: 0.3103\n",
      "Epoch 3/100\n",
      "13030/13030 [==============================] - 33s 3ms/step - loss: 1.8856 - accuracy: 0.3375\n",
      "Epoch 4/100\n",
      "13030/13030 [==============================] - 32s 2ms/step - loss: 1.8503 - accuracy: 0.3500\n",
      "Epoch 5/100\n",
      "13030/13030 [==============================] - 31s 2ms/step - loss: 1.8245 - accuracy: 0.3605\n",
      "Epoch 6/100\n",
      "13030/13030 [==============================] - 33s 2ms/step - loss: 1.8072 - accuracy: 0.3676\n",
      "Epoch 7/100\n",
      "13030/13030 [==============================] - 34s 3ms/step - loss: 1.7919 - accuracy: 0.3738\n",
      "Epoch 8/100\n",
      "13030/13030 [==============================] - 34s 3ms/step - loss: 1.7812 - accuracy: 0.3782\n",
      "Epoch 9/100\n",
      "13030/13030 [==============================] - 36s 3ms/step - loss: 1.7699 - accuracy: 0.3821\n",
      "Epoch 10/100\n",
      "13030/13030 [==============================] - 32s 2ms/step - loss: 1.7637 - accuracy: 0.3843\n",
      "Epoch 11/100\n",
      "13030/13030 [==============================] - 31s 2ms/step - loss: 1.7524 - accuracy: 0.3874\n",
      "Epoch 12/100\n",
      "13030/13030 [==============================] - 33s 3ms/step - loss: 1.7483 - accuracy: 0.3888\n",
      "Epoch 13/100\n",
      "13030/13030 [==============================] - 32s 2ms/step - loss: 1.7422 - accuracy: 0.3921\n",
      "Epoch 14/100\n",
      "13030/13030 [==============================] - 31s 2ms/step - loss: 1.7358 - accuracy: 0.3953\n",
      "Epoch 15/100\n",
      "13030/13030 [==============================] - 32s 2ms/step - loss: 1.7345 - accuracy: 0.3948\n",
      "Epoch 16/100\n",
      "13030/13030 [==============================] - 31s 2ms/step - loss: 1.7277 - accuracy: 0.3977\n",
      "Epoch 17/100\n",
      "13030/13030 [==============================] - 33s 2ms/step - loss: 1.7260 - accuracy: 0.3985\n",
      "Epoch 18/100\n",
      "13030/13030 [==============================] - 34s 3ms/step - loss: 1.7220 - accuracy: 0.3991\n",
      "Epoch 19/100\n",
      "13030/13030 [==============================] - 34s 3ms/step - loss: 1.7210 - accuracy: 0.3994\n",
      "Epoch 20/100\n",
      "13030/13030 [==============================] - 32s 2ms/step - loss: 1.7157 - accuracy: 0.4026\n",
      "Epoch 21/100\n",
      "13030/13030 [==============================] - 32s 2ms/step - loss: 1.7159 - accuracy: 0.4018\n",
      "Epoch 22/100\n",
      "13030/13030 [==============================] - 31s 2ms/step - loss: 1.7107 - accuracy: 0.4036\n",
      "Epoch 23/100\n",
      "13030/13030 [==============================] - 30s 2ms/step - loss: 1.7114 - accuracy: 0.4032\n",
      "Epoch 24/100\n",
      "13030/13030 [==============================] - 30s 2ms/step - loss: 1.7071 - accuracy: 0.4054\n",
      "Epoch 25/100\n",
      "13030/13030 [==============================] - 33s 3ms/step - loss: 1.7037 - accuracy: 0.4060\n",
      "Epoch 26/100\n",
      "13030/13030 [==============================] - 33s 3ms/step - loss: 1.6992 - accuracy: 0.4075\n",
      "Epoch 27/100\n",
      "13030/13030 [==============================] - 33s 3ms/step - loss: 1.7030 - accuracy: 0.4061\n",
      "Epoch 28/100\n",
      "13030/13030 [==============================] - 32s 2ms/step - loss: 1.6982 - accuracy: 0.4091\n",
      "Epoch 29/100\n",
      "13030/13030 [==============================] - 32s 2ms/step - loss: 1.6996 - accuracy: 0.4086\n",
      "Epoch 30/100\n",
      "13030/13030 [==============================] - 32s 2ms/step - loss: 1.6971 - accuracy: 0.4085\n",
      "Epoch 31/100\n",
      "13030/13030 [==============================] - 30s 2ms/step - loss: 1.6945 - accuracy: 0.4092\n",
      "Epoch 32/100\n",
      "13030/13030 [==============================] - 31s 2ms/step - loss: 1.6937 - accuracy: 0.4101\n",
      "Epoch 33/100\n",
      "13030/13030 [==============================] - 30s 2ms/step - loss: 1.6940 - accuracy: 0.4096\n",
      "Epoch 34/100\n",
      "13030/13030 [==============================] - 31s 2ms/step - loss: 1.6918 - accuracy: 0.4114\n",
      "Epoch 35/100\n",
      "13030/13030 [==============================] - 32s 2ms/step - loss: 1.6903 - accuracy: 0.4119\n",
      "Epoch 36/100\n",
      "13030/13030 [==============================] - 34s 3ms/step - loss: 1.6879 - accuracy: 0.4122\n",
      "Epoch 37/100\n",
      "13030/13030 [==============================] - 34s 3ms/step - loss: 1.6874 - accuracy: 0.4130\n",
      "Epoch 38/100\n",
      "13030/13030 [==============================] - 35s 3ms/step - loss: 1.6856 - accuracy: 0.4125\n",
      "Epoch 39/100\n",
      "13030/13030 [==============================] - 36s 3ms/step - loss: 1.6848 - accuracy: 0.4122\n",
      "Epoch 40/100\n",
      "13030/13030 [==============================] - 32s 2ms/step - loss: 1.6835 - accuracy: 0.4134\n",
      "Epoch 41/100\n",
      "13030/13030 [==============================] - 32s 2ms/step - loss: 1.6822 - accuracy: 0.4155\n",
      "Epoch 42/100\n",
      "13030/13030 [==============================] - 33s 3ms/step - loss: 1.6805 - accuracy: 0.4147\n",
      "Epoch 43/100\n",
      "13030/13030 [==============================] - 32s 2ms/step - loss: 1.6833 - accuracy: 0.4129\n",
      "Epoch 44/100\n",
      "13030/13030 [==============================] - 32s 2ms/step - loss: 1.6794 - accuracy: 0.4150\n",
      "Epoch 45/100\n",
      "13030/13030 [==============================] - 32s 2ms/step - loss: 1.6828 - accuracy: 0.4139\n",
      "Epoch 46/100\n",
      "13030/13030 [==============================] - 31s 2ms/step - loss: 1.6768 - accuracy: 0.4150\n",
      "Epoch 47/100\n",
      "13030/13030 [==============================] - 31s 2ms/step - loss: 1.6784 - accuracy: 0.4140\n",
      "Epoch 48/100\n",
      "13030/13030 [==============================] - 32s 2ms/step - loss: 1.6767 - accuracy: 0.4157\n",
      "Epoch 49/100\n",
      "13030/13030 [==============================] - 33s 2ms/step - loss: 1.6752 - accuracy: 0.4172\n",
      "Epoch 50/100\n",
      "13030/13030 [==============================] - 33s 3ms/step - loss: 1.6747 - accuracy: 0.4165\n",
      "Epoch 51/100\n",
      "13030/13030 [==============================] - 34s 3ms/step - loss: 1.6754 - accuracy: 0.4159\n",
      "Epoch 52/100\n",
      "13030/13030 [==============================] - 32s 2ms/step - loss: 1.6770 - accuracy: 0.4155\n",
      "Epoch 53/100\n",
      "13030/13030 [==============================] - 34s 3ms/step - loss: 1.6744 - accuracy: 0.4151\n",
      "Epoch 54/100\n",
      "13030/13030 [==============================] - 34s 3ms/step - loss: 1.6753 - accuracy: 0.4159\n",
      "Epoch 55/100\n",
      "13030/13030 [==============================] - 33s 3ms/step - loss: 1.6724 - accuracy: 0.4159\n",
      "Epoch 56/100\n",
      "13030/13030 [==============================] - 36s 3ms/step - loss: 1.6698 - accuracy: 0.4183\n",
      "Epoch 57/100\n",
      "13030/13030 [==============================] - 33s 2ms/step - loss: 1.6767 - accuracy: 0.4146\n",
      "Epoch 58/100\n",
      "13030/13030 [==============================] - 32s 2ms/step - loss: 1.6720 - accuracy: 0.4177\n",
      "Epoch 59/100\n",
      "13030/13030 [==============================] - 32s 2ms/step - loss: 1.6719 - accuracy: 0.4166\n",
      "Epoch 60/100\n",
      "13030/13030 [==============================] - 32s 2ms/step - loss: 1.6734 - accuracy: 0.4175\n",
      "Epoch 61/100\n",
      "13030/13030 [==============================] - 32s 2ms/step - loss: 1.6704 - accuracy: 0.4178\n",
      "Epoch 62/100\n",
      "13030/13030 [==============================] - 32s 2ms/step - loss: 1.6661 - accuracy: 0.4191\n",
      "Epoch 63/100\n",
      "13030/13030 [==============================] - 33s 3ms/step - loss: 1.6686 - accuracy: 0.4173\n",
      "Epoch 64/100\n",
      "13030/13030 [==============================] - 34s 3ms/step - loss: 1.6659 - accuracy: 0.4193\n",
      "Epoch 65/100\n",
      "13030/13030 [==============================] - 34s 3ms/step - loss: 1.6678 - accuracy: 0.4181\n",
      "Epoch 66/100\n",
      "13030/13030 [==============================] - 33s 3ms/step - loss: 1.6655 - accuracy: 0.4193\n",
      "Epoch 67/100\n",
      "13030/13030 [==============================] - 33s 3ms/step - loss: 1.6662 - accuracy: 0.4196\n",
      "Epoch 68/100\n",
      "13030/13030 [==============================] - 34s 3ms/step - loss: 1.6669 - accuracy: 0.4193\n",
      "Epoch 69/100\n",
      "13030/13030 [==============================] - 34s 3ms/step - loss: 1.6659 - accuracy: 0.4205\n",
      "Epoch 70/100\n",
      "13030/13030 [==============================] - 19s 1ms/step - loss: 1.6663 - accuracy: 0.4190\n",
      "Epoch 71/100\n",
      "13030/13030 [==============================] - 8s 604us/step - loss: 1.6634 - accuracy: 0.4208\n",
      "Epoch 72/100\n",
      "13030/13030 [==============================] - 8s 599us/step - loss: 1.6648 - accuracy: 0.4188\n",
      "Epoch 73/100\n",
      "13030/13030 [==============================] - 8s 598us/step - loss: 1.6617 - accuracy: 0.4209\n",
      "Epoch 74/100\n",
      "13030/13030 [==============================] - 8s 600us/step - loss: 1.6602 - accuracy: 0.4204\n",
      "Epoch 75/100\n",
      "13030/13030 [==============================] - 8s 592us/step - loss: 1.6624 - accuracy: 0.4200\n",
      "Epoch 76/100\n",
      "13030/13030 [==============================] - 8s 588us/step - loss: 1.6599 - accuracy: 0.4212\n",
      "Epoch 77/100\n",
      "13030/13030 [==============================] - 8s 586us/step - loss: 1.6615 - accuracy: 0.4212\n",
      "Epoch 78/100\n",
      "13030/13030 [==============================] - 8s 589us/step - loss: 1.6606 - accuracy: 0.4206\n",
      "Epoch 79/100\n",
      "13030/13030 [==============================] - 8s 581us/step - loss: 1.6615 - accuracy: 0.4203\n",
      "Epoch 80/100\n",
      "13030/13030 [==============================] - 8s 593us/step - loss: 1.6609 - accuracy: 0.4224\n",
      "Epoch 81/100\n",
      "13030/13030 [==============================] - 8s 606us/step - loss: 1.6635 - accuracy: 0.4196\n",
      "Epoch 82/100\n",
      "13030/13030 [==============================] - 8s 643us/step - loss: 1.6606 - accuracy: 0.4220\n",
      "Epoch 83/100\n",
      "13030/13030 [==============================] - 8s 585us/step - loss: 1.6587 - accuracy: 0.4211\n",
      "Epoch 84/100\n",
      "13030/13030 [==============================] - 7s 575us/step - loss: 1.6582 - accuracy: 0.4223\n",
      "Epoch 85/100\n",
      "13030/13030 [==============================] - 8s 581us/step - loss: 1.6561 - accuracy: 0.4228\n",
      "Epoch 86/100\n",
      "13030/13030 [==============================] - 8s 583us/step - loss: 1.6583 - accuracy: 0.4217\n",
      "Epoch 87/100\n",
      "13030/13030 [==============================] - 8s 577us/step - loss: 1.6617 - accuracy: 0.4215\n",
      "Epoch 88/100\n",
      "13030/13030 [==============================] - 8s 579us/step - loss: 1.6571 - accuracy: 0.4222\n",
      "Epoch 89/100\n",
      "13030/13030 [==============================] - 8s 580us/step - loss: 1.6549 - accuracy: 0.4232\n",
      "Epoch 90/100\n",
      "13030/13030 [==============================] - 8s 578us/step - loss: 1.6581 - accuracy: 0.4222\n",
      "Epoch 91/100\n",
      "13030/13030 [==============================] - 8s 580us/step - loss: 1.6561 - accuracy: 0.4238\n",
      "Epoch 92/100\n",
      "13030/13030 [==============================] - 7s 575us/step - loss: 1.6547 - accuracy: 0.4240\n",
      "Epoch 93/100\n",
      "13030/13030 [==============================] - 8s 581us/step - loss: 1.6564 - accuracy: 0.4227\n",
      "Epoch 94/100\n",
      "13030/13030 [==============================] - 8s 580us/step - loss: 1.6565 - accuracy: 0.4232\n",
      "Epoch 95/100\n",
      "13030/13030 [==============================] - 8s 585us/step - loss: 1.6534 - accuracy: 0.4234\n",
      "Epoch 96/100\n",
      "13030/13030 [==============================] - 8s 580us/step - loss: 1.6548 - accuracy: 0.4240\n",
      "Epoch 97/100\n",
      "13030/13030 [==============================] - 8s 583us/step - loss: 1.6571 - accuracy: 0.4225\n",
      "Epoch 98/100\n",
      "13030/13030 [==============================] - 8s 578us/step - loss: 1.6524 - accuracy: 0.4231\n",
      "Epoch 99/100\n",
      "13030/13030 [==============================] - 8s 580us/step - loss: 1.6555 - accuracy: 0.4227\n",
      "Epoch 100/100\n",
      "13030/13030 [==============================] - 8s 577us/step - loss: 1.6523 - accuracy: 0.4241\n"
     ]
    },
    {
     "data": {
      "text/plain": [
       "<tensorflow.python.keras.callbacks.History at 0x23cde3769a0>"
      ]
     },
     "execution_count": 72,
     "metadata": {},
     "output_type": "execute_result"
    }
   ],
   "source": [
    "# Model Definition\n",
    "model = Sequential()\n",
    "model.add(Dense(256, input_dim=X_train.shape[1], activation='relu'))\n",
    "model.add(Dense(12, activation='softmax'))\n",
    "\n",
    "# Model compile\n",
    "model.compile(loss='categorical_crossentropy',\n",
    "              optimizer='adam', metrics=['accuracy'])\n",
    "\n",
    "# Train Model\n",
    "model.fit(X_train, y_train_nn, epochs=100)"
   ]
  },
  {
   "cell_type": "markdown",
   "metadata": {
    "heading_collapsed": true
   },
   "source": [
    "### 10.2.3 NN Performance"
   ]
  },
  {
   "cell_type": "code",
   "execution_count": 73,
   "metadata": {
    "ExecuteTime": {
     "end_time": "2021-01-07T16:51:37.367122Z",
     "start_time": "2021-01-07T16:51:36.267065Z"
    },
    "hidden": true
   },
   "outputs": [],
   "source": [
    "# Prediction\n",
    "pred_nn = model.predict(X_test)\n",
    "\n",
    "# Inver Prediction\n",
    "yhat_nn = ohe.inverse_transform(pred_nn)\n",
    "\n",
    "# Prediction Prepare\n",
    "y_test_nn = y_test.to_numpy()\n",
    "yhat_nn = yhat_nn.reshape(1, -1)[0]"
   ]
  },
  {
   "cell_type": "code",
   "execution_count": 74,
   "metadata": {
    "ExecuteTime": {
     "end_time": "2021-01-07T16:51:43.253135Z",
     "start_time": "2021-01-07T16:51:37.373129Z"
    },
    "hidden": true,
    "scrolled": true
   },
   "outputs": [
    {
     "name": "stdout",
     "output_type": "stream",
     "text": [
      "Accuracy: 0.4226027725811867\n",
      "Balanced Accuracy: 0.41387987218327393\n",
      "Kappa Score: 0.3696904846944793\n",
      "              precision    recall  f1-score   support\n",
      "\n",
      "          AU       0.41      0.64      0.50      7482\n",
      "          CA       0.28      0.44      0.34      8419\n",
      "          DE       0.31      0.41      0.35      7454\n",
      "          ES       0.28      0.22      0.24      8390\n",
      "          FR       0.22      0.10      0.14      8828\n",
      "          GB       0.24      0.18      0.21      8741\n",
      "          IT       0.29      0.10      0.15      7961\n",
      "         NDF       1.00      1.00      1.00     10939\n",
      "          NL       0.39      0.63      0.48      9526\n",
      "          PT       0.70      0.87      0.77      7942\n",
      "          US       0.29      0.28      0.29      9519\n",
      "       other       0.23      0.10      0.14      9034\n",
      "\n",
      "    accuracy                           0.42    104235\n",
      "   macro avg       0.39      0.41      0.38    104235\n",
      "weighted avg       0.40      0.42      0.39    104235\n",
      "\n"
     ]
    },
    {
     "data": {
      "text/plain": [
       "<AxesSubplot:title={'center':'Confusion Matrix'}, xlabel='Predicted label', ylabel='True label'>"
      ]
     },
     "execution_count": 74,
     "metadata": {},
     "output_type": "execute_result"
    },
    {
     "data": {
      "image/png": "[encoded data removed]",
      "text/plain": [
       "<Figure size 864x864 with 2 Axes>"
      ]
     },
     "metadata": {
      "needs_background": "light"
     },
     "output_type": "display_data"
    }
   ],
   "source": [
    "# Accuracy\n",
    "acc_nn = accuracy_score(y_test_nn, yhat_nn)\n",
    "print('Accuracy: {}'.format(acc_nn))\n",
    "\n",
    "# Balanced Accuracy\n",
    "balanced_acc_nn = balanced_accuracy_score(y_test_nn, yhat_nn)\n",
    "print('Balanced Accuracy: {}'.format(balanced_acc_nn))\n",
    "\n",
    "# Kappa Score\n",
    "kappa_nn = cohen_kappa_score(y_test_nn, yhat_nn)\n",
    "print('Kappa Score: {}'.format(kappa_nn))\n",
    "\n",
    "# Classification Report\n",
    "print(classification_report(y_test_nn, yhat_nn))\n",
    "\n",
    "# Confusion matrix\n",
    "plot_confusion_matrix(y_test_nn, yhat_nn, normalize=False, figsize=(12, 12))"
   ]
  },
  {
   "cell_type": "markdown",
   "metadata": {},
   "source": [
    "### 10.2.4 NN Performance - Cross Validation"
   ]
  },
  {
   "cell_type": "code",
   "execution_count": 135,
   "metadata": {
    "ExecuteTime": {
     "end_time": "2021-01-05T19:14:52.170964Z",
     "start_time": "2021-01-05T18:30:25.630764Z"
    }
   },
   "outputs": [
    {
     "name": "stdout",
     "output_type": "stream",
     "text": [
      "Fold Number: 1/5\n",
      "Fold Number: 2/5\n",
      "Fold Number: 3/5\n",
      "Fold Number: 4/5\n",
      "Fold Number: 5/5\n"
     ]
    }
   ],
   "source": [
    "# k-fold generate\n",
    "num_folds = 5\n",
    "kfold = StratifiedKFold(n_splits=num_folds, shuffle=True, random_state=32)\n",
    "\n",
    "balanced_acc_list = []\n",
    "kappa_acc_list = []\n",
    "\n",
    "i = 1\n",
    "for train_ix, val_ix in kfold.split(X_train, y_train):\n",
    "    print('Fold Number: {}/{}'.format(i, num_folds))\n",
    "    # get fold\n",
    "    X_train_fold = X_train.iloc[train_ix]\n",
    "    y_train_fold = y_train.iloc[train_ix]\n",
    "\n",
    "    X_val_fold = X_train.iloc[val_ix]\n",
    "    y_val_fold = y_train.iloc[val_ix]\n",
    "\n",
    "    # target encoding\n",
    "    ohe = OneHotEncoder()\n",
    "    y_train_fold_nn = ohe.fit_transform(\n",
    "        y_train_fold.values.reshape(-1, 1)).toarray()\n",
    "\n",
    "    # model definition\n",
    "    model = Sequential()\n",
    "    model.add(Dense(256, input_dim=X_train_fold.shape[1], activation='relu'))\n",
    "    model.add(Dense(12, activation='softmax'))\n",
    "\n",
    "    # compile model\n",
    "    model.compile(loss='categorical_crossentropy',\n",
    "                  optimizer='adam', metrics=['accuracy'])\n",
    "\n",
    "    # training model\n",
    "    model.fit(X_train_fold, y_train_fold_nn,\n",
    "              epochs=100, batch_size=32, verbose=0)\n",
    "\n",
    "    # prediction\n",
    "    pred_nn = model.predict(X_val_fold)\n",
    "    yhat_nn = ohe.inverse_transform(pred_nn)\n",
    "\n",
    "    # prepare data\n",
    "    y_test_nn = y_val_fold.to_numpy()\n",
    "    yhat_nn = yhat_nn.reshape(1, -1)[0]\n",
    "\n",
    "    # metrics\n",
    "    # Balanced Accuracy\n",
    "    balanced_acc_nn = balanced_accuracy_score(y_test_nn, yhat_nn)\n",
    "    balanced_acc_list.append(balanced_acc_nn)\n",
    "\n",
    "    # Kappa Metrics\n",
    "    kappa_acc_nn = cohen_kappa_score(y_test_nn, yhat_nn)\n",
    "    kappa_acc_list.append(kappa_acc_nn)\n",
    "\n",
    "    i += 1"
   ]
  },
  {
   "cell_type": "code",
   "execution_count": 136,
   "metadata": {
    "ExecuteTime": {
     "end_time": "2021-01-05T19:14:52.186925Z",
     "start_time": "2021-01-05T19:14:52.175925Z"
    }
   },
   "outputs": [
    {
     "name": "stdout",
     "output_type": "stream",
     "text": [
      "Avg Balanced Accuracy: 0.4421 +/- 0.0042\n",
      "Avg Kappa: 0.3983 +/- 0.0042\n"
     ]
    }
   ],
   "source": [
    "print('Avg Balanced Accuracy: {} +/- {}'.format(np.round(np.mean(balanced_acc_list), 4),\n",
    "                                                np.round(np.std(balanced_acc_list), 4)))\n",
    "print('Avg Kappa: {} +/- {}'.format(np.round(np.mean(kappa_acc_list), 4),\n",
    "                                    np.round(np.std(kappa_acc_list), 4)))"
   ]
  }
 ],
 "metadata": {
  "kernelspec": {
   "display_name": "Python 3",
   "language": "python",
   "name": "python3"
  },
  "language_info": {
   "codemirror_mode": {
    "name": "ipython",
    "version": 3
   },
   "file_extension": ".py",
   "mimetype": "text/x-python",
   "name": "python",
   "nbconvert_exporter": "python",
   "pygments_lexer": "ipython3",
   "version": "3.8.3"
  },
  "nbTranslate": {
   "displayLangs": [
    "*"
   ],
   "hotkey": "alt-t",
   "langInMainMenu": true,
   "sourceLang": "en",
   "targetLang": "fr",
   "useGoogleTranslate": true
  },
  "toc": {
   "base_numbering": 1,
   "nav_menu": {},
   "number_sections": true,
   "sideBar": true,
   "skip_h1_title": false,
   "title_cell": "Table of Contents",
   "title_sidebar": "Contents",
   "toc_cell": false,
   "toc_position": {},
   "toc_section_display": true,
   "toc_window_display": false
  }
 },
 "nbformat": 4,
 "nbformat_minor": 4
}
